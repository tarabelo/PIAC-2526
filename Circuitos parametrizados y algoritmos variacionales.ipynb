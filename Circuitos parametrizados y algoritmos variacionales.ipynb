{
  "nbformat": 4,
  "nbformat_minor": 0,
  "metadata": {
    "colab": {
      "provenance": [],
      "authorship_tag": "ABX9TyPj/n9m1+hoVbDDwa2X++n5",
      "include_colab_link": true
    },
    "kernelspec": {
      "name": "python3",
      "display_name": "Python 3"
    },
    "language_info": {
      "name": "python"
    }
  },
  "cells": [
    {
      "cell_type": "markdown",
      "metadata": {
        "id": "view-in-github",
        "colab_type": "text"
      },
      "source": [
        "<a href=\"https://colab.research.google.com/github/tarabelo/PIAC-2526/blob/main/Circuitos%20parametrizados%20y%20algoritmos%20variacionales.ipynb\" target=\"_parent\"><img src=\"https://colab.research.google.com/assets/colab-badge.svg\" alt=\"Open In Colab\"/></a>"
      ]
    },
    {
      "cell_type": "code",
      "source": [
        "# Instalamos qiskit en el notebook\n",
        "!pip install qiskit pylatexenc"
      ],
      "metadata": {
        "id": "z8Vmv93eFIq2"
      },
      "execution_count": null,
      "outputs": []
    },
    {
      "cell_type": "markdown",
      "source": [
        "# **Circuitos parametrizados y algoritmos variacionales**\n",
        "\n",
        "### Contenidos\n",
        "\n",
        "1. [Algoritmos cuánticos variacionales](#variacionales)\n",
        "1. [Circuitos parametrizados en Qiskit](#parametros)"
      ],
      "metadata": {
        "id": "SkkiXxdODNp3"
      }
    },
    {
      "cell_type": "markdown",
      "source": [
        "<a name=\"variacionales\"></a>\n",
        "\n",
        "## **Algoritmos cuánticos variacionales**\n",
        "Problema de los computadores cuánticos actuales: el ruído destruye la superposición de estado.\n",
        "\n",
        "No es posible resolver un problema complejo (profundo) en un sistema actual: por ejemplo, la factorización de Shor podría necesitar millones de cúbits para corrección de errores.\n",
        "\n",
        "Computadores actuales: _Noisy intermediate-scale quantum_ (NISQ)\n",
        "\n",
        "Podemos pensar en dividir un problema complejo en partes más simples, y utilizar CPUs tradicionales en el proceso de optimización:\n",
        "\n",
        "<center><img src=\"https://drive.google.com/uc?export=view&id=1WgpYw-cCkpuNZE2AOnPL4b3kIt9A_kU2\" alt=\"Algoritmo híbrido\" width=\"700\"  /></center>\n",
        "\n",
        "Esta estrategia también se denomina _Computación híbrida_.\n",
        "\n",
        "Se basa en usar un circuito cuántico que incluye parámetros que se van optimizando. Este circuitos se  denomina *ansatz*, _forma (o circuito) variacional_ o, simplemente, circuito cuántico parametrizado."
      ],
      "metadata": {
        "id": "ponYC0MdDo4F"
      }
    },
    {
      "cell_type": "markdown",
      "source": [
        "\n",
        "\n",
        "---\n",
        "\n",
        "---\n",
        "\n",
        "\n",
        "\n"
      ],
      "metadata": {
        "id": "pBlIWGKXEADN"
      }
    },
    {
      "cell_type": "markdown",
      "source": [
        "<a name=\"parametros\"></a>\n",
        "\n",
        "## **Circuitos parametrizados en Qiskit**\n",
        "\n",
        "Qiskit incluye métodos para facilitar la creación de circuitos parametrizados."
      ],
      "metadata": {
        "id": "jqm7iKZzEMF5"
      }
    },
    {
      "cell_type": "code",
      "execution_count": null,
      "metadata": {
        "id": "cutting-folder"
      },
      "outputs": [],
      "source": [
        "from qiskit import QuantumCircuit\n",
        "from qiskit.circuit import Parameter, ParameterVector\n",
        "\n",
        "#Se crean los parámetros usando un string como identificador (no se les asignan ningún valor)\n",
        "parameter_0 = Parameter('θ')\n",
        "parameter_1 = Parameter('β')\n",
        "circuit = QuantumCircuit(1)\n",
        "\n",
        "#Podemos ahora usar los parámetros como ángulos de rotación en una puerta\n",
        "circuit.ry(theta = parameter_0, qubit = 0)\n",
        "circuit.rx(theta = parameter_1, qubit = 0)\n",
        "\n",
        "circuit.draw('mpl')"
      ]
    },
    {
      "cell_type": "markdown",
      "metadata": {
        "id": "dedicated-division"
      },
      "source": [
        "Es posible definir vectores de parámetros"
      ]
    },
    {
      "cell_type": "code",
      "execution_count": null,
      "metadata": {
        "id": "removed-client"
      },
      "outputs": [],
      "source": [
        "# Numero de cubits y de parametros\n",
        "n = 2\n",
        "num_par = 2*n\n",
        "\n",
        "# ParameterVectors se inicializan con un identificador y un entero que indica la longitud del string\n",
        "parameters = ParameterVector('θ', num_par)\n",
        "\n",
        "circuit = QuantumCircuit(n)\n",
        "\n",
        "for i in range(n):\n",
        "    circuit.ry(parameters[i], i)\n",
        "    circuit.rx(parameters[i+n], i)\n",
        "\n",
        "circuit.draw('mpl')"
      ]
    },
    {
      "cell_type": "markdown",
      "metadata": {
        "id": "recovered-shell"
      },
      "source": [
        "Finalmente, se dan valores a los parámetros."
      ]
    },
    {
      "cell_type": "code",
      "execution_count": null,
      "metadata": {
        "id": "accredited-hypothetical"
      },
      "outputs": [],
      "source": [
        "# Creamos un diccionario que asigna a cada parámetro un valor aleatorio\n",
        "param_dict = {p: np.random.random() for p in parameters}\n",
        "print(param_dict)\n",
        "\n",
        "# El método assign_parameters permite ligar los valores al circuito\n",
        "circuit_v = circuit.assign_parameters(parameters = param_dict)\n",
        "circuit_v.draw('mpl')"
      ]
    },
    {
      "cell_type": "markdown",
      "metadata": {
        "id": "animated-happiness"
      },
      "source": [
        "-------------------"
      ]
    },
    {
      "cell_type": "markdown",
      "metadata": {
        "id": "alike-jewelry"
      },
      "source": [
        "## Ejercicio 5\n",
        "\n",
        "Crea el siguiente circuito parametrizado, que alterna capas de rotaciones $R_y$ con CNOTS. Esta forma variacional se denomina [RealAmplitudes](https://qiskit.org/documentation/stubs/qiskit.circuit.library.RealAmplitudes.html) y se usa en química computacional y en problemas de clasificación en quantum machine learning.\n",
        "\n",
        "<center><img src=\"https://drive.google.com/uc?export=view&id=1HKVx-jEzWhNPH-VNEpzATRyv0xG0fFfZ\" alt=\"Ansatz Real Amplitudes\" width=\"700\"  /></center>\n"
      ]
    },
    {
      "cell_type": "code",
      "execution_count": null,
      "metadata": {
        "id": "comparable-receiver"
      },
      "outputs": [],
      "source": []
    },
    {
      "cell_type": "code",
      "execution_count": null,
      "metadata": {
        "id": "graduate-texas"
      },
      "outputs": [],
      "source": [
        "# Este circuito está implementado en la librería de Qiskit\n",
        "from qiskit.circuit.library import RealAmplitudes\n",
        "n = 4\n",
        "num_layers = 2\n",
        "ansatz = RealAmplitudes(n, reps=num_layers, insert_barriers=True)\n",
        "ansatz.decompose().draw('mpl')"
      ]
    }
  ]
}