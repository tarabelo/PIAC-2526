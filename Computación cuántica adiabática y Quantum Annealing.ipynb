{
  "cells": [
    {
      "cell_type": "markdown",
      "metadata": {
        "id": "view-in-github",
        "colab_type": "text"
      },
      "source": [
        "<a href=\"https://colab.research.google.com/github/tarabelo/PIAC-2526/blob/main/Computaci%C3%B3n%20cu%C3%A1ntica%20adiab%C3%A1tica%20y%20Quantum%20Annealing.ipynb\" target=\"_parent\"><img src=\"https://colab.research.google.com/assets/colab-badge.svg\" alt=\"Open In Colab\"/></a>"
      ]
    },
    {
      "cell_type": "code",
      "execution_count": null,
      "id": "mGD4ph0kJPA9",
      "metadata": {
        "id": "mGD4ph0kJPA9"
      },
      "outputs": [],
      "source": [
        "# Instalamos qiskit en el notebook\n",
        "!pip install qiskit qiskit-aer qiskit-algorithms qiskit-optimization qiskit_machine_learning qiskit-ibm-runtime pylatexenc"
      ]
    },
    {
      "cell_type": "code",
      "execution_count": null,
      "id": "yQR94dznJRA_",
      "metadata": {
        "id": "yQR94dznJRA_"
      },
      "outputs": [],
      "source": [
        "import numpy as np\n",
        "from math import sqrt\n",
        "\n",
        "# importing Qiskit\n",
        "from qiskit import QuantumCircuit, QuantumRegister, ClassicalRegister, transpile\n",
        "from qiskit.quantum_info import Statevector\n",
        "from qiskit_aer import AerSimulator, StatevectorSimulator\n",
        "\n",
        "# import basic plot tools\n",
        "from qiskit.visualization import plot_histogram\n",
        "\n",
        "# Funciones auxiliares\n",
        "\n",
        "# Función para obtener y mostrar el vector de estado\n",
        "def obten_estado(qcirc, etiqueta=\"|\\psi\\!\\!> = \", bloch=False):\n",
        "  estado = Statevector.from_instruction(qcirc)\n",
        "  display(estado.draw('latex', prefix=etiqueta, max_size=2**qc.num_qubits))\n",
        "  if bloch:\n",
        "    display(estado.draw('bloch'))"
      ]
    },
    {
      "cell_type": "markdown",
      "id": "placed-mechanics",
      "metadata": {
        "id": "placed-mechanics"
      },
      "source": [
        "# **Computación cuántica adiabática y Quantum Annealing**\n",
        "\n",
        "### Contenidos\n",
        "\n",
        "1. [Computación cuántica adiabática](#adiabatica)\n",
        "1. [Quantum Annealing](#annealing)\n",
        "1. [Discretización de la evolución adiabática (*Trotterization*)](#trotter)\n",
        "1. [Quantum Approximate Optimization Algorithm (QAOA)](#qaoa)\n",
        "1. [Variational Quantum Eigensolvers (VQE)](#vqe)\n"
      ]
    },
    {
      "cell_type": "markdown",
      "id": "534e725f",
      "metadata": {
        "id": "534e725f"
      },
      "source": [
        "<a name=\"adiabatica\"></a>\n",
        "\n",
        "## **Computación cuántica adiabática**\n",
        "\n",
        "Forma alternativa de computación cuántica basada en la evolución temporal de un Hamiltoniano y en el [teorema adiabático](https://en.wikipedia.org/wiki/Adiabatic_theorem)\n",
        "\n",
        "#### Ecuación de Schrödinger\n",
        "\n",
        "La evolución temporal de un sistema cuántico viene dada por la ecuación de Schrödinger:\n",
        "\n",
        "$$i\\hbar \\frac{\\partial}{\\partial t}|\\psi(t)\\rangle = H(t)|\\psi(t)\\rangle$$\n",
        "\n",
        "$H(t)$ es el Hamiltoniano del sistema en el instante $t$ y define la energía del mismo.\n",
        "\n",
        "#### Teorema adiabático\n",
        "Si un sistema cuántico está en un estado base (estado de menor energía o _ground state_) de un Hamiltoniano inicial y se le hace evolucionar muy lentamente hacia un Hamiltoniano final, este estado inicial evolucionará al estado base del Hamiltoniano final, tras un tiempo suficientemente largo.\n",
        "\n",
        "Supongamos que tenemos un Hamiltoniano $H_c$ (_Hamiltoniano de coste_) cuyo estado base codifica la solución de nuestro problema.\n",
        "\n",
        "Partimos de un Hamiltoniano $H_0$ cuyo estado base es facil de preparar y queremos llegar, en un tiempo $T$, al estado base de $H_c$. Hacemos evolucionar el sistema desde $t=0$ hasta $t=T$ como sigue:\n",
        "\n",
        "$$H(t) = A(t)H_0 + B(t)H_c$$\n",
        "\n",
        "donde las funciones $A$ y $B$ verifican: $A(0) = B(T) = 1$ y $A(T) = B(0) = 0$.\n",
        "\n",
        "Un ejemplo de estas funciones son\n",
        "\n",
        "$$\n",
        "A(t) =  \\left(1-\\frac{t}{T}\\right)\\\\\n",
        "B(t) = \\frac{t}{T}\n",
        "$$\n",
        "\n",
        "\n",
        "Si $t$ cambia muy lentamente, el sistema pasa de $H(0) = H_0$ a $H(T) = H_c$ manteniéndose en el estado base.\n",
        "\n",
        "Midiendo el estado del sistema en $t=T$ obtenemos el estado $|\\psi\\rangle$ que minimiza $\\langle\\psi|H_c|\\psi\\rangle$ y que es la solución del problema.\n",
        "\n",
        "En [Aharonov et al. 2007](https://doi.org/10.1137/080734479) se demostró que la computación cuántica adiabática es equivalente a la computación cuántica basada en puertas.\n",
        "\n",
        "#### Tiempo de evolución\n",
        "\n",
        "El teorema adiabático establece que para que $H(t)$ se mantenga en el estado base, $T$ tiene que ser inversamente proporcional al cuadrado del *spectral gap* (minima diferencia de energía entre el estado base y el primer estado excitado de $H(t)$ con $t\\in[0,T]$).\n",
        "\n",
        "Encontrar el valor del *spectral gap* es muy complejo. Además, $T$ podría llegar a ser muy grande. El *Quantum annealing* es una implementación práctica de la computación cuántica adiabática.\n",
        "\n",
        "\n"
      ]
    },
    {
      "cell_type": "markdown",
      "source": [
        "<a name=\"annealing\"></a>\n",
        "\n",
        "## **Quantum annealing**\n",
        "\n",
        "Es un modelo similar a la computación cuántica adiabática, con ciertas limitaciones:\n",
        "\n",
        "- El Hamiltoniano final tiene que ser un Hamiltoniano Ising:  \n",
        "\n",
        "$$\n",
        "H_c = -\\sum_{i,j=0}^{n-1} J_{ij}Z_iZ_j - \\sum_{i=0}^{n-1} h_{i}Z_i\n",
        "$$\n",
        "\n",
        "- No se mantiene la evolución adiabática $\\implies$ el estado final podría no ser el estado base de $H_c$\n",
        "\n",
        "**Estado inicial $H_0$**\n",
        "\n",
        "Se suele usar como estado inicial el siguiente:\n",
        "\n",
        "$$\n",
        "H_0 = -\\sum_{i=0}^{n-1} X_i\n",
        "$$\n",
        "\n",
        "Este estado se denomina _mixing Hamiltonian_ y su estado base es $|\\psi_0\\rangle = |+\\rangle^{\\otimes n}$\n",
        "\n",
        "**Evolución del Hamiltoniano**\n",
        "\n",
        "La evolución viene dada por:\n",
        "\n",
        "$$\n",
        "H(t) = A(t)H_0 + B(t)H_c = -A(t)\\sum_{i=0}^{n-1} X_i - B(t)\\sum_{i,j=0}^{n-1} J_{ij}Z_iZ_j - B(t)\\sum_{i=0}^{n-1} h_{i}Z_i\n",
        "$$\n",
        "\n",
        "\n",
        "### Quantum annealers\n",
        "Computadores cuánticos que resuelven problemas de optimización mediante Quantum annealing.\n",
        "\n",
        "- [D-Wave Systems](https://www.dwavesys.com/): Primera empresa en vender quantum annealers\n",
        "  - El último modelo dispone de más de 7000 cúbits\n",
        "  - Suite [Ocean](https://docs.ocean.dwavesys.com/en/latest/)\n",
        "  - Tipo de problemas: optimización de portfolios, optimización de rutas y gestión de flotas, optimización de líneas de producción, búsqueda de similaridad entre moléculas, etc.\n",
        "\n",
        "\n"
      ],
      "metadata": {
        "id": "-wXRTqICvMVB"
      },
      "id": "-wXRTqICvMVB"
    },
    {
      "cell_type": "code",
      "execution_count": null,
      "id": "_8o7ueSP4yZ8",
      "metadata": {
        "id": "_8o7ueSP4yZ8"
      },
      "outputs": [],
      "source": [
        "!pip install dwave-neal dimod"
      ]
    },
    {
      "cell_type": "code",
      "execution_count": null,
      "id": "OccQihye5GoP",
      "metadata": {
        "id": "OccQihye5GoP"
      },
      "outputs": [],
      "source": [
        "# dimod: biblioteca base de D-Wave Ocean para representar\n",
        "# y resolver problemas combinatorios binarios cuadráticos\n",
        "from dimod import BinaryQuadraticModel, SPIN\n",
        "J = {(0,1):1, (0,2):1}\n",
        "h = {}\n",
        "\n",
        "# Expresamos el grafo simple como un modelo binario cuadrático\n",
        "# SPIN: las variables toman valores {-1,1}\n",
        "problem = BinaryQuadraticModel(h, J, 0.0, SPIN)\n",
        "print(\"The problem we are going to solve is:\")\n",
        "print(problem)"
      ]
    },
    {
      "cell_type": "code",
      "execution_count": null,
      "id": "i0bhL0FT5j2x",
      "metadata": {
        "id": "i0bhL0FT5j2x"
      },
      "outputs": [],
      "source": [
        "# neal: simulador de annealing de DWave\n",
        "from neal import SimulatedAnnealingSampler\n",
        "\n",
        "# Usamos un simulador clásico en vez del D-WaveSampler\n",
        "sampler = SimulatedAnnealingSampler()\n",
        "\n",
        "# Ejecutamos la muestra con 10 repeticiones\n",
        "result = sampler.sample(problem, num_reads=10)\n",
        "\n",
        "print(\"\\nThe solutions that we have obtained are:\")\n",
        "print(result)\n"
      ]
    },
    {
      "cell_type": "code",
      "execution_count": null,
      "id": "kW15PjPoC1Z9",
      "metadata": {
        "id": "kW15PjPoC1Z9"
      },
      "outputs": [],
      "source": [
        "# Uso en un sistemna Dwave\n",
        "# 1. Instalar el SDK de Ocean con pip install dwave-ocean-sdk\n",
        "# 2. Registrarse en Leap (https://cloud.dwavesys.com/leap/) y obtener una clave API\n",
        "# 3. Usar \"dwave config create\" para añadir la clave a nuestra configuración\n",
        "#\n",
        "# Código adaptado\n",
        "#from dwave.system import DWaveSampler\n",
        "#from dwave.system import EmbeddingComposite\n",
        "#sampler = EmbeddingComposite(DWaveSampler())\n",
        "#result = sampler.sample(problem, num_reads=10)\n",
        "#print(\"The solutions that we have obtained are\")\n",
        "#print(result)"
      ]
    },
    {
      "cell_type": "markdown",
      "id": "mC8k9ZtsSQ3Q",
      "metadata": {
        "id": "mC8k9ZtsSQ3Q"
      },
      "source": [
        "\n",
        "\n",
        "---\n",
        "\n",
        "\n",
        "\n",
        "---\n",
        "\n",
        "\n",
        "\n",
        "---\n",
        "\n"
      ]
    },
    {
      "cell_type": "markdown",
      "id": "outside-gardening",
      "metadata": {
        "id": "outside-gardening"
      },
      "source": [
        "<a name=\"vqe\"></a>\n",
        "# **Variational Quantum Eigensolvers (VQE)**\n",
        "\n",
        "VQE es una generalización de QAOA para aproximar el estado base de un hamiltoniano H genérico. Se basa en el principio variacional, que establece que el mínimo valor esperado de un observable se alcanza siempre en un autovector del mismo. Es decir, que para cualquier estado arbitrario, el valor esperado de un observable es siempre mayor o igual al mínimo.\n",
        "\n",
        "\n",
        "<details>\n",
        "  <summary>Pulsa aquí para una explicación del principio variacional</summary>\n",
        "\n",
        "El principio variacional permite estimar un límite superior para la energía del estado base (_ground state_) de un sistema cuántico.\n",
        "    \n",
        "Supongamos un estado cuántico, caracterizado por un hamiltoniano $H$, que representa la energía del sistema. Los posibles valores de energía son los autovalores $\\lambda_i$ de la matriz $H$, y la energía del sistema en el estado $\\vert u_i\\rangle$ viene dada por el valor esperado de $H$ en ese estado:\n",
        "\n",
        "$$\n",
        "E(\\vert u_i \\rangle)\\equiv \\lambda_i = \\langle H\\rangle_{|u_i\\rangle} = \\langle u_i \\vert H \\vert u_i \\rangle\n",
        "$$\n",
        "\n",
        "\n",
        "El estado base del sistema es el correspondiente al mínimo de energía. Supongamos que ese mínimo corresponde al autoestado $|u_{min}\\rangle$ con autovalor $\\lambda_{min}$. Para cualquier autovalor $\\lambda_i$ se tiene que:\n",
        "\n",
        "\\begin{align*}\n",
        "    E_{min} \\equiv \\lambda_{min} \\le \\lambda_i \\equiv \\langle H \\rangle_{|u_i\\rangle} = \\langle u_i |H|u_i \\rangle\n",
        "\\end{align*}  \n",
        "\n",
        "donde $|u_i\\rangle$ es el autoestado asociado a $\\lambda_i$.\n",
        "\n",
        "Sea un estado arbitrario $|\\psi\\rangle$. Escribiendo $H$ en la base de sus autoestados $H = \\sum_{i=1}^N \\lambda_i |u_i\\rangle\\langle u_i|$ tenemos que el valor esperado de la energía en el estado $|\\psi\\rangle$:\n",
        "\n",
        "\\begin{align}\n",
        "E(|\\psi\\rangle)=\\langle H\\rangle_{|\\psi\\rangle} = \\langle \\psi |H|\\psi \\rangle & = \\\n",
        " \\langle \\psi | \\left( \\sum_{i=1}^N \\lambda_i |u_i\\rangle\\langle u_i| \\right) |\\psi \\rangle\\\\\n",
        " &= \\sum_{i=1}^N \\lambda_i \\langle \\psi |u_i\\rangle\\langle u_i|\\psi \\rangle\\\\\n",
        " &= \\sum_{i=1}^N \\lambda_i |\\langle u_i|\\psi \\rangle|^2\n",
        "\\end{align}\n",
        "\n",
        "Es decir, el valor esperado de $H$ en un estado cualquiera es una combinación lineal en la que los autovalores actúan como pesos. De esta expresión es facil ver que:\n",
        "\n",
        "\\begin{align}\n",
        "    \\lambda_{min} \\le \\langle H \\rangle_{|\\psi\\rangle} = \\langle \\psi | H | \\psi \\rangle = \\sum_{i = 1}^{N} \\lambda_i | \\langle u_i | \\psi\\rangle |^2\n",
        "\\end{align}\n",
        "\n",
        "Esa expresión se denomina _principio variacional_ y simplemente indica que el valor mínimo de energía es menor o igual que el valor esperado de $H$ en un estado arbitrario.\n",
        "\n",
        "</details>\n",
        "\n",
        "VQE se suele usar en problemas de química computacional, por ejemplo, para obtener el mínimo estado de energía de una determinada molécula. También se puede usar en problemas de optimización combinatoria.\n",
        "\n",
        "VQE aproxima el estado base de un hamiltoniano H. Para ello se crea un circuito cuántico variacional (denominado _forma variacional_ o _ansatz_) en un estado inicial $|\\psi\\rangle$. Ejecutando el circuito, se obtiene el valor esperado $\\langle H \\rangle_{|\\psi\\rangle}$. Se usa un  optimizador clásico para ajustar los parámetros del circuito con con vistas a encontrar los parámetros que minimicen $\\langle H \\rangle_{|\\psi\\rangle}$.\n",
        "\n",
        "<center><img src=\"https://drive.google.com/uc?export=view&id=1O9RXUnTfu09PLD7O4XT1FrC2GcSE008t\" alt=\"Circuito variacional\" width=\"900\"  /></center>\n",
        "\n",
        "\n",
        "La idea de VQE es, partiendo del estado inicial, ir recorriendo el espacio de estados (o lo que es lo mismo, la esfera de Bloch) y calcular el valor esperado en $H$ en cada estado.\n",
        "\n",
        "Por ejemplo, se podría elegir como valor inicial el estado $|0\\rangle$ e ir aplicando rotaciones $R_Y$ o $R_x$:\n",
        "\n",
        "<center><img src=\"https://drive.google.com/uc?export=view&id=1y94qu2xOloSXoTe-8t9nwgehEvgfZHG1\" alt=\"VQE\" width=\"200\"  /></center>\n",
        "(Fuente: <a href=https://www.mustythoughts.com/variational-quantum-eigensolver-explained>https://www.mustythoughts.com/variational-quantum-eigensolver-explained</a>)\n",
        "\n",
        "En general, se usan ansätze $V(\\theta)$ más complejos que permitan recorrer la esfera de Bloch.\n",
        "\n",
        "#### Optimización de los parámetros\n",
        "\n",
        "El algoritmo VQE parte de un Hamiltoniano $H$, cuyo estado base resuelve el problema, y procede como sigue:\n",
        "\n",
        "1. Se elige un estado inicial (normalmente $|\\psi(\\theta)\\rangle = |0\\rangle$) y un _ansatz_ $V(\\theta)$\n",
        "2. Se le dan valores iniciales a los parámetros $\\theta$\n",
        "2. En la QPU se ejecuta el ansatz con esos parámetros para obtener un estado $|\\psi(\\theta)\\rangle = V(\\theta)|0\\rangle$\n",
        "3. Se mide el valor esperado del Hamiltoniano en ese estado $\\langle\\psi(\\theta)|H|\\psi(\\theta)\\rangle$\n",
        "4. En la CPU se usa un algoritmo de optimización para modificar los parámetros del ansatz\n",
        "    - Objetivo: reducir el valor esperado del Hamiltoniano\n",
        "5. Se vuelve al paso 3 hasta que se alcanza un mínimo\n",
        "\n",
        "Igual que en QAOA, el proceso de optimización de los parámetros puede ser un simple gradiente descendente, en el que cada parámetro se actualiza en la dirección que conduzca al mayor descenso de la energía, u otros método de optimización más sofisticados.\n",
        "\n",
        "#### Obtención del valor esperado\n",
        "\n",
        "A diferencia del QAOA, en el que el Hamiltoniano es una matriz diagonal, en VQE es más general $\\implies$ no es trivial obtener el valor esperado.\n",
        "\n",
        "Solución: Expresar el Hamiltoniano como suma de productos tensor de matrices de Pauli y obtener el valor esperado tomando medidas en diferentes bases.\n",
        "\n",
        "#### Ejemplos de ansätze\n",
        "\n",
        "La elección de la forma variacional o ansatz para VQE depende del problema a tratar. Un ejemplo es _RealAmplitudes_ que vimos antes. Otra forma es la _EfficientSU2_."
      ]
    },
    {
      "cell_type": "code",
      "execution_count": null,
      "id": "0b8e74e9",
      "metadata": {
        "id": "0b8e74e9"
      },
      "outputs": [],
      "source": [
        "from qiskit.circuit.library import EfficientSU2\n",
        "\n",
        "ansatz = EfficientSU2(num_qubits=4, reps=1, entanglement='linear', insert_barriers=True)\n",
        "\n",
        "ansatz.decompose().draw('mpl')"
      ]
    },
    {
      "cell_type": "markdown",
      "id": "3134c3c7",
      "metadata": {
        "id": "3134c3c7"
      },
      "source": [
        "### Obtención de estados excitados\n",
        "\n",
        "El algoritmo VQD (_Variational Quantum Deflaction_) es una extensión del VQE que permite obtener _estados excitados_, es decir, autoestados con mayor energía.\n",
        "\n",
        "Para ello, si $|\\psi_0\\rangle$ es el estado base, es posible demostrar que el estado base del siguiente Hamiltoniano:\n",
        "\n",
        "$$\n",
        "H' = H + C|\\psi_0\\rangle\\langle\\psi_0|\n",
        "$$\n",
        "es el primer estado excitado de H\n",
        "\n",
        "#### Referencias:\n",
        "\n",
        "  - Peruzzo, et al. (2014). A variational eigenvalue solver on a photonic quantum processor. Nature communications, 5(1), 1-7. [arXiv:1304.3061](https://arxiv.org/abs/1304.3061)\n",
        "  - Higgott, O., Wang, D., & Brierley, S. (2019). Variational quantum computation of excited states. Quantum, 3, 156. [arXiv:1805.08138](https://arxiv.org/abs/1805.08138)\n",
        "  - Combarro, E.F. & Gonzákez-Castillo, S. (2023). A Practical Guide  to Quantum Machine Learning and Quantum Optimization, capítulo  7. Packt.\n",
        "  - Qiskit tutorial: Variational quantum eigensolver https://learning.quantum.ibm.com/tutorial/variational-quantum-eigensolver\n"
      ]
    },
    {
      "cell_type": "markdown",
      "id": "D1Ocz1_q8Shi",
      "metadata": {
        "id": "D1Ocz1_q8Shi"
      },
      "source": [
        "\n",
        "\n",
        "---\n",
        "\n",
        "\n",
        "\n",
        "---\n",
        "\n",
        "\n",
        "\n",
        "---\n",
        "\n"
      ]
    },
    {
      "cell_type": "code",
      "execution_count": null,
      "id": "white-checkout",
      "metadata": {
        "id": "white-checkout"
      },
      "outputs": [],
      "source": []
    }
  ],
  "metadata": {
    "colab": {
      "provenance": [],
      "include_colab_link": true
    },
    "kernelspec": {
      "display_name": "Python 3 (ipykernel)",
      "language": "python",
      "name": "python3"
    },
    "language_info": {
      "codemirror_mode": {
        "name": "ipython",
        "version": 3
      },
      "file_extension": ".py",
      "mimetype": "text/x-python",
      "name": "python",
      "nbconvert_exporter": "python",
      "pygments_lexer": "ipython3",
      "version": "3.12.2"
    }
  },
  "nbformat": 4,
  "nbformat_minor": 5
}