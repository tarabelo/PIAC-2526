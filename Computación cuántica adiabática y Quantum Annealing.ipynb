{
  "cells": [
    {
      "cell_type": "markdown",
      "metadata": {
        "id": "view-in-github",
        "colab_type": "text"
      },
      "source": [
        "<a href=\"https://colab.research.google.com/github/tarabelo/PIAC-2526/blob/main/Computaci%C3%B3n%20cu%C3%A1ntica%20adiab%C3%A1tica%20y%20Quantum%20Annealing.ipynb\" target=\"_parent\"><img src=\"https://colab.research.google.com/assets/colab-badge.svg\" alt=\"Open In Colab\"/></a>"
      ]
    },
    {
      "cell_type": "code",
      "execution_count": null,
      "id": "mGD4ph0kJPA9",
      "metadata": {
        "id": "mGD4ph0kJPA9"
      },
      "outputs": [],
      "source": [
        "# Instalamos qiskit en el notebook\n",
        "!pip install qiskit qiskit-aer qiskit-algorithms qiskit-optimization qiskit_machine_learning qiskit-ibm-runtime pylatexenc"
      ]
    },
    {
      "cell_type": "code",
      "execution_count": null,
      "id": "yQR94dznJRA_",
      "metadata": {
        "id": "yQR94dznJRA_"
      },
      "outputs": [],
      "source": [
        "import numpy as np\n",
        "from math import sqrt\n",
        "\n",
        "# importing Qiskit\n",
        "from qiskit import QuantumCircuit, QuantumRegister, ClassicalRegister, transpile\n",
        "from qiskit.quantum_info import Statevector\n",
        "from qiskit_aer import AerSimulator, StatevectorSimulator\n",
        "\n",
        "# import basic plot tools\n",
        "from qiskit.visualization import plot_histogram\n",
        "\n",
        "# Funciones auxiliares\n",
        "\n",
        "# Función para obtener y mostrar el vector de estado\n",
        "def obten_estado(qcirc, etiqueta=\"|\\psi\\!\\!> = \", bloch=False):\n",
        "  estado = Statevector.from_instruction(qcirc)\n",
        "  display(estado.draw('latex', prefix=etiqueta, max_size=2**qc.num_qubits))\n",
        "  if bloch:\n",
        "    display(estado.draw('bloch'))"
      ]
    },
    {
      "cell_type": "markdown",
      "id": "placed-mechanics",
      "metadata": {
        "id": "placed-mechanics"
      },
      "source": [
        "# **Computación cuántica adiabática y Quantum Annealing**\n",
        "\n",
        "### Contenidos\n",
        "\n",
        "1. [Computación cuántica adiabática](#adiabatica)\n",
        "1. [Quantum Annealing](#annealing)\n",
        "1. [Discretización de la evolución adiabática (*Trotterization*)](#trotter)\n",
        "1. [Algoritmos cuánticos híbridos y circuitos parametrizados](#hibrida)\n",
        "1. [Quantum Approximate Optimization Algorithm (QAOA)](#qaoa)\n",
        "1. [Variational Quantum Eigensolvers (VQE)](#vqe)\n"
      ]
    },
    {
      "cell_type": "markdown",
      "id": "534e725f",
      "metadata": {
        "id": "534e725f"
      },
      "source": [
        "<a name=\"adiabatica\"></a>\n",
        "\n",
        "## **Computación cuántica adiabática**\n",
        "\n",
        "Forma alternativa de computación cuántica basada en la evolución temporal de un Hamiltoniano y en el [teorema adiabático](https://en.wikipedia.org/wiki/Adiabatic_theorem)\n",
        "\n",
        "#### Ecuación de Schrödinger\n",
        "\n",
        "La evolución temporal de un sistema cuántico viene dada por la ecuación de Schrödinger:\n",
        "\n",
        "$$i\\hbar \\frac{\\partial}{\\partial t}|\\psi(t)\\rangle = H(t)|\\psi(t)\\rangle$$\n",
        "\n",
        "$H(t)$ es el Hamiltoniano del sistema en el instante $t$ y define la energía del mismo.\n",
        "\n",
        "#### Teorema adiabático\n",
        "Si un sistema cuántico está en un estado base (estado de menor energía o _ground state_) de un Hamiltoniano inicial y se le hace evolucionar muy lentamente hacia un Hamiltoniano final, este estado inicial evolucionará al estado base del Hamiltoniano final, tras un tiempo suficientemente largo.\n",
        "\n",
        "Supongamos que tenemos un Hamiltoniano $H_c$ (_Hamiltoniano de coste_) cuyo estado base codifica la solución de nuestro problema.\n",
        "\n",
        "Partimos de un Hamiltoniano $H_0$ cuyo estado base es facil de preparar y queremos llegar, en un tiempo $T$, al estado base de $H_c$. Hacemos evolucionar el sistema desde $t=0$ hasta $t=T$ como sigue:\n",
        "\n",
        "$$H(t) = A(t)H_0 + B(t)H_c$$\n",
        "\n",
        "donde las funciones $A$ y $B$ verifican: $A(0) = B(T) = 1$ y $A(T) = B(0) = 0$.\n",
        "\n",
        "Un ejemplo de estas funciones son\n",
        "\n",
        "$$\n",
        "A(t) =  \\left(1-\\frac{t}{T}\\right)\\\\\n",
        "B(t) = \\frac{t}{T}\n",
        "$$\n",
        "\n",
        "\n",
        "Si $t$ cambia muy lentamente, el sistema pasa de $H(0) = H_0$ a $H(T) = H_c$ manteniéndose en el estado base.\n",
        "\n",
        "Midiendo el estado del sistema en $t=T$ obtenemos el estado $|\\psi\\rangle$ que minimiza $\\langle\\psi|H_c|\\psi\\rangle$ y que es la solución del problema.\n",
        "\n",
        "En [Aharonov et al. 2007](https://doi.org/10.1137/080734479) se demostró que la computación cuántica adiabática es equivalente a la computación cuántica basada en puertas.\n",
        "\n",
        "#### Tiempo de evolución\n",
        "\n",
        "El teorema adiabático establece que para que $H(t)$ se mantenga en el estado base, $T$ tiene que ser inversamente proporcional al cuadrado del *spectral gap* (minima diferencia de energía entre el estado base y el primer estado excitado de $H(t)$ con $t\\in[0,T]$).\n",
        "\n",
        "Encontrar el valor del *spectral gap* es muy complejo. Además, $T$ podría llegar a ser muy grande. El *Quantum annealing* es una implementación práctica de la computación cuántica adiabática.\n",
        "\n",
        "\n"
      ]
    },
    {
      "cell_type": "markdown",
      "source": [
        "<a name=\"annealing\"></a>\n",
        "\n",
        "## **Quantum annealing**\n",
        "\n",
        "Es un modelo similar a la computación cuántica adiabática, con ciertas limitaciones:\n",
        "\n",
        "- El Hamiltoniano final tiene que ser un Hamiltoniano Ising:  \n",
        "\n",
        "$$\n",
        "H_c = -\\sum_{i,j=0}^{n-1} J_{ij}Z_iZ_j - \\sum_{i=0}^{n-1} h_{i}Z_i\n",
        "$$\n",
        "\n",
        "- No se mantiene la evolución adiabática $\\implies$ el estado final podría no ser el estado base de $H_c$\n",
        "\n",
        "**Estado inicial $H_0$**\n",
        "\n",
        "Se suele usar como estado inicial el siguiente:\n",
        "\n",
        "$$\n",
        "H_0 = -\\sum_{i=0}^{n-1} X_i\n",
        "$$\n",
        "\n",
        "Este estado se denomina _mixing Hamiltonian_ y su estado base es $|\\psi_0\\rangle = |+\\rangle^{\\otimes n}$\n",
        "\n",
        "**Evolución del Hamiltoniano**\n",
        "\n",
        "La evolución viene dada por:\n",
        "\n",
        "$$\n",
        "H(t) = A(t)H_0 + B(t)H_c = -A(t)\\sum_{i=0}^{n-1} X_i - B(t)\\sum_{i,j=0}^{n-1} J_{ij}Z_iZ_j - B(t)\\sum_{i=0}^{n-1} h_{i}Z_i\n",
        "$$\n",
        "\n",
        "\n",
        "### Quantum annealers\n",
        "Computadores cuánticos que resuelven problemas de optimización mediante Quantum annealing.\n",
        "\n",
        "- [D-Wave Systems](https://www.dwavesys.com/): Primera empresa en vender quantum annealers\n",
        "  - El último modelo dispone de más de 7000 cúbits\n",
        "  - Suite [Ocean](https://docs.ocean.dwavesys.com/en/latest/)\n",
        "  - Tipo de problemas: optimización de portfolios, optimización de rutas y gestión de flotas, optimización de líneas de producción, búsqueda de similaridad entre moléculas, etc.\n",
        "\n",
        "\n"
      ],
      "metadata": {
        "id": "-wXRTqICvMVB"
      },
      "id": "-wXRTqICvMVB"
    },
    {
      "cell_type": "code",
      "execution_count": null,
      "id": "_8o7ueSP4yZ8",
      "metadata": {
        "id": "_8o7ueSP4yZ8"
      },
      "outputs": [],
      "source": [
        "!pip install dwave-neal dimod"
      ]
    },
    {
      "cell_type": "code",
      "execution_count": null,
      "id": "OccQihye5GoP",
      "metadata": {
        "id": "OccQihye5GoP"
      },
      "outputs": [],
      "source": [
        "# dimod: biblioteca base de D-Wave Ocean para representar\n",
        "# y resolver problemas combinatorios binarios cuadráticos\n",
        "from dimod import BinaryQuadraticModel, SPIN\n",
        "J = {(0,1):1, (0,2):1}\n",
        "h = {}\n",
        "\n",
        "# Expresamos el grafo simple como un modelo binario cuadrático\n",
        "# SPIN: las variables toman valores {-1,1}\n",
        "problem = BinaryQuadraticModel(h, J, 0.0, SPIN)\n",
        "print(\"The problem we are going to solve is:\")\n",
        "print(problem)"
      ]
    },
    {
      "cell_type": "code",
      "execution_count": null,
      "id": "i0bhL0FT5j2x",
      "metadata": {
        "id": "i0bhL0FT5j2x"
      },
      "outputs": [],
      "source": [
        "# neal: simulador de annealing de DWave\n",
        "from neal import SimulatedAnnealingSampler\n",
        "\n",
        "# Usamos un simulador clásico en vez del D-WaveSampler\n",
        "sampler = SimulatedAnnealingSampler()\n",
        "\n",
        "# Ejecutamos la muestra con 10 repeticiones\n",
        "result = sampler.sample(problem, num_reads=10)\n",
        "\n",
        "print(\"\\nThe solutions that we have obtained are:\")\n",
        "print(result)\n"
      ]
    },
    {
      "cell_type": "code",
      "execution_count": null,
      "id": "kW15PjPoC1Z9",
      "metadata": {
        "id": "kW15PjPoC1Z9"
      },
      "outputs": [],
      "source": [
        "# Uso en un sistemna Dwave\n",
        "# 1. Instalar el SDK de Ocean con pip install dwave-ocean-sdk\n",
        "# 2. Registrarse en Leap (https://cloud.dwavesys.com/leap/) y obtener una clave API\n",
        "# 3. Usar \"dwave config create\" para añadir la clave a nuestra configuración\n",
        "#\n",
        "# Código adaptado\n",
        "#from dwave.system import DWaveSampler\n",
        "#from dwave.system import EmbeddingComposite\n",
        "#sampler = EmbeddingComposite(DWaveSampler())\n",
        "#result = sampler.sample(problem, num_reads=10)\n",
        "#print(\"The solutions that we have obtained are\")\n",
        "#print(result)"
      ]
    },
    {
      "cell_type": "markdown",
      "source": [
        "\n",
        "\n",
        "---\n",
        "\n",
        "---"
      ],
      "metadata": {
        "id": "1FjLWBGzwGgE"
      },
      "id": "1FjLWBGzwGgE"
    },
    {
      "cell_type": "markdown",
      "id": "ReeKXTCYAs_8",
      "metadata": {
        "id": "ReeKXTCYAs_8"
      },
      "source": [
        "<a name=\"trotter\"></a>\n",
        "## **Discretización de la evolución adiabática (*Trotterization*)**\n",
        "\n",
        "Podemos replicar la evolución adiabática en un computador cuántico basado en puertas discretizando la evolución continua del Hamiltoniano.\n",
        "\n",
        "La evolución temporal de un sistema viene dada por la ecuación de Schrödinger:\n",
        "\n",
        "$$i\\hbar \\frac{d}{dt}|\\psi(t)\\rangle = H(t)|\\psi(t)\\rangle$$\n",
        "\n",
        "En general, $H(t)$ depende del tiempo. Pero en un intervalo temporal $[t_i, t_i+\\Delta t]$ suficientemente pequeño, podemos considerar $H(t_i)$ constante, verificándose que:\n",
        "\n",
        "$$|\\psi(t_i+\\Delta t)\\rangle = e^{-iH(t_i)\\Delta t}|\\psi(t_i)\\rangle = U_i|\\psi(t_i)\\rangle$$\n",
        "\n",
        "siendo $U_i = e^{-iH(t_i)\\Delta t}$ una matriz unitaria.\n",
        "\n",
        "\n",
        "\n",
        "Si discretizamos la evolución en $p = \\frac{T}{\\Delta t}$ pasos, podemos escribir:\n",
        "\n",
        "$$\n",
        "|\\psi(t_1)\\rangle = U_0|\\psi(t_0)\\rangle \\\\\n",
        "|\\psi(t_2)\\rangle = U_1|\\psi(t_1)\\rangle \\\\\n",
        "\\cdots \\\\\n",
        "|\\psi(t_{p})\\rangle = U_{p-1}|\\psi(t_{p-1})\\rangle\n",
        "$$\n",
        "\n",
        "\n",
        "De esta forma, el estado final del sistema será:\n",
        "\n",
        "$$\n",
        "|\\psi(t_{p})\\rangle = U_{p-1}U_{p-2}\\cdots U_{1}U_{0}|\\psi(t_0)\\rangle = \\left(\\prod_{m=p-1}^{0} U_m\\right) |\\psi(t_0)\\rangle =\n",
        "$$\n",
        "\n",
        "El Hamiltoniano usado en computación adiabática es:\n",
        "\n",
        "$$H(t) = A(t)H_0 + B(t)H_c$$\n",
        "\n",
        "por lo que resulta:\n",
        "\n",
        "$$\n",
        "|\\psi(T)\\rangle = \\left(\\prod_{m=0}^{p-1} e^{i\\Delta t(A'(t_m)H_0 + B'(t_m)H_c)}\\right) |\\psi(0)\\rangle\n",
        "$$\n",
        "\n",
        "donde $A'(t_m) = -A(t_{p-1-m})$, $B'(t_m) = -B(t_{p-1-m})$, $|\\psi(T)\\rangle = |\\psi(t_{p})\\rangle$ y $|\\psi(0)\\rangle = |\\psi(t_{0})\\rangle$\n",
        "\n",
        "En general, dadas dos matrices $A$ y $B$, la igualdad $e^{A+B} = e^Ae^B$ solo se da si $A$ y $B$ _conmutan_, es decir si $[A,B] = AB-BA = 0$.\n",
        "\n",
        "Si $\\Delta t$ es lo suficientemente pequeño, la formula de Lie-Trotter permite escribir:\n",
        "\n",
        "$$\n",
        "e^{i\\Delta t(A'(t_m)H_0 + B'(t_m)H_c)} \\approx e^{i\\Delta tA'(t_m)H_0} e^{i\\Delta tB'(t_m)H_c}\n",
        "$$\n",
        "\n",
        "Por lo tanto, el estado final del sistema se puede escribir:\n",
        "\n",
        "$$\n",
        "|\\psi_f\\rangle = |\\psi(T)\\rangle = \\left(\\prod_{m=0}^{p-1} e^{i\\Delta tA'(t_m)H_0} e^{i\\Delta tB'(t_m)H_c}\\right) |\\psi(0)\\rangle =\n",
        "\\prod_{m=0}^{p-1} U_0(t_m)U_c(t_m)|\\psi_0\\rangle\n",
        "$$\n",
        "\n",
        "siendo las matrices unitarias:\n",
        "\n",
        "$$\n",
        "U_0(t_m) = e^{i\\Delta tA'(t_m)H_0}\\\\\n",
        "U_c(t_m) = e^{i\\Delta tB'(t_m)H_c}\n",
        "$$\n",
        "\n",
        "Este procedimiento se denomina _trotterization_ y es la base de algoritmos como el QAOA.\n"
      ]
    },
    {
      "cell_type": "markdown",
      "id": "lQyCnyX0R853",
      "metadata": {
        "id": "lQyCnyX0R853"
      },
      "source": [
        "\n",
        "\n",
        "---\n",
        "\n",
        "\n",
        "\n",
        "---\n",
        "\n",
        "\n"
      ]
    },
    {
      "cell_type": "markdown",
      "id": "sixth-speaker",
      "metadata": {
        "id": "sixth-speaker"
      },
      "source": [
        "<a name=\"hibrida\"></a>\n",
        "# **Algoritmos cuánticos híbridos y circuitos parametrizados**\n",
        "\n",
        "Problema de los computadores cuánticos actuales: el ruído destruye la superposición de estado.\n",
        "\n",
        "No es posible resolver un problema complejo (profundo) en un sistema actual: por ejemplo, la factorización de Shor podría necesitar millones de cúbits para corrección de errores.\n",
        "\n",
        "Computadores actuales: _Noisy intermediate-scale quantum_ (NISQ)\n",
        "\n",
        "Podemos pensar en dividir un problema complejo en partes más simples, y utilizar CPUs tradicionales en el proceso de optimización:\n",
        "\n",
        "<center><img src=\"https://drive.google.com/uc?export=view&id=1WgpYw-cCkpuNZE2AOnPL4b3kIt9A_kU2\" alt=\"Algoritmo híbrido\" width=\"700\"  /></center>\n",
        "\n",
        "Esta estrategia también se denomina _Computación variacional_.\n",
        "\n",
        "Se basa en usar un circuito cuántico que incluye parámetros que se van optimizando. Este circuitos se  denomina *ansatz*, _forma (o circuito) variacional_ o, simplemente, circuito cuántico parametrizado."
      ]
    },
    {
      "cell_type": "markdown",
      "id": "cardiac-distribution",
      "metadata": {
        "id": "cardiac-distribution"
      },
      "source": [
        "### Circuitos parametrizados en Qiskit\n",
        "\n",
        "Qiskit incluye métodos para facilitar la creación de circuitos parametrizados."
      ]
    },
    {
      "cell_type": "code",
      "execution_count": null,
      "id": "cutting-folder",
      "metadata": {
        "id": "cutting-folder"
      },
      "outputs": [],
      "source": [
        "from qiskit.circuit import Parameter, ParameterVector\n",
        "\n",
        "#Se crean los parámetros usando un string como identificador (no se les asignan ningún valor)\n",
        "parameter_0 = Parameter('θ')\n",
        "parameter_1 = Parameter('β')\n",
        "circuit = QuantumCircuit(1)\n",
        "\n",
        "#Podemos ahora usar los parámetros como ángulos de rotación en una puerta\n",
        "circuit.ry(theta = parameter_0, qubit = 0)\n",
        "circuit.rx(theta = parameter_1, qubit = 0)\n",
        "\n",
        "circuit.draw('mpl')"
      ]
    },
    {
      "cell_type": "markdown",
      "id": "dedicated-division",
      "metadata": {
        "id": "dedicated-division"
      },
      "source": [
        "Es posible definir vectores de parámetros"
      ]
    },
    {
      "cell_type": "code",
      "execution_count": null,
      "id": "removed-client",
      "metadata": {
        "id": "removed-client"
      },
      "outputs": [],
      "source": [
        "# Numero de cubits y de parametros\n",
        "n = 2\n",
        "num_par = 2*n\n",
        "\n",
        "# ParameterVectors se inicializan con un identificador y un entero que indica la longitud del string\n",
        "parameters = ParameterVector('θ', num_par)\n",
        "\n",
        "circuit = QuantumCircuit(n)\n",
        "\n",
        "for i in range(n):\n",
        "    circuit.ry(parameters[i], i)\n",
        "    circuit.rx(parameters[i+n], i)\n",
        "\n",
        "circuit.draw('mpl')"
      ]
    },
    {
      "cell_type": "markdown",
      "id": "recovered-shell",
      "metadata": {
        "id": "recovered-shell"
      },
      "source": [
        "Finalmente, se dan valores a los parámetros."
      ]
    },
    {
      "cell_type": "code",
      "execution_count": null,
      "id": "accredited-hypothetical",
      "metadata": {
        "id": "accredited-hypothetical"
      },
      "outputs": [],
      "source": [
        "# Creamos un diccionario que asigna a cada parámetro un valor aleatorio\n",
        "param_dict = {p: np.random.random() for p in parameters}\n",
        "print(param_dict)\n",
        "\n",
        "# El método assign_parameters permite ligar los valores al circuito\n",
        "circuit_v = circuit.assign_parameters(parameters = param_dict)\n",
        "circuit_v.draw('mpl')"
      ]
    },
    {
      "cell_type": "markdown",
      "id": "animated-happiness",
      "metadata": {
        "id": "animated-happiness"
      },
      "source": [
        "-------------------"
      ]
    },
    {
      "cell_type": "markdown",
      "id": "alike-jewelry",
      "metadata": {
        "id": "alike-jewelry"
      },
      "source": [
        "## Ejercicio 5.1\n",
        "\n",
        "Crea el siguiente circuito parametrizado, que alterna capas de rotaciones $R_y$ con CNOTS. Esta forma variacional se denomina [RealAmplitudes](https://qiskit.org/documentation/stubs/qiskit.circuit.library.RealAmplitudes.html) y se usa en química computacional y en problemas de clasificación en quantum machine learning.\n",
        "\n",
        "<center><img src=\"https://drive.google.com/uc?export=view&id=1HKVx-jEzWhNPH-VNEpzATRyv0xG0fFfZ\" alt=\"Ansatz Real Amplitudes\" width=\"700\"  /></center>\n"
      ]
    },
    {
      "cell_type": "code",
      "execution_count": null,
      "id": "comparable-receiver",
      "metadata": {
        "id": "comparable-receiver"
      },
      "outputs": [],
      "source": [
        "from qiskit.circuit import Parameter, ParameterVector\n",
        "\n",
        "# Número de cubits y capas Ry+CNOT (no cuenta la capa Ry final)\n",
        "n = 4\n",
        "num_layers = 2\n",
        "\n",
        "# Crea el vector de parámetros\n",
        "parameters = ParameterVector('t', n*(num_layers+1))\n",
        "\n",
        "# Crea el circuito\n",
        "circuit = QuantumCircuit(n)\n",
        "\n",
        "# Crea las capas Ry+CNOT\n",
        "for layer in range(num_layers):\n",
        "    #\n",
        "    # TODO: Añade las puertas Ry parametrizadas usando el vector de parámetros para obtener el estado 𝜓0\n",
        "    #\n",
        "    for i in range(n):\n",
        "      circuit.ry(parameters[i+layer*n],i)\n",
        "\n",
        "\n",
        "    # Barrera para visualización\n",
        "    circuit.barrier()\n",
        "\n",
        "    #\n",
        "    # TODO: Añade las puertas CNOT\n",
        "    #\n",
        "    for i in range(n-1,0,-1):\n",
        "      circuit.cx(i-1,i)\n",
        "\n",
        "\n",
        "    # Barrera para visualización\n",
        "    circuit.barrier()\n",
        "\n",
        "#\n",
        "# TODO: Añade la capa Ry final\n",
        "#\n",
        "for i in range(n):\n",
        "  circuit.ry(parameters[i+(layer+1)*n],i)\n",
        "\n",
        "circuit.draw('mpl')"
      ]
    },
    {
      "cell_type": "code",
      "execution_count": null,
      "id": "graduate-texas",
      "metadata": {
        "id": "graduate-texas"
      },
      "outputs": [],
      "source": [
        "# Este circuito está implementado en la librería de Qiskit\n",
        "from qiskit.circuit.library import RealAmplitudes\n",
        "n = 4\n",
        "num_layers = 2\n",
        "ansatz = RealAmplitudes(n, reps=num_layers, insert_barriers=True)\n",
        "ansatz.decompose().draw('mpl')"
      ]
    },
    {
      "cell_type": "markdown",
      "id": "mC8k9ZtsSQ3Q",
      "metadata": {
        "id": "mC8k9ZtsSQ3Q"
      },
      "source": [
        "\n",
        "\n",
        "---\n",
        "\n",
        "\n",
        "\n",
        "---\n",
        "\n",
        "\n",
        "\n",
        "---\n",
        "\n"
      ]
    },
    {
      "cell_type": "markdown",
      "id": "color-painting",
      "metadata": {
        "id": "color-painting"
      },
      "source": [
        "<a name=\"qaoa\"></a>\n",
        "# **Quantum Approximate Optimization Algorithm (QAOA)**\n",
        "\n",
        "Algoritmo híbrido basado en la discretización de la evolución adiabática para resolver problemas Ising.\n",
        "\n",
        "Como ya hemos visto, el estado final del sistema despues de la evolución es:\n",
        "\n",
        "$$\n",
        "|\\psi_f\\rangle = |\\psi(T)\\rangle = \\left(\\prod_{m=0}^{p-1} e^{i\\Delta tA'(t_m)H_0} e^{i\\Delta tB'(t_m)H_c}\\right) |\\psi(0)\\rangle =\n",
        "\\prod_{m=0}^{p-1} U_0(t_m)U_c(t_m)|\\psi_0\\rangle\n",
        "$$\n",
        "\n",
        "siendo las matrices unitarias:\n",
        "\n",
        "$$\n",
        "U_0(t_m) = e^{i\\Delta tA'(t_m)H_0} = e^{i\\beta_mH_0} = U_0(\\beta_m)\\\\\n",
        "U_c(t_m) = e^{i\\Delta tB'(t_m)H_c} = e^{i\\gamma_mH_c} = U_c(\\gamma_m)\n",
        "$$\n",
        "con $m=0,\\ldots,p-1$ y $p \\ge 1$.\n",
        "\n",
        "QAOA intenta elegir unos valores de $\\beta_m$ y $\\gamma_m$ que aproximen el estado $|\\psi_f\\rangle$ al estado base del Hamiltoniano de coste $H_c$, es decir, que minimizen $\\langle\\psi_f|H_c|\\psi_f\\rangle$.\n",
        "\n",
        "El algoritmo QAOA parte de un Hamiltoniano de coste $H_c$ que define el problema y procede como sigue:\n",
        "\n",
        "1. Se elige un valor de $p\\ge 1$ y dos listas de valores $\\boldsymbol{\\beta} = (\\beta_0,\\ldots,\\beta_{p-1})$ y $\\boldsymbol{\\gamma} = (\\gamma_0,\\ldots,\\gamma_{p-1})$\n",
        "1. Como $H_0$ se suele usar el _mixing Hamiltonian_ y como estado inicial se suele usar la superposición completa\n",
        "  $$H_0 = -\\sum_{i=0}^{n-1} X_i\\quad\n",
        "  |\\psi_0\\rangle = |+\\rangle^{\\otimes n}$$\n",
        "2. La QPU aplica las puertas $U_0(\\beta_m)U_c(\\gamma_m)$, $m=0,\\ldots,p-1$, y se obtiene un nuevo estado $|\\psi_p\\rangle$\n",
        "3. En la CPU se usa un algoritmo de optimización para actualizar los parámetros $\\boldsymbol{\\beta}$ y $\\boldsymbol{\\gamma}$ intentando minimizar el valor esperado $\\langle\\psi_p|H_c|\\psi_p\\rangle$\n",
        "4. Se vuelve al paso 2 hasta obtener los valores óptimos $\\boldsymbol{\\beta}^\\ast$ y $\\boldsymbol{\\gamma}^\\ast$\n",
        "5. Usando esos valores, se obtiene el estado que minimiza la solución\n",
        "\n",
        "El proceso de optimización de los parámetros puede ser un simple gradiente descendente, en el que cada parámetro se actualiza en la dirección que conduzca al mayor descenso del valor esperado, u otros método de optimización más sofisticados.\n",
        "\n",
        "### Construcción de $U_0(\\beta)$ y $U_c(\\gamma)$\n",
        "\n",
        "#### Puertas para $U_0(\\beta)$\n",
        "\n",
        "Si tenemos $n$ cúbits, y dado que las matrices $X$ conmutan tenemos:\n",
        "\n",
        "$$U_0(\\beta) = e^{i\\beta H_0} = e^{-i\\beta\\sum_{i=0}^{n-1} X_i} = \\prod_{i=0}^{n-1}e^{-i\\beta X_i}$$\n",
        "\n",
        "Y recordando que la puerta de rotación $R_x(\\theta) = e^{-i\\theta X/2}$, se tiene:\n",
        "\n",
        "$$U_0(\\beta) = \\prod_{i=0}^{n-1} R_x^{(i)}(2\\beta)$$\n",
        "\n",
        "La puerta $R_x^{(i)}$ indica que se aplica una $R_x$ al cúbit $i$ y la identidad al resto $\\implies$ el producto equivale a aplicar una puerta $R_x(2\\beta)$ a cada uno de los cúbits.\n",
        "\n",
        "#### Puertas para $U_c(\\gamma)$\n",
        "\n",
        "El Hamiltoniano de coste de un problema Ising es:\n",
        "\n",
        "\n",
        "$$H_c = -\\sum_{i,j = 0}^{n-1} J_{ij}Z_iZ_j -\\sum_{i = 0}^{n-1} h_i Z_i$$\n",
        "\n",
        "siendo $J_{ij}$ y $h_i$ números reales.\n",
        "\n",
        "Ya que las matricez $Z$ conmutan, podemos escribir\n",
        "\n",
        "$$\n",
        "U_c(\\gamma) = e^{i\\gamma H_c} = e^{-i\\gamma(\\sum_{i,j = 0}^{n-1} J_{ij}Z_iZ_j +\\sum_{i = 0}^{n-1} h_i Z_i)} =\n",
        "\\prod_{i,j = 0}^{n-1}e^{-i\\gamma J_{ij}Z_iZ_j}\\prod_{i=0}^{n-1}e^{-i\\gamma h_i Z_i}\n",
        "$$\n",
        "\n",
        "El segundo término se puede implementar con puertas $R_z(\\theta) = e^{-i\\theta Z/2}$.\n",
        "\n",
        "\n",
        "Para el primer término, $Z_iZ_j$ representa aplicar una puerta $Z$ a los cúbits $i$ y $j$ y la identidad al resto:\n",
        "\n",
        "$$\n",
        "Z_iZ_j = I\\otimes\\ldots\\otimes Z\\otimes\\ldots\\otimes Z \\otimes\\ldots I = Z_i\\otimes Z_j\n",
        "$$\n",
        "\n",
        "Y el término $e^{-i\\gamma J_{ij}Z_i\\otimes Z_j}$ corresponde a una [puerta Ising ZZ](https://qiskit.org/documentation/stubs/qiskit.circuit.library.RZZGate.html#qiskit.circuit.library.RZZGate) entre los cúbits $i$ y $j$:\n",
        "\n",
        "$$\n",
        "R_{ZZ}(\\theta) = \\exp\\left(-i\\frac{\\theta}{2}(Z\\otimes Z)\\right) =\n",
        "\\exp{\\left(-i\\frac{\\theta}{2}\\begin{bmatrix}\n",
        "1 & 0 & 0 & 0\\\\\n",
        "0 & -1 & 0 & 0\\\\\n",
        "0 & 0 & -1 & 0\\\\\n",
        "0 & 0 & 0 & 1\\\\\n",
        "\\end{bmatrix} \\right)}=\n",
        "\\begin{bmatrix}\n",
        "e^{-i\\theta/2} & 0 & 0 & 0\\\\\n",
        "0 & e^{i\\theta/2} & 0 & 0\\\\\n",
        "0 & 0 & e^{i\\theta/2} & 0\\\\\n",
        "0 & 0 & 0 & e^{-i\\theta/2}\\\\\n",
        "\\end{bmatrix}\n",
        "$$\n",
        "\n",
        "Con lo que queda:\n",
        "\n",
        "$$\n",
        "U_c(\\gamma) = \\prod_{i,j = 0}^{n-1} R_{ZZ}^{(i,j)}(2\\gamma J_{ij})\\prod_{i=0}^{n-1}R_z^{(i)}(2\\gamma h_i)\n",
        "$$\n"
      ]
    },
    {
      "cell_type": "code",
      "execution_count": null,
      "id": "ab5de61d",
      "metadata": {
        "id": "ab5de61d"
      },
      "outputs": [],
      "source": [
        "from qiskit.circuit import Parameter\n",
        "\n",
        "# Puerta ZZ en Qiskit\n",
        "theta = Parameter('θ')\n",
        "qc = QuantumCircuit(2)\n",
        "\n",
        "qc.rzz(theta, 0, 1)\n",
        "\n",
        "display(qc.draw('mpl'))\n",
        "\n",
        "display(qc.decompose().draw('mpl'))"
      ]
    },
    {
      "cell_type": "markdown",
      "id": "dd3e98b5",
      "metadata": {
        "id": "dd3e98b5"
      },
      "source": [
        "### Ejemplo\n",
        "\n",
        "Obtener el circuito QAOA para un paso ($p$=1) del Hamiltoniano Ising:\n",
        "\n",
        "$$\n",
        "H_c = 3Z_2Z_0 - Z_2Z_1 + 2Z_0\n",
        "$$\n",
        "\n",
        "Necesitamos 3 cúbits, y el estado que queremos conseguir será:\n",
        "\n",
        "$$\n",
        "U_0(\\beta)U_c(\\gamma) |+\\rangle^{\\otimes 3}\n",
        "$$\n",
        "\n",
        "Con\n",
        "\n",
        "$$\n",
        "U_0(\\beta) = \\prod_{i=0}^{2} R_x^{(i)}(2\\beta) = R_x^{(0)}(2\\beta)\\otimes R_x^{(1)}(2\\beta)\\otimes R_x^{(2)}(2\\beta)\n",
        "$$\n",
        "\n",
        "$$\n",
        "U_c(\\gamma) = \\prod_{i,j = 0}^{2} R_{ZZ}^{(i,j)}(2\\gamma J_{ij})\\prod_{i=0}^{2}R_z^{(i)}(2\\gamma h_i) = (R_{ZZ}^{(2,0)}(6\\gamma)\\otimes R_{ZZ}^{(2,1)}(-2\\gamma))(R_z^{(0)}(4\\gamma))\n",
        "$$\n",
        "\n",
        "El circuito sería:"
      ]
    },
    {
      "cell_type": "code",
      "execution_count": null,
      "id": "42175ce9",
      "metadata": {
        "id": "42175ce9"
      },
      "outputs": [],
      "source": [
        "from qiskit.circuit import Parameter\n",
        "\n",
        "n = 3\n",
        "\n",
        "beta = Parameter('β')\n",
        "gamma = Parameter('γ')\n",
        "\n",
        "qc = QuantumCircuit(n)\n",
        "\n",
        "# Estado superpuesto\n",
        "qc.h(range(3))\n",
        "\n",
        "# Puertas U_c\n",
        "qc.rzz(6*gamma, 2, 0)\n",
        "qc.rzz(-2*gamma, 2, 1)\n",
        "qc.rz(4*gamma, 0)\n",
        "\n",
        "# puertas U_0\n",
        "for i in range(3):\n",
        "    qc.rx(2*beta, i)\n",
        "\n",
        "qc.draw('mpl')"
      ]
    },
    {
      "cell_type": "markdown",
      "id": "3910f5c9",
      "metadata": {
        "id": "3910f5c9"
      },
      "source": [
        "Podemos usar la implementación de QAOA de Qiskit para obtener este mismo circuito"
      ]
    },
    {
      "cell_type": "code",
      "execution_count": null,
      "id": "mcnO9IVFk_3j",
      "metadata": {
        "id": "mcnO9IVFk_3j"
      },
      "outputs": [],
      "source": [
        "from qiskit.circuit.library import QAOAAnsatz\n",
        "from qiskit.quantum_info import SparsePauliOp\n",
        "\n",
        "# Expresamos el problema como un operador Hamiltoniano\n",
        "Hc = SparsePauliOp.from_list([(\"ZIZ\", 3), (\"ZZI\", -1), (\"IIZ\", 2)])\n",
        "\n",
        "# Creamos el ansatz QAOA\n",
        "ansatz = QAOAAnsatz(Hc, reps=1)\n",
        "\n",
        "ansatz.decompose(reps=2).draw(\"mpl\")"
      ]
    },
    {
      "cell_type": "markdown",
      "id": "TK0EA7UDWGXc",
      "metadata": {
        "id": "TK0EA7UDWGXc"
      },
      "source": [
        "La puerta $U_2$ es una rotación de 1 cúbit generalizada, de la forma:\n",
        "\n",
        "$$\n",
        "U_2(\\phi, \\lambda) = \\frac{1}{\\sqrt{2}}\n",
        "\\begin{pmatrix}\n",
        "1          & -e^{i\\lambda} \\\\\n",
        "e^{i\\phi} & e^{i(\\phi + \\lambda)}\n",
        "\\end{pmatrix}\n",
        "$$\n",
        "\n",
        "Así, una puerta $H$ es equivalente a:\n",
        "\n",
        "$$\n",
        "H = U_2(0, \\pi) = \\frac{1}{\\sqrt{2}}\n",
        "\\begin{pmatrix}\n",
        "1          & -e^{i\\pi} \\\\\n",
        "e^{i0} & e^{i(0 + \\pi)}\n",
        "\\end{pmatrix} =\n",
        "\\frac{1}{\\sqrt{2}}\\begin{pmatrix}\n",
        "1          & 1 \\\\\n",
        "1 & -1\n",
        "\\end{pmatrix}\n",
        "$$"
      ]
    },
    {
      "cell_type": "markdown",
      "id": "9QzIr2sKasR8",
      "metadata": {
        "id": "9QzIr2sKasR8"
      },
      "source": [
        "Dado este Hamiltoniano, podemos usar fuerza bruta para encontrar los valores esperados para todos los estados base:"
      ]
    },
    {
      "cell_type": "code",
      "execution_count": null,
      "id": "GT4X50HQaK38",
      "metadata": {
        "id": "GT4X50HQaK38"
      },
      "outputs": [],
      "source": [
        "from qiskit.quantum_info import Statevector\n",
        "\n",
        "# Creamos una lista con todos los estados base para n cúbits\n",
        "estados = [Statevector.from_int(i, dims=2**n) for i in range(2**n)]\n",
        "\n",
        "for i in range(2**n):\n",
        "  print('Estado ',i, 'valor esperado=',estados[i].expectation_value(Hc).real)"
      ]
    },
    {
      "cell_type": "markdown",
      "id": "a92dd1ad",
      "metadata": {
        "id": "a92dd1ad"
      },
      "source": [
        "Usamos la implementación de [QAOA](https://qiskit-community.github.io/qiskit-algorithms/stubs/qiskit_algorithms.QAOA.html) del paquete [qiskit_algorithms](https://qiskit-community.github.io/qiskit-algorithms/apidocs/qiskit_algorithms.html) para obtener el mínimo"
      ]
    },
    {
      "cell_type": "code",
      "execution_count": null,
      "id": "-v1CqEfdTpbr",
      "metadata": {
        "id": "-v1CqEfdTpbr"
      },
      "outputs": [],
      "source": [
        "from qiskit_algorithms import QAOA\n",
        "from qiskit_algorithms.optimizers import COBYLA\n",
        "from qiskit.primitives import Sampler\n",
        "from qiskit_algorithms.utils import algorithm_globals\n",
        "from qiskit.result import QuasiDistribution\n",
        "\n",
        "# Sampler: nueva primitiva de Qiskit que obtiene\n",
        "# muestras del circuito para estimar el valor esperado.\n",
        "sampler = Sampler()\n",
        "\n",
        "algorithm_globals.random_seed = 10598\n",
        "\n",
        "optimizer = COBYLA()\n",
        "\n",
        "qaoa = QAOA(sampler, optimizer)\n",
        "\n",
        "# Obtiene el mínimo autovalor del Hamiltoniano\n",
        "result = qaoa.compute_minimum_eigenvalue(Hc)\n",
        "\n",
        "print(result,'\\n')\n",
        "\n",
        "bistring = result.best_measurement['bitstring']\n",
        "valor = result.best_measurement['value']\n",
        "print(\"Estado que minimiza Hc = {}\".format(bistring))\n",
        "print(\"Valor esperado <{}|Hc|{}> = {}\".format(bistring,bistring,valor.real))\n",
        "\n",
        "# Nota: el warning se debe a que QAOA no está migrado a la V2 de Sampler"
      ]
    },
    {
      "cell_type": "markdown",
      "id": "civilian-flavor",
      "metadata": {
        "id": "civilian-flavor"
      },
      "source": [
        "### Programas cuadráticos con restricciones cuadráticas\n",
        "\n",
        "La librería de optimización de Qiskit incorpora una librería para resolver problemas QCQP con variables binarias y/o enteras.\n",
        "\n",
        "**Ejemplo**\n",
        "\n",
        "Minimiza $y=10x_0+20x_1+30 x_2 +  4 x_0x_1 + 2 x_0x_2 + 6 x_1x_2 + 4 x_1^2  + 2 x_2^2$\n",
        "\n",
        "con las siguientes restricciones:\n",
        "\n",
        "  - $x_0\\in\\{0,1\\}$\n",
        "  - $x_1, x_2 \\in \\mathbb{Z}, -1\\le x_1 \\le 1, -2\\le x_2 \\le 3$\n",
        "\n",
        "Podemos expresar el problema de la siguiente forma:ç\n",
        "\n",
        "Se puede escribir como:\n",
        "$$\n",
        "\\begin{align}\n",
        "\\text{minimizar} &&x^T Q x + c^T x &&\\\\\n",
        "&& && \\\\\n",
        "\\text{sujeto a} &&x_0\\in\\{0,1\\}, x_1, x_2 \\in \\mathbb{Z}  &&\\\\\n",
        "&& -1\\le x_1 \\le 1 \\\\\n",
        "&& -2\\le x_2 \\le 3 \\\\\n",
        "\\end{align}\n",
        "$$\n",
        "\n",
        "Se puede probar fácilmente que $Q$ y $c$ en este ejemplo valen:\n",
        "\n",
        "$$\n",
        "\\begin{aligned}\n",
        "Q  &= \\begin{bmatrix}0 & 1 & 2 \\\\ 3 & 4 & 5 \\\\ 0 & 1 & 2 \\end{bmatrix}\\\\[10pt]\n",
        "c^T &= \\begin{bmatrix}10&20&30\\end{bmatrix}\n",
        "\\end{aligned}\n",
        "$$"
      ]
    },
    {
      "cell_type": "code",
      "execution_count": null,
      "id": "reverse-classic",
      "metadata": {
        "id": "reverse-classic"
      },
      "outputs": [],
      "source": [
        "from qiskit_optimization import QuadraticProgram\n",
        "\n",
        "# Definimos el problema cuadrático\n",
        "qprog = QuadraticProgram('Ejemplo')\n",
        "\n",
        "# Fijamos el tipo de las variables y sus restricciones\n",
        "qprog.binary_var(name = 'x_0')\n",
        "qprog.integer_var(name = 'x_1', lowerbound = -1, upperbound = 1)\n",
        "qprog.integer_var(name = 'x_2', lowerbound = -2, upperbound = 3)\n",
        "\n",
        "# Matriz Q y vector c\n",
        "Q = [[0,1,2],[3,4,5],[0,1,2]]\n",
        "c = [10,20,30]\n",
        "\n",
        "# Exprersamos el problema como una minimización\n",
        "qprog.minimize(quadratic = Q, linear = c)\n",
        "\n",
        "print(qprog.prettyprint())"
      ]
    },
    {
      "cell_type": "markdown",
      "id": "broad-canberra",
      "metadata": {
        "id": "broad-canberra"
      },
      "source": [
        "Este problema puede ser resuelto mediante QAOA usando el método [`MinimumEigenOptimizer`](https://qiskit-community.github.io/qiskit-optimization/stubs/qiskit_optimization.algorithms.MinimumEigenOptimizer.html) que se encarga de convertir el programa cuadrático a un circuito y de realizar la optimización.\n",
        "\n",
        "A este método hay que pasarle un objeto de una clase que implemente la interfaz [`MinimumEigenSolver`](https://qiskit-community.github.io/qiskit-algorithms/stubs/qiskit_algorithms.MinimumEigensolver.html), como puede ser un objeto [`VQE`](https://qiskit-community.github.io/qiskit-algorithms/stubs/qiskit_algorithms.VQE.html) o [`QAOA`](https://qiskit-community.github.io/qiskit-algorithms/stubs/qiskit_algorithms.QAOA.html)."
      ]
    },
    {
      "cell_type": "code",
      "execution_count": null,
      "id": "aace05db",
      "metadata": {
        "id": "aace05db"
      },
      "outputs": [],
      "source": [
        "from qiskit_algorithms import QAOA\n",
        "from qiskit_algorithms.optimizers import ADAM\n",
        "from qiskit.primitives import Sampler\n",
        "from qiskit_optimization.algorithms import MinimumEigenOptimizer\n",
        "\n",
        "qaoa = QAOA(Sampler(), ADAM(), initial_point=[0.0, 0.0])\n",
        "\n",
        "# Creamos el optimizador\n",
        "eigen_optimizer = MinimumEigenOptimizer(min_eigen_solver = qaoa)\n",
        "\n",
        "# Usamos ese optimizador sobre el problema anterior\n",
        "result = eigen_optimizer.solve(qprog)\n",
        "\n",
        "print(result)"
      ]
    },
    {
      "cell_type": "markdown",
      "id": "cdb1c286",
      "metadata": {
        "id": "cdb1c286"
      },
      "source": [
        "Podemos comprobar que el resultado es correcto usando un minimizador clásico."
      ]
    },
    {
      "cell_type": "code",
      "execution_count": null,
      "id": "101fed32",
      "metadata": {
        "id": "101fed32"
      },
      "outputs": [],
      "source": [
        "from qiskit_algorithms.minimum_eigensolvers import NumPyMinimumEigensolver\n",
        "\n",
        "np_solver = NumPyMinimumEigensolver()\n",
        "np_optimizer = MinimumEigenOptimizer(min_eigen_solver = np_solver)\n",
        "\n",
        "result = np_optimizer.solve(qprog)\n",
        "print(result)"
      ]
    },
    {
      "cell_type": "markdown",
      "id": "planned-jonathan",
      "metadata": {
        "id": "planned-jonathan"
      },
      "source": [
        "### Maxcut como QUBO\n",
        "\n",
        "Ya vimos que el MAX-CUT se puede expresar como un problema QUBO, con una función de coste:\n",
        "$$\n",
        "C(\\textbf{x}) = \\sum_{i,j = 0}^{n-1} w_{ij} x_i (1-x_j)\n",
        "$$\n",
        "siendo todas las $x_i$ variables binarias.\n",
        "\n",
        "Esta función de coste se puede reescribir como:\n",
        "\n",
        "$$\n",
        "\\begin{align}\n",
        "\\sum_{i,j=0}^{n-1} w_{ij} x_i (1-x_j) &= \\sum_{i,j=0}^{n-1} w_{ij} x_i - w_{ij}x_i x_j  \\\\\n",
        "&= \\sum_{i=0}^{n-1} \\left( \\sum_{j=0}^{n-1} w_{ij} \\right) x_i - \\sum_{i,j = 0}^{n-1} w_{ij}x_i x_j \\\\\n",
        "&= c^T x + x^T Q x, \\\\\n",
        "\\end{align}\n",
        "$$\n",
        "siendo $Q$ y $c$:\n",
        "$$\n",
        "Q_{ij} = -w_{ij} \\qquad c_i = \\sum_{j=1}^n w_{ij}.\n",
        "$$"
      ]
    },
    {
      "cell_type": "code",
      "execution_count": null,
      "id": "improved-edwards",
      "metadata": {
        "id": "improved-edwards"
      },
      "outputs": [],
      "source": [
        "import networkx as nx  # Librería para manejar grafos\n",
        "\n",
        "# Ejemplo de grafo con 6 nodos\n",
        "nnodes = 6\n",
        "G = nx.Graph()\n",
        "# Añade nodos y aristas\n",
        "G.add_nodes_from(np.arange(0,nnodes,1))\n",
        "edges = [(0,1,2.0),(0,2,3.0),(0,3,2.0),(0,4,4.0),(0,5,1.0),(1,2,4.0),(1,3,1.0),\n",
        "         (1,4,1.0),(1,5,3.0),(2,4,2.0),(2,5,3.0),(3,4,5.0),(3,5,1.0)]\n",
        "G.add_weighted_edges_from(edges)\n",
        "\n",
        "# Mostramos el grafo\n",
        "layout = nx.random_layout(G,seed=10)\n",
        "colors = ['red', 'green', 'lightblue', 'yellow', 'magenta', 'gray']\n",
        "nx.draw_networkx(G, layout, node_color=colors)\n",
        "labels = nx.get_edge_attributes(G, 'weight')\n",
        "nx.draw_networkx_edge_labels(G, pos=layout, edge_labels=labels);"
      ]
    },
    {
      "cell_type": "code",
      "execution_count": null,
      "id": "fs7NkskpjrB2",
      "metadata": {
        "id": "fs7NkskpjrB2"
      },
      "outputs": [],
      "source": [
        "print(\"Matriz de adyacencias del grafo\")\n",
        "print(nx.adjacency_matrix(G).toarray())"
      ]
    },
    {
      "cell_type": "markdown",
      "id": "-kGrywObo0Dq",
      "metadata": {
        "id": "-kGrywObo0Dq"
      },
      "source": [
        "Vamos a obtener por fuerza bruta el coste de todos los cortes."
      ]
    },
    {
      "cell_type": "code",
      "execution_count": null,
      "id": "fossil-roberts",
      "metadata": {
        "id": "fossil-roberts"
      },
      "outputs": [],
      "source": [
        "# Función de coste de Maxcut\n",
        "def maxcut_coste(graph, bitstring):\n",
        "    \"\"\"\n",
        "    Computa la función de coste del Maxcut para un grafo y un corte representado por un string de bits\n",
        "    Args:\n",
        "        graph: El grafo networkx\n",
        "        bitstring: str\n",
        "                   Un string con valores 0 o 1 especificando un corte en el grafo\n",
        "    Returns:\n",
        "        coste: float\n",
        "               El coste del corte\n",
        "    \"\"\"\n",
        "    # Matriz de adyacencias del grafo\n",
        "    weight_matrix = nx.adjacency_matrix(graph).toarray()\n",
        "    coste = 0\n",
        "    for i, j in graph.edges():\n",
        "        # Si los vértices están en conjuntos distintos suma el peso de la arista\n",
        "        if bitstring[i] != bitstring[j]:\n",
        "            coste += weight_matrix[i,j]\n",
        "\n",
        "    return coste"
      ]
    },
    {
      "cell_type": "code",
      "execution_count": null,
      "id": "registered-comparative",
      "metadata": {
        "id": "registered-comparative"
      },
      "outputs": [],
      "source": [
        "# Obtenemos por fuerza bruta los valores de todos los posibles cortes\n",
        "num_vars = G.number_of_nodes()\n",
        "\n",
        "#Creamos una lista de bitstrings con todos los posibles cortes\n",
        "bitstrings = ['{:b}'.format(i).rjust(num_vars, '0') for i in range(2**num_vars)]\n",
        "print(bitstrings)\n",
        "\n",
        "costes = list()\n",
        "for bitstring in bitstrings:\n",
        "    costes.append(maxcut_coste(G, bitstring))\n",
        "print(costes)\n",
        "\n",
        "# Ordenamos los costes y los bitstrings en orden creciente de coste\n",
        "costes, bitstrings = zip(*sorted(zip(costes, bitstrings)))"
      ]
    },
    {
      "cell_type": "code",
      "execution_count": null,
      "id": "VUWwgKd0kjRU",
      "metadata": {
        "id": "VUWwgKd0kjRU"
      },
      "outputs": [],
      "source": [
        "print(\"Corte de mayor coste = \",bitstrings[len(bitstrings)-1], \", coste = \", costes[len(bitstrings)-1])\n"
      ]
    },
    {
      "cell_type": "code",
      "execution_count": null,
      "id": "Ht6vDZ_Oo-4U",
      "metadata": {
        "id": "Ht6vDZ_Oo-4U"
      },
      "outputs": [],
      "source": [
        "import matplotlib.pyplot as plt\n",
        "import plotly.graph_objects as go\n",
        "# Muestra una gráfica con los valores\n",
        "bar_plot = go.Bar(x = bitstrings, y = costes, marker=dict(color=costes, colorscale = 'plasma', colorbar=dict(title='Cut Value')))\n",
        "fig = go.Figure(data=bar_plot, layout = dict(xaxis=dict(type = 'category'), width = 1500, height = 600))\n",
        "fig.show()"
      ]
    },
    {
      "cell_type": "markdown",
      "id": "ethical-italic",
      "metadata": {
        "id": "ethical-italic"
      },
      "source": [
        "-----------------------------------"
      ]
    },
    {
      "cell_type": "markdown",
      "id": "weird-cardiff",
      "metadata": {
        "id": "weird-cardiff"
      },
      "source": [
        "Resolvemos el problema de optimización con QAOA"
      ]
    },
    {
      "cell_type": "code",
      "execution_count": null,
      "id": "2f7eb9b1",
      "metadata": {
        "id": "2f7eb9b1"
      },
      "outputs": [],
      "source": [
        "# Nº de nodos del grafo y matriz de pesos\n",
        "nnodes = len(G.nodes())\n",
        "weight_matrix = nx.adjacency_matrix(G).toarray()\n",
        "\n",
        "# Matriz Q\n",
        "Q = -weight_matrix\n",
        "\n",
        "# Vector c\n",
        "c = np.zeros(nnodes)\n",
        "for i in range(nnodes):\n",
        "    for j in range(nnodes):\n",
        "        c[i] += weight_matrix[i,j]\n",
        "\n",
        "# Defino el problema\n",
        "qubo_maxcut = QuadraticProgram('Maxcut como problema cuadrático')\n",
        "\n",
        "# Variables binarias del problema\n",
        "for i in range(nnodes):\n",
        "    nombre = 'x_'+str(i)\n",
        "    qubo_maxcut.binary_var(name = nombre)\n",
        "\n",
        "# Especificalo como un problema de maximizacion e imprimelo\n",
        "qubo_maxcut.maximize(quadratic = Q, linear = c)\n",
        "print(qubo_maxcut.prettyprint())"
      ]
    },
    {
      "cell_type": "code",
      "execution_count": null,
      "id": "sticky-communist",
      "metadata": {
        "id": "sticky-communist"
      },
      "outputs": [],
      "source": [
        "# Usamos el optimizador anterior sobre este problema\n",
        "result = eigen_optimizer.solve(qubo_maxcut)\n",
        "print(result)"
      ]
    },
    {
      "cell_type": "markdown",
      "id": "pediatric-gibraltar",
      "metadata": {
        "id": "pediatric-gibraltar"
      },
      "source": [
        "#### Referencias\n",
        "\n",
        "  - Farhi, E., Goldstone, J., & Gutmann, S. (2014). A quantum approximate optimization algorithm. arXiv preprint [arXiv:1411.4028](https://arxiv.org/abs/1411.4028)\n",
        "  - Ejemplo definiendo el circuito: https://learning.quantum.ibm.com/tutorial/quantum-approximate-optimization-algorithm"
      ]
    },
    {
      "cell_type": "markdown",
      "id": "FO079DgllXZ_",
      "metadata": {
        "id": "FO079DgllXZ_"
      },
      "source": [
        "\n",
        "\n",
        "---\n",
        "\n",
        "\n",
        "\n",
        "---\n",
        "\n",
        "\n",
        "\n",
        "---\n",
        "\n"
      ]
    },
    {
      "cell_type": "markdown",
      "id": "outside-gardening",
      "metadata": {
        "id": "outside-gardening"
      },
      "source": [
        "<a name=\"vqe\"></a>\n",
        "# **Variational Quantum Eigensolvers (VQE)**\n",
        "\n",
        "VQE es una generalización de QAOA para aproximar el estado base de un hamiltoniano H genérico. Se basa en el principio variacional, que establece que el mínimo valor esperado de un observable se alcanza siempre en un autovector del mismo. Es decir, que para cualquier estado arbitrario, el valor esperado de un observable es siempre mayor o igual al mínimo.\n",
        "\n",
        "\n",
        "<details>\n",
        "  <summary>Pulsa aquí para una explicación del principio variacional</summary>\n",
        "\n",
        "El principio variacional permite estimar un límite superior para la energía del estado base (_ground state_) de un sistema cuántico.\n",
        "    \n",
        "Supongamos un estado cuántico, caracterizado por un hamiltoniano $H$, que representa la energía del sistema. Los posibles valores de energía son los autovalores $\\lambda_i$ de la matriz $H$, y la energía del sistema en el estado $\\vert u_i\\rangle$ viene dada por el valor esperado de $H$ en ese estado:\n",
        "\n",
        "$$\n",
        "E(\\vert u_i \\rangle)\\equiv \\lambda_i = \\langle H\\rangle_{|u_i\\rangle} = \\langle u_i \\vert H \\vert u_i \\rangle\n",
        "$$\n",
        "\n",
        "\n",
        "El estado base del sistema es el correspondiente al mínimo de energía. Supongamos que ese mínimo corresponde al autoestado $|u_{min}\\rangle$ con autovalor $\\lambda_{min}$. Para cualquier autovalor $\\lambda_i$ se tiene que:\n",
        "\n",
        "\\begin{align*}\n",
        "    E_{min} \\equiv \\lambda_{min} \\le \\lambda_i \\equiv \\langle H \\rangle_{|u_i\\rangle} = \\langle u_i |H|u_i \\rangle\n",
        "\\end{align*}  \n",
        "\n",
        "donde $|u_i\\rangle$ es el autoestado asociado a $\\lambda_i$.\n",
        "\n",
        "Sea un estado arbitrario $|\\psi\\rangle$. Escribiendo $H$ en la base de sus autoestados $H = \\sum_{i=1}^N \\lambda_i |u_i\\rangle\\langle u_i|$ tenemos que el valor esperado de la energía en el estado $|\\psi\\rangle$:\n",
        "\n",
        "\\begin{align}\n",
        "E(|\\psi\\rangle)=\\langle H\\rangle_{|\\psi\\rangle} = \\langle \\psi |H|\\psi \\rangle & = \\\n",
        " \\langle \\psi | \\left( \\sum_{i=1}^N \\lambda_i |u_i\\rangle\\langle u_i| \\right) |\\psi \\rangle\\\\\n",
        " &= \\sum_{i=1}^N \\lambda_i \\langle \\psi |u_i\\rangle\\langle u_i|\\psi \\rangle\\\\\n",
        " &= \\sum_{i=1}^N \\lambda_i |\\langle u_i|\\psi \\rangle|^2\n",
        "\\end{align}\n",
        "\n",
        "Es decir, el valor esperado de $H$ en un estado cualquiera es una combinación lineal en la que los autovalores actúan como pesos. De esta expresión es facil ver que:\n",
        "\n",
        "\\begin{align}\n",
        "    \\lambda_{min} \\le \\langle H \\rangle_{|\\psi\\rangle} = \\langle \\psi | H | \\psi \\rangle = \\sum_{i = 1}^{N} \\lambda_i | \\langle u_i | \\psi\\rangle |^2\n",
        "\\end{align}\n",
        "\n",
        "Esa expresión se denomina _principio variacional_ y simplemente indica que el valor mínimo de energía es menor o igual que el valor esperado de $H$ en un estado arbitrario.\n",
        "\n",
        "</details>\n",
        "\n",
        "VQE se suele usar en problemas de química computacional, por ejemplo, para obtener el mínimo estado de energía de una determinada molécula. También se puede usar en problemas de optimización combinatoria.\n",
        "\n",
        "VQE aproxima el estado base de un hamiltoniano H. Para ello se crea un circuito cuántico variacional (denominado _forma variacional_ o _ansatz_) en un estado inicial $|\\psi\\rangle$. Ejecutando el circuito, se obtiene el valor esperado $\\langle H \\rangle_{|\\psi\\rangle}$. Se usa un  optimizador clásico para ajustar los parámetros del circuito con con vistas a encontrar los parámetros que minimicen $\\langle H \\rangle_{|\\psi\\rangle}$.\n",
        "\n",
        "<center><img src=\"https://drive.google.com/uc?export=view&id=1O9RXUnTfu09PLD7O4XT1FrC2GcSE008t\" alt=\"Circuito variacional\" width=\"900\"  /></center>\n",
        "\n",
        "\n",
        "La idea de VQE es, partiendo del estado inicial, ir recorriendo el espacio de estados (o lo que es lo mismo, la esfera de Bloch) y calcular el valor esperado en $H$ en cada estado.\n",
        "\n",
        "Por ejemplo, se podría elegir como valor inicial el estado $|0\\rangle$ e ir aplicando rotaciones $R_Y$ o $R_x$:\n",
        "\n",
        "<center><img src=\"https://drive.google.com/uc?export=view&id=1y94qu2xOloSXoTe-8t9nwgehEvgfZHG1\" alt=\"VQE\" width=\"200\"  /></center>\n",
        "(Fuente: <a href=https://www.mustythoughts.com/variational-quantum-eigensolver-explained>https://www.mustythoughts.com/variational-quantum-eigensolver-explained</a>)\n",
        "\n",
        "En general, se usan ansätze $V(\\theta)$ más complejos que permitan recorrer la esfera de Bloch.\n",
        "\n",
        "#### Optimización de los parámetros\n",
        "\n",
        "El algoritmo VQE parte de un Hamiltoniano $H$, cuyo estado base resuelve el problema, y procede como sigue:\n",
        "\n",
        "1. Se elige un estado inicial (normalmente $|\\psi(\\theta)\\rangle = |0\\rangle$) y un _ansatz_ $V(\\theta)$\n",
        "2. Se le dan valores iniciales a los parámetros $\\theta$\n",
        "2. En la QPU se ejecuta el ansatz con esos parámetros para obtener un estado $|\\psi(\\theta)\\rangle = V(\\theta)|0\\rangle$\n",
        "3. Se mide el valor esperado del Hamiltoniano en ese estado $\\langle\\psi(\\theta)|H|\\psi(\\theta)\\rangle$\n",
        "4. En la CPU se usa un algoritmo de optimización para modificar los parámetros del ansatz\n",
        "    - Objetivo: reducir el valor esperado del Hamiltoniano\n",
        "5. Se vuelve al paso 3 hasta que se alcanza un mínimo\n",
        "\n",
        "Igual que en QAOA, el proceso de optimización de los parámetros puede ser un simple gradiente descendente, en el que cada parámetro se actualiza en la dirección que conduzca al mayor descenso de la energía, u otros método de optimización más sofisticados.\n",
        "\n",
        "#### Obtención del valor esperado\n",
        "\n",
        "A diferencia del QAOA, en el que el Hamiltoniano es una matriz diagonal, en VQE es más general $\\implies$ no es trivial obtener el valor esperado.\n",
        "\n",
        "Solución: Expresar el Hamiltoniano como suma de productos tensor de matrices de Pauli y obtener el valor esperado tomando medidas en diferentes bases.\n",
        "\n",
        "#### Ejemplos de ansätze\n",
        "\n",
        "La elección de la forma variacional o ansatz para VQE depende del problema a tratar. Un ejemplo es _RealAmplitudes_ que vimos antes. Otra forma es la _EfficientSU2_."
      ]
    },
    {
      "cell_type": "code",
      "execution_count": null,
      "id": "0b8e74e9",
      "metadata": {
        "id": "0b8e74e9"
      },
      "outputs": [],
      "source": [
        "from qiskit.circuit.library import EfficientSU2\n",
        "\n",
        "ansatz = EfficientSU2(num_qubits=4, reps=1, entanglement='linear', insert_barriers=True)\n",
        "\n",
        "ansatz.decompose().draw('mpl')"
      ]
    },
    {
      "cell_type": "markdown",
      "id": "3134c3c7",
      "metadata": {
        "id": "3134c3c7"
      },
      "source": [
        "### Obtención de estados excitados\n",
        "\n",
        "El algoritmo VQD (_Variational Quantum Deflaction_) es una extensión del VQE que permite obtener _estados excitados_, es decir, autoestados con mayor energía.\n",
        "\n",
        "Para ello, si $|\\psi_0\\rangle$ es el estado base, es posible demostrar que el estado base del siguiente Hamiltoniano:\n",
        "\n",
        "$$\n",
        "H' = H + C|\\psi_0\\rangle\\langle\\psi_0|\n",
        "$$\n",
        "es el primer estado excitado de H\n",
        "\n",
        "#### Referencias:\n",
        "\n",
        "  - Peruzzo, et al. (2014). A variational eigenvalue solver on a photonic quantum processor. Nature communications, 5(1), 1-7. [arXiv:1304.3061](https://arxiv.org/abs/1304.3061)\n",
        "  - Higgott, O., Wang, D., & Brierley, S. (2019). Variational quantum computation of excited states. Quantum, 3, 156. [arXiv:1805.08138](https://arxiv.org/abs/1805.08138)\n",
        "  - Combarro, E.F. & Gonzákez-Castillo, S. (2023). A Practical Guide  to Quantum Machine Learning and Quantum Optimization, capítulo  7. Packt.\n",
        "  - Qiskit tutorial: Variational quantum eigensolver https://learning.quantum.ibm.com/tutorial/variational-quantum-eigensolver\n"
      ]
    },
    {
      "cell_type": "markdown",
      "id": "D1Ocz1_q8Shi",
      "metadata": {
        "id": "D1Ocz1_q8Shi"
      },
      "source": [
        "\n",
        "\n",
        "---\n",
        "\n",
        "\n",
        "\n",
        "---\n",
        "\n",
        "\n",
        "\n",
        "---\n",
        "\n"
      ]
    },
    {
      "cell_type": "code",
      "execution_count": null,
      "id": "white-checkout",
      "metadata": {
        "id": "white-checkout"
      },
      "outputs": [],
      "source": []
    }
  ],
  "metadata": {
    "colab": {
      "provenance": [],
      "include_colab_link": true
    },
    "kernelspec": {
      "display_name": "Python 3 (ipykernel)",
      "language": "python",
      "name": "python3"
    },
    "language_info": {
      "codemirror_mode": {
        "name": "ipython",
        "version": 3
      },
      "file_extension": ".py",
      "mimetype": "text/x-python",
      "name": "python",
      "nbconvert_exporter": "python",
      "pygments_lexer": "ipython3",
      "version": "3.12.2"
    }
  },
  "nbformat": 4,
  "nbformat_minor": 5
}