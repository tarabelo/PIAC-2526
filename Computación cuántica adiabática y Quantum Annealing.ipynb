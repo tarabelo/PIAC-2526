{
  "cells": [
    {
      "cell_type": "markdown",
      "metadata": {
        "id": "view-in-github",
        "colab_type": "text"
      },
      "source": [
        "<a href=\"https://colab.research.google.com/github/tarabelo/2025-VIU-Quantum/blob/main/Aplicaciones%20pr%C3%A1cticas.ipynb\" target=\"_parent\"><img src=\"https://colab.research.google.com/assets/colab-badge.svg\" alt=\"Open In Colab\"/></a>"
      ]
    },
    {
      "cell_type": "code",
      "source": [
        "# Instalamos qiskit en el notebook\n",
        "!pip install qiskit qiskit-aer qiskit-algorithms qiskit-optimization qiskit_machine_learning qiskit-ibm-runtime pylatexenc"
      ],
      "metadata": {
        "id": "mGD4ph0kJPA9"
      },
      "id": "mGD4ph0kJPA9",
      "execution_count": null,
      "outputs": []
    },
    {
      "cell_type": "code",
      "source": [
        "import numpy as np\n",
        "from math import sqrt\n",
        "\n",
        "# importing Qiskit\n",
        "from qiskit import QuantumCircuit, QuantumRegister, ClassicalRegister, transpile\n",
        "from qiskit.quantum_info import Statevector\n",
        "from qiskit_aer import AerSimulator, StatevectorSimulator\n",
        "\n",
        "# import basic plot tools\n",
        "from qiskit.visualization import plot_histogram\n",
        "\n",
        "# Funciones auxiliares\n",
        "\n",
        "# Función para obtener y mostrar el vector de estado\n",
        "def obten_estado(qcirc, etiqueta=\"|\\psi\\!\\!> = \", bloch=False):\n",
        "  estado = Statevector.from_instruction(qcirc)\n",
        "  display(estado.draw('latex', prefix=etiqueta, max_size=2**qc.num_qubits))\n",
        "  if bloch:\n",
        "    display(estado.draw('bloch'))"
      ],
      "metadata": {
        "id": "yQR94dznJRA_"
      },
      "id": "yQR94dznJRA_",
      "execution_count": null,
      "outputs": []
    },
    {
      "cell_type": "markdown",
      "id": "placed-mechanics",
      "metadata": {
        "id": "placed-mechanics"
      },
      "source": [
        "# **Aplicaciones prácticas**\n",
        "\n",
        "### Contenidos\n",
        "\n",
        "1. [Representación de la información](#info)\n",
        "1. [Problemas de optimización binaria cuadrática sin restricciones (QUBO)](#qubo)\n",
        "1. [Computación cuántica adiabática y Quantum Annealing](#adiabatica)\n",
        "1. [Algoritmos cuánticos híbridos y circuitos parametrizados](#hibrida)\n",
        "1. [Quantum Approximate Optimization Algorithm (QAOA)](#qaoa)\n",
        "1. [Variational Quantum Eigensolvers (VQE)](#vqe)\n",
        "1. [Introducción al Quantum Machine Learning](#qml)\n",
        "1. [Otras aplicaciones](#otras)"
      ]
    },
    {
      "cell_type": "markdown",
      "id": "delayed-liver",
      "metadata": {
        "id": "delayed-liver"
      },
      "source": [
        "<a name=\"info\"></a>\n",
        "# **Representación de la información**\n",
        "\n",
        "Codificar nuestros datos como un estado cuántico: diferentes soluciones propuestas\n",
        "\n",
        "  - Problema abierto y bajo estudio\n",
        "  - Dependiente del problema concreto\n",
        "\n",
        "## Codificación en la base (Basis encoding)\n",
        "\n",
        "La codificación más simple es usar los cúbits como bits clásicos. Así, por ejemplo, si tenemos 8 cúbits el valor $123$ se representaría como el estado $|01111011\\rangle$\n",
        "\n",
        "También se pueden agrupar los cúbits en _registros_, cada uno con un estado especificando un valor:\n",
        "\n",
        "$$\n",
        "\\begin{bmatrix}\n",
        "7\\\\11\n",
        "\\end{bmatrix} = |0111\\rangle|1011\\rangle\n",
        "$$\n",
        "\n",
        "- Ventajas: el estado es fácil de preparar\n",
        "- Inconvenientes: necesitamos muchos cúbits\n",
        "\n",
        "## Codificación en superposición (QuAM encoding)\n",
        "\n",
        "Alternativamente, un vector de hasta $2^n$ enteros puede ser codificado en estados en superposición de $n$ cúbits.\n",
        "\n",
        "Por ejemplo con 3 cúbits:\n",
        "\n",
        "$$\n",
        "\\begin{bmatrix}\n",
        "1\\\\3\\\\5\\\\6\n",
        "\\end{bmatrix} =\n",
        "\\frac{1}{2}(|001\\rangle+|011\\rangle + |101\\rangle + |110\\rangle)\n",
        "$$\n",
        "\n",
        " - Ventajas: se pueden hacer operaciones que afectan a todos los elementos del vector simultáneamente.\n",
        " - Inconvenientes: la codificación no puede realizarse de forma eficiente\n",
        "\n",
        "Un algoritmo para realizar esta codificación se basa en una [memoria cuántica asociativa (QuAM)](https://arxiv.org/abs/quant-ph/9807053)"
      ]
    },
    {
      "cell_type": "markdown",
      "id": "martial-socket",
      "metadata": {
        "id": "martial-socket"
      },
      "source": [
        "Ejemplo: prepara el vector $[1,3,5,6]^T$"
      ]
    },
    {
      "cell_type": "code",
      "execution_count": null,
      "id": "executed-history",
      "metadata": {
        "id": "executed-history"
      },
      "outputs": [],
      "source": [
        "q = QuantumRegister(3, name='q')\n",
        "qc = QuantumCircuit(q)\n",
        "\n",
        "## Iniciamos el estado\n",
        "qc.x(q[0])\n",
        "qc.h(q[1])\n",
        "qc.h(q[2])\n",
        "qc.ccx(q[2],q[1],q[0])\n",
        "\n",
        "display(qc.draw('mpl'))\n",
        "\n",
        "# Mostramos el vector de estado\n",
        "obten_estado(qc)"
      ]
    },
    {
      "cell_type": "markdown",
      "id": "charming-celtic",
      "metadata": {
        "id": "charming-celtic"
      },
      "source": [
        "Súmale 1 (módulo 8) a todos los elementos del vector"
      ]
    },
    {
      "cell_type": "code",
      "execution_count": null,
      "id": "peaceful-poetry",
      "metadata": {
        "id": "peaceful-poetry"
      },
      "outputs": [],
      "source": [
        "q = QuantumRegister(3, name='q')\n",
        "qc = QuantumCircuit(q)\n",
        "\n",
        "## Iniciamos el estado\n",
        "qc.x(q[0])\n",
        "qc.h(q[1])\n",
        "qc.h(q[2])\n",
        "qc.ccx(q[2],q[1],q[0])\n",
        "qc.barrier()\n",
        "\n",
        "# Sumamos 1\n",
        "qc.ccx(q[0],q[1],q[2])\n",
        "qc.cx(q[0],q[1])\n",
        "qc.x(q[0])\n",
        "\n",
        "display(qc.draw('mpl'))\n",
        "\n",
        "# Mostramos el vector de estado\n",
        "obten_estado(qc)"
      ]
    },
    {
      "cell_type": "code",
      "source": [
        "q = QuantumRegister(3, name='q')\n",
        "qc = QuantumCircuit(q)\n",
        "\n",
        "## Iniciamos el estado\n",
        "qc.x(q[0])\n",
        "qc.h(q[1])\n",
        "qc.h(q[2])\n",
        "qc.ccx(q[2],q[1],q[0])\n",
        "qc.barrier()\n",
        "\n",
        "# Sumamos 2\n",
        "for i in range(2):\n",
        "  qc.ccx(q[0],q[1],q[2])\n",
        "  qc.cx(q[0],q[1])\n",
        "  qc.x(q[0])\n",
        "\n",
        "display(qc.draw('mpl'))\n",
        "\n",
        "# Mostramos el vector de estado\n",
        "obten_estado(qc)"
      ],
      "metadata": {
        "id": "zMxHqe6nwwHX"
      },
      "id": "zMxHqe6nwwHX",
      "execution_count": null,
      "outputs": []
    },
    {
      "cell_type": "markdown",
      "id": "constant-salmon",
      "metadata": {
        "id": "constant-salmon"
      },
      "source": [
        "## Codificación en amplitud\n",
        "\n",
        "Un vector de $2^n$ elementos puede ser codificado en las amplitudes de $n$ cúbits.\n",
        "\n",
        "Restricciones:\n",
        "\n",
        "1. El número de elementos del vector debe ser potencia de 2\n",
        "1. El vector debe estar normalizado\n",
        "1. El proceso de codificación no es trivial (requiere tiempo exponencial en el número de qubits)\n",
        "\n",
        "Uso práctico: necesidad de [QRAM](https://en.wikipedia.org/wiki/Quantum_memory) que permita cargar datos clásicos en registros cuánticos (no existe todavía).\n",
        "\n",
        "**Ejemplo**: inicialización de un vector de $2^n$ elementos en un sistema fake de IBMQ:"
      ]
    },
    {
      "cell_type": "code",
      "execution_count": null,
      "id": "arbitrary-memphis",
      "metadata": {
        "id": "arbitrary-memphis"
      },
      "outputs": [],
      "source": [
        "n = 5\n",
        "# Creamos un vector aleatorio de 2**n elementos\n",
        "v = np.random.random(2**n)\n",
        "print(v)"
      ]
    },
    {
      "cell_type": "code",
      "source": [
        "# Normalizamos v\n",
        "vnorm = v / np.linalg.norm(v)\n",
        "print(np.linalg.norm(vnorm))\n",
        "print(vnorm)"
      ],
      "metadata": {
        "id": "nD1jNqbG67go"
      },
      "id": "nD1jNqbG67go",
      "execution_count": null,
      "outputs": []
    },
    {
      "cell_type": "code",
      "execution_count": null,
      "id": "banned-funds",
      "metadata": {
        "id": "banned-funds"
      },
      "outputs": [],
      "source": [
        "# Iniciamos un circuito de n cúbits al vector normalizado\n",
        "qc = QuantumCircuit(n)\n",
        "qc.initialize(vnorm)\n",
        "display(qc.draw('mpl'))\n",
        "obten_estado(qc, bloch=True)"
      ]
    },
    {
      "cell_type": "code",
      "source": [
        "# Traspilamos a un FakeProvider\n",
        "from qiskit_ibm_runtime.fake_provider import FakeOsaka\n",
        "from qiskit.transpiler.preset_passmanagers import generate_preset_pass_manager\n",
        "\n",
        "fake_backend = FakeOsaka()\n",
        "\n",
        "# Creamos el Pass manager para ese backend\n",
        "pass_manager = generate_preset_pass_manager(backend=fake_backend, optimization_level=1)\n",
        "\n",
        "# Optimiza el circuito usando el pass manager\n",
        "qc_optimizado = pass_manager.run(qc)\n",
        "\n",
        "qc_optimizado.draw(\"mpl\", idle_wires=False)"
      ],
      "metadata": {
        "id": "nTFGdMKxKLzH"
      },
      "id": "nTFGdMKxKLzH",
      "execution_count": null,
      "outputs": []
    },
    {
      "cell_type": "markdown",
      "id": "serious-director",
      "metadata": {
        "id": "serious-director"
      },
      "source": [
        "## Codificación en ángulos\n",
        "\n",
        "Aplicamos a cada cúbit una rotación con un ángulo igual al valor a codificar\n",
        "\n",
        "  - Necesitamos tantos cúbits como valores a codificar\n",
        "  - Valores normalizados al intervalo $[-\\pi,\\pi]$\n",
        "  - Fácil implementación"
      ]
    },
    {
      "cell_type": "code",
      "execution_count": null,
      "id": "large-parent",
      "metadata": {
        "id": "large-parent"
      },
      "outputs": [],
      "source": [
        "n = 4 # Número de cúbits\n",
        "v = np.random.random(n)\n",
        "print(v)\n",
        "\n",
        "qc = QuantumCircuit(n)\n",
        "for q in range(n):\n",
        "    qc.ry(v[q], q)\n",
        "\n",
        "qc.draw('mpl')\n",
        "obten_estado(qc, bloch=True)"
      ]
    },
    {
      "cell_type": "markdown",
      "id": "prepared-pioneer",
      "metadata": {
        "id": "prepared-pioneer"
      },
      "source": [
        "Esta codificación puede complicarse haciendo uso de rotaciones adicionales para codificar $2n$ valores en $n$ cúbits (_dense angle encoding_)"
      ]
    },
    {
      "cell_type": "code",
      "execution_count": null,
      "id": "corporate-young",
      "metadata": {
        "id": "corporate-young"
      },
      "outputs": [],
      "source": [
        "qc = QuantumCircuit(n/2)\n",
        "for q in range(0,n,2):\n",
        "    qc.ry(v[q], q//2)\n",
        "    qc.p(v[q+1],q//2)\n",
        "\n",
        "qc.draw('mpl')\n",
        "obten_estado(qc, bloch=True)"
      ]
    },
    {
      "cell_type": "markdown",
      "id": "bright-short",
      "metadata": {
        "id": "bright-short"
      },
      "source": [
        "Codificaciones de orden más alto (_higher order encoding_) pueden implicar puertas Hadamard, CNOTs entre los cúbits y rotaciones con ángulo producto\n",
        "\n",
        "  - Pueden ser útiles en determinados problemas"
      ]
    },
    {
      "cell_type": "code",
      "execution_count": null,
      "id": "stable-attitude",
      "metadata": {
        "id": "stable-attitude"
      },
      "outputs": [],
      "source": [
        "n = 2 # Número de cúbits\n",
        "v = [-0.3, 2.5]\n",
        "\n",
        "qc = QuantumCircuit(n)\n",
        "qc.h(range(n))\n",
        "for q in range(n):\n",
        "    qc.ry(v[q], q)\n",
        "\n",
        "qc.cx(0,1)\n",
        "qc.rz(v[0]*v[1], 1)\n",
        "\n",
        "display(qc.draw('mpl'))\n",
        "obten_estado(qc, bloch=True)"
      ]
    },
    {
      "cell_type": "markdown",
      "id": "postal-zimbabwe",
      "metadata": {
        "id": "postal-zimbabwe"
      },
      "source": [
        "## Codificación de matrices\n",
        "\n",
        "Una matriz podría codificarse como un conjunto de vectores, pero la forma más habitual es codificarla como una matriz unitaria que se puede usar en algoritmos como el QPE\n",
        "\n",
        "Sea $A$ una matriz hermítica ($A^\\dagger = A$) de coeficientes complejos. Se puede demostrar que la matriz $U = e^{iA}$ es unitaria.\n",
        "\n",
        "Además, si $U$ es unitaria, existe una matriz hermítica $A$ tal que $U = e^{iA}$.\n",
        "\n",
        "Podemos codificar una matriz hermítica como una unitaria que se puede usar en nuestro circuito. Si nuestra matriz $A$ no es hermítica, siempre podemos convertirla en hermítica haciendo:\n",
        "\n",
        "$$A_H=\\begin{bmatrix}0 & A\\\\A^\\dagger & 0\\end{bmatrix}$$"
      ]
    },
    {
      "cell_type": "markdown",
      "id": "human-sperm",
      "metadata": {
        "id": "human-sperm"
      },
      "source": [
        "#### Referencias\n",
        "\n",
        "- Weigold, M., Barzen, J., Leymann, F., & Salm, M. (2021, March). [Expanding Data Encoding Patterns For Quantum Algorithms](https://www.iaas.uni-stuttgart.de/publications/Weigold2021_ExpandingDataEncodingPatterns.pdf). In 2021 IEEE 18th Int. Conf. on Software Architecture Companion (ICSA-C) (pp. 95-101).\n",
        "- LaRose, R., & Coyle, B. (2020). [Robust data encodings for quantum classifiers](https://link.aps.org/pdf/10.1103/PhysRevA.102.032420). Physical Review A, 102(3), 032420."
      ]
    },
    {
      "cell_type": "markdown",
      "source": [
        "\n",
        "\n",
        "---\n",
        "\n",
        "\n",
        "\n",
        "---\n",
        "\n",
        "\n",
        "\n",
        "---\n",
        "\n"
      ],
      "metadata": {
        "id": "vq9UePeXQWxm"
      },
      "id": "vq9UePeXQWxm"
    },
    {
      "cell_type": "markdown",
      "id": "c9648f5e",
      "metadata": {
        "id": "c9648f5e"
      },
      "source": [
        "<a name=\"qubo\"></a>\n",
        "# **Problemas de optimización binaria cuadrática sin restricciones (QUBO)**\n",
        "\n",
        "Un tipo de problemas en los que se está usando la computación cuántica son los denominados [QUBO](https://en.wikipedia.org/wiki/Quadratic_unconstrained_binary_optimization) (_Quadratic Unconstrained Binary Optimization_).\n",
        "\n",
        "Este tipo de problemas consisten en minimizar (o maximizar) una función $f_Q(x)$ con la siguiente forma:\n",
        "\n",
        "$$f_Q(x) = \\sum_{i=1}^n\\sum_{j=1}^i q_{ij}x_ix_j$$\n",
        "\n",
        "donde $Q$ es una matriz triangular de coeficiente $q_{ij}\\in \\mathbb{R}$ y $x_i \\in \\{0,1\\}$.\n",
        "\n",
        "Los problemas QUBO son [NP-duros](https://es.wikipedia.org/wiki/NP-hard).\n",
        "\n",
        "Muchos modelos de optimización combinatoria pueden expresarse como problemas QUBO, por ejemplo modelos de programación lineal o problemas como el coloreado de grafos o el problema del viajante.\n",
        "\n",
        "### Ejemplo: algoritmo MAX-CUT\n",
        "\n",
        "Sea $G = (V, E)$ un grafo pesado no dirigido con $n$-nodos y pesos $w_{ij}>0$, $w_{ij}=w_{ji}$, con $(j,k)\\in E$ y $w_{ij}=0$ si $(j,k)\\notin E$.\n",
        "\n",
        "Objetivo: dividir el grafo en dos conjuntos tal que la suma de los pesos de las aristas entre ambos conjuntos sea máximo.\n",
        "\n",
        "<center><img src=\"https://drive.google.com/uc?export=view&id=15ZhQCZB3k5SJzpQHyYLWCflUSS3js75g\" alt=\"Ejemplo MAX-CUT\" width=\"700\"  /></center>\n",
        "\n",
        "El algoritmo procede asignando a cada vértice un valor $x_i = \\{0,1\\}$ de forma que el grafo queda dividido en dos conjuntos: los vértices con $x_i = 0$ y aquellos con $x_i = 1$.\n",
        "\n",
        "El algoritmo MAX-CUT busca el número binario $\\textbf{x}=x_1\\cdots x_n$ que maximice la función de coste:\n",
        "\n",
        "$$\n",
        "C(\\textbf{x}) = \\sum_{i,j = 0}^{n-1} w_{ij} x_i (1-x_j)\n",
        "$$\n",
        "\n",
        "Si los vértices $i$ y $j$ están en el mismo conjunto: $x_i = x_j \\Rightarrow x_i (1-x_j) = 0$.\n",
        "\n",
        "Si los vértices $i$ y $j$ están en diferentes conjunto: $x_i \\ne x_j \\Rightarrow x_i (1-x_j) = 1$ ó $x_j (1-x_i) = 1$.\n",
        "\n",
        "Así, $C(\\textbf{x})$ es la suma de los pesos de las aristas que separan ambos conjuntos."
      ]
    },
    {
      "cell_type": "markdown",
      "id": "8447c54d",
      "metadata": {
        "id": "8447c54d"
      },
      "source": [
        "### Modelo Ising\n",
        "\n",
        "El algoritmo MAX-CUT se puede expresar como un problema de minimización equivalente al anterior:\n",
        "\n",
        "\\begin{align*}\n",
        "\\mathrm{Minimiza}\\quad & C(\\textbf{z}) = \\sum_{(i,j) \\in E} w_{ij} z_i z_j \\\\\n",
        "\\mathrm{con}\\quad & z_i = \\{-1,1\\}, i = 0\\ldots n-1\n",
        "\\end{align*}\n",
        "\n",
        "Esta formulación puede verse como un caso particular de un problema de física estadística denominado [_modelo Ising_](https://en.wikipedia.org/wiki/Ising_model) que estudia el comportamiento de materiales ferromagnéticos.\n",
        "\n",
        "Este modelo parte de una malla de $n$ partículas y busca minimizar la siguiente función:\n",
        "\n",
        "$$H(\\textbf{z}) = -\\sum_{i,j = 0,i<j}^{n-1} J_{ij}z_iz_j -\\sum_{i = 0}^{n-1} h_i z_i$$\n",
        "\n",
        "donde $z_i = \\{-1,1\\}$ representa el espín de la partícula $i$, $J_{ij}$ la energía de interacción entre dos partículas y $h_i$ la influencia de un campo magnético externo.\n",
        "\n",
        "$H(\\textbf{z})$ se denomina **función Hamiltoniana** y representa la energía del sistema. Resolver el problema permite obtener la configuración de espines correspondiente a un estado de mínima energía (o estado base).\n",
        "\n",
        "**Ejemplo**:\n",
        "\n",
        "<center><img src=\"https://drive.google.com/uc?export=view&id=17aVy149zEGw2L8efKnDpthUo9hstOsBK\" alt=\"Malla Ising\" width=\"500\"  /></center>\n",
        "\n",
        "En esta malla, suponiendo que $h_i=1, \\forall{i}$, el Hamiltoniano resulta:\n",
        "\n",
        "$$\n",
        "H(\\textbf{z}) = z_0z_1-3z_1z_2+z_2z_3-2z_0z_4+z_1z_5-3z_2z_6-2z_3z_7\\\\\n",
        "+z_4z_5+z_5z_6+z_6z_7+z_4z_8-3z_5z_9+z_6z_{10}-z_7z_{11}\\\\\n",
        "+z_8z_9-2z_9z_{10}+2z_{10}z_{11}-z_0-z_1-z_2-z_3-z_4-z_5\\\\\n",
        "-z_6-z_7-z_8-z_9-z_{10}-z_{11}\n",
        "$$\n",
        "\n",
        "con $z_i = \\{-1,1\\}, \\forall i$\n",
        "\n",
        "Es posible demostrar que cualquier problema QUBO puede expresarse como un modelo Ising de forma simple. La configuración de espínes $\\textbf{z}$ que minimize $H(\\textbf{z})$ será la solución del problema QUBO.\n",
        "\n",
        "Resolver este modelo es la base de la **computación cuántica adiabática** y de algoritmos como el QAOA.\n",
        "\n",
        "Adicionalmente, es posible demostrar que es posible transformar muchos problemas de optimización combinatoria con restricciones a un problema QUBO.\n",
        "\n"
      ]
    },
    {
      "cell_type": "markdown",
      "id": "c867c62a",
      "metadata": {
        "id": "c867c62a"
      },
      "source": [
        "### Ejemplo: MAX-CUT como problema Ising\n",
        "\n",
        "Veamos un caso muy simple de algoritmo MAX-CUT con el siguiente grafo de 3 nodos sin pesos:\n",
        "\n",
        "<center><img src=\"https://drive.google.com/uc?export=view&id=1FicH0ZeqsAhjOqOSfJq_MDYaW6ASTjBs\" alt=\"Grafo simple\" width=\"150\"  /></center>\n",
        "\n",
        "En este caso, el problema se reduce al siguiente:\n",
        "\n",
        "\\begin{align*}\n",
        "\\text{Minimiza}\\quad & z_0 z_1 + z_0z_2 \\\\\n",
        "\\text{con}\\quad & z_i = \\{-1,1\\}, i = 0,1,2\n",
        "\\end{align*}\n",
        "\n",
        "Supongamos un sistema de 3 cúbits en un estado base $|x\\rangle = |x_2x_1x_0\\rangle \\in \\{000,001,\\ldots,111\\}$. Podemos usar cada uno de estos estados para representar un *corte* en el grafo.\n",
        "\n",
        "Además, para la puerta $Z$ se verifica que valores esperados en los estados $|0\\rangle$ y $|1\\rangle$ son::\n",
        "\n",
        "$$\n",
        "\\begin{aligned}\n",
        "\\langle 0|Z|0\\rangle &= \\begin{bmatrix}1 & 0\\end{bmatrix}\\begin{bmatrix}1 & 0\\\\0 & -1\\end{bmatrix}\\begin{bmatrix}1 \\\\ 0\\end{bmatrix} = 1\\\\\n",
        "\\langle 1|Z|1\\rangle &= \\begin{bmatrix}0 & 1\\end{bmatrix}\\begin{bmatrix}1 & 0\\\\0 & -1\\end{bmatrix}\\begin{bmatrix}0 \\\\ 1\\end{bmatrix} = -1\n",
        "\\end{aligned}\n",
        "$$\n",
        "\n",
        "por lo que podemos usar esos valores para representar las $z_i$.\n",
        "\n",
        "Para una arista $(j,k)\\in E$ del grafo vamos a denotar $Z_jZ_k$ como la aplicación de una puerta $Z$ a los cúbits $j$ y $k$, aplicando la identidad al resto. Así, para la arista $(1,0)$:\n",
        "\n",
        "$$Z_1Z_0 = I\\otimes Z\\otimes Z$$\n",
        "\n",
        "Dado un estado base $|x\\rangle = |x_2x_1x_0\\rangle$ tenemos:\n",
        "\n",
        "$$\n",
        "\\langle x|Z_1Z_0|x\\rangle = \\langle x_2x_1x_0|I\\otimes Z\\otimes Z|x_2x_1x_0\\rangle =\n",
        "\\langle x_2|I|x_2\\rangle\\langle x_1|Z|x_1\\rangle\\langle x_0|Z|x_0\\rangle = \\langle x_1|Z|x_1\\rangle\\langle x_0|Z|x_0\\rangle\n",
        "$$\n",
        "\n",
        "Y como los $x_i \\in \\{0,1\\}$, dados los valores esperados de $Z$ podemos escribir:\n",
        "\n",
        "\\begin{gather*}\n",
        "\\langle x|Z_1Z_0|x\\rangle =     \n",
        "\\begin{cases}\n",
        "  1 & \\text{sí }x_1=x_0 \\text{ (vértices 1 y 0 en el mismo conjunto)}\\\\    \n",
        "  -1 & \\text{sí }x_1\\ne x_0 \\text{ (vértices 1 y 0 en diferentes conjunto)}\n",
        "\\end{cases}\n",
        "\\end{gather*}\n",
        "\n",
        "Considerando las dos aristas del grafo, la solución al problema es el estado $|x\\rangle$ que minimize:\n",
        "\n",
        "$$\\langle x|Z_1Z_0|x\\rangle+\\langle x|Z_2Z_0|x\\rangle = \\langle x|Z_1Z_0+Z_2Z_0|x\\rangle = \\langle x|\\sum_{(j,k)\\in E}Z_jZ_k|x\\rangle$$\n",
        "\n",
        "El operador $H = Z_1Z_0+Z_2Z_0$ para el que obtenemos el valor estimado se denomina **Hamiltoniano** del problema. Para resolver el MAX-CUT tenemos que buscar el estado de la base $|x\\rangle$ que minimize el valor esperado de ese operador.\n",
        "\n",
        "#### Ejemplo:\n",
        "\n",
        "Corte $\\{010\\}$:\n",
        "\n",
        "$$\n",
        "\\langle 010|Z_1Z_0|010\\rangle+\\langle 010|Z_2Z_0|010\\rangle = \\langle 1|Z_1|1\\rangle\\langle 0|Z_0|0\\rangle +\n",
        " \\langle 0|Z_2|0\\rangle\\langle 0|Z_0|0\\rangle = -1 + 1 = 0\n",
        "$$\n",
        "\n",
        "Corte $\\{110\\}$:\n",
        "\n",
        "$$\n",
        "\\langle 110|Z_1Z_0|110\\rangle+\\langle 110|Z_2Z_0|110\\rangle = \\langle 1|Z_1|1\\rangle\\langle 0|Z_0|0\\rangle +\n",
        " \\langle 1|Z_2|1\\rangle\\langle 0|Z_0|0\\rangle = -1 - 1 = -2\n",
        "$$\n",
        "\n",
        "Este segundo corte es la solución del problema."
      ]
    },
    {
      "cell_type": "markdown",
      "source": [
        "#### Obtención del valor esperado en Qiskit\n",
        "\n",
        "Obten el valor estimado del operador $Z_1Z_0+Z_2Z_0$ para todos los estados de la base canónica de 3 cúbits.\n",
        "\n"
      ],
      "metadata": {
        "id": "ckrn1YIQOqH2"
      },
      "id": "ckrn1YIQOqH2"
    },
    {
      "cell_type": "code",
      "source": [
        "from qiskit.quantum_info import Pauli, SparsePauliOp\n",
        "\n",
        "n = 3\n",
        "\n",
        "# Definimos el operador hamiltoniano\n",
        "Z1Z0 = Pauli('IZZ')\n",
        "Z2Z0 = Pauli('ZIZ')\n",
        "\n",
        "operador = SparsePauliOp(Z1Z0)+SparsePauliOp(Z2Z0)\n",
        "\n",
        "# Otra forma (los 1s son los coeficientes)\n",
        "# operador = SparsePauliOp.from_list([('IZZ',1), ('ZIZ',1)])\n",
        "\n",
        "print(operador)"
      ],
      "metadata": {
        "id": "K7JzzT0SPJmY"
      },
      "id": "K7JzzT0SPJmY",
      "execution_count": null,
      "outputs": []
    },
    {
      "cell_type": "code",
      "source": [
        "from qiskit.quantum_info import Statevector\n",
        "\n",
        "# Creamos una lista con todos los estados base para n cúbits\n",
        "\n",
        "estados = [Statevector.from_int(i, dims=2**n) for i in range(2**n)]\n",
        "\n",
        "for i in range(2**n):\n",
        "  print('Estado ',i, 'valor esperado=',estados[i].expectation_value(operador).real)"
      ],
      "metadata": {
        "id": "GN6A7lksVVkQ"
      },
      "id": "GN6A7lksVVkQ",
      "execution_count": null,
      "outputs": []
    },
    {
      "cell_type": "markdown",
      "id": "9585632d",
      "metadata": {
        "id": "9585632d"
      },
      "source": [
        "#### Generalización del MAX-CUT\n",
        "\n",
        "Es fácil generalizar el problema del MAX-CUT con n nodos a encontrar el estado $|\\psi\\rangle$ de n cúbits que minimize:\n",
        "\n",
        "$$\n",
        "\\langle \\psi|\\sum_{(j,k)\\in E}Z_jZ_k|\\psi\\rangle\n",
        "$$\n",
        "\n",
        "\n",
        "La expresión $\\langle \\psi|\\sum_{(j,k)\\in E}Z_jZ_k|\\psi\\rangle = \\sum_{(j,k)\\in E} \\langle \\psi|Z_jZ_k|\\psi\\rangle$ es el valor esperado del operador $\\sum_{(j,k)\\in E}Z_jZ_k$ en el estado $|\\psi\\rangle$.\n",
        "\n",
        "El hamiltoniano $H = \\sum_{i,j=0}^{n-1}Z_iZ_j$ es hermitiano ($H = H^\\dagger$).\n",
        "\n",
        "#### Problema Ising general\n",
        "\n",
        "En el caso más general de un problema Ising, este se puede expresar como:\n",
        "\n",
        "\\begin{align*}\n",
        "\\qquad\\underset{|\\psi\\rangle}{\\text{Minimizar}}\\quad & -\\sum_{i,j=0}^{n-1} J_{ij}\\langle \\psi|Z_iZ_j|\\psi\\rangle - \\sum_{i=0}^{n-1} h_{i}\\langle \\psi|Z_i|\\psi\\rangle \\\\\n",
        "\\text{siendo}\\quad & |\\psi\\rangle \\text{ un estado cuántico de n cubits}\n",
        "\\end{align*}\n",
        "\n",
        "\n",
        "\n",
        "Resolver el problema Ising implica entonces encontrar el estado cuántico correspondiente al mínimo de ese Hamiltoniano. Ese estado se denomina estado-base o **ground-state**.\n",
        "\n",
        "#### Resumen\n",
        "\n",
        "Pasos para resolver en un computador cuántico un problema de optimización:\n",
        "\n",
        "1. Expresar el problema usando el formalismo QUBO\n",
        "2. Convertir en problema QUBO en un problema Ising\n",
        "3. Resolver el problema Ising usando computación cuántica adiabática o el algoritmo QAOA\n"
      ]
    },
    {
      "cell_type": "markdown",
      "source": [
        "\n",
        "\n",
        "---\n",
        "\n",
        "\n",
        "\n",
        "---\n",
        "\n",
        "\n",
        "\n",
        "---\n",
        "\n"
      ],
      "metadata": {
        "id": "ijmnnCY-QO-N"
      },
      "id": "ijmnnCY-QO-N"
    },
    {
      "cell_type": "markdown",
      "id": "534e725f",
      "metadata": {
        "id": "534e725f"
      },
      "source": [
        "<a name=\"adiabatica\"></a>\n",
        "# **Computación cuántica adiabática y Quantum Annealing**\n",
        "\n",
        "## Computación cuántica adiabática\n",
        "\n",
        "Forma alternativa de computación cuántica basada en la evolución temporal de un Hamiltoniano y en el [teorema adiabático](https://en.wikipedia.org/wiki/Adiabatic_theorem)\n",
        "\n",
        "#### Ecuación de Schrödinger\n",
        "\n",
        "La evolución temporal de un sistema cuántico viene dada por la ecuación de Schrödinger:\n",
        "\n",
        "$$i\\hbar \\frac{\\partial}{\\partial t}|\\psi(t)\\rangle = H(t)|\\psi(t)\\rangle$$\n",
        "\n",
        "$H(t)$ es el Hamiltoniano del sistema en el instante $t$ y define la energía del mismo.\n",
        "\n",
        "#### Teorema adiabático\n",
        "Si un sistema cuántico está en un estado base (estado de menor energía o _ground state_) de un Hamiltoniano inicial y se le hace evolucionar muy lentamente hacia un Hamiltoniano final, este estado inicial evolucionará al estado base del Hamiltoniano final, tras un tiempo suficientemente largo.\n",
        "\n",
        "Supongamos que tenemos un Hamiltoniano $H_c$ (_Hamiltoniano de coste_) cuyo estado base codifica la solución de nuestro problema.\n",
        "\n",
        "Partimos de un Hamiltoniano $H_0$ cuyo estado base es facil de preparar y queremos llegar, en un tiempo $T$, al estado base de $H_c$. Hacemos evolucionar el sistema desde $t=0$ hasta $t=T$ como sigue:\n",
        "\n",
        "$$H(t) = A(t)H_0 + B(t)H_c$$\n",
        "\n",
        "donde las funciones $A$ y $B$ verifican: $A(0) = B(T) = 1$ y $A(T) = B(0) = 0$.\n",
        "\n",
        "Un ejemplo de estas funciones son\n",
        "\n",
        "$$\n",
        "A(t) =  \\left(1-\\frac{t}{T}\\right)\\\\\n",
        "B(t) = \\frac{t}{T}\n",
        "$$\n",
        "\n",
        "\n",
        "Si $t$ cambia muy lentamente, el sistema pasa de $H(0) = H_0$ a $H(T) = H_c$ manteniéndose en el estado base.\n",
        "\n",
        "Midiendo el estado del sistema en $t=T$ obtenemos el estado $|\\psi\\rangle$ que minimiza $\\langle\\psi|H_c|\\psi\\rangle$ y que es la solución del problema.\n",
        "\n",
        "En [Aharonov et al. 2007](https://doi.org/10.1137/080734479) se demostró que la computación cuántica adiabática es equivalente a la computación cuántica basada en puertas.\n",
        "\n",
        "#### Tiempo de evolución\n",
        "\n",
        "El teorema adiabático establece que para que $H(t)$ se mantenga en el estado base, $T$ tiene que ser inversamente proporcional al cuadrado del *spectral gap* (minima diferencia de energía entre el estado base y el primer estado excitado de $H(t)$ con $t\\in[0,T]$).\n",
        "\n",
        "Encontrar el valor del *spectral gap* es muy complejo. Además, $T$ podría llegar a ser muy grande. El *Quantum annealing* es una implementación práctica de la computación cuántica adiabática.\n",
        "\n",
        "\n",
        "### Quantum annealing\n",
        "\n",
        "Es un modelo similar a la computación cuántica adiabática, con ciertas limitaciones:\n",
        "\n",
        "- El Hamiltoniano final tiene que ser un Hamiltoniano Ising:  \n",
        "\n",
        "$$\n",
        "H_c = -\\sum_{i,j=0}^{n-1} J_{ij}Z_iZ_j - \\sum_{i=0}^{n-1} h_{i}Z_i\n",
        "$$\n",
        "\n",
        "- No se mantiene la evolución adiabática $\\implies$ el estado final podría no ser el estado base de $H_c$\n",
        "\n",
        "**Estado inicial $H_0$**\n",
        "\n",
        "Se suele usar como estado inicial el siguiente:\n",
        "\n",
        "$$\n",
        "H_0 = -\\sum_{i=0}^{n-1} X_i\n",
        "$$\n",
        "\n",
        "Este estado se denomina _mixing Hamiltonian_ y su estado base es $|\\psi_0\\rangle = |+\\rangle^{\\otimes n}$\n",
        "\n",
        "**Evolución del Hamiltoniano**\n",
        "\n",
        "La evolución viene dada por:\n",
        "\n",
        "$$\n",
        "H(t) = A(t)H_0 + B(t)H_c = -A(t)\\sum_{i=0}^{n-1} X_i - B(t)\\sum_{i,j=0}^{n-1} J_{ij}Z_iZ_j - B(t)\\sum_{i=0}^{n-1} h_{i}Z_i\n",
        "$$\n",
        "\n",
        "\n",
        "#### Quantum annealers\n",
        "Computadores cuánticos que resuelven problemas de optimización mediante Quantum annealing.\n",
        "\n",
        "- [D-Wave Systems](https://www.dwavesys.com/): Primera empresa en vender quantum annealers\n",
        "  - El último modelo dispone de más de 7000 cúbits\n",
        "  - Suite [Ocean](https://docs.ocean.dwavesys.com/en/latest/)\n",
        "  - Tipo de problemas: optimización de portfolios, optimización de rutas y gestión de flotas, optimización de líneas de producción, búsqueda de similaridad entre moléculas, etc.\n",
        "\n",
        "\n"
      ]
    },
    {
      "cell_type": "code",
      "source": [
        "!pip install dwave-neal dimod"
      ],
      "metadata": {
        "id": "_8o7ueSP4yZ8"
      },
      "id": "_8o7ueSP4yZ8",
      "execution_count": null,
      "outputs": []
    },
    {
      "cell_type": "code",
      "source": [
        "# dimod: biblioteca base de D-Wave Ocean para representar\n",
        "# y resolver problemas combinatorios binarios cuadráticos\n",
        "from dimod import BinaryQuadraticModel, SPIN\n",
        "J = {(0,1):1, (0,2):1}\n",
        "h = {}\n",
        "\n",
        "# Expresamos el grafo simple como un modelo binario cuadrático\n",
        "# SPIN: las variables toman valores {-1,1}\n",
        "problem = BinaryQuadraticModel(h, J, 0.0, SPIN)\n",
        "print(\"The problem we are going to solve is:\")\n",
        "print(problem)"
      ],
      "metadata": {
        "id": "OccQihye5GoP"
      },
      "id": "OccQihye5GoP",
      "execution_count": null,
      "outputs": []
    },
    {
      "cell_type": "code",
      "source": [
        "# neal: simulador de annealing de DWave\n",
        "from neal import SimulatedAnnealingSampler\n",
        "\n",
        "# Usamos un simulador clásico en vez del D-WaveSampler\n",
        "sampler = SimulatedAnnealingSampler()\n",
        "\n",
        "# Ejecutamos la muestra con 10 repeticiones\n",
        "result = sampler.sample(problem, num_reads=10)\n",
        "\n",
        "print(\"\\nThe solutions that we have obtained are:\")\n",
        "print(result)\n"
      ],
      "metadata": {
        "id": "i0bhL0FT5j2x"
      },
      "id": "i0bhL0FT5j2x",
      "execution_count": null,
      "outputs": []
    },
    {
      "cell_type": "code",
      "source": [
        "# Uso en un sistemna Dwave\n",
        "# 1. Instalar el SDK de Ocean con pip install dwave-ocean-sdk\n",
        "# 2. Registrarse en Leap (https://cloud.dwavesys.com/leap/) y obtener una clave API\n",
        "# 3. Usar \"dwave config create\" para añadir la clave a nuestra configuración\n",
        "#\n",
        "# Código adaptado\n",
        "#from dwave.system import DWaveSampler\n",
        "#from dwave.system import EmbeddingComposite\n",
        "#sampler = EmbeddingComposite(DWaveSampler())\n",
        "#result = sampler.sample(problem, num_reads=10)\n",
        "#print(\"The solutions that we have obtained are\")\n",
        "#print(result)"
      ],
      "metadata": {
        "id": "kW15PjPoC1Z9"
      },
      "id": "kW15PjPoC1Z9",
      "execution_count": null,
      "outputs": []
    },
    {
      "cell_type": "markdown",
      "source": [
        "## Discretización de la evolución adiabática (*Trotterization*)\n",
        "\n",
        "Podemos replicar la evolución adiabática en un computador cuántico basado en puertas discretizando la evolución continua del Hamiltoniano.\n",
        "\n",
        "La evolución temporal de un sistema viene dada por la ecuación de Schrödinger:\n",
        "\n",
        "$$i\\hbar \\frac{d}{dt}|\\psi(t)\\rangle = H(t)|\\psi(t)\\rangle$$\n",
        "\n",
        "En general, $H(t)$ depende del tiempo. Pero en un intervalo temporal $[t_i, t_i+\\Delta t]$ suficientemente pequeño, podemos considerar $H(t_i)$ constante, verificándose que:\n",
        "\n",
        "$$|\\psi(t_i+\\Delta t)\\rangle = e^{-iH(t_i)\\Delta t}|\\psi(t_i)\\rangle = U_i|\\psi(t_i)\\rangle$$\n",
        "\n",
        "siendo $U_i = e^{-iH(t_i)\\Delta t}$ una matriz unitaria.\n",
        "\n",
        "\n",
        "\n",
        "Si discretizamos la evolución en $p = \\frac{T}{\\Delta t}$ pasos, podemos escribir:\n",
        "\n",
        "$$\n",
        "|\\psi(t_1)\\rangle = U_0|\\psi(t_0)\\rangle \\\\\n",
        "|\\psi(t_2)\\rangle = U_1|\\psi(t_1)\\rangle \\\\\n",
        "\\cdots \\\\\n",
        "|\\psi(t_{p})\\rangle = U_{p-1}|\\psi(t_{p-1})\\rangle\n",
        "$$\n",
        "\n",
        "\n",
        "De esta forma, el estado final del sistema será:\n",
        "\n",
        "$$\n",
        "|\\psi(t_{p})\\rangle = U_{p-1}U_{p-2}\\cdots U_{1}U_{0}|\\psi(t_0)\\rangle = \\left(\\prod_{m=p-1}^{0} U_m\\right) |\\psi(t_0)\\rangle =\n",
        "$$\n",
        "\n",
        "El Hamiltoniano usado en computación adiabática es:\n",
        "\n",
        "$$H(t) = A(t)H_0 + B(t)H_c$$\n",
        "\n",
        "por lo que resulta:\n",
        "\n",
        "$$\n",
        "|\\psi(T)\\rangle = \\left(\\prod_{m=0}^{p-1} e^{i\\Delta t(A'(t_m)H_0 + B'(t_m)H_c)}\\right) |\\psi(0)\\rangle\n",
        "$$\n",
        "\n",
        "donde $A'(t_m) = -A(t_{p-1-m})$, $B'(t_m) = -B(t_{p-1-m})$, $|\\psi(T)\\rangle = |\\psi(t_{p})\\rangle$ y $|\\psi(0)\\rangle = |\\psi(t_{0})\\rangle$\n",
        "\n",
        "En general, dadas dos matrices $A$ y $B$, la igualdad $e^{A+B} = e^Ae^B$ solo se da si $A$ y $B$ _conmutan_, es decir si $[A,B] = AB-BA = 0$.\n",
        "\n",
        "Si $\\Delta t$ es lo suficientemente pequeño, la formula de Lie-Trotter permite escribir:\n",
        "\n",
        "$$\n",
        "e^{i\\Delta t(A'(t_m)H_0 + B'(t_m)H_c)} \\approx e^{i\\Delta tA'(t_m)H_0} e^{i\\Delta tB'(t_m)H_c}\n",
        "$$\n",
        "\n",
        "Por lo tanto, el estado final del sistema se puede escribir:\n",
        "\n",
        "$$\n",
        "|\\psi_f\\rangle = |\\psi(T)\\rangle = \\left(\\prod_{m=0}^{p-1} e^{i\\Delta tA'(t_m)H_0} e^{i\\Delta tB'(t_m)H_c}\\right) |\\psi(0)\\rangle =\n",
        "\\prod_{m=0}^{p-1} U_0(t_m)U_c(t_m)|\\psi_0\\rangle\n",
        "$$\n",
        "\n",
        "siendo las matrices unitarias:\n",
        "\n",
        "$$\n",
        "U_0(t_m) = e^{i\\Delta tA'(t_m)H_0}\\\\\n",
        "U_c(t_m) = e^{i\\Delta tB'(t_m)H_c}\n",
        "$$\n",
        "\n",
        "Este procedimiento se denomina _trotterization_ y es la base de algoritmos como el QAOA.\n"
      ],
      "metadata": {
        "id": "ReeKXTCYAs_8"
      },
      "id": "ReeKXTCYAs_8"
    },
    {
      "cell_type": "markdown",
      "source": [
        "\n",
        "\n",
        "---\n",
        "\n",
        "\n",
        "\n",
        "---\n",
        "\n",
        "\n",
        "\n",
        "---\n",
        "\n"
      ],
      "metadata": {
        "id": "lQyCnyX0R853"
      },
      "id": "lQyCnyX0R853"
    },
    {
      "cell_type": "markdown",
      "id": "sixth-speaker",
      "metadata": {
        "id": "sixth-speaker"
      },
      "source": [
        "<a name=\"hibrida\"></a>\n",
        "# **Algoritmos cuánticos híbridos y circuitos parametrizados**\n",
        "\n",
        "Problema de los computadores cuánticos actuales: el ruído destruye la superposición de estado.\n",
        "\n",
        "No es posible resolver un problema complejo (profundo) en un sistema actual: por ejemplo, la factorización de Shor podría necesitar millones de cúbits para corrección de errores.\n",
        "\n",
        "Computadores actuales: _Noisy intermediate-scale quantum_ (NISQ)\n",
        "\n",
        "Podemos pensar en dividir un problema complejo en partes más simples, y utilizar CPUs tradicionales en el proceso de optimización:\n",
        "\n",
        "<center><img src=\"https://drive.google.com/uc?export=view&id=1WgpYw-cCkpuNZE2AOnPL4b3kIt9A_kU2\" alt=\"Algoritmo híbrido\" width=\"700\"  /></center>\n",
        "\n",
        "Esta estrategia también se denomina _Computación variacional_.\n",
        "\n",
        "Se basa en usar un circuito cuántico que incluye parámetros que se van optimizando. Este circuitos se  denomina *ansatz*, _forma (o circuito) variacional_ o, simplemente, circuito cuántico parametrizado."
      ]
    },
    {
      "cell_type": "markdown",
      "id": "cardiac-distribution",
      "metadata": {
        "id": "cardiac-distribution"
      },
      "source": [
        "### Circuitos parametrizados en Qiskit\n",
        "\n",
        "Qiskit incluye métodos para facilitar la creación de circuitos parametrizados."
      ]
    },
    {
      "cell_type": "code",
      "execution_count": null,
      "id": "cutting-folder",
      "metadata": {
        "id": "cutting-folder"
      },
      "outputs": [],
      "source": [
        "from qiskit.circuit import Parameter, ParameterVector\n",
        "\n",
        "#Se crean los parámetros usando un string como identificador (no se les asignan ningún valor)\n",
        "parameter_0 = Parameter('θ')\n",
        "parameter_1 = Parameter('β')\n",
        "circuit = QuantumCircuit(1)\n",
        "\n",
        "#Podemos ahora usar los parámetros como ángulos de rotación en una puerta\n",
        "circuit.ry(theta = parameter_0, qubit = 0)\n",
        "circuit.rx(theta = parameter_1, qubit = 0)\n",
        "\n",
        "circuit.draw('mpl')"
      ]
    },
    {
      "cell_type": "markdown",
      "id": "dedicated-division",
      "metadata": {
        "id": "dedicated-division"
      },
      "source": [
        "Es posible definir vectores de parámetros"
      ]
    },
    {
      "cell_type": "code",
      "execution_count": null,
      "id": "removed-client",
      "metadata": {
        "id": "removed-client"
      },
      "outputs": [],
      "source": [
        "# Numero de cubits y de parametros\n",
        "n = 2\n",
        "num_par = 2*n\n",
        "\n",
        "# ParameterVectors se inicializan con un identificador y un entero que indica la longitud del string\n",
        "parameters = ParameterVector('θ', num_par)\n",
        "\n",
        "circuit = QuantumCircuit(n)\n",
        "\n",
        "for i in range(n):\n",
        "    circuit.ry(parameters[i], i)\n",
        "    circuit.rx(parameters[i+n], i)\n",
        "\n",
        "circuit.draw('mpl')"
      ]
    },
    {
      "cell_type": "markdown",
      "id": "recovered-shell",
      "metadata": {
        "id": "recovered-shell"
      },
      "source": [
        "Finalmente, se dan valores a los parámetros."
      ]
    },
    {
      "cell_type": "code",
      "execution_count": null,
      "id": "accredited-hypothetical",
      "metadata": {
        "id": "accredited-hypothetical"
      },
      "outputs": [],
      "source": [
        "# Creamos un diccionario que asigna a cada parámetro un valor aleatorio\n",
        "param_dict = {p: np.random.random() for p in parameters}\n",
        "print(param_dict)\n",
        "\n",
        "# El método assign_parameters permite ligar los valores al circuito\n",
        "circuit_v = circuit.assign_parameters(parameters = param_dict)\n",
        "circuit_v.draw('mpl')"
      ]
    },
    {
      "cell_type": "markdown",
      "id": "animated-happiness",
      "metadata": {
        "id": "animated-happiness"
      },
      "source": [
        "-------------------"
      ]
    },
    {
      "cell_type": "markdown",
      "id": "alike-jewelry",
      "metadata": {
        "id": "alike-jewelry"
      },
      "source": [
        "## Ejercicio 5.1\n",
        "\n",
        "Crea el siguiente circuito parametrizado, que alterna capas de rotaciones $R_y$ con CNOTS. Esta forma variacional se denomina [RealAmplitudes](https://qiskit.org/documentation/stubs/qiskit.circuit.library.RealAmplitudes.html) y se usa en química computacional y en problemas de clasificación en quantum machine learning.\n",
        "\n",
        "<center><img src=\"https://drive.google.com/uc?export=view&id=1HKVx-jEzWhNPH-VNEpzATRyv0xG0fFfZ\" alt=\"Ansatz Real Amplitudes\" width=\"700\"  /></center>\n"
      ]
    },
    {
      "cell_type": "code",
      "execution_count": null,
      "id": "comparable-receiver",
      "metadata": {
        "id": "comparable-receiver"
      },
      "outputs": [],
      "source": [
        "from qiskit.circuit import Parameter, ParameterVector\n",
        "\n",
        "# Número de cubits y capas Ry+CNOT (no cuenta la capa Ry final)\n",
        "n = 4\n",
        "num_layers = 2\n",
        "\n",
        "# Crea el vector de parámetros\n",
        "parameters = ParameterVector('t', n*(num_layers+1))\n",
        "\n",
        "# Crea el circuito\n",
        "circuit = QuantumCircuit(n)\n",
        "\n",
        "# Crea las capas Ry+CNOT\n",
        "for layer in range(num_layers):\n",
        "    #\n",
        "    # TODO: Añade las puertas Ry parametrizadas usando el vector de parámetros para obtener el estado 𝜓0\n",
        "    #\n",
        "    for i in range(n):\n",
        "      circuit.ry(parameters[i+layer*n],i)\n",
        "\n",
        "\n",
        "    # Barrera para visualización\n",
        "    circuit.barrier()\n",
        "\n",
        "    #\n",
        "    # TODO: Añade las puertas CNOT\n",
        "    #\n",
        "    for i in range(n-1,0,-1):\n",
        "      circuit.cx(i-1,i)\n",
        "\n",
        "\n",
        "    # Barrera para visualización\n",
        "    circuit.barrier()\n",
        "\n",
        "#\n",
        "# TODO: Añade la capa Ry final\n",
        "#\n",
        "for i in range(n):\n",
        "  circuit.ry(parameters[i+(layer+1)*n],i)\n",
        "\n",
        "circuit.draw('mpl')"
      ]
    },
    {
      "cell_type": "code",
      "execution_count": null,
      "id": "graduate-texas",
      "metadata": {
        "id": "graduate-texas"
      },
      "outputs": [],
      "source": [
        "# Este circuito está implementado en la librería de Qiskit\n",
        "from qiskit.circuit.library import RealAmplitudes\n",
        "n = 4\n",
        "num_layers = 2\n",
        "ansatz = RealAmplitudes(n, reps=num_layers, insert_barriers=True)\n",
        "ansatz.decompose().draw('mpl')"
      ]
    },
    {
      "cell_type": "markdown",
      "source": [
        "\n",
        "\n",
        "---\n",
        "\n",
        "\n",
        "\n",
        "---\n",
        "\n",
        "\n",
        "\n",
        "---\n",
        "\n"
      ],
      "metadata": {
        "id": "mC8k9ZtsSQ3Q"
      },
      "id": "mC8k9ZtsSQ3Q"
    },
    {
      "cell_type": "markdown",
      "id": "color-painting",
      "metadata": {
        "id": "color-painting"
      },
      "source": [
        "<a name=\"qaoa\"></a>\n",
        "# **Quantum Approximate Optimization Algorithm (QAOA)**\n",
        "\n",
        "Algoritmo híbrido basado en la discretización de la evolución adiabática para resolver problemas Ising.\n",
        "\n",
        "Como ya hemos visto, el estado final del sistema despues de la evolución es:\n",
        "\n",
        "$$\n",
        "|\\psi_f\\rangle = |\\psi(T)\\rangle = \\left(\\prod_{m=0}^{p-1} e^{i\\Delta tA'(t_m)H_0} e^{i\\Delta tB'(t_m)H_c}\\right) |\\psi(0)\\rangle =\n",
        "\\prod_{m=0}^{p-1} U_0(t_m)U_c(t_m)|\\psi_0\\rangle\n",
        "$$\n",
        "\n",
        "siendo las matrices unitarias:\n",
        "\n",
        "$$\n",
        "U_0(t_m) = e^{i\\Delta tA'(t_m)H_0} = e^{i\\beta_mH_0} = U_0(\\beta_m)\\\\\n",
        "U_c(t_m) = e^{i\\Delta tB'(t_m)H_c} = e^{i\\gamma_mH_c} = U_c(\\gamma_m)\n",
        "$$\n",
        "con $m=0,\\ldots,p-1$ y $p \\ge 1$.\n",
        "\n",
        "QAOA intenta elegir unos valores de $\\beta_m$ y $\\gamma_m$ que aproximen el estado $|\\psi_f\\rangle$ al estado base del Hamiltoniano de coste $H_c$, es decir, que minimizen $\\langle\\psi_f|H_c|\\psi_f\\rangle$.\n",
        "\n",
        "El algoritmo QAOA parte de un Hamiltoniano de coste $H_c$ que define el problema y procede como sigue:\n",
        "\n",
        "1. Se elige un valor de $p\\ge 1$ y dos listas de valores $\\boldsymbol{\\beta} = (\\beta_0,\\ldots,\\beta_{p-1})$ y $\\boldsymbol{\\gamma} = (\\gamma_0,\\ldots,\\gamma_{p-1})$\n",
        "1. Como $H_0$ se suele usar el _mixing Hamiltonian_ y como estado inicial se suele usar la superposición completa\n",
        "  $$H_0 = -\\sum_{i=0}^{n-1} X_i\\quad\n",
        "  |\\psi_0\\rangle = |+\\rangle^{\\otimes n}$$\n",
        "2. La QPU aplica las puertas $U_0(\\beta_m)U_c(\\gamma_m)$, $m=0,\\ldots,p-1$, y se obtiene un nuevo estado $|\\psi_p\\rangle$\n",
        "3. En la CPU se usa un algoritmo de optimización para actualizar los parámetros $\\boldsymbol{\\beta}$ y $\\boldsymbol{\\gamma}$ intentando minimizar el valor esperado $\\langle\\psi_p|H_c|\\psi_p\\rangle$\n",
        "4. Se vuelve al paso 2 hasta obtener los valores óptimos $\\boldsymbol{\\beta}^\\ast$ y $\\boldsymbol{\\gamma}^\\ast$\n",
        "5. Usando esos valores, se obtiene el estado que minimiza la solución\n",
        "\n",
        "El proceso de optimización de los parámetros puede ser un simple gradiente descendente, en el que cada parámetro se actualiza en la dirección que conduzca al mayor descenso del valor esperado, u otros método de optimización más sofisticados.\n",
        "\n",
        "### Construcción de $U_0(\\beta)$ y $U_c(\\gamma)$\n",
        "\n",
        "#### Puertas para $U_0(\\beta)$\n",
        "\n",
        "Si tenemos $n$ cúbits, y dado que las matrices $X$ conmutan tenemos:\n",
        "\n",
        "$$U_0(\\beta) = e^{i\\beta H_0} = e^{-i\\beta\\sum_{i=0}^{n-1} X_i} = \\prod_{i=0}^{n-1}e^{-i\\beta X_i}$$\n",
        "\n",
        "Y recordando que la puerta de rotación $R_x(\\theta) = e^{-i\\theta X/2}$, se tiene:\n",
        "\n",
        "$$U_0(\\beta) = \\prod_{i=0}^{n-1} R_x^{(i)}(2\\beta)$$\n",
        "\n",
        "La puerta $R_x^{(i)}$ indica que se aplica una $R_x$ al cúbit $i$ y la identidad al resto $\\implies$ el producto equivale a aplicar una puerta $R_x(2\\beta)$ a cada uno de los cúbits.\n",
        "\n",
        "#### Puertas para $U_c(\\gamma)$\n",
        "\n",
        "El Hamiltoniano de coste de un problema Ising es:\n",
        "\n",
        "\n",
        "$$H_c = -\\sum_{i,j = 0}^{n-1} J_{ij}Z_iZ_j -\\sum_{i = 0}^{n-1} h_i Z_i$$\n",
        "\n",
        "siendo $J_{ij}$ y $h_i$ números reales.\n",
        "\n",
        "Ya que las matricez $Z$ conmutan, podemos escribir\n",
        "\n",
        "$$\n",
        "U_c(\\gamma) = e^{i\\gamma H_c} = e^{-i\\gamma(\\sum_{i,j = 0}^{n-1} J_{ij}Z_iZ_j +\\sum_{i = 0}^{n-1} h_i Z_i)} =\n",
        "\\prod_{i,j = 0}^{n-1}e^{-i\\gamma J_{ij}Z_iZ_j}\\prod_{i=0}^{n-1}e^{-i\\gamma h_i Z_i}\n",
        "$$\n",
        "\n",
        "El segundo término se puede implementar con puertas $R_z(\\theta) = e^{-i\\theta Z/2}$.\n",
        "\n",
        "\n",
        "Para el primer término, $Z_iZ_j$ representa aplicar una puerta $Z$ a los cúbits $i$ y $j$ y la identidad al resto:\n",
        "\n",
        "$$\n",
        "Z_iZ_j = I\\otimes\\ldots\\otimes Z\\otimes\\ldots\\otimes Z \\otimes\\ldots I = Z_i\\otimes Z_j\n",
        "$$\n",
        "\n",
        "Y el término $e^{-i\\gamma J_{ij}Z_i\\otimes Z_j}$ corresponde a una [puerta Ising ZZ](https://qiskit.org/documentation/stubs/qiskit.circuit.library.RZZGate.html#qiskit.circuit.library.RZZGate) entre los cúbits $i$ y $j$:\n",
        "\n",
        "$$\n",
        "R_{ZZ}(\\theta) = \\exp\\left(-i\\frac{\\theta}{2}(Z\\otimes Z)\\right) =\n",
        "\\exp{\\left(-i\\frac{\\theta}{2}\\begin{bmatrix}\n",
        "1 & 0 & 0 & 0\\\\\n",
        "0 & -1 & 0 & 0\\\\\n",
        "0 & 0 & -1 & 0\\\\\n",
        "0 & 0 & 0 & 1\\\\\n",
        "\\end{bmatrix} \\right)}=\n",
        "\\begin{bmatrix}\n",
        "e^{-i\\theta/2} & 0 & 0 & 0\\\\\n",
        "0 & e^{i\\theta/2} & 0 & 0\\\\\n",
        "0 & 0 & e^{i\\theta/2} & 0\\\\\n",
        "0 & 0 & 0 & e^{-i\\theta/2}\\\\\n",
        "\\end{bmatrix}\n",
        "$$\n",
        "\n",
        "Con lo que queda:\n",
        "\n",
        "$$\n",
        "U_c(\\gamma) = \\prod_{i,j = 0}^{n-1} R_{ZZ}^{(i,j)}(2\\gamma J_{ij})\\prod_{i=0}^{n-1}R_z^{(i)}(2\\gamma h_i)\n",
        "$$\n"
      ]
    },
    {
      "cell_type": "code",
      "execution_count": null,
      "id": "ab5de61d",
      "metadata": {
        "id": "ab5de61d"
      },
      "outputs": [],
      "source": [
        "from qiskit.circuit import Parameter\n",
        "\n",
        "# Puerta ZZ en Qiskit\n",
        "theta = Parameter('θ')\n",
        "qc = QuantumCircuit(2)\n",
        "\n",
        "qc.rzz(theta, 0, 1)\n",
        "\n",
        "display(qc.draw('mpl'))\n",
        "\n",
        "display(qc.decompose().draw('mpl'))"
      ]
    },
    {
      "cell_type": "markdown",
      "id": "dd3e98b5",
      "metadata": {
        "id": "dd3e98b5"
      },
      "source": [
        "### Ejemplo\n",
        "\n",
        "Obtener el circuito QAOA para un paso ($p$=1) del Hamiltoniano Ising:\n",
        "\n",
        "$$\n",
        "H_c = 3Z_2Z_0 - Z_2Z_1 + 2Z_0\n",
        "$$\n",
        "\n",
        "Necesitamos 3 cúbits, y el estado que queremos conseguir será:\n",
        "\n",
        "$$\n",
        "U_0(\\beta)U_c(\\gamma) |+\\rangle^{\\otimes 3}\n",
        "$$\n",
        "\n",
        "Con\n",
        "\n",
        "$$\n",
        "U_0(\\beta) = \\prod_{i=0}^{2} R_x^{(i)}(2\\beta) = R_x^{(0)}(2\\beta)\\otimes R_x^{(1)}(2\\beta)\\otimes R_x^{(2)}(2\\beta)\n",
        "$$\n",
        "\n",
        "$$\n",
        "U_c(\\gamma) = \\prod_{i,j = 0}^{2} R_{ZZ}^{(i,j)}(2\\gamma J_{ij})\\prod_{i=0}^{2}R_z^{(i)}(2\\gamma h_i) = (R_{ZZ}^{(2,0)}(6\\gamma)\\otimes R_{ZZ}^{(2,1)}(-2\\gamma))(R_z^{(0)}(4\\gamma))\n",
        "$$\n",
        "\n",
        "El circuito sería:"
      ]
    },
    {
      "cell_type": "code",
      "execution_count": null,
      "id": "42175ce9",
      "metadata": {
        "id": "42175ce9"
      },
      "outputs": [],
      "source": [
        "from qiskit.circuit import Parameter\n",
        "\n",
        "n = 3\n",
        "\n",
        "beta = Parameter('β')\n",
        "gamma = Parameter('γ')\n",
        "\n",
        "qc = QuantumCircuit(n)\n",
        "\n",
        "# Estado superpuesto\n",
        "qc.h(range(3))\n",
        "\n",
        "# Puertas U_c\n",
        "qc.rzz(6*gamma, 2, 0)\n",
        "qc.rzz(-2*gamma, 2, 1)\n",
        "qc.rz(4*gamma, 0)\n",
        "\n",
        "# puertas U_0\n",
        "for i in range(3):\n",
        "    qc.rx(2*beta, i)\n",
        "\n",
        "qc.draw('mpl')"
      ]
    },
    {
      "cell_type": "markdown",
      "id": "3910f5c9",
      "metadata": {
        "id": "3910f5c9"
      },
      "source": [
        "Podemos usar la implementación de QAOA de Qiskit para obtener este mismo circuito"
      ]
    },
    {
      "cell_type": "code",
      "source": [
        "from qiskit.circuit.library import QAOAAnsatz\n",
        "from qiskit.quantum_info import SparsePauliOp\n",
        "\n",
        "# Expresamos el problema como un operador Hamiltoniano\n",
        "Hc = SparsePauliOp.from_list([(\"ZIZ\", 3), (\"ZZI\", -1), (\"IIZ\", 2)])\n",
        "\n",
        "# Creamos el ansatz QAOA\n",
        "ansatz = QAOAAnsatz(Hc, reps=1)\n",
        "\n",
        "ansatz.decompose(reps=2).draw(\"mpl\")"
      ],
      "metadata": {
        "id": "mcnO9IVFk_3j"
      },
      "id": "mcnO9IVFk_3j",
      "execution_count": null,
      "outputs": []
    },
    {
      "cell_type": "markdown",
      "source": [
        "La puerta $U_2$ es una rotación de 1 cúbit generalizada, de la forma:\n",
        "\n",
        "$$\n",
        "U_2(\\phi, \\lambda) = \\frac{1}{\\sqrt{2}}\n",
        "\\begin{pmatrix}\n",
        "1          & -e^{i\\lambda} \\\\\n",
        "e^{i\\phi} & e^{i(\\phi + \\lambda)}\n",
        "\\end{pmatrix}\n",
        "$$\n",
        "\n",
        "Así, una puerta $H$ es equivalente a:\n",
        "\n",
        "$$\n",
        "H = U_2(0, \\pi) = \\frac{1}{\\sqrt{2}}\n",
        "\\begin{pmatrix}\n",
        "1          & -e^{i\\pi} \\\\\n",
        "e^{i0} & e^{i(0 + \\pi)}\n",
        "\\end{pmatrix} =\n",
        "\\frac{1}{\\sqrt{2}}\\begin{pmatrix}\n",
        "1          & 1 \\\\\n",
        "1 & -1\n",
        "\\end{pmatrix}\n",
        "$$"
      ],
      "metadata": {
        "id": "TK0EA7UDWGXc"
      },
      "id": "TK0EA7UDWGXc"
    },
    {
      "cell_type": "markdown",
      "source": [
        "Dado este Hamiltoniano, podemos usar fuerza bruta para encontrar los valores esperados para todos los estados base:"
      ],
      "metadata": {
        "id": "9QzIr2sKasR8"
      },
      "id": "9QzIr2sKasR8"
    },
    {
      "cell_type": "code",
      "source": [
        "from qiskit.quantum_info import Statevector\n",
        "\n",
        "# Creamos una lista con todos los estados base para n cúbits\n",
        "estados = [Statevector.from_int(i, dims=2**n) for i in range(2**n)]\n",
        "\n",
        "for i in range(2**n):\n",
        "  print('Estado ',i, 'valor esperado=',estados[i].expectation_value(Hc).real)"
      ],
      "metadata": {
        "id": "GT4X50HQaK38"
      },
      "id": "GT4X50HQaK38",
      "execution_count": null,
      "outputs": []
    },
    {
      "cell_type": "markdown",
      "id": "a92dd1ad",
      "metadata": {
        "id": "a92dd1ad"
      },
      "source": [
        "Usamos la implementación de [QAOA](https://qiskit-community.github.io/qiskit-algorithms/stubs/qiskit_algorithms.QAOA.html) del paquete [qiskit_algorithms](https://qiskit-community.github.io/qiskit-algorithms/apidocs/qiskit_algorithms.html) para obtener el mínimo"
      ]
    },
    {
      "cell_type": "code",
      "source": [
        "from qiskit_algorithms import QAOA\n",
        "from qiskit_algorithms.optimizers import COBYLA\n",
        "from qiskit.primitives import Sampler\n",
        "from qiskit_algorithms.utils import algorithm_globals\n",
        "from qiskit.result import QuasiDistribution\n",
        "\n",
        "# Sampler: nueva primitiva de Qiskit que obtiene\n",
        "# muestras del circuito para estimar el valor esperado.\n",
        "sampler = Sampler()\n",
        "\n",
        "algorithm_globals.random_seed = 10598\n",
        "\n",
        "optimizer = COBYLA()\n",
        "\n",
        "qaoa = QAOA(sampler, optimizer)\n",
        "\n",
        "# Obtiene el mínimo autovalor del Hamiltoniano\n",
        "result = qaoa.compute_minimum_eigenvalue(Hc)\n",
        "\n",
        "print(result,'\\n')\n",
        "\n",
        "bistring = result.best_measurement['bitstring']\n",
        "valor = result.best_measurement['value']\n",
        "print(\"Estado que minimiza Hc = {}\".format(bistring))\n",
        "print(\"Valor esperado <{}|Hc|{}> = {}\".format(bistring,bistring,valor.real))\n",
        "\n",
        "# Nota: el warning se debe a que QAOA no está migrado a la V2 de Sampler"
      ],
      "metadata": {
        "id": "-v1CqEfdTpbr"
      },
      "id": "-v1CqEfdTpbr",
      "execution_count": null,
      "outputs": []
    },
    {
      "cell_type": "markdown",
      "id": "civilian-flavor",
      "metadata": {
        "id": "civilian-flavor"
      },
      "source": [
        "## Programas cuadráticos con restricciones cuadráticas\n",
        "\n",
        "Un programa cuadrático con restricciones cuadráticas (_Quadratically Constrained Quadratic Program_, QCQP) es un problema de optimización con una función objetivo cuadrática y restricciones cuadráticas. Se puede escribir como:\n",
        "$$\n",
        "\\begin{align}\n",
        "\\text{minimizar} &&x^T Q x + c^T x &&\\\\\n",
        "&& && \\\\\n",
        "\\text{sujeto a} &&Ax \\leq b  &&\\\\\n",
        "&& x^TQ_ix + a_i^Tx \\leq r_i \\\\\n",
        "&& l_j \\leq x_j \\leq u_j \\\\\n",
        "\\end{align}\n",
        "$$\n",
        "donde $Q \\in \\mathbb{R}^{n \\times n}$ y $c \\in \\mathbb{R}^n$ y las variables a optimizar, $x_i, i \\in \\{1, \\dots, n\\}$, pueden ser binarias, enteras o reales (en la versión actual de Qiskit, las variables continuas no están soportadas)."
      ]
    },
    {
      "cell_type": "markdown",
      "id": "flush-alpha",
      "metadata": {
        "id": "flush-alpha"
      },
      "source": [
        "**Ejemplo**\n",
        "\n",
        "Minimiza $y=10x_0+20x_1+30 x_2 +  4 x_0x_1 + 2 x_0x_2 + 6 x_1x_2 + 4 x_1^2  + 2 x_2^2$\n",
        "\n",
        "con las siguientes restricciones:\n",
        "\n",
        "  - $x_0\\in\\{0,1\\}$\n",
        "  - $x_1, x_2 \\in \\mathbb{Z}, -1\\le x_1 \\le 1, -2\\le x_2 \\le 3$\n",
        "  \n",
        "Se puede probar fácilmente que $Q$ y $c$ en este ejemplo valen:\n",
        "\n",
        "$$\n",
        "\\begin{aligned}\n",
        "Q  &= \\begin{bmatrix}0 & 1 & 2 \\\\ 3 & 4 & 5 \\\\ 0 & 1 & 2 \\end{bmatrix}\\\\[10pt]\n",
        "c^T &= \\begin{bmatrix}10&20&30\\end{bmatrix}\n",
        "\\end{aligned}\n",
        "$$"
      ]
    },
    {
      "cell_type": "code",
      "execution_count": null,
      "id": "reverse-classic",
      "metadata": {
        "id": "reverse-classic"
      },
      "outputs": [],
      "source": [
        "from qiskit_optimization import QuadraticProgram\n",
        "qprog = QuadraticProgram('Ejemplo')\n",
        "\n",
        "# Variables y restricciones\n",
        "qprog.binary_var(name = 'x_0')\n",
        "qprog.integer_var(name = 'x_1', lowerbound = -1, upperbound = 1)\n",
        "qprog.integer_var(name = 'x_2', lowerbound = -2, upperbound = 3)\n",
        "#qprog.continuous_var(name = 'x_2', lowerbound = -2.5, upperbound = 1.8)\n",
        "\n",
        "# Matriz Q y vector c\n",
        "Q = [[0,1,2],[3,4,5],[0,1,2]]\n",
        "c = [10,20,30]\n",
        "\n",
        "qprog.minimize(quadratic = Q, linear = c)\n",
        "\n",
        "print(qprog.prettyprint())"
      ]
    },
    {
      "cell_type": "markdown",
      "id": "broad-canberra",
      "metadata": {
        "id": "broad-canberra"
      },
      "source": [
        "Este problema puede ser resuelto mediante QAOA usando el método [`MinimumEigenOptimizer`](https://qiskit-community.github.io/qiskit-optimization/stubs/qiskit_optimization.algorithms.MinimumEigenOptimizer.html) que se encarga de convertir el programa cuadrático a un circuito y de realizar la optimización.\n",
        "\n",
        "A este método hay que pasarle un objeto de una clase que implemente la interfaz [`MinimumEigenSolver`](https://qiskit-community.github.io/qiskit-algorithms/stubs/qiskit_algorithms.MinimumEigensolver.html), como puede ser un objeto [`VQE`](https://qiskit-community.github.io/qiskit-algorithms/stubs/qiskit_algorithms.VQE.html) o [`QAOA`](https://qiskit-community.github.io/qiskit-algorithms/stubs/qiskit_algorithms.QAOA.html)."
      ]
    },
    {
      "cell_type": "code",
      "execution_count": null,
      "id": "aace05db",
      "metadata": {
        "id": "aace05db"
      },
      "outputs": [],
      "source": [
        "from qiskit_algorithms import QAOA\n",
        "from qiskit_algorithms.optimizers import ADAM\n",
        "from qiskit.primitives import Sampler\n",
        "from qiskit_optimization.algorithms import MinimumEigenOptimizer\n",
        "\n",
        "qaoa = QAOA(Sampler(), ADAM(), initial_point=[0.0, 0.0])\n",
        "\n",
        "# Creamos el optimizador\n",
        "eigen_optimizer = MinimumEigenOptimizer(min_eigen_solver = qaoa)\n",
        "\n",
        "# Usamos ese optimizador sobre el problema anterior\n",
        "result = eigen_optimizer.solve(qprog)\n",
        "\n",
        "print(result)"
      ]
    },
    {
      "cell_type": "markdown",
      "id": "cdb1c286",
      "metadata": {
        "id": "cdb1c286"
      },
      "source": [
        "Podemos comprobar que el resultado es correcto usando un minimizador clásico."
      ]
    },
    {
      "cell_type": "code",
      "execution_count": null,
      "id": "101fed32",
      "metadata": {
        "id": "101fed32"
      },
      "outputs": [],
      "source": [
        "from qiskit_algorithms.minimum_eigensolvers import NumPyMinimumEigensolver\n",
        "\n",
        "np_solver = NumPyMinimumEigensolver()\n",
        "np_optimizer = MinimumEigenOptimizer(min_eigen_solver = np_solver)\n",
        "\n",
        "result = np_optimizer.solve(qprog)\n",
        "print(result)"
      ]
    },
    {
      "cell_type": "markdown",
      "id": "planned-jonathan",
      "metadata": {
        "id": "planned-jonathan"
      },
      "source": [
        "### Maxcut como programa cuadrático (QUBO)\n",
        "\n",
        "Ya vimos que el MAX-CUT se puede expresar como un problema QUBO, con una función de coste:\n",
        "$$\n",
        "C(\\textbf{x}) = \\sum_{i,j = 0}^{n-1} w_{ij} x_i (1-x_j)\n",
        "$$\n",
        "siendo todas las $x_i$ variables binarias.\n",
        "\n",
        "Esta función de coste se puede reescribir como:\n",
        "\n",
        "$$\n",
        "\\begin{align}\n",
        "\\sum_{i,j=0}^{n-1} w_{ij} x_i (1-x_j) &= \\sum_{i,j=0}^{n-1} w_{ij} x_i - w_{ij}x_i x_j  \\\\\n",
        "&= \\sum_{i=0}^{n-1} \\left( \\sum_{j=0}^{n-1} w_{ij} \\right) x_i - \\sum_{i,j = 0}^{n-1} w_{ij}x_i x_j \\\\\n",
        "&= c^T x + x^T Q x, \\\\\n",
        "\\end{align}\n",
        "$$\n",
        "siendo $Q$ y $c$:\n",
        "$$\n",
        "Q_{ij} = -w_{ij} \\qquad c_i = \\sum_{j=1}^n w_{ij}.\n",
        "$$"
      ]
    },
    {
      "cell_type": "code",
      "execution_count": null,
      "id": "improved-edwards",
      "metadata": {
        "id": "improved-edwards"
      },
      "outputs": [],
      "source": [
        "import networkx as nx  # Librería para manejar grafos\n",
        "\n",
        "# Ejemplo de grafo con 6 nodos\n",
        "nnodes = 6\n",
        "G = nx.Graph()\n",
        "# Añade nodos y aristas\n",
        "G.add_nodes_from(np.arange(0,nnodes,1))\n",
        "edges = [(0,1,2.0),(0,2,3.0),(0,3,2.0),(0,4,4.0),(0,5,1.0),(1,2,4.0),(1,3,1.0),\n",
        "         (1,4,1.0),(1,5,3.0),(2,4,2.0),(2,5,3.0),(3,4,5.0),(3,5,1.0)]\n",
        "G.add_weighted_edges_from(edges)\n",
        "\n",
        "# Mostramos el grafo\n",
        "layout = nx.random_layout(G,seed=10)\n",
        "colors = ['red', 'green', 'lightblue', 'yellow', 'magenta', 'gray']\n",
        "nx.draw_networkx(G, layout, node_color=colors)\n",
        "labels = nx.get_edge_attributes(G, 'weight')\n",
        "nx.draw_networkx_edge_labels(G, pos=layout, edge_labels=labels);"
      ]
    },
    {
      "cell_type": "code",
      "source": [
        "print(\"Matriz de adyacencias del grafo\")\n",
        "print(nx.adjacency_matrix(G).toarray())"
      ],
      "metadata": {
        "id": "fs7NkskpjrB2"
      },
      "id": "fs7NkskpjrB2",
      "execution_count": null,
      "outputs": []
    },
    {
      "cell_type": "markdown",
      "source": [
        "Vamos a obtener por fuerza bruta el coste de todos los cortes."
      ],
      "metadata": {
        "id": "-kGrywObo0Dq"
      },
      "id": "-kGrywObo0Dq"
    },
    {
      "cell_type": "code",
      "execution_count": null,
      "id": "fossil-roberts",
      "metadata": {
        "id": "fossil-roberts"
      },
      "outputs": [],
      "source": [
        "# Función de coste de Maxcut\n",
        "def maxcut_coste(graph, bitstring):\n",
        "    \"\"\"\n",
        "    Computa la función de coste del Maxcut para un grafo y un corte representado por un string de bits\n",
        "    Args:\n",
        "        graph: El grafo networkx\n",
        "        bitstring: str\n",
        "                   Un string con valores 0 o 1 especificando un corte en el grafo\n",
        "    Returns:\n",
        "        coste: float\n",
        "               El coste del corte\n",
        "    \"\"\"\n",
        "    # Matriz de adyacencias del grafo\n",
        "    weight_matrix = nx.adjacency_matrix(graph).toarray()\n",
        "    coste = 0\n",
        "    for i, j in graph.edges():\n",
        "        # Si los vértices están en conjuntos distintos suma el peso de la arista\n",
        "        if bitstring[i] != bitstring[j]:\n",
        "            coste += weight_matrix[i,j]\n",
        "\n",
        "    return coste"
      ]
    },
    {
      "cell_type": "code",
      "execution_count": null,
      "id": "registered-comparative",
      "metadata": {
        "id": "registered-comparative"
      },
      "outputs": [],
      "source": [
        "# Obtenemos por fuerza bruta los valores de todos los posibles cortes\n",
        "num_vars = G.number_of_nodes()\n",
        "\n",
        "#Creamos una lista de bitstrings con todos los posibles cortes\n",
        "bitstrings = ['{:b}'.format(i).rjust(num_vars, '0') for i in range(2**num_vars)]\n",
        "print(bitstrings)\n",
        "\n",
        "costes = list()\n",
        "for bitstring in bitstrings:\n",
        "    costes.append(maxcut_coste(G, bitstring))\n",
        "print(costes)\n",
        "\n",
        "# Ordenamos los costes y los bitstrings en orden creciente de coste\n",
        "costes, bitstrings = zip(*sorted(zip(costes, bitstrings)))"
      ]
    },
    {
      "cell_type": "code",
      "source": [
        "print(\"Corte de mayor coste = \",bitstrings[len(bitstrings)-1], \", coste = \", costes[len(bitstrings)-1])\n"
      ],
      "metadata": {
        "id": "VUWwgKd0kjRU"
      },
      "id": "VUWwgKd0kjRU",
      "execution_count": null,
      "outputs": []
    },
    {
      "cell_type": "code",
      "source": [
        "import matplotlib.pyplot as plt\n",
        "import plotly.graph_objects as go\n",
        "# Muestra una gráfica con los valores\n",
        "bar_plot = go.Bar(x = bitstrings, y = costes, marker=dict(color=costes, colorscale = 'plasma', colorbar=dict(title='Cut Value')))\n",
        "fig = go.Figure(data=bar_plot, layout = dict(xaxis=dict(type = 'category'), width = 1500, height = 600))\n",
        "fig.show()"
      ],
      "metadata": {
        "id": "Ht6vDZ_Oo-4U"
      },
      "id": "Ht6vDZ_Oo-4U",
      "execution_count": null,
      "outputs": []
    },
    {
      "cell_type": "markdown",
      "id": "ethical-italic",
      "metadata": {
        "id": "ethical-italic"
      },
      "source": [
        "-----------------------------------"
      ]
    },
    {
      "cell_type": "markdown",
      "id": "weird-cardiff",
      "metadata": {
        "id": "weird-cardiff"
      },
      "source": [
        "Resolvemos el problema de optimización con QAOA"
      ]
    },
    {
      "cell_type": "code",
      "execution_count": null,
      "id": "2f7eb9b1",
      "metadata": {
        "id": "2f7eb9b1"
      },
      "outputs": [],
      "source": [
        "# Nº de nodos del grafo y matriz de pesos\n",
        "nnodes = len(G.nodes())\n",
        "weight_matrix = nx.adjacency_matrix(G).toarray()\n",
        "\n",
        "# Matriz Q\n",
        "Q = -weight_matrix\n",
        "\n",
        "# Vector c\n",
        "c = np.zeros(nnodes)\n",
        "for i in range(nnodes):\n",
        "    for j in range(nnodes):\n",
        "        c[i] += weight_matrix[i,j]\n",
        "\n",
        "# Defino el problema\n",
        "qubo_maxcut = QuadraticProgram('Maxcut como problema cuadrático')\n",
        "\n",
        "# Variables binarias del problema\n",
        "for i in range(nnodes):\n",
        "    nombre = 'x_'+str(i)\n",
        "    qubo_maxcut.binary_var(name = nombre)\n",
        "\n",
        "# Especificalo como un problema de maximizacion e imprimelo\n",
        "qubo_maxcut.maximize(quadratic = Q, linear = c)\n",
        "print(qubo_maxcut.prettyprint())"
      ]
    },
    {
      "cell_type": "code",
      "execution_count": null,
      "id": "sticky-communist",
      "metadata": {
        "id": "sticky-communist"
      },
      "outputs": [],
      "source": [
        "# Usamos el optimizador anterior sobre este problema\n",
        "result = eigen_optimizer.solve(qubo_maxcut)\n",
        "print(result)"
      ]
    },
    {
      "cell_type": "markdown",
      "id": "pediatric-gibraltar",
      "metadata": {
        "id": "pediatric-gibraltar"
      },
      "source": [
        "#### Referencias\n",
        "\n",
        "  - Farhi, E., Goldstone, J., & Gutmann, S. (2014). A quantum approximate optimization algorithm. arXiv preprint [arXiv:1411.4028](https://arxiv.org/abs/1411.4028)\n",
        "  - Ejemplo definiendo el circuito: https://learning.quantum.ibm.com/tutorial/quantum-approximate-optimization-algorithm"
      ]
    },
    {
      "cell_type": "markdown",
      "source": [
        "\n",
        "\n",
        "---\n",
        "\n",
        "\n",
        "\n",
        "---\n",
        "\n",
        "\n",
        "\n",
        "---\n",
        "\n"
      ],
      "metadata": {
        "id": "FO079DgllXZ_"
      },
      "id": "FO079DgllXZ_"
    },
    {
      "cell_type": "markdown",
      "id": "outside-gardening",
      "metadata": {
        "id": "outside-gardening"
      },
      "source": [
        "<a name=\"vqe\"></a>\n",
        "# **Variational Quantum Eigensolvers (VQE)**\n",
        "\n",
        "VQE es una generalización de QAOA para aproximar el estado base de un hamiltoniano H genérico. Se basa en el principio variacional, que establece que el mínimo valor esperado de un observable se alcanza siempre en un autovector del mismo. Es decir, que para cualquier estado arbitrario, el valor esperado de un observable es siempre mayor o igual al mínimo.\n",
        "\n",
        "\n",
        "<details>\n",
        "  <summary>Pulsa aquí para una explicación del principio variacional</summary>\n",
        "\n",
        "El principio variacional permite estimar un límite superior para la energía del estado base (_ground state_) de un sistema cuántico.\n",
        "    \n",
        "Supongamos un estado cuántico, caracterizado por un hamiltoniano $H$, que representa la energía del sistema. Los posibles valores de energía son los autovalores $\\lambda_i$ de la matriz $H$, y la energía del sistema en el estado $\\vert u_i\\rangle$ viene dada por el valor esperado de $H$ en ese estado:\n",
        "\n",
        "$$\n",
        "E(\\vert u_i \\rangle)\\equiv \\lambda_i = \\langle H\\rangle_{|u_i\\rangle} = \\langle u_i \\vert H \\vert u_i \\rangle\n",
        "$$\n",
        "\n",
        "\n",
        "El estado base del sistema es el correspondiente al mínimo de energía. Supongamos que ese mínimo corresponde al autoestado $|u_{min}\\rangle$ con autovalor $\\lambda_{min}$. Para cualquier autovalor $\\lambda_i$ se tiene que:\n",
        "\n",
        "\\begin{align*}\n",
        "    E_{min} \\equiv \\lambda_{min} \\le \\lambda_i \\equiv \\langle H \\rangle_{|u_i\\rangle} = \\langle u_i |H|u_i \\rangle\n",
        "\\end{align*}  \n",
        "\n",
        "donde $|u_i\\rangle$ es el autoestado asociado a $\\lambda_i$.\n",
        "\n",
        "Sea un estado arbitrario $|\\psi\\rangle$. Escribiendo $H$ en la base de sus autoestados $H = \\sum_{i=1}^N \\lambda_i |u_i\\rangle\\langle u_i|$ tenemos que el valor esperado de la energía en el estado $|\\psi\\rangle$:\n",
        "\n",
        "\\begin{align}\n",
        "E(|\\psi\\rangle)=\\langle H\\rangle_{|\\psi\\rangle} = \\langle \\psi |H|\\psi \\rangle & = \\\n",
        " \\langle \\psi | \\left( \\sum_{i=1}^N \\lambda_i |u_i\\rangle\\langle u_i| \\right) |\\psi \\rangle\\\\\n",
        " &= \\sum_{i=1}^N \\lambda_i \\langle \\psi |u_i\\rangle\\langle u_i|\\psi \\rangle\\\\\n",
        " &= \\sum_{i=1}^N \\lambda_i |\\langle u_i|\\psi \\rangle|^2\n",
        "\\end{align}\n",
        "\n",
        "Es decir, el valor esperado de $H$ en un estado cualquiera es una combinación lineal en la que los autovalores actúan como pesos. De esta expresión es facil ver que:\n",
        "\n",
        "\\begin{align}\n",
        "    \\lambda_{min} \\le \\langle H \\rangle_{|\\psi\\rangle} = \\langle \\psi | H | \\psi \\rangle = \\sum_{i = 1}^{N} \\lambda_i | \\langle u_i | \\psi\\rangle |^2\n",
        "\\end{align}\n",
        "\n",
        "Esa expresión se denomina _principio variacional_ y simplemente indica que el valor mínimo de energía es menor o igual que el valor esperado de $H$ en un estado arbitrario.\n",
        "\n",
        "</details>\n",
        "\n",
        "VQE se suele usar en problemas de química computacional, por ejemplo, para obtener el mínimo estado de energía de una determinada molécula. También se puede usar en problemas de optimización combinatoria.\n",
        "\n",
        "VQE aproxima el estado base de un hamiltoniano H. Para ello se crea un circuito cuántico variacional (denominado _forma variacional_ o _ansatz_) en un estado inicial $|\\psi\\rangle$. Ejecutando el circuito, se obtiene el valor esperado $\\langle H \\rangle_{|\\psi\\rangle}$. Se usa un  optimizador clásico para ajustar los parámetros del circuito con con vistas a encontrar los parámetros que minimicen $\\langle H \\rangle_{|\\psi\\rangle}$.\n",
        "\n",
        "<center><img src=\"https://drive.google.com/uc?export=view&id=1O9RXUnTfu09PLD7O4XT1FrC2GcSE008t\" alt=\"Circuito variacional\" width=\"900\"  /></center>\n",
        "\n",
        "\n",
        "La idea de VQE es, partiendo del estado inicial, ir recorriendo el espacio de estados (o lo que es lo mismo, la esfera de Bloch) y calcular el valor esperado en $H$ en cada estado.\n",
        "\n",
        "Por ejemplo, se podría elegir como valor inicial el estado $|0\\rangle$ e ir aplicando rotaciones $R_Y$ o $R_x$:\n",
        "\n",
        "<center><img src=\"https://drive.google.com/uc?export=view&id=1y94qu2xOloSXoTe-8t9nwgehEvgfZHG1\" alt=\"VQE\" width=\"200\"  /></center>\n",
        "(Fuente: <a href=https://www.mustythoughts.com/variational-quantum-eigensolver-explained>https://www.mustythoughts.com/variational-quantum-eigensolver-explained</a>)\n",
        "\n",
        "En general, se usan ansätze $V(\\theta)$ más complejos que permitan recorrer la esfera de Bloch.\n",
        "\n",
        "#### Optimización de los parámetros\n",
        "\n",
        "El algoritmo VQE parte de un Hamiltoniano $H$, cuyo estado base resuelve el problema, y procede como sigue:\n",
        "\n",
        "1. Se elige un estado inicial (normalmente $|\\psi(\\theta)\\rangle = |0\\rangle$) y un _ansatz_ $V(\\theta)$\n",
        "2. Se le dan valores iniciales a los parámetros $\\theta$\n",
        "2. En la QPU se ejecuta el ansatz con esos parámetros para obtener un estado $|\\psi(\\theta)\\rangle = V(\\theta)|0\\rangle$\n",
        "3. Se mide el valor esperado del Hamiltoniano en ese estado $\\langle\\psi(\\theta)|H|\\psi(\\theta)\\rangle$\n",
        "4. En la CPU se usa un algoritmo de optimización para modificar los parámetros del ansatz\n",
        "    - Objetivo: reducir el valor esperado del Hamiltoniano\n",
        "5. Se vuelve al paso 3 hasta que se alcanza un mínimo\n",
        "\n",
        "Igual que en QAOA, el proceso de optimización de los parámetros puede ser un simple gradiente descendente, en el que cada parámetro se actualiza en la dirección que conduzca al mayor descenso de la energía, u otros método de optimización más sofisticados.\n",
        "\n",
        "#### Obtención del valor esperado\n",
        "\n",
        "A diferencia del QAOA, en el que el Hamiltoniano es una matriz diagonal, en VQE es más general $\\implies$ no es trivial obtener el valor esperado.\n",
        "\n",
        "Solución: Expresar el Hamiltoniano como suma de productos tensor de matrices de Pauli y obtener el valor esperado tomando medidas en diferentes bases.\n",
        "\n",
        "#### Ejemplos de ansätze\n",
        "\n",
        "La elección de la forma variacional o ansatz para VQE depende del problema a tratar. Un ejemplo es _RealAmplitudes_ que vimos antes. Otra forma es la _EfficientSU2_."
      ]
    },
    {
      "cell_type": "code",
      "execution_count": null,
      "id": "0b8e74e9",
      "metadata": {
        "id": "0b8e74e9"
      },
      "outputs": [],
      "source": [
        "from qiskit.circuit.library import EfficientSU2\n",
        "\n",
        "ansatz = EfficientSU2(num_qubits=4, reps=1, entanglement='linear', insert_barriers=True)\n",
        "\n",
        "ansatz.decompose().draw('mpl')"
      ]
    },
    {
      "cell_type": "markdown",
      "id": "3134c3c7",
      "metadata": {
        "id": "3134c3c7"
      },
      "source": [
        "### Obtención de estados excitados\n",
        "\n",
        "El algoritmo VQD (_Variational Quantum Deflaction_) es una extensión del VQE que permite obtener _estados excitados_, es decir, autoestados con mayor energía.\n",
        "\n",
        "Para ello, si $|\\psi_0\\rangle$ es el estado base, es posible demostrar que el estado base del siguiente Hamiltoniano:\n",
        "\n",
        "$$\n",
        "H' = H + C|\\psi_0\\rangle\\langle\\psi_0|\n",
        "$$\n",
        "es el primer estado excitado de H\n",
        "\n",
        "#### Referencias:\n",
        "\n",
        "  - Peruzzo, et al. (2014). A variational eigenvalue solver on a photonic quantum processor. Nature communications, 5(1), 1-7. [arXiv:1304.3061](https://arxiv.org/abs/1304.3061)\n",
        "  - Higgott, O., Wang, D., & Brierley, S. (2019). Variational quantum computation of excited states. Quantum, 3, 156. [arXiv:1805.08138](https://arxiv.org/abs/1805.08138)\n",
        "  - Combarro, E.F. & Gonzákez-Castillo, S. (2023). A Practical Guide  to Quantum Machine Learning and Quantum Optimization, capítulo  7. Packt.\n",
        "  - Qiskit tutorial: Variational quantum eigensolver https://learning.quantum.ibm.com/tutorial/variational-quantum-eigensolver\n"
      ]
    },
    {
      "cell_type": "markdown",
      "source": [
        "\n",
        "\n",
        "---\n",
        "\n",
        "\n",
        "\n",
        "---\n",
        "\n",
        "\n",
        "\n",
        "---\n",
        "\n"
      ],
      "metadata": {
        "id": "D1Ocz1_q8Shi"
      },
      "id": "D1Ocz1_q8Shi"
    },
    {
      "cell_type": "markdown",
      "id": "spanish-variation",
      "metadata": {
        "id": "spanish-variation"
      },
      "source": [
        "<a name=\"qml\"></a>\n",
        "# **Introducción al Quantum Machine Learning (QML)**\n",
        "\n",
        "El término Quantum Machine Learning (QML) se usa a menudo para referirse al más concreto quantum-enhanced machine learning: uso de algoritmos cuánticos (p.e. HHL) para acelerar la ejecución de problemas de ML.\n",
        "\n",
        "\n",
        "<center><img src=\"https://drive.google.com/uc?export=view&id=1JZRB5zv-SBPZXxyG5oWpLt2q--13t_Oj\" alt=\"Speedups de QML\" width=\"1000\"  /></center>\n",
        "(Fuente: Biamonte, J., Wittek, P., Pancotti, N., Rebentrost, P., Wiebe, N., & Lloyd, S. (2017). Quantum machine learning. Nature, 549(7671), 195-202. <a href=\"https://www.nature.com/articles/nature23474\">https://www.nature.com/articles/nature23474</a>)\n",
        "\n",
        "<center><img src=\"https://drive.google.com/uc?export=view&id=1IoZw4HE4LRucwqVwZfNOr97ktIPraL9Z\" alt=\"Speedups de QML\" width=\"950\"  /></center>\n",
        "(Fuente: Amira Abbas, Building a quantum classifier, Qiskit Global Summer School 2021)\n",
        "\n",
        "\n",
        "Realizar la computación del modelo en un sistema cuántico:\n",
        "\n",
        "1. Codificamos los datos en un estado cuántico (pe. mediante codificación en ángulos)\n",
        "2. Aplicamos un circuito variacional usando un conjunto de parámetros\n",
        "3. Medimos un cierto observable y determinamos la clasificación en función de los resultados\n",
        "4. Optimizamos los parámetros para resolver el problema\n",
        "\n",
        "\n",
        "<center><img src=\"https://drive.google.com/uc?export=view&id=15DbNGFMLC1qmLMHyjlPoE9y12K7HI3Ew\" alt=\"VQC\" width=\"800\"  /></center>\n",
        "(Fuente: Bryce Fuller, Quantum Support Vector Machines, Qiskit Global Summer School 2021)"
      ]
    },
    {
      "cell_type": "markdown",
      "id": "august-explosion",
      "metadata": {
        "id": "august-explosion"
      },
      "source": [
        "## Quantum Support Vector Machines\n",
        "\n",
        "<center><img src=\"https://drive.google.com/uc?export=view&id=15Z8lqGOIpDCiAfUZRqMumMOXu-wAqcQM\" alt=\"SVM clásico\" width=\"800\"  /></center>\n",
        "\n",
        "\n",
        "\n",
        "### [Kernel trick](https://en.wikipedia.org/wiki/Kernel_trick)\n",
        "\n",
        "Se usa una transformación no lineal (_feature map_) $\\Phi(x)$ para mapear los datos desde el espacio\n",
        "original a un nuevo espacio de más dimensiones (espacio de características) donde la superficie de decisión (hiperplano) se vuelva lineal.\n",
        "\n",
        "El hiperplano en este espacio se puede escribir como:\n",
        "\n",
        "$$\\omega^T\\Phi(x) +b =0$$\n",
        "\n",
        "y la función de clasificación:\n",
        "\n",
        "$$y = \\mathrm{label}(x) = \\mathrm{sign}(\\omega^T\\Phi(x) +b)$$\n",
        "\n",
        "\n",
        "#### Forma dual\n",
        "\n",
        "En vez de calcular el hiperplano, se puede resolver el siguiente problema para obtener los _multiplicadores de Lagrange_ $\\alpha_i$:\n",
        "\n",
        "$$\n",
        "\\max_\\alpha C_D(\\alpha) = \\sum_{i\\in T} \\alpha_i - \\frac{1}{2}\\sum_{i,j\\in T} y_i y_j\\alpha_i\\alpha_j\\Phi(x_i)^T\\Phi(x_j)\n",
        "$$\n",
        "donde $T$ es el conjunto de entrenamiento y los valores $\\alpha_i\\ge 0$ solo son no-nulos para los vectores soporte en $T$.\n",
        "\n",
        "La función de clasificación se puede escribir ahora como:\n",
        "\n",
        "$$\\mathrm{label}(s) = \\mathrm{sign}\\left(\\sum_{i\\in V}\\alpha_iy_iK(s,x_i) +b\\right)$$\n",
        "\n",
        "donde $V$ es el conjunto de vectores soporte, $K$ la _función kernel_:\n",
        "\n",
        "$$\n",
        "K(x_i,x_j) = K_{ij} = \\Phi(x_i)^T\\Phi(x_j)\n",
        "$$\n",
        "\n",
        "y $b$ se obtiene a partir de cualquier vector de soporte $x_k$:\n",
        "\n",
        "$$\n",
        "b = y_k - \\sum_{i\\in T} \\alpha_i y_i K(x_i, x_k)\n",
        "$$\n",
        "\n",
        "\n",
        "Los valores de la función (o matrix) kernel $K$ proporcionan una medida de _similaridad_ entre puntos, y pueden obtenerse sin necesidad de computar los productos internos $\\Phi(x_i)^T\\Phi(x_j)$ a través de funciones que codifiquen de forma implícita el feature map.\n",
        "\n",
        "Ejemplo: [Radial Basis Function Kernel](https://en.wikipedia.org/wiki/Radial_basis_function_kernel)\n",
        "\n",
        "$$\n",
        "K(x_i,x_j) = \\exp\\left(-\\frac{\\lVert x_i-x_j\\rVert^2}{2\\sigma²}\\right)\n",
        "$$\n",
        "\n",
        "\n",
        "### Variational Quantum Classifier (VQC)\n",
        "\n",
        "<center><img src=\"https://drive.google.com/uc?export=view&id=10kCs4HAuz-5oEisufPGajVtzPMysnTpB\" alt=\"Variational Quantum Classifier (VQC)\" width=\"500\"  /></center>\n",
        "(Fuente: Bryce Fuller, Quantum Support Vector Machines, Qiskit Global Summer School 2021)\n",
        "\n",
        "Midiendo el valor esperado del observable Z obtenemos:\n",
        "\n",
        "$$\n",
        "f_\\theta(x) = \\langle\\Phi(x)|W^\\dagger_\\theta ZW_\\theta|\\Phi(x)\\rangle \\in [-1,1]\n",
        "$$\n",
        "\n",
        "Para la función de clasificación se elige un umbral $b\\in [-1,1]$ y se define:\n",
        "\n",
        "$$\n",
        "\\text{label}(x) =  \\left\\lbrace\n",
        "\\begin{array}{ll}\n",
        "+1 & \\text{si } f_\\theta(x) \\ge b\\\\\n",
        "-1 & \\text{si } f_\\theta(x) < b\n",
        "\\end{array}\n",
        "\\right.\n",
        "$$\n",
        "\n",
        "Se puede demostrar que este modelo es un clasificador lineal en el espacio de características $\\Phi(x)$ y $W_\\theta$ parametriza el hiperplano.\n",
        "\n",
        "Limitación: $W_\\theta$ limitado por la profundidad del circuito $\\Rightarrow$ no se puede probar con todos los hiperplanos posibles $\\Rightarrow$ es posible que no se encuentre la solución óptima.\n",
        "\n",
        "### Quantum Kernel Estimator (QKE)\n",
        "\n",
        "Usa el computador cuántico solo para estimar la matriz kernel $K(x_i,x_j)$.\n",
        "\n",
        "<center><img src=\"https://drive.google.com/uc?export=view&id=1naiNKfs5wrUw65xwvJf4EOA4qUDM_r36\" alt=\"Quantum Kernel Estimator (QKE)\" width=\"450\"  /></center>\n",
        "(Fuente: Bryce Fuller, Quantum Support Vector Machines, Qiskit Global Summer School 2021)\n",
        "\n",
        "Obtenemos la matriz kernel midiendo la probabilidad de obtener el estado $|0\\rangle$:\n",
        "\n",
        "$$\n",
        "K(x_i,x_j) = \\text{Pr}(|0\\rangle) = |\\langle0|U^\\dagger_{x_j} U_{x_i}|0\\rangle|^2 = |\\langle\\Phi(x_j)|\\Phi(x_i)\\rangle|^2\n",
        "$$\n",
        "\n",
        "donde $U_x$ es la matriz unitaria tal que $|\\Phi(x)\\rangle = U_x|0\\rangle $.\n",
        "\n",
        "Se ha demostrado que QKE solo proporciona ventaja frente a un sistema clásico si $\\Phi(x)$ es suficientemente compleja y difícil de simular clásicamente.\n",
        "\n",
        "Ejemplos:\n",
        "\n",
        "  - Forrelation kernel (https://doi.org/10.1137/15M1050902, https://doi.org/10.1145/3406325.3451040): kernel cuántico difícil de estimar\n",
        "  - DLOG kernel (https://arxiv.org/pdf/2105.03406): kernel cuántico que aprovecha la estructura de los datos\n",
        "\n"
      ]
    },
    {
      "cell_type": "markdown",
      "id": "invisible-visitor",
      "metadata": {
        "id": "invisible-visitor"
      },
      "source": [
        "### Ejemplos de Quantum Kernels en Qiskit\n",
        "\n",
        "Qiskit tiene implementados algunos kernels, descritos en https://www.nature.com/articles/s41586-019-0980-2:\n",
        "\n",
        "  - [`PauliFeatureMap`](https://qiskit.org/documentation/stubs/qiskit.circuit.library.PauliFeatureMap.html)   \n",
        "  - [`ZFeatureMap`](https://qiskit.org/documentation/stubs/qiskit.circuit.library.ZFeatureMap.html)\n",
        "  - [`ZZFeatureMap`](https://qiskit.org/documentation/stubs/qiskit.circuit.library.ZZFeatureMap.html)\n",
        "  \n",
        "En concreto, el ZZFeatureMap esta considerado como difícil de simular en un sistema clásico."
      ]
    },
    {
      "cell_type": "code",
      "execution_count": null,
      "id": "close-resort",
      "metadata": {
        "id": "close-resort"
      },
      "outputs": [],
      "source": [
        "from qiskit.circuit.library import ZZFeatureMap\n",
        "map_zz = ZZFeatureMap(feature_dimension=4, reps=1, entanglement='full', insert_barriers=True)\n",
        "map_zz.decompose().draw('mpl')"
      ]
    },
    {
      "cell_type": "markdown",
      "id": "distributed-repository",
      "metadata": {
        "id": "distributed-repository"
      },
      "source": [
        "#### Ejemplo de clasificación binaria\n",
        "\n",
        "Ejemplo del [Qiskit Machine Learning Tutorial](https://qiskit.org/documentation/machine-learning/tutorials/03_quantum_kernel.html).\n",
        "\n",
        "Este ejemplo usa el dataset descrito en https://arxiv.org/pdf/1804.11326.pdf y el algoritmo [SVC](https://scikit-learn.org/stable/modules/generated/sklearn.svm.SVC.html#sklearn.svm.SVC) (_Support Vector Machine Classification_) del módulo de [SVM](https://scikit-learn.org/stable/modules/svm.html) de la librería [scikit-learn](https://scikit-learn.org/stable/)."
      ]
    },
    {
      "cell_type": "markdown",
      "source": [
        "Este ejemplo usa un dataset a medida descrito en este [artículo](https://arxiv.org/pdf/1804.11326). Ver [aquí](https://qiskit-community.github.io/qiskit-machine-learning/stubs/qiskit_machine_learning.datasets.ad_hoc_data.html) para detalles.\n",
        "\n",
        "Definimos la dimensión del dataset y obtenemos los conjuntos de entrenamiento y test:\n"
      ],
      "metadata": {
        "id": "cLgl2WQN8cjn"
      },
      "id": "cLgl2WQN8cjn"
    },
    {
      "cell_type": "code",
      "source": [
        "from qiskit_machine_learning.datasets import ad_hoc_data\n",
        "\n",
        "adhoc_dimension = 2\n",
        "# adhoc_total son todos los puntos en una rejilla uniforme de la que se seleccionan las muestras\n",
        "train_features, train_labels, test_features, test_labels, adhoc_total = ad_hoc_data(\n",
        "    training_size=20, # 20 datos de cada clase, 40 en total\n",
        "    test_size=5,      # 5 datos de cada clase, 10 en total\n",
        "    n=adhoc_dimension,\n",
        "    gap=0.3,\n",
        "    plot_data=False,\n",
        "    one_hot=False,\n",
        "    include_sample_total=True,\n",
        ")"
      ],
      "metadata": {
        "id": "5AfbJVqD7LMA"
      },
      "id": "5AfbJVqD7LMA",
      "execution_count": null,
      "outputs": []
    },
    {
      "cell_type": "code",
      "source": [
        "print(adhoc_total[0])"
      ],
      "metadata": {
        "id": "Qj997alb3o8k"
      },
      "id": "Qj997alb3o8k",
      "execution_count": null,
      "outputs": []
    },
    {
      "cell_type": "markdown",
      "source": [
        "El dataset es bidimensional. Las dos características corresponden a coordenadas $x$ e $y$, y tiene dos clases, con etiquetas A y B. Las siguientes funciones permiten visualizarlo."
      ],
      "metadata": {
        "id": "MYh82ltl_m3F"
      },
      "id": "MYh82ltl_m3F"
    },
    {
      "cell_type": "code",
      "source": [
        "import matplotlib.pyplot as plt\n",
        "import numpy as np\n",
        "\n",
        "def plot_features(ax, features, labels, class_label, marker, face, edge, label):\n",
        "    # A train plot\n",
        "    ax.scatter(\n",
        "        # x coordinate of labels where class is class_label\n",
        "        features[np.where(labels[:] == class_label), 0],\n",
        "        # y coordinate of labels where class is class_label\n",
        "        features[np.where(labels[:] == class_label), 1],\n",
        "        marker=marker,\n",
        "        facecolors=face,\n",
        "        edgecolors=edge,\n",
        "        label=label,\n",
        "    )\n",
        "\n",
        "def plot_dataset(train_features, train_labels, test_features, test_labels, adhoc_total):\n",
        "    plt.figure(figsize=(5, 5))\n",
        "    plt.ylim(0, 2 * np.pi)\n",
        "    plt.xlim(0, 2 * np.pi)\n",
        "    # Imprime la rejilla\n",
        "    plt.imshow(\n",
        "        np.asmatrix(adhoc_total).T,\n",
        "        interpolation=\"nearest\",\n",
        "        origin=\"lower\",\n",
        "        cmap=\"RdBu\",\n",
        "        extent=[0, 2 * np.pi, 0, 2 * np.pi],\n",
        "    )\n",
        "    # Entrenamiento etiqueta A\n",
        "    plot_features(plt, train_features, train_labels, 0, \"s\", \"w\", \"b\", \"A entrenamiento\")\n",
        "    # Entrenamiento etiqueta B\n",
        "    plot_features(plt, train_features, train_labels, 1, \"o\", \"w\", \"r\", \"B entrenamiento\")\n",
        "    # Test etiqueta A\n",
        "    plot_features(plt, test_features, test_labels, 0, \"s\", \"b\", \"w\", \"A test\")\n",
        "    # Test etiqueta B\n",
        "    plot_features(plt, test_features, test_labels, 1, \"o\", \"r\", \"w\", \"B test\")\n",
        "\n",
        "    plt.legend(bbox_to_anchor=(1.05, 1), loc=\"upper left\", borderaxespad=0.0)\n",
        "    plt.title(\"Dataset ad hoc para clasificación\")\n",
        "\n",
        "    plt.show()"
      ],
      "metadata": {
        "id": "Fh5ivyIF7uNX"
      },
      "id": "Fh5ivyIF7uNX",
      "execution_count": null,
      "outputs": []
    },
    {
      "cell_type": "code",
      "source": [
        "plot_dataset(train_features, train_labels, test_features, test_labels, adhoc_total)"
      ],
      "metadata": {
        "id": "giGzBr5N74q0"
      },
      "id": "giGzBr5N74q0",
      "execution_count": null,
      "outputs": []
    },
    {
      "cell_type": "markdown",
      "source": [
        "Creamos un QuantumKernel para la clasificación. Usaremos un [FidelityQuantumKernel](https://qiskit-community.github.io/qiskit-machine-learning/stubs/qiskit_machine_learning.kernels.FidelityQuantumKernel.html) y como feature_map un [ZZFeatureMap](https://docs.quantum.ibm.com/api/qiskit/qiskit.circuit.library.ZZFeatureMap).\n"
      ],
      "metadata": {
        "id": "9U7Ws66GA7Cg"
      },
      "id": "9U7Ws66GA7Cg"
    },
    {
      "cell_type": "code",
      "source": [
        "from qiskit.circuit.library import ZZFeatureMap\n",
        "from qiskit_machine_learning.kernels import FidelityQuantumKernel\n",
        "\n",
        "# Definimos el ZZFeatureMap con 2 repeticiones\n",
        "adhoc_feature_map = ZZFeatureMap(feature_dimension=adhoc_dimension, reps=2, entanglement=\"linear\")\n",
        "\n",
        "adhoc_kernel = FidelityQuantumKernel(feature_map=adhoc_feature_map)"
      ],
      "metadata": {
        "id": "91zTMFLGDH5G"
      },
      "id": "91zTMFLGDH5G",
      "execution_count": null,
      "outputs": []
    },
    {
      "cell_type": "markdown",
      "source": [
        "#### Clasificación usando SVC\n",
        "\n",
        "El algortimo SVC de scikit-learn acepta dos formas de definir un kernel a medida.\n",
        "\n",
        "La primera es pasándole la función que se encarga de computar la matriz kernel, que es el método evaluate del FidelityQuantumKernel"
      ],
      "metadata": {
        "id": "Um8pyfYsEfE8"
      },
      "id": "Um8pyfYsEfE8"
    },
    {
      "cell_type": "code",
      "source": [
        "from sklearn.svm import SVC\n",
        "\n",
        "# Le pasamos la función que se encarga de computar la matriz kernel\n",
        "adhoc_svc = SVC(kernel=adhoc_kernel.evaluate)\n",
        "\n",
        "# Le pasamos los datos de entrenamiento\n",
        "adhoc_svc.fit(train_features, train_labels)\n",
        "\n",
        "# Obtenemos la calificación media de la clasificación de los datos de test\n",
        "adhoc_score_funcion = adhoc_svc.score(test_features, test_labels)\n",
        "\n",
        "\n",
        "print(f'Calificación media con los datos de test: {adhoc_score_funcion}')\n"
      ],
      "metadata": {
        "id": "yZNo9F3IDQQO"
      },
      "id": "yZNo9F3IDQQO",
      "execution_count": null,
      "outputs": []
    },
    {
      "cell_type": "markdown",
      "id": "gross-coordinator",
      "metadata": {
        "id": "gross-coordinator"
      },
      "source": [
        "La segunda forma es pasándole la matriz kernel precalculada.\n",
        "\n",
        "Precalculamos las matrices $K(x_i,x_j)$ y $K(t_i, x_j)$ donde las $x$ son los datos de entrenamiento y las $t$ los de test"
      ]
    },
    {
      "cell_type": "code",
      "execution_count": null,
      "id": "charged-queens",
      "metadata": {
        "id": "charged-queens"
      },
      "outputs": [],
      "source": [
        "# Obtenemos la matriz kernel para los datos de entrenamiento\n",
        "adhoc_matrix_train = adhoc_kernel.evaluate(x_vec=train_features)\n",
        "\n",
        "# Obtenemos la matriz kernel para los datos de test\n",
        "adhoc_matrix_test = adhoc_kernel.evaluate(x_vec=test_features,\n",
        "                                          y_vec=train_features)\n",
        "# Mostramos las matrices\n",
        "fig, axs = plt.subplots(1, 2, figsize=(10, 5))\n",
        "axs[0].imshow(np.asmatrix(adhoc_matrix_train),\n",
        "              interpolation='nearest', origin='upper', cmap='Blues')\n",
        "axs[0].set_title(\"Matriz kernel datos de entrenamiento\")\n",
        "axs[1].imshow(np.asmatrix(adhoc_matrix_test),\n",
        "              interpolation='nearest', origin='upper', cmap='Reds')\n",
        "axs[1].set_title(\"Matriz kernel datos de test\")\n",
        "plt.show()"
      ]
    },
    {
      "cell_type": "code",
      "execution_count": null,
      "id": "personal-dictionary",
      "metadata": {
        "id": "personal-dictionary"
      },
      "outputs": [],
      "source": [
        "# Ejecuta el SVC con las matrices precalculadas\n",
        "adhoc_svc = SVC(kernel='precomputed')\n",
        "\n",
        "# Le pasamos la matriz kelnel de entrenamiento y las etiquetas\n",
        "adhoc_svc.fit(adhoc_matrix_train, train_labels)\n",
        "\n",
        "# Obtenemos la calificación media de la clasificación de los datos de test\n",
        "adhoc_score_precomputado = adhoc_svc.score(adhoc_matrix_test, test_labels)\n",
        "\n",
        "print(f'Calificación media de los datos de test: {adhoc_score_precomputado}')"
      ]
    },
    {
      "cell_type": "markdown",
      "source": [
        "#### Clasificación usando QSVC\n",
        "\n",
        "[QSVC](https://qiskit-community.github.io/qiskit-machine-learning/stubs/qiskit_machine_learning.algorithms.QSVC.html#qsvc) es una función de conveniencia proporcionada por Qiskit.\n"
      ],
      "metadata": {
        "id": "dLgs8wNoGtYq"
      },
      "id": "dLgs8wNoGtYq"
    },
    {
      "cell_type": "code",
      "source": [
        "from qiskit_machine_learning.algorithms import QSVC\n",
        "\n",
        "qsvc = QSVC(quantum_kernel=adhoc_kernel)\n",
        "\n",
        "qsvc.fit(train_features, train_labels)\n",
        "\n",
        "qsvc_score = qsvc.score(test_features, test_labels)\n",
        "\n",
        "print(f\"QSVC: Calificación media de los datos de test: {qsvc_score}\")"
      ],
      "metadata": {
        "id": "40b2bVGTGsvL"
      },
      "id": "40b2bVGTGsvL",
      "execution_count": null,
      "outputs": []
    },
    {
      "cell_type": "markdown",
      "source": [
        "\n",
        "\n",
        "---\n",
        "\n"
      ],
      "metadata": {
        "id": "9FRcKqnqJiv8"
      },
      "id": "9FRcKqnqJiv8"
    },
    {
      "cell_type": "markdown",
      "id": "pacific-constant",
      "metadata": {
        "id": "pacific-constant"
      },
      "source": [
        "## Quantum Neural Networks\n",
        "\n",
        "<center><img src=\"https://drive.google.com/uc?export=view&id=1OHw-beJcEnrWXca_w7Cn6DydqweHJeCo\" alt=\"QNN\" width=\"900\"  /></center>\n",
        "(Fuente: Mangini, S. et al. (2021). Quantum computing models for artificial neural networks. EPL (Europhysics Letters), 134(1), 10002. <a href='https://doi.org/10.1209/0295-5075/134/10002'>https://doi.org/10.1209/0295-5075/134/10002</a>)\n",
        "\n",
        "- Estructura similar, pero diferente flujo de información\n",
        "\n",
        "Se han propuesto otros modelos de, por ejemplo, redes neuronales convolucionales cuánticas o redes neuronales tensoriales:\n",
        "\n",
        "  - Li, Y., Zhou, R. G., Xu, R., Luo, J., & Hu, W. (2020). A quantum deep convolutional neural network for image recognition. Quantum Science and Technology, 5(4), 044003. http://www.doi.org/10.1088/2058-9565/ab9f93\n",
        "  - Henderson, M., Shakya, S., Pradhan, S., & Cook, T. (2020). Quanvolutional neural networks: powering image recognition with quantum circuits. Quantum Machine Intelligence, 2(1), 1-9. http://www.doi.org/10.1007/s42484-020-00012-y\n",
        "  - Grant, E., Benedetti, M., et al. (2018). Hierarchical quantum classifiers. npj Quantum Information, 4(1), 1-8 .https://doi.org/10.1038/s41534-018-0116-9\n",
        "  "
      ]
    },
    {
      "cell_type": "markdown",
      "id": "written-outside",
      "metadata": {
        "id": "written-outside"
      },
      "source": [
        "## Librerías de QML\n",
        "\n",
        "Muchos algoritmos están implementados en librerías de alto nivel:\n",
        "\n",
        "#### [Qiskit ML](https://qiskit-community.github.io/qiskit-machine-learning/)\n",
        "\n",
        "- Algoritmos antes incluidos en [Qiskit Aqua](https://github.com/Qiskit/qiskit-aqua)\n",
        "    - Qiskit Aqua separado en [_Optimization_](https://qiskit-community.github.io/qiskit-optimization/), [_Finance_](https://qiskit-community.github.io/qiskit-finance/), [_Machine Learning_](https://qiskit-community.github.io/qiskit-machine-learning/) y [_Nature_](https://qiskit-community.github.io/qiskit-nature/)\n",
        "- Ejemplos:\n",
        "    - [Quantum Kernel Machine Learning](https://qiskit.org/documentation/machine-learning/tutorials/03_quantum_kernel.html)\n",
        "    - [Quantum Neural Networks](https://qiskit.org/documentation/machine-learning/tutorials/01_neural_networks.html)\n",
        "    - [Neural Network Classifier & Regressor](https://qiskit.org/documentation/machine-learning/tutorials/02_neural_network_classifier_and_regressor.html)\n",
        "    - [PyTorch qGAN (Quantum Generative Adversarial Network) Implementation](https://qiskit.org/ecosystem/machine-learning/tutorials/04_torch_qgan.html)\n",
        "- Permite diseñar redes neuronales híbridas con PyTorch\n",
        "\n",
        "<center><img src=\"https://drive.google.com/uc?export=view&id=1Pi-UZ5KMHsxIjU-Mj2bn26NkfIrFTsEh\" alt=\"Red neuronal híbrida\" width=\"800\"  /></center>\n",
        "    \n",
        "#### [Pennylane](https://pennylane.ai/)\n",
        "\n",
        "- Librería cross-platform para [programación diferenciable](https://en.wikipedia.org/wiki/Differentiable_programming) de computadores cuánticos\n",
        "- Desarrollada por la empresa [Xanadu Quantum Technologies](https://www.xanadu.ai/)\n",
        "- Integra librerías de ML con diferentes simuladores y hardware cuántico:\n",
        "    - [IBM Qiskit](https://docs.pennylane.ai/projects/qiskit/), [Microsoft Q#](https://docs.pennylane.ai/projects/qsharp), [Cirq](https://docs.pennylane.ai/projects/cirq), [Amazon Braket](https://amazon-braket-pennylane-plugin-python.readthedocs.io/en/latest/), etc.\n",
        "    - Más info: https://pennylane.ai/plugins.html\n",
        "- Interfaces con [Numpy](https://pennylane.readthedocs.io/en/stable/introduction/interfaces/numpy.html), [TensorFlow](https://pennylane.readthedocs.io/en/stable/introduction/interfaces/tf.html), [PyTorch](https://pennylane.readthedocs.io/en/stable/introduction/interfaces/torch.html) y [JAX](https://pennylane.readthedocs.io/en/stable/introduction/interfaces/jax.html)\n",
        "- Más información:\n",
        "    - Documentación: https://pennylane.readthedocs.io/\n",
        "    - Demos: https://pennylane.ai/qml/demonstrations.html\n",
        "    \n",
        "#### [TensorFlow Quantum](https://www.tensorflow.org/quantum)\n",
        "\n",
        "- Framework Python para Quantum Machine Learning\n",
        "- Modelos híbridos clásicos-cuánticos\n",
        "- Diseñado para trabajar con [Google Circ](https://quantumai.google/cirq)\n",
        "\n",
        "<center><img src=\"https://drive.google.com/uc?export=view&id=1qdmRxTe5PgzpqLaksqwv9EaaHdNcXwx8\" alt=\"TensorFlow\" width=\"800\"  /></center>\n",
        "(Fuente: <a href='https://ai.googleblog.com/2020/03/announcing-tensorflow-quantum-open.html'>https://ai.googleblog.com/2020/03/announcing-tensorflow-quantum-open.html</a>)"
      ]
    },
    {
      "cell_type": "markdown",
      "id": "intellectual-dealer",
      "metadata": {
        "id": "intellectual-dealer"
      },
      "source": [
        "#### Referencias:\n",
        "\n",
        "  - Peral-García, D., Cruz-Benito, J., & García-Peñalvo, F. J. (2024). Systematic literature review: Quantum machine learning and its applications. Computer Science Review, 51, 100619. https://doi.org/10.1016/j.cosrev.2024.100619\n",
        "  - Jerbi, S., Fiderer, L. J., Poulsen Nautrup, H., Kübler, J. M., Briegel, H. J., & Dunjko, V. (2023). Quantum machine learning beyond kernel methods. Nature Communications, 14(1), 1-8. https://www.nature.com/articles/s41467-023-36159-y\n",
        "  - Cerezo, M., Verdon, G., Huang, H. Y., Cincio, L., & Coles, P. J. (2022). Challenges and opportunities in quantum machine learning. Nature Computational Science, 2(9), 567-576. https://www.nature.com/articles/s43588-022-00311-3\n",
        "  - Huang, H. Y., Broughton, M., Mohseni, M., Babbush, R., Boixo, S., Neven, H., & McClean, J. R. (2021). Power of data in quantum machine learning. Nature communications, 12(1), 2631. https://www.nature.com/articles/s41467-021-22539-9\n",
        "  - Liu, Y., Arunachalam, S., & Temme, K. (2021). A rigorous and robust quantum speed-up in supervised machine learning. Nature Physics, 1-5. https://doi.org/10.1038/s41567-021-01287-z  \n",
        "  - Beer, K., Bondarenko, D., Farrelly, T., Osborne, T. J., Salzmann, R., Scheiermann, D., & Wolf, R. (2020). Training deep quantum neural networks. Nature communications, 11(1), 1-6, https://www.nature.com/articles/s41467-020-14454-2\n",
        "  - Havlíček, V., Córcoles, A. D., Temme, K., Harrow, A. W., Kandala, A., Chow, J. M., & Gambetta, J. M. (2019). Supervised learning with quantum-enhanced feature spaces. Nature, 567(7747), 209-212. https://doi.org/10.1038/s41586-019-0980-2 https://arxiv.org/pdf/1804.11326.pdf\n",
        "  - Schuld, M., Sweke, R., & Meyer, J. J. (2021). Effect of data encoding on the expressive power of variational quantum-machine-learning models. Physical Review A, 103(3), 032430. https://doi.org/10.1103/PhysRevA.103.032430\n",
        "    \n",
        "Más referencias en https://quantumalgorithmzoo.org/"
      ]
    },
    {
      "cell_type": "markdown",
      "source": [
        "\n",
        "\n",
        "---\n",
        "\n",
        "\n",
        "\n",
        "---\n",
        "\n",
        "\n",
        "\n",
        "---\n",
        "\n"
      ],
      "metadata": {
        "id": "-NBfw0_d4zU2"
      },
      "id": "-NBfw0_d4zU2"
    },
    {
      "cell_type": "markdown",
      "id": "fluid-recorder",
      "metadata": {
        "id": "fluid-recorder"
      },
      "source": [
        "<a name=\"otras\"></a>\n",
        "# **Otras aplicaciones**"
      ]
    },
    {
      "cell_type": "markdown",
      "id": "juvenile-prevention",
      "metadata": {
        "id": "juvenile-prevention"
      },
      "source": [
        "El uso de la computación cuántica se ha extendido a muchos otros campos\n",
        "\n",
        "![Campos de uso](https://github.com/tarabelo/2024-VIU-Quantum/blob/main/images/ecosistema2.png?raw=1)\n",
        "(Fuente: https://www.bcg.com/publications/2018/next-decade-quantum-computing-how-play, 2018)\n",
        "\n",
        "### Finanzas\n",
        "\n",
        "En el ámbito financiero es en el que se ha despertado un mayor interés por la computación cuántica como mecanismo de acelerar sus operaciones.\n",
        "\n",
        "- Herman, D., Googin, C., Liu, X., Sun, Y., Galda, A., Safro, I., ... & Alexeev, Y. (2023). Quantum computing for finance. Nature Reviews Physics, 5(8), 450-465. https://www.nature.com/articles/s42254-023-00603-1\n",
        "- Wilkens, S., & Moorhouse, J. (2023). Quantum computing for financial risk measurement. Quantum Information Processing, 22(1), 51. https://doi.org/10.1007/s11128-022-03777-2\n",
        "- Naik, A., Yeniaras, E., Hellstern, G., Prasad, G., & Vishwakarma, S. K. L. P. (2023). From portfolio optimization to quantum blockchain and security: A systematic review of quantum computing in finance. arXiv preprint arXiv:2307.01155. https://arxiv.org/abs/2307.01155\n",
        "- Egger, D. J., Gambella, C., Marecek, J., McFaddin, S., Mevissen, M., Raymond, R., ... & Yndurain, E. (2020). Quantum computing for finance: State-of-the-art and future prospects. IEEE Transactions on Quantum Engineering, 1, 1-24. https://doi.org/10.1109/TQE.2020.3030314\n",
        "- Egger, D. J., Gutierrez, R. G., Mestre, J. C., & Woerner, S. (2020). Credit risk analysis using quantum computers. IEEE Transactions on Computers. https://doi.org/10.1109/TC.2020.3038063\n",
        "- McKinsey & Company (2020) [_How quantum computing could change financial services](https://www.mckinsey.com/industries/financial-services/our-insights/how-quantum-computing-could-change-financial-services)\n",
        "- IBM, [_Exploring quantum computing use cases for financial services_](https://www.ibm.com/thought-leadership/institute-business-value/report/exploring-quantum-financial)\n",
        "- [Qiskit Finance Tutorials](https://qiskit.org/documentation/tutorials/finance/index.html)\n",
        "\n",
        "### Procesamiento de imágenes y visión por computador\n",
        "\n",
        "Existen diferentes mecanismos de representación de imágenes que permiten una codificación eficiente de una imagen clásica en un estado cuántico, por ejemlo _Flexible Representation of Quantum Images (FRQI)_ ([Le, P.Q., Dong, F. & Hirota, K, 2011](https://doi.org/10.1007/s11128-010-0177-y)) y _Novel Enhanced Quantum Representation (NEQR) for Digital Images_ ([Zhang, Y., Lu, K., Gao, Y. et al., 2013](https://doi.org/10.1007/s11128-013-0567-z))\n",
        "\n",
        "**Otros trabajos**\n",
        "\n",
        "- Yan, F., Venegas-Andraca, S. E., & Hirota, K. (2022). Toward implementing efficient image processing algorithms on quantum computers. Soft Computing, 1-13. https://doi.org/10.1007/s00500-021-06669-2\n",
        "- Wang, Z., Xu, M., & Zhang, Y. (2022). Review of quantum image processing. Archives of Computational Methods in Engineering, 29(2), 737-761. https://doi.org/10.1007/s11831-021-09599-2\n",
        "- Das, S., Zhang, J., Martina, S., Suter, D., & Caruso, F. (2023). Quantum pattern recognition on real quantum processing units. Quantum Machine Intelligence, 5(1), 16. https://doi.org/10.1007/s42484-022-00093-x\n",
        "- Zhou, N. R., Liu, X. X., Chen, Y. L., & Du, N. S. (2021). Quantum K-Nearest-Neighbor Image Classification Algorithm Based on KL Transform. International Journal of Theoretical Physics, 1-16. https://doi.org/10.1007/s10773-021-04747-7\n",
        "\n",
        "### Bioinformática y genética\n",
        "\n",
        "- Chagneau, A., Massaoudi, Y., Derbali, I., & Yahiaoui, L. (2024). Quantum algorithm for bioinformatics to compute the similarity between proteins. IET Quantum Communication. https://ietresearch.onlinelibrary.wiley.com/doi/full/10.1049/qtc2.12098\n",
        "- Mokhtari, M., Khoshbakht, S., Ziyaei, K., Akbari, M. E., & Moravveji, S. S. (2024). New classifications for quantum bioinformatics: Q-bioinformatics, QCt-bioinformatics, QCg-bioinformatics, and QCr-bioinformatics. Briefings in Bioinformatics, 25(2), bbae074. https://academic.oup.com/bib/article/25/2/bbae074/7621030\n",
        "- Fedorov, A. K., & Gelfand, M. S. (2021). Towards practical applications in quantum computational biology. Nature Computational Science, 1(2), 114-119. https://www.nature.com/articles/s43588-021-00024-z\n",
        "- Sarkar, A., Al-Ars, Z., Almudever, C. G., & Bertels, K. (2019). An algorithm for DNA read alignment on quantum accelerators. arXiv preprint [arXiv:1909.05563](https://arxiv.org/abs/1909.05563)\n",
        "- Sarkar, A., Al-Ars, Z., & Bertels, K. (2021). QuASeR: Quantum Accelerated de novo DNA sequence reconstruction. Plos one, 16(4), e0249850 https://doi.org/10.1371/journal.pone.0249850\n",
        "- Cordier, B. A., Sawaya, N. P., Guerreschi, G. G., & McWeeney, S. K. (2022). Biology and medicine in the landscape of quantum advantages. Journal of the Royal Society Interface, 19(196). https://doi.org/10.1098/rsif.2022.0541\n",
        "\n",
        "### Robótica\n",
        "\n",
        "- Atchade-Adelomou P., Alonso-Linaje, G., Albo-Canals, J., Casado-Fauli, D. (2021). qRobot: A Quantum computing approach in mobile robot order picking and batching problem solver optimization. arXiv preprint [arXiv:2105.04865](https://arxiv.org/abs/2105.04865)\n",
        "- Mannone, M., Seidita, V., & Chella, A. (2023). Modeling and designing a robotic swarm: A quantum computing approach. Swarm and Evolutionary Computation, 79, 101297. https://doi.org/10.1016/j.swevo.2023.101297\n",
        "- Chella, A., Gaglio, S., Mannone, M., Pilato, G., Seidita, V., Vella, F., & Zammuto, S. (2023). Quantum planning for swarm robotics. Robotics and Autonomous Systems, 161, 104362. https://doi.org/10.1016/j.robot.2023.104362\n"
      ]
    },
    {
      "cell_type": "markdown",
      "id": "operating-visitor",
      "metadata": {
        "id": "operating-visitor"
      },
      "source": [
        "## Algunas empresas de tecnologías cuánticas\n",
        "\n",
        "<center><img src=\"https://drive.google.com/uc?export=view&id=1YWunTU_o6aM6cBjII2WnOAgo12j_fZTi\" alt=\"Ecosistema empresarial\" width=\"800\"  /></center>\n",
        "\n",
        "(Fuente: https://www.bcg.com/publications/2018/next-decade-quantum-computing-how-play, 2018)\n",
        "\n"
      ]
    },
    {
      "cell_type": "code",
      "execution_count": null,
      "id": "white-checkout",
      "metadata": {
        "id": "white-checkout"
      },
      "outputs": [],
      "source": []
    }
  ],
  "metadata": {
    "kernelspec": {
      "display_name": "Python 3 (ipykernel)",
      "language": "python",
      "name": "python3"
    },
    "language_info": {
      "codemirror_mode": {
        "name": "ipython",
        "version": 3
      },
      "file_extension": ".py",
      "mimetype": "text/x-python",
      "name": "python",
      "nbconvert_exporter": "python",
      "pygments_lexer": "ipython3",
      "version": "3.10.10"
    },
    "colab": {
      "provenance": [],
      "include_colab_link": true
    }
  },
  "nbformat": 4,
  "nbformat_minor": 5
}