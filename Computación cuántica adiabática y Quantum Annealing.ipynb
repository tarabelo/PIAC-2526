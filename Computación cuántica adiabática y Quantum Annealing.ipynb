{
  "cells": [
    {
      "cell_type": "markdown",
      "metadata": {
        "id": "view-in-github",
        "colab_type": "text"
      },
      "source": [
        "<a href=\"https://colab.research.google.com/github/tarabelo/PIAC-2526/blob/main/Computaci%C3%B3n%20cu%C3%A1ntica%20adiab%C3%A1tica%20y%20Quantum%20Annealing.ipynb\" target=\"_parent\"><img src=\"https://colab.research.google.com/assets/colab-badge.svg\" alt=\"Open In Colab\"/></a>"
      ]
    },
    {
      "cell_type": "markdown",
      "id": "placed-mechanics",
      "metadata": {
        "id": "placed-mechanics"
      },
      "source": [
        "# **Computación cuántica adiabática y Quantum Annealing**\n",
        "\n",
        "### Contenidos\n",
        "\n",
        "1. [Computación cuántica adiabática](#adiabatica)\n",
        "1. [Quantum Annealing](#annealing)\n"
      ]
    },
    {
      "cell_type": "markdown",
      "id": "534e725f",
      "metadata": {
        "id": "534e725f"
      },
      "source": [
        "<a name=\"adiabatica\"></a>\n",
        "\n",
        "## **Computación cuántica adiabática**\n",
        "\n",
        "Forma alternativa de computación cuántica basada en la evolución temporal de un Hamiltoniano y en el [teorema adiabático](https://en.wikipedia.org/wiki/Adiabatic_theorem)\n",
        "\n",
        "#### Ecuación de Schrödinger\n",
        "\n",
        "La evolución temporal de un sistema cuántico viene dada por la ecuación de Schrödinger:\n",
        "\n",
        "$$i\\hbar \\frac{\\partial}{\\partial t}|\\psi(t)\\rangle = H(t)|\\psi(t)\\rangle$$\n",
        "\n",
        "$H(t)$ es el Hamiltoniano del sistema en el instante $t$ y define la energía del mismo.\n",
        "\n",
        "#### Teorema adiabático\n",
        "Si un sistema cuántico está en un estado base (estado de menor energía o _ground state_) de un Hamiltoniano inicial y se le hace evolucionar muy lentamente hacia un Hamiltoniano final, este estado inicial evolucionará al estado base del Hamiltoniano final, tras un tiempo suficientemente largo.\n",
        "\n",
        "Supongamos que tenemos un Hamiltoniano $H_c$ (_Hamiltoniano de coste_) cuyo estado base codifica la solución de nuestro problema.\n",
        "\n",
        "Partimos de un Hamiltoniano $H_0$ cuyo estado base es facil de preparar y queremos llegar, en un tiempo $T$, al estado base de $H_c$. Hacemos evolucionar el sistema desde $t=0$ hasta $t=T$ como sigue:\n",
        "\n",
        "$$H(t) = A(t)H_0 + B(t)H_c$$\n",
        "\n",
        "donde las funciones $A$ y $B$ verifican: $A(0) = B(T) = 1$ y $A(T) = B(0) = 0$.\n",
        "\n",
        "Un ejemplo de estas funciones son\n",
        "\n",
        "$$\n",
        "A(t) =  \\left(1-\\frac{t}{T}\\right)\\\\\n",
        "B(t) = \\frac{t}{T}\n",
        "$$\n",
        "\n",
        "\n",
        "Si $t$ cambia muy lentamente, el sistema pasa de $H(0) = H_0$ a $H(T) = H_c$ manteniéndose en el estado base.\n",
        "\n",
        "Midiendo el estado del sistema en $t=T$ obtenemos el estado $|\\psi\\rangle$ que minimiza $\\langle\\psi|H_c|\\psi\\rangle$ y que es la solución del problema.\n",
        "\n",
        "En [Aharonov et al. 2007](https://doi.org/10.1137/080734479) se demostró que la computación cuántica adiabática es equivalente a la computación cuántica basada en puertas.\n",
        "\n",
        "#### Tiempo de evolución\n",
        "\n",
        "El teorema adiabático establece que para que $H(t)$ se mantenga en el estado base, $T$ tiene que ser inversamente proporcional al cuadrado del *spectral gap* (minima diferencia de energía entre el estado base y el primer estado excitado de $H(t)$ con $t\\in[0,T]$).\n",
        "\n",
        "Encontrar el valor del *spectral gap* es muy complejo. Además, $T$ podría llegar a ser muy grande. El *Quantum annealing* es una implementación práctica de la computación cuántica adiabática.\n",
        "\n",
        "\n"
      ]
    },
    {
      "cell_type": "markdown",
      "source": [
        "<a name=\"annealing\"></a>\n",
        "\n",
        "## **Quantum annealing**\n",
        "\n",
        "Es un modelo similar a la computación cuántica adiabática, con ciertas limitaciones:\n",
        "\n",
        "- El Hamiltoniano final tiene que ser un Hamiltoniano Ising:  \n",
        "\n",
        "$$\n",
        "H_c = -\\sum_{i,j=0}^{n-1} J_{ij}Z_iZ_j - \\sum_{i=0}^{n-1} h_{i}Z_i\n",
        "$$\n",
        "\n",
        "- No se mantiene la evolución adiabática $\\implies$ el estado final podría no ser el estado base de $H_c$\n",
        "\n",
        "**Estado inicial $H_0$**\n",
        "\n",
        "Se suele usar como estado inicial el siguiente:\n",
        "\n",
        "$$\n",
        "H_0 = -\\sum_{i=0}^{n-1} X_i\n",
        "$$\n",
        "\n",
        "Este estado se denomina _mixing Hamiltonian_ y su estado base es $|\\psi_0\\rangle = |+\\rangle^{\\otimes n}$\n",
        "\n",
        "**Evolución del Hamiltoniano**\n",
        "\n",
        "La evolución viene dada por:\n",
        "\n",
        "$$\n",
        "H(t) = A(t)H_0 + B(t)H_c = -A(t)\\sum_{i=0}^{n-1} X_i - B(t)\\sum_{i,j=0}^{n-1} J_{ij}Z_iZ_j - B(t)\\sum_{i=0}^{n-1} h_{i}Z_i\n",
        "$$\n",
        "\n",
        "\n",
        "### Quantum annealers\n",
        "Computadores cuánticos que resuelven problemas de optimización mediante Quantum annealing.\n",
        "\n",
        "- [D-Wave Systems](https://www.dwavesys.com/): Primera empresa en vender quantum annealers\n",
        "  - El último modelo dispone de más de 7000 cúbits\n",
        "  - Suite Ocean: incluye diferentes paquetes, entre otros:\n",
        "    - dwave-system: para enviar problemas a los sistemas cuánticos de D-Wave (incluyendo a través del servicio en la nube [Leap](https://cloud.dwavesys.com/)).\n",
        "    - dimod: para definir estructuras de datos y modelos matemáticos de diferentes tipos de problemas.\n",
        "    - dwave-networkx: integración con NetworkX para grafos.\n",
        "    - dwave-neal: simulador clásico basado en [simulated annealing](https://en.wikipedia.org/wiki/Simulated_annealing).\n",
        "    \n",
        "  - Tipo de problemas: optimización de portfolios, optimización de rutas y gestión de flotas, optimización de líneas de producción, búsqueda de similaridad entre moléculas, etc.\n",
        "\n",
        "\n"
      ],
      "metadata": {
        "id": "-wXRTqICvMVB"
      },
      "id": "-wXRTqICvMVB"
    },
    {
      "cell_type": "code",
      "execution_count": null,
      "id": "_8o7ueSP4yZ8",
      "metadata": {
        "id": "_8o7ueSP4yZ8"
      },
      "outputs": [],
      "source": [
        "!pip install dwave-ocean-sdk dwave-neal"
      ]
    },
    {
      "cell_type": "markdown",
      "source": [
        "Para obtener la versión instalada:"
      ],
      "metadata": {
        "id": "edUIlTP3sRUw"
      },
      "id": "edUIlTP3sRUw"
    },
    {
      "cell_type": "code",
      "source": [
        "!dwave --version"
      ],
      "metadata": {
        "id": "6WG2nbKisW02"
      },
      "id": "6WG2nbKisW02",
      "execution_count": null,
      "outputs": []
    },
    {
      "cell_type": "markdown",
      "source": [
        "DWave ofrecía un acceso gratuito general (limitado) a sus sistemas, pero lo canceló en enedro de 2025:\n",
        "\n",
        "  - El programa [Leap Quantum LaunchPad](https://www.dwavequantum.com/quantum-launchpad/) proporciona acceso por 3 meses a usuarios cualificados.\n",
        "\n",
        "Al darse de alta, se obtiene una API key que se configura ejecutando:"
      ],
      "metadata": {
        "id": "fHrrtIKqsl-T"
      },
      "id": "fHrrtIKqsl-T"
    },
    {
      "cell_type": "code",
      "source": [
        "!dwave config create"
      ],
      "metadata": {
        "id": "wJo6eTUAsv-o"
      },
      "id": "wJo6eTUAsv-o",
      "execution_count": null,
      "outputs": []
    },
    {
      "cell_type": "markdown",
      "source": [
        "**Ejemplo**\n",
        "\n",
        "<center><img src=\"https://drive.google.com/uc?export=view&id=1pHIFMBSBWWciVhG1ll_SAKibigkHOiKz\" alt=\"Malla Ising 3 nodos\" width=\"350\"  /></center>\n",
        "\n",
        "El Hamiltoniano Ising de esta malla es:\n",
        "$$\n",
        "H = -\\sum_{(i,j) \\in E} J_{ij} Z_iZ_j - \\sum_j h_j Z_j = Z_0Z_1 - 3Z_1Z_2\n",
        "$$\n",
        "\n",
        "Es decir, $J_{01}=-1$, $J_{12} = 3$, $h_j=0$.\n",
        "\n",
        "Este problema se puede expresar usando [dimod](https://docs.dwavequantum.com/en/latest/ocean/api_ref_dimod/), la biblioteca base de D-Wave Ocean para representar y resolver distintos modelos de problemas con y sin restricciones, como los siguientes:\n",
        "\n",
        " - Modelos cuadráticos binarios (QBM), como QUBO o Ising.\n",
        " - Modelos cuadráticos con restricciones\n",
        " - Modelos discretos cuadráticos"
      ],
      "metadata": {
        "id": "Y8ioOBBOgBzR"
      },
      "id": "Y8ioOBBOgBzR"
    },
    {
      "cell_type": "code",
      "execution_count": null,
      "id": "OccQihye5GoP",
      "metadata": {
        "id": "OccQihye5GoP"
      },
      "outputs": [],
      "source": [
        "from dimod import BinaryQuadraticModel, SPIN\n",
        "J = {(0,1):-1, (1,2):3}\n",
        "h = {}\n",
        "\n",
        "# Expresamos el grafo simple como un modelo binario cuadrático\n",
        "# SPIN: las variables toman valores {-1,1} (Ising)\n",
        "problem = BinaryQuadraticModel(h, J, 0.0, SPIN)\n",
        "print(\"El problema a resolver es:\")\n",
        "print(problem)"
      ]
    },
    {
      "cell_type": "markdown",
      "source": [
        "### Servicio en la nube [Leap](https://cloud.dwavesys.com/leap)\n",
        "\n",
        "DWave ofrecía un acceso gratuito general (limitado) a sus sistemas en la nube, pero lo canceló en 2025:\n",
        "\n",
        "  - El programa [Leap Quantum LaunchPad](https://www.dwavequantum.com/quantum-launchpad/) proporciona acceso por 3 meses a usuarios cualificados.\n",
        "\n",
        "Si tenemos ese acceso, para resolver el problema en un quantum annealer, haríamos:"
      ],
      "metadata": {
        "id": "k88aD6Cfl7Si"
      },
      "id": "k88aD6Cfl7Si"
    },
    {
      "cell_type": "code",
      "execution_count": null,
      "id": "kW15PjPoC1Z9",
      "metadata": {
        "id": "kW15PjPoC1Z9"
      },
      "outputs": [],
      "source": [
        "from dwave.system import DWaveSampler\n",
        "from dwave.system import EmbeddingComposite\n",
        "\n",
        "sampler = EmbeddingComposite(DWaveSampler())\n",
        "\n",
        "# Hacemos 10 ejecuciones\n",
        "result = sampler.sample(problem, num_reads=10)\n",
        "print(\"Las soluciones obtenidas son\")\n",
        "print(result)"
      ]
    },
    {
      "cell_type": "markdown",
      "source": [
        "Principales funciones:\n",
        "\n",
        "  - [DWaveSampler](https://docs.dwavequantum.com/en/latest/ocean/api_ref_system/samplers.html#dwavesampler): permite usar un sistema de DWave como un sampler en el código.\n",
        "  - [EmbeddingComposite](https://docs.dwavequantum.com/en/latest/ocean/api_ref_system/composites.html#dwave.system.composites.EmbeddingComposite): permite mapear el problema en la configuraciñón física del sistema DWave."
      ],
      "metadata": {
        "id": "52tCy5zKub_V"
      },
      "id": "52tCy5zKub_V"
    },
    {
      "cell_type": "markdown",
      "source": [
        "### Solución con dimod y simulación\n",
        "\n",
        "Dimod incluye un resolutor por fuerza bruta, que prueba todas las posibles combinaciones"
      ],
      "metadata": {
        "id": "0Q4xVJxurCr0"
      },
      "id": "0Q4xVJxurCr0"
    },
    {
      "cell_type": "code",
      "source": [
        "from dimod import ExactSolver\n",
        "solver = ExactSolver()\n",
        "solution = solver.sample(problem)\n",
        "print(solution)"
      ],
      "metadata": {
        "id": "ycXDJfYSxJdW"
      },
      "id": "ycXDJfYSxJdW",
      "execution_count": null,
      "outputs": []
    },
    {
      "cell_type": "markdown",
      "source": [
        "Podemos usar el simulador basado en annealing simulado"
      ],
      "metadata": {
        "id": "2AEfsciTxw0_"
      },
      "id": "2AEfsciTxw0_"
    },
    {
      "cell_type": "code",
      "execution_count": null,
      "id": "i0bhL0FT5j2x",
      "metadata": {
        "id": "i0bhL0FT5j2x"
      },
      "outputs": [],
      "source": [
        "# neal: simulador de annealing de DWave\n",
        "from neal import SimulatedAnnealingSampler\n",
        "\n",
        "# Usamos un simulador clásico en vez del D-WaveSampler\n",
        "sampler = SimulatedAnnealingSampler()\n",
        "\n",
        "# Ejecutamos 10 repeticiones\n",
        "result = sampler.sample(problem, num_reads=10)\n",
        "\n",
        "print(\"\\nLas soluciones obtenidas son:\")\n",
        "print(result)\n"
      ]
    },
    {
      "cell_type": "markdown",
      "source": [
        "\n",
        "\n",
        "---\n",
        "\n",
        "\n",
        "\n",
        "---\n",
        "\n"
      ],
      "metadata": {
        "id": "fwdVp8dlV6KU"
      },
      "id": "fwdVp8dlV6KU"
    },
    {
      "cell_type": "markdown",
      "source": [
        "## **Ejercicio 3**\n",
        "\n",
        "Para el grafo de la imagen, expresa el algoritmo MAXCUT en formato QUBO, exprésalo en dimod y resuelvelo de forma exacta y con Annealing simulado\n",
        "\n",
        "<center><img src=\"https://drive.google.com/uc?export=view&id=1t37PWgnsVWRkX16wcbmFSPZNZ1D0dUOS\" alt=\"Ejemplo MAX-CUT\" width=\"700\"  /></center>\n"
      ],
      "metadata": {
        "id": "4t7U2_e4OtFt"
      },
      "id": "4t7U2_e4OtFt"
    },
    {
      "cell_type": "markdown",
      "source": [
        "\n",
        "\n",
        "---\n",
        "\n",
        "\n",
        "\n",
        "---\n",
        "\n"
      ],
      "metadata": {
        "id": "oo607O6KV9BS"
      },
      "id": "oo607O6KV9BS"
    },
    {
      "cell_type": "markdown",
      "source": [
        "#### Uso de _dwave-networkx_\n",
        "\n",
        "El módulo dwave-networkx permite resolver el problema anterior de forma simple, definiendo el grafo mediante la librería _networkx_ de Python\n"
      ],
      "metadata": {
        "id": "Ruw6oUR0V-jE"
      },
      "id": "Ruw6oUR0V-jE"
    },
    {
      "cell_type": "code",
      "source": [
        "import numpy as np\n",
        "import networkx as nx  # Librería para manejar grafos\n",
        "import dwave_networkx as dnx\n",
        "from neal import SimulatedAnnealingSampler\n",
        "\n",
        "# Ejemplo de grafo con 5 nodos\n",
        "nnodes = 5\n",
        "G = nx.Graph()\n",
        "# Añade nodos y aristas\n",
        "G.add_nodes_from(np.arange(0,nnodes,1))\n",
        "edges = [(0,1,3),(1,2,2),(1,3,4),(2,4,1),(2,3,7),(3,4,5)]\n",
        "G.add_weighted_edges_from(edges)\n",
        "\n",
        "\n",
        "# Obtener un lado del  usando annealing simulado\n",
        "cut = dnx.weighted_maximum_cut(G, sampler=SimulatedAnnealingSampler())\n",
        "\n",
        "# Calcular aristas cortadas y peso total\n",
        "cut_edges = [(int(u), int(v), G[u][v]['weight']) for u, v in G.edges() if (u in cut) ^ (v in cut)]\n",
        "cut_value = sum(w for _, _, w in cut_edges)\n",
        "\n",
        "print(\"Un lado del corte:\", cut)\n",
        "print(\"Aristas cortadas:\", cut_edges)\n",
        "print(\"Peso total del corte:\", cut_value)"
      ],
      "metadata": {
        "id": "MYq4eynVSKFz"
      },
      "id": "MYq4eynVSKFz",
      "execution_count": null,
      "outputs": []
    },
    {
      "cell_type": "markdown",
      "source": [
        "### Problemas binarios cuadráticos con restricciones\n",
        "\n",
        "Supongamos un problema como este:\n",
        "\\begin{align*}\n",
        "\\text{Minimizar}\\quad & -5x_0 +3 x_1 - 2x_2 \\\\\n",
        "\\text{sujeto a}\\quad & x_0+x_1 \\le 1, \\\\\n",
        "& 3x_0-x_1+3x_2 \\le 4,\\\\\n",
        "& x_j \\in \\{0,1\\}, j=0,1,2\n",
        "\\end{align*}\n",
        "\n",
        "Usando dimod lo expresamos como un problema CQM (_Constrained cuadratic Model_) de la siguiente forma:"
      ],
      "metadata": {
        "id": "4SIFvJC3XNKq"
      },
      "id": "4SIFvJC3XNKq"
    },
    {
      "cell_type": "code",
      "source": [
        "from dimod import Binary, ConstrainedQuadraticModel\n",
        "x0, x1, x2 = Binary('x0'), Binary('x1'), Binary('x2')\n",
        "\n",
        "cqm = ConstrainedQuadraticModel()\n",
        "cqm.set_objective(-5*x0+3*x1-2*x2)\n",
        "cqm.add_constraint(x0+x2 <= 1, 'Primera restricción')\n",
        "cqm.add_constraint(3*x0-x1+3*x2 <= 4, 'Segunda restricción')\n",
        "\n",
        "print(cqm)"
      ],
      "metadata": {
        "id": "Pv8cZIFCXEJs"
      },
      "id": "Pv8cZIFCXEJs",
      "execution_count": null,
      "outputs": []
    },
    {
      "cell_type": "markdown",
      "source": [
        "Lo resolvemos por fuerza bruta"
      ],
      "metadata": {
        "id": "zKsgByxAsCNA"
      },
      "id": "zKsgByxAsCNA"
    },
    {
      "cell_type": "code",
      "source": [
        "from dimod import ExactCQMSolver\n",
        "\n",
        "# Resolver con ExactCQMSolver\n",
        "solver = ExactCQMSolver()\n",
        "sampleset = solver.sample_cqm(cqm)\n",
        "\n",
        "print(sampleset)\n",
        "\n",
        "# Mejor solución\n",
        "best = sampleset.first\n",
        "print(\"Mejor solución:\", best.sample)\n",
        "print(\"Valor objetivo:\", best.energy)\n",
        "print(\"¿Es factible? \", best.is_feasible)\n",
        "print(\"¿Se satisfacen las restricciones? \", best.is_satisfied)"
      ],
      "metadata": {
        "id": "fzKYMvRwY3Yi"
      },
      "id": "fzKYMvRwY3Yi",
      "execution_count": null,
      "outputs": []
    },
    {
      "cell_type": "markdown",
      "source": [
        "Entre las soluciones, incluye aquellas que no son factibles.\n",
        "\n",
        "Para quedarnos con las soluciones que cumplen las restricciones, hacemos:"
      ],
      "metadata": {
        "id": "CB425bHjsNo0"
      },
      "id": "CB425bHjsNo0"
    },
    {
      "cell_type": "code",
      "source": [
        "solutions = sampleset.filter(lambda s: s.is_feasible)\n",
        "\n",
        "print(solutions)\n",
        "\n",
        "# Mejor solución factible\n",
        "best = solutions.first\n",
        "print(\"\\nMejor solución factible:\", best.sample)\n",
        "print(\"Valor objetivo:\", best.energy)\n",
        "print(\"¿Es factible? \", best.is_feasible)\n",
        "print(\"¿Se satisfacen las restricciones? \", best.is_satisfied)"
      ],
      "metadata": {
        "id": "YgKi9HZ1ZyLL"
      },
      "id": "YgKi9HZ1ZyLL",
      "execution_count": null,
      "outputs": []
    },
    {
      "cell_type": "markdown",
      "source": [
        "#### Solución usando sistemas DWave\n",
        "\n",
        "Para resolver el problema CQM en el Quantum Annealer hay dos opciones:\n",
        "\n",
        "1. Convertir el problema en un BQM sin restricciones y usar DWaveSampler (o SimulatedAnnealingSampler para resolverso en un sistema clásico)\n",
        "2. Usar un [Hybrid Solver](https://docs.dwavequantum.com/en/latest/industrial_optimization/leap_hybrid.htm) en Leap: sistemas híbridos cuántico/clásicos en la nube para resolver problemas formulados como modelos cuadráticos o no lineales.\n",
        "  - Hybrid nonlinear-program solver:\n",
        "    - Modelos de optimización no lineal en variables continuas o discretas.\n",
        "    - Funciones objetivo y restricciones arbitrarias, incluyendo términos no polinómicos\n",
        "  - Hybrid CQM solver:  \n",
        "    - Modelos cuadráticos con restricciones lineales o cuadráticas.\n",
        "  - Hybrid BQM solver:\n",
        "    - Modelos BQM más complejos de los que se pueden mandar directemente al annealer\n",
        "    - Manda casi todo al annealer; la parte híbrida ayuda con la selección de parámetros, la escalabilidad y postprocesamiento.\n",
        "  - Hybrid DQM solver:\n",
        "    - Funciones cuadráticas en variables discretas categóricas\n",
        "3. Usar el paquete [dwave-hybrid](https://docs.dwavequantum.com/en/latest/industrial_optimization/dwave_hybrid.html) para crear un solver híbrido personalizado\n",
        "  - Permite combinar métodos clásicos y cuánticos en pipelines, iteraciones y workflows flexibles.\n",
        "\n"
      ],
      "metadata": {
        "id": "S8olMzg7vsqA"
      },
      "id": "S8olMzg7vsqA"
    },
    {
      "cell_type": "markdown",
      "source": [
        "#### Solución usando un Hybrid CQM Solver"
      ],
      "metadata": {
        "id": "jHLqLly83S_P"
      },
      "id": "jHLqLly83S_P"
    },
    {
      "cell_type": "code",
      "source": [
        "from dwave.system import LeapHybridCQMSampler\n",
        "\n",
        "# Resolver con el Hybrid CQM Solver\n",
        "sampler = LeapHybridCQMSampler()\n",
        "sampleset = sampler.sample_cqm(cqm)\n",
        "\n",
        "# Analizar resultados\n",
        "solutions = sampleset.filter(lambda s: s.is_feasible)\n",
        "\n",
        "# Mejor solución factible\n",
        "best = solutions.first\n",
        "print(\"\\nMejor solución factible:\", best.sample)\n",
        "print(\"Valor objetivo:\", best.energy)\n",
        "print(\"¿Es factible? \", best.is_feasible)"
      ],
      "metadata": {
        "id": "NP2xQizA3Zvw"
      },
      "id": "NP2xQizA3Zvw",
      "execution_count": null,
      "outputs": []
    },
    {
      "cell_type": "markdown",
      "source": [
        "#### Solución convirtiendo a BQM\n",
        "\n",
        "Para convertir de CQM a BQM sinb restricciones usamos el método [`dimod.cqm_to_bqm`](https://docs.dwavequantum.com/en/latest/ocean/api_ref_dimod/generated/dimod.cqm_to_bqm.html)\n",
        "\n",
        "  - Convierte el modelo usando variables de holgura y penalizaciones para las restricciones.\n",
        "  - Es posible especificar el peso de las penalizaciones."
      ],
      "metadata": {
        "id": "WMKZny-N4VXp"
      },
      "id": "WMKZny-N4VXp"
    },
    {
      "cell_type": "code",
      "source": [
        "from dimod import cqm_to_bqm\n",
        "\n",
        "# invert permite obtener la soluci´ñon del CQM a partir de la del CQM\n",
        "bqm, invert = cqm_to_bqm(cqm, lagrange_multiplier=11)\n",
        "\n",
        "print(bqm)"
      ],
      "metadata": {
        "id": "bFy0O7FJvsCD"
      },
      "id": "bFy0O7FJvsCD",
      "execution_count": null,
      "outputs": []
    },
    {
      "cell_type": "code",
      "source": [
        "# Lo mostramos de forma más clara\n",
        "print('Terminos lineales')\n",
        "for v, bias in bqm.linear.items():\n",
        "  print(\"{:+}*{}\".format(bias,v))\n",
        "\n",
        "print('\\nTerminos cuadráticos')\n",
        "for (u, v), bias in bqm.quadratic.items():\n",
        "  print(\"{:+}*{}*{}\".format(bias,u,v))\n",
        "\n",
        "print(\"\\nOffset\")\n",
        "print(\"{:+}\".format(bqm.offset))"
      ],
      "metadata": {
        "id": "D09tpuLfszw1"
      },
      "id": "D09tpuLfszw1",
      "execution_count": null,
      "outputs": []
    },
    {
      "cell_type": "markdown",
      "source": [
        "\n",
        "\n",
        "---\n",
        "\n",
        "\n",
        "\n",
        "---\n",
        "\n"
      ],
      "metadata": {
        "id": "cl4j4rtmLy76"
      },
      "id": "cl4j4rtmLy76"
    },
    {
      "cell_type": "markdown",
      "source": [
        "## **Ejercicio 4**\n",
        "\n",
        "Comprobad que el modelo BQM obtenido coincide con el ejemplo de programación binaria lineal que vimos en el tema anterior, y que expresaba el problema con restricciones en formato QUBO como sigue:\n",
        "\n",
        "\n",
        "\\begin{aligned}\n",
        "\\text{Minimizar} \\quad & -5x_0+3x_1+-2x_2+P(x_0+x_2+y_0-1)^2+P(3x_0-x_1+3x_2+s_{11}+2s_{12}+2s_{13}-4)^2 \\\\\n",
        " & \\text{con }x_i,s_i = \\{0,1\\}\n",
        "\\end{aligned}\n",
        "\n",
        "\n",
        "con $P=11$.\n",
        "\n"
      ],
      "metadata": {
        "id": "kETnTTvHLxvD"
      },
      "id": "kETnTTvHLxvD"
    },
    {
      "cell_type": "markdown",
      "source": [
        "\n",
        "\n",
        "---\n",
        "\n",
        "\n",
        "\n",
        "---\n",
        "\n"
      ],
      "metadata": {
        "id": "5DR1j8wGL0sT"
      },
      "id": "5DR1j8wGL0sT"
    },
    {
      "cell_type": "code",
      "source": [
        "# neal: simulador de annealing de DWave\n",
        "from neal import SimulatedAnnealingSampler\n",
        "\n",
        "# Usamos un simulador clásico en vez del D-WaveSampler\n",
        "sampler = SimulatedAnnealingSampler()\n",
        "\n",
        "# Ejecutamos 10 repeticiones\n",
        "result = sampler.sample(bqm, num_reads=10)\n",
        "\n",
        "print(\"\\nLas soluciones obtenidas son:\")\n",
        "print(result)\n",
        "# Mejor solución factible\n",
        "best = result.first\n",
        "print(\"\\nMejor solución:\", best.sample)\n",
        "print(\"Valor objetivo:\", best.energy)"
      ],
      "metadata": {
        "id": "0nFU8c92s57n"
      },
      "id": "0nFU8c92s57n",
      "execution_count": null,
      "outputs": []
    },
    {
      "cell_type": "code",
      "source": [
        "for s in result.data():\n",
        "  print(\"Solución: {}\\t Energía {}\".format(invert(s.sample),s.energy))"
      ],
      "metadata": {
        "id": "Beld1EJWO15h"
      },
      "id": "Beld1EJWO15h",
      "execution_count": null,
      "outputs": []
    },
    {
      "cell_type": "code",
      "source": [
        "from dimod import SampleSet\n",
        "samples = []\n",
        "ocurrences=[]\n",
        "for s in result.data():\n",
        "  samples.append(invert(s.sample))\n",
        "  ocurrences.append(s.num_occurrences)\n",
        "sampleset = SampleSet.from_samples_cqm(samples, cqm, num_occurrences=ocurrences)\n",
        "print(\"Las soluciones al problema original son\")\n",
        "print(sampleset.aggregate())\n",
        "# Mejor solución factible\n",
        "best = sampleset.first\n",
        "print(\"\\nMejor solución:\", best.sample)\n",
        "print(\"Valor objetivo:\", best.energy)\n",
        "print(\"¿Es factible? \", best.is_feasible)\n",
        "print(\"¿Se satisfacen las restricciones? \", best.is_satisfied)"
      ],
      "metadata": {
        "id": "S8TFXv3aQ8KD"
      },
      "id": "S8TFXv3aQ8KD",
      "execution_count": null,
      "outputs": []
    }
  ],
  "metadata": {
    "colab": {
      "provenance": [],
      "include_colab_link": true
    },
    "kernelspec": {
      "display_name": "Python 3 (ipykernel)",
      "language": "python",
      "name": "python3"
    },
    "language_info": {
      "codemirror_mode": {
        "name": "ipython",
        "version": 3
      },
      "file_extension": ".py",
      "mimetype": "text/x-python",
      "name": "python",
      "nbconvert_exporter": "python",
      "pygments_lexer": "ipython3",
      "version": "3.12.2"
    }
  },
  "nbformat": 4,
  "nbformat_minor": 5
}