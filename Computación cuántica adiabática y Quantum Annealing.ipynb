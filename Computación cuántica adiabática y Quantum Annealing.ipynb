{
  "cells": [
    {
      "cell_type": "markdown",
      "metadata": {
        "id": "view-in-github",
        "colab_type": "text"
      },
      "source": [
        "<a href=\"https://colab.research.google.com/github/tarabelo/PIAC-2526/blob/main/Computaci%C3%B3n%20cu%C3%A1ntica%20adiab%C3%A1tica%20y%20Quantum%20Annealing.ipynb\" target=\"_parent\"><img src=\"https://colab.research.google.com/assets/colab-badge.svg\" alt=\"Open In Colab\"/></a>"
      ]
    },
    {
      "cell_type": "markdown",
      "id": "placed-mechanics",
      "metadata": {
        "id": "placed-mechanics"
      },
      "source": [
        "# **Computación cuántica adiabática y Quantum Annealing**\n",
        "\n",
        "### Contenidos\n",
        "\n",
        "1. [Computación cuántica adiabática](#adiabatica)\n",
        "1. [Quantum Annealing](#annealing)\n",
        "1. [Variational Quantum Eigensolvers (VQE)](#vqe)\n"
      ]
    },
    {
      "cell_type": "markdown",
      "id": "534e725f",
      "metadata": {
        "id": "534e725f"
      },
      "source": [
        "<a name=\"adiabatica\"></a>\n",
        "\n",
        "## **Computación cuántica adiabática**\n",
        "\n",
        "Forma alternativa de computación cuántica basada en la evolución temporal de un Hamiltoniano y en el [teorema adiabático](https://en.wikipedia.org/wiki/Adiabatic_theorem)\n",
        "\n",
        "#### Ecuación de Schrödinger\n",
        "\n",
        "La evolución temporal de un sistema cuántico viene dada por la ecuación de Schrödinger:\n",
        "\n",
        "$$i\\hbar \\frac{\\partial}{\\partial t}|\\psi(t)\\rangle = H(t)|\\psi(t)\\rangle$$\n",
        "\n",
        "$H(t)$ es el Hamiltoniano del sistema en el instante $t$ y define la energía del mismo.\n",
        "\n",
        "#### Teorema adiabático\n",
        "Si un sistema cuántico está en un estado base (estado de menor energía o _ground state_) de un Hamiltoniano inicial y se le hace evolucionar muy lentamente hacia un Hamiltoniano final, este estado inicial evolucionará al estado base del Hamiltoniano final, tras un tiempo suficientemente largo.\n",
        "\n",
        "Supongamos que tenemos un Hamiltoniano $H_c$ (_Hamiltoniano de coste_) cuyo estado base codifica la solución de nuestro problema.\n",
        "\n",
        "Partimos de un Hamiltoniano $H_0$ cuyo estado base es facil de preparar y queremos llegar, en un tiempo $T$, al estado base de $H_c$. Hacemos evolucionar el sistema desde $t=0$ hasta $t=T$ como sigue:\n",
        "\n",
        "$$H(t) = A(t)H_0 + B(t)H_c$$\n",
        "\n",
        "donde las funciones $A$ y $B$ verifican: $A(0) = B(T) = 1$ y $A(T) = B(0) = 0$.\n",
        "\n",
        "Un ejemplo de estas funciones son\n",
        "\n",
        "$$\n",
        "A(t) =  \\left(1-\\frac{t}{T}\\right)\\\\\n",
        "B(t) = \\frac{t}{T}\n",
        "$$\n",
        "\n",
        "\n",
        "Si $t$ cambia muy lentamente, el sistema pasa de $H(0) = H_0$ a $H(T) = H_c$ manteniéndose en el estado base.\n",
        "\n",
        "Midiendo el estado del sistema en $t=T$ obtenemos el estado $|\\psi\\rangle$ que minimiza $\\langle\\psi|H_c|\\psi\\rangle$ y que es la solución del problema.\n",
        "\n",
        "En [Aharonov et al. 2007](https://doi.org/10.1137/080734479) se demostró que la computación cuántica adiabática es equivalente a la computación cuántica basada en puertas.\n",
        "\n",
        "#### Tiempo de evolución\n",
        "\n",
        "El teorema adiabático establece que para que $H(t)$ se mantenga en el estado base, $T$ tiene que ser inversamente proporcional al cuadrado del *spectral gap* (minima diferencia de energía entre el estado base y el primer estado excitado de $H(t)$ con $t\\in[0,T]$).\n",
        "\n",
        "Encontrar el valor del *spectral gap* es muy complejo. Además, $T$ podría llegar a ser muy grande. El *Quantum annealing* es una implementación práctica de la computación cuántica adiabática.\n",
        "\n",
        "\n"
      ]
    },
    {
      "cell_type": "markdown",
      "source": [
        "<a name=\"annealing\"></a>\n",
        "\n",
        "## **Quantum annealing**\n",
        "\n",
        "Es un modelo similar a la computación cuántica adiabática, con ciertas limitaciones:\n",
        "\n",
        "- El Hamiltoniano final tiene que ser un Hamiltoniano Ising:  \n",
        "\n",
        "$$\n",
        "H_c = -\\sum_{i,j=0}^{n-1} J_{ij}Z_iZ_j - \\sum_{i=0}^{n-1} h_{i}Z_i\n",
        "$$\n",
        "\n",
        "- No se mantiene la evolución adiabática $\\implies$ el estado final podría no ser el estado base de $H_c$\n",
        "\n",
        "**Estado inicial $H_0$**\n",
        "\n",
        "Se suele usar como estado inicial el siguiente:\n",
        "\n",
        "$$\n",
        "H_0 = -\\sum_{i=0}^{n-1} X_i\n",
        "$$\n",
        "\n",
        "Este estado se denomina _mixing Hamiltonian_ y su estado base es $|\\psi_0\\rangle = |+\\rangle^{\\otimes n}$\n",
        "\n",
        "**Evolución del Hamiltoniano**\n",
        "\n",
        "La evolución viene dada por:\n",
        "\n",
        "$$\n",
        "H(t) = A(t)H_0 + B(t)H_c = -A(t)\\sum_{i=0}^{n-1} X_i - B(t)\\sum_{i,j=0}^{n-1} J_{ij}Z_iZ_j - B(t)\\sum_{i=0}^{n-1} h_{i}Z_i\n",
        "$$\n",
        "\n",
        "\n",
        "### Quantum annealers\n",
        "Computadores cuánticos que resuelven problemas de optimización mediante Quantum annealing.\n",
        "\n",
        "- [D-Wave Systems](https://www.dwavesys.com/): Primera empresa en vender quantum annealers\n",
        "  - El último modelo dispone de más de 7000 cúbits\n",
        "  - Suite Ocean: incluye diferentes paquetes, entre otros:\n",
        "    - dwave-system: para enviar problemas a los sistemas cuánticos de D-Wave (incluyendo a través del servicio en la nube [Leap](https://cloud.dwavesys.com/)).\n",
        "    - dimod: para definir estructuras de datos y modelos matemáticos de diferentes tipos de problemas.\n",
        "    - dwave-networkx: integración con NetworkX para grafos.\n",
        "    - dwave-neal: simulador clásico basado en [simulated annealing](https://en.wikipedia.org/wiki/Simulated_annealing).\n",
        "    \n",
        "  - Tipo de problemas: optimización de portfolios, optimización de rutas y gestión de flotas, optimización de líneas de producción, búsqueda de similaridad entre moléculas, etc.\n",
        "\n",
        "\n"
      ],
      "metadata": {
        "id": "-wXRTqICvMVB"
      },
      "id": "-wXRTqICvMVB"
    },
    {
      "cell_type": "code",
      "execution_count": 8,
      "id": "_8o7ueSP4yZ8",
      "metadata": {
        "id": "_8o7ueSP4yZ8",
        "outputId": "fa9c936f-65cc-4454-acd9-a82355b8f80e",
        "colab": {
          "base_uri": "https://localhost:8080/"
        }
      },
      "outputs": [
        {
          "output_type": "stream",
          "name": "stdout",
          "text": [
            "Requirement already satisfied: dwave-ocean-sdk in /usr/local/lib/python3.12/dist-packages (8.4.0)\n",
            "Requirement already satisfied: dimod==0.12.20 in /usr/local/lib/python3.12/dist-packages (from dwave-ocean-sdk) (0.12.20)\n",
            "Requirement already satisfied: dwave-cloud-client==0.13.6 in /usr/local/lib/python3.12/dist-packages (from dwave-ocean-sdk) (0.13.6)\n",
            "Requirement already satisfied: dwave-gate==0.3.4 in /usr/local/lib/python3.12/dist-packages (from dwave-ocean-sdk) (0.3.4)\n",
            "Requirement already satisfied: dwave-hybrid==0.6.14 in /usr/local/lib/python3.12/dist-packages (from dwave-ocean-sdk) (0.6.14)\n",
            "Requirement already satisfied: dwave-inspector==0.5.4 in /usr/local/lib/python3.12/dist-packages (from dwave-ocean-sdk) (0.5.4)\n",
            "Requirement already satisfied: dwave-networkx==0.8.18 in /usr/local/lib/python3.12/dist-packages (from dwave-ocean-sdk) (0.8.18)\n",
            "Requirement already satisfied: dwave-optimization==0.6.2 in /usr/local/lib/python3.12/dist-packages (from dwave-ocean-sdk) (0.6.2)\n",
            "Requirement already satisfied: dwave-preprocessing==0.6.9 in /usr/local/lib/python3.12/dist-packages (from dwave-ocean-sdk) (0.6.9)\n",
            "Requirement already satisfied: dwave-samplers==1.6.0 in /usr/local/lib/python3.12/dist-packages (from dwave-ocean-sdk) (1.6.0)\n",
            "Requirement already satisfied: dwave-system==1.32.0 in /usr/local/lib/python3.12/dist-packages (from dwave-ocean-sdk) (1.32.0)\n",
            "Requirement already satisfied: dwavebinarycsp==0.3.1 in /usr/local/lib/python3.12/dist-packages (from dwave-ocean-sdk) (0.3.1)\n",
            "Requirement already satisfied: minorminer==0.2.19 in /usr/local/lib/python3.12/dist-packages (from dwave-ocean-sdk) (0.2.19)\n",
            "Requirement already satisfied: penaltymodel==1.2.0 in /usr/local/lib/python3.12/dist-packages (from dwave-ocean-sdk) (1.2.0)\n",
            "Requirement already satisfied: numpy>=1.17.3 in /usr/local/lib/python3.12/dist-packages (from dimod==0.12.20->dwave-ocean-sdk) (2.0.2)\n",
            "Requirement already satisfied: requests<3,>=2.25 in /usr/local/lib/python3.12/dist-packages (from requests[socks]<3,>=2.25->dwave-cloud-client==0.13.6->dwave-ocean-sdk) (2.32.4)\n",
            "Requirement already satisfied: urllib3<3,>=1.26 in /usr/local/lib/python3.12/dist-packages (from dwave-cloud-client==0.13.6->dwave-ocean-sdk) (2.5.0)\n",
            "Requirement already satisfied: pydantic<3,>=2 in /usr/local/lib/python3.12/dist-packages (from dwave-cloud-client==0.13.6->dwave-ocean-sdk) (2.11.7)\n",
            "Requirement already satisfied: homebase<2,>=1.0 in /usr/local/lib/python3.12/dist-packages (from dwave-cloud-client==0.13.6->dwave-ocean-sdk) (1.0.1)\n",
            "Requirement already satisfied: click<9,>=7.0 in /usr/local/lib/python3.12/dist-packages (from dwave-cloud-client==0.13.6->dwave-ocean-sdk) (8.2.1)\n",
            "Requirement already satisfied: python-dateutil<3,>=2.7 in /usr/local/lib/python3.12/dist-packages (from dwave-cloud-client==0.13.6->dwave-ocean-sdk) (2.9.0.post0)\n",
            "Requirement already satisfied: plucky<0.5,>=0.4.3 in /usr/local/lib/python3.12/dist-packages (from dwave-cloud-client==0.13.6->dwave-ocean-sdk) (0.4.3)\n",
            "Requirement already satisfied: diskcache<6,>=5.2.1 in /usr/local/lib/python3.12/dist-packages (from dwave-cloud-client==0.13.6->dwave-ocean-sdk) (5.6.3)\n",
            "Requirement already satisfied: packaging>=19 in /usr/local/lib/python3.12/dist-packages (from dwave-cloud-client==0.13.6->dwave-ocean-sdk) (25.0)\n",
            "Requirement already satisfied: werkzeug<4,>=2.2 in /usr/local/lib/python3.12/dist-packages (from dwave-cloud-client==0.13.6->dwave-ocean-sdk) (3.1.3)\n",
            "Requirement already satisfied: typing-extensions<5,>=4.5.0 in /usr/local/lib/python3.12/dist-packages (from dwave-cloud-client==0.13.6->dwave-ocean-sdk) (4.14.1)\n",
            "Requirement already satisfied: authlib<2,>=1.2 in /usr/local/lib/python3.12/dist-packages (from dwave-cloud-client==0.13.6->dwave-ocean-sdk) (1.6.1)\n",
            "Requirement already satisfied: importlib_metadata>=5.0.0 in /usr/local/lib/python3.12/dist-packages (from dwave-cloud-client==0.13.6->dwave-ocean-sdk) (8.7.0)\n",
            "Requirement already satisfied: orjson>=3.10 in /usr/local/lib/python3.12/dist-packages (from dwave-cloud-client==0.13.6->dwave-ocean-sdk) (3.11.2)\n",
            "Requirement already satisfied: networkx in /usr/local/lib/python3.12/dist-packages (from dwave-hybrid==0.6.14->dwave-ocean-sdk) (3.5)\n",
            "Requirement already satisfied: Flask<4,>=2.2 in /usr/local/lib/python3.12/dist-packages (from dwave-inspector==0.5.4->dwave-ocean-sdk) (3.1.1)\n",
            "Requirement already satisfied: scipy>=1.7.3 in /usr/local/lib/python3.12/dist-packages (from dwave-system==1.32.0->dwave-ocean-sdk) (1.16.1)\n",
            "Requirement already satisfied: fasteners>=0.15 in /usr/local/lib/python3.12/dist-packages (from minorminer==0.2.19->dwave-ocean-sdk) (0.20)\n",
            "Requirement already satisfied: cryptography in /usr/local/lib/python3.12/dist-packages (from authlib<2,>=1.2->dwave-cloud-client==0.13.6->dwave-ocean-sdk) (43.0.3)\n",
            "Requirement already satisfied: blinker>=1.9.0 in /usr/local/lib/python3.12/dist-packages (from Flask<4,>=2.2->dwave-inspector==0.5.4->dwave-ocean-sdk) (1.9.0)\n",
            "Requirement already satisfied: itsdangerous>=2.2.0 in /usr/local/lib/python3.12/dist-packages (from Flask<4,>=2.2->dwave-inspector==0.5.4->dwave-ocean-sdk) (2.2.0)\n",
            "Requirement already satisfied: jinja2>=3.1.2 in /usr/local/lib/python3.12/dist-packages (from Flask<4,>=2.2->dwave-inspector==0.5.4->dwave-ocean-sdk) (3.1.6)\n",
            "Requirement already satisfied: markupsafe>=2.1.1 in /usr/local/lib/python3.12/dist-packages (from Flask<4,>=2.2->dwave-inspector==0.5.4->dwave-ocean-sdk) (3.0.2)\n",
            "Requirement already satisfied: zipp>=3.20 in /usr/local/lib/python3.12/dist-packages (from importlib_metadata>=5.0.0->dwave-cloud-client==0.13.6->dwave-ocean-sdk) (3.23.0)\n",
            "Requirement already satisfied: annotated-types>=0.6.0 in /usr/local/lib/python3.12/dist-packages (from pydantic<3,>=2->dwave-cloud-client==0.13.6->dwave-ocean-sdk) (0.7.0)\n",
            "Requirement already satisfied: pydantic-core==2.33.2 in /usr/local/lib/python3.12/dist-packages (from pydantic<3,>=2->dwave-cloud-client==0.13.6->dwave-ocean-sdk) (2.33.2)\n",
            "Requirement already satisfied: typing-inspection>=0.4.0 in /usr/local/lib/python3.12/dist-packages (from pydantic<3,>=2->dwave-cloud-client==0.13.6->dwave-ocean-sdk) (0.4.1)\n",
            "Requirement already satisfied: six>=1.5 in /usr/local/lib/python3.12/dist-packages (from python-dateutil<3,>=2.7->dwave-cloud-client==0.13.6->dwave-ocean-sdk) (1.17.0)\n",
            "Requirement already satisfied: charset_normalizer<4,>=2 in /usr/local/lib/python3.12/dist-packages (from requests<3,>=2.25->requests[socks]<3,>=2.25->dwave-cloud-client==0.13.6->dwave-ocean-sdk) (3.4.3)\n",
            "Requirement already satisfied: idna<4,>=2.5 in /usr/local/lib/python3.12/dist-packages (from requests<3,>=2.25->requests[socks]<3,>=2.25->dwave-cloud-client==0.13.6->dwave-ocean-sdk) (3.10)\n",
            "Requirement already satisfied: certifi>=2017.4.17 in /usr/local/lib/python3.12/dist-packages (from requests<3,>=2.25->requests[socks]<3,>=2.25->dwave-cloud-client==0.13.6->dwave-ocean-sdk) (2025.8.3)\n",
            "Requirement already satisfied: PySocks!=1.5.7,>=1.5.6 in /usr/local/lib/python3.12/dist-packages (from requests[socks]<3,>=2.25->dwave-cloud-client==0.13.6->dwave-ocean-sdk) (1.7.1)\n",
            "Requirement already satisfied: cffi>=1.12 in /usr/local/lib/python3.12/dist-packages (from cryptography->authlib<2,>=1.2->dwave-cloud-client==0.13.6->dwave-ocean-sdk) (1.17.1)\n",
            "Requirement already satisfied: pycparser in /usr/local/lib/python3.12/dist-packages (from cffi>=1.12->cryptography->authlib<2,>=1.2->dwave-cloud-client==0.13.6->dwave-ocean-sdk) (2.22)\n",
            "D-Wave Cloud Client, version 0.13.6\n",
            "Using the simplified configuration flow.\n",
            "Try 'dwave config create --full' for more options.\n",
            "\n",
            "Creating new configuration file: /root/.config/dwave/dwave.conf\n",
            "Updating existing profile: defaults\n",
            "Solver API token [skip]: 454534545\n",
            "Configuration saved.\n"
          ]
        }
      ],
      "source": [
        "!pip install dwave-ocean-sdk"
      ]
    },
    {
      "cell_type": "markdown",
      "source": [
        "Para obtener la versión instalada:"
      ],
      "metadata": {
        "id": "edUIlTP3sRUw"
      },
      "id": "edUIlTP3sRUw"
    },
    {
      "cell_type": "code",
      "source": [
        "!dwave --version"
      ],
      "metadata": {
        "id": "6WG2nbKisW02",
        "outputId": "929221dc-5857-4469-c745-ce6154da3f17",
        "colab": {
          "base_uri": "https://localhost:8080/"
        }
      },
      "id": "6WG2nbKisW02",
      "execution_count": 9,
      "outputs": [
        {
          "output_type": "stream",
          "name": "stdout",
          "text": [
            "D-Wave Cloud Client, version 0.13.6\n"
          ]
        }
      ]
    },
    {
      "cell_type": "markdown",
      "source": [
        "DWave ofrecía un acceso gratuito general (limitado) a sus sistemas, pero lo canceló en enedro de 2025:\n",
        "\n",
        "  - El programa [Leap Quantum LaunchPad](https://www.dwavequantum.com/quantum-launchpad/) proporciona acceso por 3 meses a usuarios cualificados.\n",
        "\n",
        "Al darse de alta, se obtiene una API key que se configura ejecutando:"
      ],
      "metadata": {
        "id": "fHrrtIKqsl-T"
      },
      "id": "fHrrtIKqsl-T"
    },
    {
      "cell_type": "code",
      "source": [
        "!dwave config create"
      ],
      "metadata": {
        "id": "wJo6eTUAsv-o",
        "outputId": "e173f84a-3a72-4a70-b783-0a5989fd90a6",
        "colab": {
          "base_uri": "https://localhost:8080/"
        }
      },
      "id": "wJo6eTUAsv-o",
      "execution_count": 10,
      "outputs": [
        {
          "output_type": "stream",
          "name": "stdout",
          "text": [
            "Using the simplified configuration flow.\n",
            "Try 'dwave config create --full' for more options.\n",
            "\n",
            "Updating existing configuration file: /root/.config/dwave/dwave.conf\n",
            "Available profiles: defaults\n",
            "Updating existing profile: defaults\n",
            "Solver API token [454534545]: wdwerwrerer\n",
            "Configuration saved.\n"
          ]
        }
      ]
    },
    {
      "cell_type": "markdown",
      "source": [
        "**Ejemplo**\n",
        "\n",
        "<center><img src=\"https://drive.google.com/uc?export=view&id=1pHIFMBSBWWciVhG1ll_SAKibigkHOiKz\" alt=\"Malla Ising 3 nodos\" width=\"350\"  /></center>\n",
        "\n",
        "El Hamiltoniano Ising de esta malla es:\n",
        "$$\n",
        "H = -\\sum_{(i,j) \\in E} J_{ij} Z_iZ_j - \\sum_j h_j Z_j = Z_0Z_1 - 3Z_1Z_2\n",
        "$$\n",
        "\n",
        "Es decir, $J_{01}=-1$, $J_{12} = 3$, $h_j=0$.\n",
        "\n",
        "Este problema se puede expresar usando [dimod](https://docs.dwavequantum.com/en/latest/ocean/api_ref_dimod/), la biblioteca base de D-Wave Ocean para representar y resolver distintos modelos de problemas con y sin restricciones, como los siguientes:\n",
        "\n",
        " - Modelos cuadráticos binarios (QBM), como QUBO o Ising.\n",
        " - Modelos cuadráticos con restricciones\n",
        " - Modelos discretos cuadráticos"
      ],
      "metadata": {
        "id": "Y8ioOBBOgBzR"
      },
      "id": "Y8ioOBBOgBzR"
    },
    {
      "cell_type": "code",
      "execution_count": 12,
      "id": "OccQihye5GoP",
      "metadata": {
        "id": "OccQihye5GoP",
        "outputId": "63922b03-4e7a-45be-b77c-79ed6fefad8c",
        "colab": {
          "base_uri": "https://localhost:8080/"
        }
      },
      "outputs": [
        {
          "output_type": "stream",
          "name": "stdout",
          "text": [
            "El problema a resolver es:\n",
            "BinaryQuadraticModel({0: 0.0, 1: 0.0, 2: 0.0}, {(1, 0): -1.0, (2, 1): 3.0}, 0.0, 'SPIN')\n"
          ]
        }
      ],
      "source": [
        "from dimod import BinaryQuadraticModel, SPIN\n",
        "J = {(0,1):-1, (1,2):3}\n",
        "h = {}\n",
        "\n",
        "# Expresamos el grafo simple como un modelo binario cuadrático\n",
        "# SPIN: las variables toman valores {-1,1} (Ising)\n",
        "problem = BinaryQuadraticModel(h, J, 0.0, SPIN)\n",
        "print(\"El problema a resolver es:\")\n",
        "print(problem)"
      ]
    },
    {
      "cell_type": "markdown",
      "source": [
        "DWave ofrecía un acceso gratuito general (limitado) a sus sistemas, pero lo canceló en 2025:\n",
        "\n",
        "  - El programa [Leap Quantum LaunchPad](https://www.dwavequantum.com/quantum-launchpad/) proporciona acceso por 3 meses a usuarios cualificados.\n",
        "\n",
        "Para resolver el problema en un sistema de DWave, haríamos:"
      ],
      "metadata": {
        "id": "k88aD6Cfl7Si"
      },
      "id": "k88aD6Cfl7Si"
    },
    {
      "cell_type": "code",
      "execution_count": 6,
      "id": "kW15PjPoC1Z9",
      "metadata": {
        "id": "kW15PjPoC1Z9",
        "outputId": "bc44eada-ad7c-474e-8925-be44b5210a36",
        "colab": {
          "base_uri": "https://localhost:8080/",
          "height": 356
        }
      },
      "outputs": [
        {
          "output_type": "error",
          "ename": "ValueError",
          "evalue": "API token not defined",
          "traceback": [
            "\u001b[0;31m---------------------------------------------------------------------------\u001b[0m",
            "\u001b[0;31mValueError\u001b[0m                                Traceback (most recent call last)",
            "\u001b[0;32m/tmp/ipython-input-3423706983.py\u001b[0m in \u001b[0;36m<cell line: 0>\u001b[0;34m()\u001b[0m\n\u001b[1;32m      2\u001b[0m \u001b[0;32mfrom\u001b[0m \u001b[0mdwave\u001b[0m\u001b[0;34m.\u001b[0m\u001b[0msystem\u001b[0m \u001b[0;32mimport\u001b[0m \u001b[0mEmbeddingComposite\u001b[0m\u001b[0;34m\u001b[0m\u001b[0;34m\u001b[0m\u001b[0m\n\u001b[1;32m      3\u001b[0m \u001b[0;34m\u001b[0m\u001b[0m\n\u001b[0;32m----> 4\u001b[0;31m \u001b[0msampler\u001b[0m \u001b[0;34m=\u001b[0m \u001b[0mEmbeddingComposite\u001b[0m\u001b[0;34m(\u001b[0m\u001b[0mDWaveSampler\u001b[0m\u001b[0;34m(\u001b[0m\u001b[0;34m)\u001b[0m\u001b[0;34m)\u001b[0m\u001b[0;34m\u001b[0m\u001b[0;34m\u001b[0m\u001b[0m\n\u001b[0m\u001b[1;32m      5\u001b[0m \u001b[0mresult\u001b[0m \u001b[0;34m=\u001b[0m \u001b[0msampler\u001b[0m\u001b[0;34m.\u001b[0m\u001b[0msample\u001b[0m\u001b[0;34m(\u001b[0m\u001b[0mproblem\u001b[0m\u001b[0;34m,\u001b[0m \u001b[0mnum_reads\u001b[0m\u001b[0;34m=\u001b[0m\u001b[0;36m10\u001b[0m\u001b[0;34m)\u001b[0m\u001b[0;34m\u001b[0m\u001b[0;34m\u001b[0m\u001b[0m\n\u001b[1;32m      6\u001b[0m \u001b[0mprint\u001b[0m\u001b[0;34m(\u001b[0m\u001b[0;34m\"Las soluciones obtenidas son\"\u001b[0m\u001b[0;34m)\u001b[0m\u001b[0;34m\u001b[0m\u001b[0;34m\u001b[0m\u001b[0m\n",
            "\u001b[0;32m/usr/local/lib/python3.12/dist-packages/dwave/system/samplers/dwave_sampler.py\u001b[0m in \u001b[0;36m__init__\u001b[0;34m(self, failover, retry_interval, **config)\u001b[0m\n\u001b[1;32m    193\u001b[0m         \u001b[0mself\u001b[0m\u001b[0;34m.\u001b[0m\u001b[0m_solver_penalty\u001b[0m \u001b[0;34m=\u001b[0m \u001b[0mdefaultdict\u001b[0m\u001b[0;34m(\u001b[0m\u001b[0mint\u001b[0m\u001b[0;34m)\u001b[0m\u001b[0;34m\u001b[0m\u001b[0;34m\u001b[0m\u001b[0m\n\u001b[1;32m    194\u001b[0m \u001b[0;34m\u001b[0m\u001b[0m\n\u001b[0;32m--> 195\u001b[0;31m         \u001b[0mself\u001b[0m\u001b[0;34m.\u001b[0m\u001b[0mclient\u001b[0m \u001b[0;34m=\u001b[0m \u001b[0mClient\u001b[0m\u001b[0;34m.\u001b[0m\u001b[0mfrom_config\u001b[0m\u001b[0;34m(\u001b[0m\u001b[0;34m**\u001b[0m\u001b[0mconfig\u001b[0m\u001b[0;34m)\u001b[0m\u001b[0;34m\u001b[0m\u001b[0;34m\u001b[0m\u001b[0m\n\u001b[0m\u001b[1;32m    196\u001b[0m         \u001b[0mself\u001b[0m\u001b[0;34m.\u001b[0m\u001b[0msolver\u001b[0m \u001b[0;34m=\u001b[0m \u001b[0mself\u001b[0m\u001b[0;34m.\u001b[0m\u001b[0m_get_solver\u001b[0m\u001b[0;34m(\u001b[0m\u001b[0mpenalty\u001b[0m\u001b[0;34m=\u001b[0m\u001b[0mself\u001b[0m\u001b[0;34m.\u001b[0m\u001b[0m_solver_penalty\u001b[0m\u001b[0;34m)\u001b[0m\u001b[0;34m\u001b[0m\u001b[0;34m\u001b[0m\u001b[0m\n\u001b[1;32m    197\u001b[0m \u001b[0;34m\u001b[0m\u001b[0m\n",
            "\u001b[0;32m/usr/local/lib/python3.12/dist-packages/dwave/cloud/client/base.py\u001b[0m in \u001b[0;36mfrom_config\u001b[0;34m(cls, config_file, profile, client, **kwargs)\u001b[0m\n\u001b[1;32m    445\u001b[0m \u001b[0;34m\u001b[0m\u001b[0m\n\u001b[1;32m    446\u001b[0m         \u001b[0mlogger\u001b[0m\u001b[0;34m.\u001b[0m\u001b[0mdebug\u001b[0m\u001b[0;34m(\u001b[0m\u001b[0;34m\"Creating %s.Client() with: %r\"\u001b[0m\u001b[0;34m,\u001b[0m \u001b[0m_client\u001b[0m\u001b[0;34m,\u001b[0m \u001b[0mconfig\u001b[0m\u001b[0;34m)\u001b[0m\u001b[0;34m\u001b[0m\u001b[0;34m\u001b[0m\u001b[0m\n\u001b[0;32m--> 447\u001b[0;31m         \u001b[0;32mreturn\u001b[0m \u001b[0m_clients\u001b[0m\u001b[0;34m[\u001b[0m\u001b[0m_client\u001b[0m\u001b[0;34m]\u001b[0m\u001b[0;34m(\u001b[0m\u001b[0;34m**\u001b[0m\u001b[0mconfig\u001b[0m\u001b[0;34m)\u001b[0m\u001b[0;34m\u001b[0m\u001b[0;34m\u001b[0m\u001b[0m\n\u001b[0m\u001b[1;32m    448\u001b[0m \u001b[0;34m\u001b[0m\u001b[0m\n\u001b[1;32m    449\u001b[0m     \u001b[0;34m@\u001b[0m\u001b[0mdispatches_events\u001b[0m\u001b[0;34m(\u001b[0m\u001b[0;34m'client_init'\u001b[0m\u001b[0;34m)\u001b[0m\u001b[0;34m\u001b[0m\u001b[0;34m\u001b[0m\u001b[0m\n",
            "\u001b[0;32m/usr/local/lib/python3.12/dist-packages/dwave/cloud/events.py\u001b[0m in \u001b[0;36mwrapped\u001b[0;34m(*pargs, **kwargs)\u001b[0m\n\u001b[1;32m    107\u001b[0m                     has_handler(self.after_eventname)):\n\u001b[1;32m    108\u001b[0m                 \u001b[0;31m# skip dispatch altogether\u001b[0m\u001b[0;34m\u001b[0m\u001b[0;34m\u001b[0m\u001b[0m\n\u001b[0;32m--> 109\u001b[0;31m                 \u001b[0;32mreturn\u001b[0m \u001b[0mfn\u001b[0m\u001b[0;34m(\u001b[0m\u001b[0;34m*\u001b[0m\u001b[0mpargs\u001b[0m\u001b[0;34m,\u001b[0m \u001b[0;34m**\u001b[0m\u001b[0mkwargs\u001b[0m\u001b[0;34m)\u001b[0m\u001b[0;34m\u001b[0m\u001b[0;34m\u001b[0m\u001b[0m\n\u001b[0m\u001b[1;32m    110\u001b[0m \u001b[0;34m\u001b[0m\u001b[0m\n\u001b[1;32m    111\u001b[0m             \u001b[0msig\u001b[0m \u001b[0;34m=\u001b[0m \u001b[0minspect\u001b[0m\u001b[0;34m.\u001b[0m\u001b[0msignature\u001b[0m\u001b[0;34m(\u001b[0m\u001b[0mfn\u001b[0m\u001b[0;34m)\u001b[0m\u001b[0;34m\u001b[0m\u001b[0;34m\u001b[0m\u001b[0m\n",
            "\u001b[0;32m/usr/local/lib/python3.12/dist-packages/dwave/cloud/client/base.py\u001b[0m in \u001b[0;36m__init__\u001b[0;34m(self, **kwargs)\u001b[0m\n\u001b[1;32m    479\u001b[0m \u001b[0;34m\u001b[0m\u001b[0m\n\u001b[1;32m    480\u001b[0m         \u001b[0;32mif\u001b[0m \u001b[0;32mnot\u001b[0m \u001b[0mself\u001b[0m\u001b[0;34m.\u001b[0m\u001b[0mconfig\u001b[0m\u001b[0;34m.\u001b[0m\u001b[0mtoken\u001b[0m\u001b[0;34m:\u001b[0m\u001b[0;34m\u001b[0m\u001b[0;34m\u001b[0m\u001b[0m\n\u001b[0;32m--> 481\u001b[0;31m             \u001b[0;32mraise\u001b[0m \u001b[0mValueError\u001b[0m\u001b[0;34m(\u001b[0m\u001b[0;34m\"API token not defined\"\u001b[0m\u001b[0;34m)\u001b[0m\u001b[0;34m\u001b[0m\u001b[0;34m\u001b[0m\u001b[0m\n\u001b[0m\u001b[1;32m    482\u001b[0m \u001b[0;34m\u001b[0m\u001b[0m\n\u001b[1;32m    483\u001b[0m         \u001b[0;31m# Build the problem submission queue, start its workers\u001b[0m\u001b[0;34m\u001b[0m\u001b[0;34m\u001b[0m\u001b[0m\n",
            "\u001b[0;31mValueError\u001b[0m: API token not defined"
          ]
        }
      ],
      "source": [
        "from dwave.system import DWaveSampler\n",
        "from dwave.system import EmbeddingComposite\n",
        "\n",
        "sampler = EmbeddingComposite(DWaveSampler())\n",
        "\n",
        "# Hacemos 10 ejecuciones\n",
        "result = sampler.sample(problem, num_reads=10)\n",
        "print(\"Las soluciones obtenidas son\")\n",
        "print(result)"
      ]
    },
    {
      "cell_type": "markdown",
      "source": [
        "Principales funciones:\n",
        "\n",
        "  - [DWaveSampler](https://docs.dwavequantum.com/en/latest/ocean/api_ref_system/samplers.html#dwavesampler): permite usar un sistema de DWave como un sampler en el código.\n",
        "  - [EmbeddingComposite](https://docs.dwavequantum.com/en/latest/ocean/api_ref_system/composites.html#dwave.system.composites.EmbeddingComposite): permite mapear el problema en la configuraciñón física del sistema DWave."
      ],
      "metadata": {
        "id": "52tCy5zKub_V"
      },
      "id": "52tCy5zKub_V"
    },
    {
      "cell_type": "markdown",
      "source": [
        "### Solución con dimod y simulación\n",
        "\n",
        "Dimod incluye un resolutor por fuerza bruta, que prueba todas las posibles combinaciones"
      ],
      "metadata": {
        "id": "0Q4xVJxurCr0"
      },
      "id": "0Q4xVJxurCr0"
    },
    {
      "cell_type": "code",
      "source": [
        "from dimod import ExactSolver\n",
        "solver = ExactSolver()\n",
        "solution = solver.sample(problem)\n",
        "print(solution)"
      ],
      "metadata": {
        "id": "ycXDJfYSxJdW",
        "outputId": "6577b406-5290-4171-ef28-e86ebeeb7299",
        "colab": {
          "base_uri": "https://localhost:8080/"
        }
      },
      "id": "ycXDJfYSxJdW",
      "execution_count": 18,
      "outputs": [
        {
          "output_type": "stream",
          "name": "stdout",
          "text": [
            "   0  1  2 energy num_oc.\n",
            "2 +1 +1 -1   -4.0       1\n",
            "7 -1 -1 +1   -4.0       1\n",
            "3 -1 +1 -1   -2.0       1\n",
            "6 +1 -1 +1   -2.0       1\n",
            "0 -1 -1 -1    2.0       1\n",
            "5 +1 +1 +1    2.0       1\n",
            "1 +1 -1 -1    4.0       1\n",
            "4 -1 +1 +1    4.0       1\n",
            "['SPIN', 8 rows, 8 samples, 3 variables]\n"
          ]
        }
      ]
    },
    {
      "cell_type": "markdown",
      "source": [
        "Podemos usar el simulador basado en annealing simulado"
      ],
      "metadata": {
        "id": "2AEfsciTxw0_"
      },
      "id": "2AEfsciTxw0_"
    },
    {
      "cell_type": "code",
      "execution_count": 57,
      "id": "i0bhL0FT5j2x",
      "metadata": {
        "id": "i0bhL0FT5j2x",
        "outputId": "c6f92989-9880-4625-b0bd-e6516d1a0642",
        "colab": {
          "base_uri": "https://localhost:8080/"
        }
      },
      "outputs": [
        {
          "output_type": "stream",
          "name": "stdout",
          "text": [
            "\n",
            "Las soluciones obtenidas son:\n",
            "   0  1  2 energy num_oc.\n",
            "0 -1 -1 +1   -4.0       1\n",
            "1 -1 -1 +1   -4.0       1\n",
            "2 +1 +1 -1   -4.0       1\n",
            "3 +1 +1 -1   -4.0       1\n",
            "4 -1 -1 +1   -4.0       1\n",
            "5 +1 +1 -1   -4.0       1\n",
            "6 +1 +1 -1   -4.0       1\n",
            "7 +1 +1 -1   -4.0       1\n",
            "8 -1 -1 +1   -4.0       1\n",
            "9 +1 +1 -1   -4.0       1\n",
            "['SPIN', 10 rows, 10 samples, 3 variables]\n"
          ]
        }
      ],
      "source": [
        "# neal: simulador de annealing de DWave\n",
        "from neal import SimulatedAnnealingSampler\n",
        "\n",
        "# Usamos un simulador clásico en vez del D-WaveSampler\n",
        "sampler = SimulatedAnnealingSampler()\n",
        "\n",
        "# Ejecutamos 10 repeticiones\n",
        "result = sampler.sample(problem, num_reads=10)\n",
        "\n",
        "print(\"\\nLas soluciones obtenidas son:\")\n",
        "print(result)\n"
      ]
    },
    {
      "cell_type": "markdown",
      "source": [
        "## **Ejercicio 3**\n",
        "\n",
        "Para el grafo de la imagen, expresa el algoritmo MAXCUT en formato QUBO, exprésalo en dimod y resuelvelo de forma exacta y con Annealing simulado\n",
        "\n",
        "<center><img src=\"https://drive.google.com/uc?export=view&id=1t37PWgnsVWRkX16wcbmFSPZNZ1D0dUOS\" alt=\"Ejemplo MAX-CUT\" width=\"700\"  /></center>\n"
      ],
      "metadata": {
        "id": "4t7U2_e4OtFt"
      },
      "id": "4t7U2_e4OtFt"
    },
    {
      "cell_type": "markdown",
      "source": [
        "**Solución**\n",
        "\n",
        "\n",
        "Vimos que el MAXCUT expresado como QUBO equivale a minimizar $f(x)$:\n",
        "\n",
        "$$\n",
        "f(\\mathbf{x}) = -\\sum_{(i,j) \\in E} w_{ij} (x_i + x_j - 2 x_i x_j)\n",
        "$$\n",
        "\n",
        "Para el grafo problema tenemos:\n",
        "\n",
        "$$\n",
        "f(\\mathbf{x}) = -3(x_0+x_1-2x_0x_1)-2(x_1+x_2-2x_1x_2)-4(x_1+x_3-2x_1x_3)-7(x_2+x_3-2x_2x_3)-1(x_2+x_4-2x_2x_4)-5(x_3+x_4-2x_3x_4) = 6x_0x_1+4x_1x_2+8x_1x_3+14x_2x_3+2x_2x_4+10x_3x_4-3x_0-9x_1-10x_2-16x_3-6x_4\n",
        "$$"
      ],
      "metadata": {
        "id": "JfVuAtSpPDeC"
      },
      "id": "JfVuAtSpPDeC"
    },
    {
      "cell_type": "code",
      "source": [
        "import dimod\n",
        "\n",
        "# Diccionario QUBO: (i,j): coeficiente\n",
        "Q = {\n",
        "    # Términos cuadráticos\n",
        "    (0, 1): 6,   # x0 x1\n",
        "    (1, 2): 4,   # x1 x2\n",
        "    (1, 3): 8,   # x1 x3\n",
        "    (2, 3): 14,  # x2 x3\n",
        "    (2, 4): 2,   # x2 x4\n",
        "    (3, 4): 10,  # x3 x4\n",
        "    # Terminos lineales\n",
        "    (0, 0): -3,  # x0\n",
        "    (1, 1): -9,  # x1\n",
        "    (2, 2): -10, # x2\n",
        "    (3, 3): -16, # x3\n",
        "    (4, 4): -6   # x4\n",
        "}\n",
        "\n",
        "# Crear el BinaryQuadraticModel desde QUBO\n",
        "bqm = dimod.BinaryQuadraticModel.from_qubo(Q)\n",
        "\n",
        "print(bqm)\n"
      ],
      "metadata": {
        "id": "gQOHphq2QLh9",
        "outputId": "8aaf1553-08fd-4abf-b495-1eb0051320d3",
        "colab": {
          "base_uri": "https://localhost:8080/"
        }
      },
      "id": "gQOHphq2QLh9",
      "execution_count": 54,
      "outputs": [
        {
          "output_type": "stream",
          "name": "stdout",
          "text": [
            "BinaryQuadraticModel({0: -3.0, 1: -9.0, 2: -10.0, 3: -16.0, 4: -6.0}, {(1, 0): 6.0, (2, 1): 4.0, (3, 1): 8.0, (3, 2): 14.0, (4, 2): 2.0, (4, 3): 10.0}, 0.0, 'BINARY')\n"
          ]
        }
      ]
    },
    {
      "cell_type": "markdown",
      "source": [
        "Resolverlo por fuerza bruta:"
      ],
      "metadata": {
        "id": "XiJM9WQAPDcT"
      },
      "id": "XiJM9WQAPDcT"
    },
    {
      "cell_type": "code",
      "source": [
        "from dimod import ExactSolver\n",
        "solver = ExactSolver()\n",
        "solution = solver.sample(bqm)\n",
        "print(solution)"
      ],
      "metadata": {
        "id": "-uAadOn3KtQR",
        "outputId": "2a868b2c-04ad-414a-8d94-6ba32be0033d",
        "colab": {
          "base_uri": "https://localhost:8080/"
        }
      },
      "id": "-uAadOn3KtQR",
      "execution_count": 55,
      "outputs": [
        {
          "output_type": "stream",
          "name": "stdout",
          "text": [
            "    0  1  2  3  4 energy num_oc.\n",
            "14  1  0  0  1  0  -19.0       1\n",
            "27  0  1  1  0  1  -19.0       1\n",
            "12  0  1  0  1  0  -17.0       1\n",
            "25  1  0  1  0  1  -17.0       1\n",
            "15  0  0  0  1  0  -16.0       1\n",
            "26  1  1  1  0  1  -16.0       1\n",
            "4   0  1  1  0  0  -15.0       1\n",
            "9   1  0  1  1  0  -15.0       1\n",
            "17  1  0  0  1  1  -15.0       1\n",
            "28  0  1  0  0  1  -15.0       1\n",
            "13  1  1  0  1  0  -14.0       1\n",
            "24  0  0  1  0  1  -14.0       1\n",
            "6   1  0  1  0  0  -13.0       1\n",
            "19  0  1  0  1  1  -13.0       1\n",
            "5   1  1  1  0  0  -12.0       1\n",
            "8   0  0  1  1  0  -12.0       1\n",
            "16  0  0  0  1  1  -12.0       1\n",
            "29  1  1  0  0  1  -12.0       1\n",
            "7   0  0  1  0  0  -10.0       1\n",
            "18  1  1  0  1  1  -10.0       1\n",
            "3   0  1  0  0  0   -9.0       1\n",
            "11  0  1  1  1  0   -9.0       1\n",
            "22  1  0  1  1  1   -9.0       1\n",
            "30  1  0  0  0  1   -9.0       1\n",
            "2   1  1  0  0  0   -6.0       1\n",
            "10  1  1  1  1  0   -6.0       1\n",
            "23  0  0  1  1  1   -6.0       1\n",
            "31  0  0  0  0  1   -6.0       1\n",
            "1   1  0  0  0  0   -3.0       1\n",
            "20  0  1  1  1  1   -3.0       1\n",
            "0   0  0  0  0  0    0.0       1\n",
            "21  1  1  1  1  1    0.0       1\n",
            "['BINARY', 32 rows, 32 samples, 5 variables]\n"
          ]
        }
      ]
    },
    {
      "cell_type": "markdown",
      "source": [
        "Resolverlo usando annealing simulado"
      ],
      "metadata": {
        "id": "Fjs7IdSNSBmp"
      },
      "id": "Fjs7IdSNSBmp"
    },
    {
      "cell_type": "code",
      "source": [
        "# neal: simulador de annealing de DWave\n",
        "from neal import SimulatedAnnealingSampler\n",
        "\n",
        "# Usamos un simulador clásico en vez del D-WaveSampler\n",
        "sampler = SimulatedAnnealingSampler()\n",
        "\n",
        "# Ejecutamos 10 repeticiones\n",
        "result = sampler.sample(bqm, num_reads=10)\n",
        "\n",
        "print(\"\\nThe solutions that we have obtained are:\")\n",
        "print(result)"
      ],
      "metadata": {
        "id": "SSyEjbKgR-FZ",
        "outputId": "f3aa4688-8174-4fbd-cd92-240fa45219d0",
        "colab": {
          "base_uri": "https://localhost:8080/"
        }
      },
      "id": "SSyEjbKgR-FZ",
      "execution_count": 56,
      "outputs": [
        {
          "output_type": "stream",
          "name": "stdout",
          "text": [
            "\n",
            "The solutions that we have obtained are:\n",
            "   0  1  2  3  4 energy num_oc.\n",
            "0  1  0  0  1  0  -19.0       1\n",
            "1  0  1  1  0  1  -19.0       1\n",
            "2  0  1  1  0  1  -19.0       1\n",
            "3  1  0  0  1  0  -19.0       1\n",
            "4  0  1  1  0  1  -19.0       1\n",
            "5  0  1  1  0  1  -19.0       1\n",
            "6  1  0  0  1  0  -19.0       1\n",
            "7  0  1  1  0  1  -19.0       1\n",
            "8  1  0  0  1  0  -19.0       1\n",
            "9  1  0  0  1  0  -19.0       1\n",
            "['BINARY', 10 rows, 10 samples, 5 variables]\n"
          ]
        }
      ]
    },
    {
      "cell_type": "code",
      "source": [],
      "metadata": {
        "id": "MYq4eynVSKFz"
      },
      "id": "MYq4eynVSKFz",
      "execution_count": null,
      "outputs": []
    }
  ],
  "metadata": {
    "colab": {
      "provenance": [],
      "include_colab_link": true
    },
    "kernelspec": {
      "display_name": "Python 3 (ipykernel)",
      "language": "python",
      "name": "python3"
    },
    "language_info": {
      "codemirror_mode": {
        "name": "ipython",
        "version": 3
      },
      "file_extension": ".py",
      "mimetype": "text/x-python",
      "name": "python",
      "nbconvert_exporter": "python",
      "pygments_lexer": "ipython3",
      "version": "3.12.2"
    }
  },
  "nbformat": 4,
  "nbformat_minor": 5
}