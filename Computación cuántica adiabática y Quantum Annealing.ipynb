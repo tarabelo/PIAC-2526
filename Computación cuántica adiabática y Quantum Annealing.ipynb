{
  "cells": [
    {
      "cell_type": "markdown",
      "metadata": {
        "id": "view-in-github",
        "colab_type": "text"
      },
      "source": [
        "<a href=\"https://colab.research.google.com/github/tarabelo/PIAC-2526/blob/main/Computaci%C3%B3n%20cu%C3%A1ntica%20adiab%C3%A1tica%20y%20Quantum%20Annealing.ipynb\" target=\"_parent\"><img src=\"https://colab.research.google.com/assets/colab-badge.svg\" alt=\"Open In Colab\"/></a>"
      ]
    },
    {
      "cell_type": "markdown",
      "id": "placed-mechanics",
      "metadata": {
        "id": "placed-mechanics"
      },
      "source": [
        "# **Computación cuántica adiabática y Quantum Annealing**\n",
        "\n",
        "### Contenidos\n",
        "\n",
        "1. [Computación cuántica adiabática](#adiabatica)\n",
        "1. [Quantum Annealing](#annealing)\n",
        "1. [Variational Quantum Eigensolvers (VQE)](#vqe)\n"
      ]
    },
    {
      "cell_type": "markdown",
      "id": "534e725f",
      "metadata": {
        "id": "534e725f"
      },
      "source": [
        "<a name=\"adiabatica\"></a>\n",
        "\n",
        "## **Computación cuántica adiabática**\n",
        "\n",
        "Forma alternativa de computación cuántica basada en la evolución temporal de un Hamiltoniano y en el [teorema adiabático](https://en.wikipedia.org/wiki/Adiabatic_theorem)\n",
        "\n",
        "#### Ecuación de Schrödinger\n",
        "\n",
        "La evolución temporal de un sistema cuántico viene dada por la ecuación de Schrödinger:\n",
        "\n",
        "$$i\\hbar \\frac{\\partial}{\\partial t}|\\psi(t)\\rangle = H(t)|\\psi(t)\\rangle$$\n",
        "\n",
        "$H(t)$ es el Hamiltoniano del sistema en el instante $t$ y define la energía del mismo.\n",
        "\n",
        "#### Teorema adiabático\n",
        "Si un sistema cuántico está en un estado base (estado de menor energía o _ground state_) de un Hamiltoniano inicial y se le hace evolucionar muy lentamente hacia un Hamiltoniano final, este estado inicial evolucionará al estado base del Hamiltoniano final, tras un tiempo suficientemente largo.\n",
        "\n",
        "Supongamos que tenemos un Hamiltoniano $H_c$ (_Hamiltoniano de coste_) cuyo estado base codifica la solución de nuestro problema.\n",
        "\n",
        "Partimos de un Hamiltoniano $H_0$ cuyo estado base es facil de preparar y queremos llegar, en un tiempo $T$, al estado base de $H_c$. Hacemos evolucionar el sistema desde $t=0$ hasta $t=T$ como sigue:\n",
        "\n",
        "$$H(t) = A(t)H_0 + B(t)H_c$$\n",
        "\n",
        "donde las funciones $A$ y $B$ verifican: $A(0) = B(T) = 1$ y $A(T) = B(0) = 0$.\n",
        "\n",
        "Un ejemplo de estas funciones son\n",
        "\n",
        "$$\n",
        "A(t) =  \\left(1-\\frac{t}{T}\\right)\\\\\n",
        "B(t) = \\frac{t}{T}\n",
        "$$\n",
        "\n",
        "\n",
        "Si $t$ cambia muy lentamente, el sistema pasa de $H(0) = H_0$ a $H(T) = H_c$ manteniéndose en el estado base.\n",
        "\n",
        "Midiendo el estado del sistema en $t=T$ obtenemos el estado $|\\psi\\rangle$ que minimiza $\\langle\\psi|H_c|\\psi\\rangle$ y que es la solución del problema.\n",
        "\n",
        "En [Aharonov et al. 2007](https://doi.org/10.1137/080734479) se demostró que la computación cuántica adiabática es equivalente a la computación cuántica basada en puertas.\n",
        "\n",
        "#### Tiempo de evolución\n",
        "\n",
        "El teorema adiabático establece que para que $H(t)$ se mantenga en el estado base, $T$ tiene que ser inversamente proporcional al cuadrado del *spectral gap* (minima diferencia de energía entre el estado base y el primer estado excitado de $H(t)$ con $t\\in[0,T]$).\n",
        "\n",
        "Encontrar el valor del *spectral gap* es muy complejo. Además, $T$ podría llegar a ser muy grande. El *Quantum annealing* es una implementación práctica de la computación cuántica adiabática.\n",
        "\n",
        "\n"
      ]
    },
    {
      "cell_type": "markdown",
      "source": [
        "<a name=\"annealing\"></a>\n",
        "\n",
        "## **Quantum annealing**\n",
        "\n",
        "Es un modelo similar a la computación cuántica adiabática, con ciertas limitaciones:\n",
        "\n",
        "- El Hamiltoniano final tiene que ser un Hamiltoniano Ising:  \n",
        "\n",
        "$$\n",
        "H_c = -\\sum_{i,j=0}^{n-1} J_{ij}Z_iZ_j - \\sum_{i=0}^{n-1} h_{i}Z_i\n",
        "$$\n",
        "\n",
        "- No se mantiene la evolución adiabática $\\implies$ el estado final podría no ser el estado base de $H_c$\n",
        "\n",
        "**Estado inicial $H_0$**\n",
        "\n",
        "Se suele usar como estado inicial el siguiente:\n",
        "\n",
        "$$\n",
        "H_0 = -\\sum_{i=0}^{n-1} X_i\n",
        "$$\n",
        "\n",
        "Este estado se denomina _mixing Hamiltonian_ y su estado base es $|\\psi_0\\rangle = |+\\rangle^{\\otimes n}$\n",
        "\n",
        "**Evolución del Hamiltoniano**\n",
        "\n",
        "La evolución viene dada por:\n",
        "\n",
        "$$\n",
        "H(t) = A(t)H_0 + B(t)H_c = -A(t)\\sum_{i=0}^{n-1} X_i - B(t)\\sum_{i,j=0}^{n-1} J_{ij}Z_iZ_j - B(t)\\sum_{i=0}^{n-1} h_{i}Z_i\n",
        "$$\n",
        "\n",
        "\n",
        "### Quantum annealers\n",
        "Computadores cuánticos que resuelven problemas de optimización mediante Quantum annealing.\n",
        "\n",
        "- [D-Wave Systems](https://www.dwavesys.com/): Primera empresa en vender quantum annealers\n",
        "  - El último modelo dispone de más de 7000 cúbits\n",
        "  - Suite Ocean: incluye diferentes paquetes, entre otros:\n",
        "    - dwave-system: para enviar problemas a los sistemas cuánticos de D-Wave (incluyendo a través del servicio en la nube [Leap](https://cloud.dwavesys.com/)).\n",
        "    - dimod: para definir estructuras de datos y modelos matemáticos de diferentes tipos de problemas.\n",
        "    - dwave-networkx: integración con NetworkX para grafos.\n",
        "    - dwave-neal: simulador clásico basado en [simulated annealing](https://en.wikipedia.org/wiki/Simulated_annealing).\n",
        "    \n",
        "  - Tipo de problemas: optimización de portfolios, optimización de rutas y gestión de flotas, optimización de líneas de producción, búsqueda de similaridad entre moléculas, etc.\n",
        "\n",
        "\n"
      ],
      "metadata": {
        "id": "-wXRTqICvMVB"
      },
      "id": "-wXRTqICvMVB"
    },
    {
      "cell_type": "code",
      "execution_count": 1,
      "id": "_8o7ueSP4yZ8",
      "metadata": {
        "id": "_8o7ueSP4yZ8",
        "colab": {
          "base_uri": "https://localhost:8080/"
        },
        "outputId": "1b7b9946-67df-4e4e-e026-1b2081de84b4"
      },
      "outputs": [
        {
          "output_type": "stream",
          "name": "stdout",
          "text": [
            "Collecting dwave-ocean-sdk\n",
            "  Downloading dwave_ocean_sdk-8.4.0-py3-none-any.whl.metadata (5.6 kB)\n",
            "Collecting dwave-neal\n",
            "  Downloading dwave_neal-0.6.0-py3-none-any.whl.metadata (3.0 kB)\n",
            "Collecting dimod==0.12.20 (from dwave-ocean-sdk)\n",
            "  Downloading dimod-0.12.20-cp312-cp312-manylinux_2_17_x86_64.manylinux2014_x86_64.whl.metadata (4.0 kB)\n",
            "Collecting dwave-cloud-client==0.13.6 (from dwave-ocean-sdk)\n",
            "  Downloading dwave_cloud_client-0.13.6-py3-none-any.whl.metadata (5.4 kB)\n",
            "Collecting dwave-gate==0.3.4 (from dwave-ocean-sdk)\n",
            "  Downloading dwave_gate-0.3.4-cp312-cp312-manylinux_2_17_x86_64.manylinux2014_x86_64.whl.metadata (18 kB)\n",
            "Collecting dwave-hybrid==0.6.14 (from dwave-ocean-sdk)\n",
            "  Downloading dwave_hybrid-0.6.14-py3-none-any.whl.metadata (4.5 kB)\n",
            "Collecting dwave-inspector==0.5.4 (from dwave-ocean-sdk)\n",
            "  Downloading dwave_inspector-0.5.4-py3-none-any.whl.metadata (4.4 kB)\n",
            "Collecting dwave-networkx==0.8.18 (from dwave-ocean-sdk)\n",
            "  Downloading dwave_networkx-0.8.18-py3-none-any.whl.metadata (2.7 kB)\n",
            "Collecting dwave-optimization==0.6.2 (from dwave-ocean-sdk)\n",
            "  Downloading dwave_optimization-0.6.2-cp312-cp312-manylinux_2_24_x86_64.manylinux_2_28_x86_64.whl.metadata (18 kB)\n",
            "Collecting dwave-preprocessing==0.6.9 (from dwave-ocean-sdk)\n",
            "  Downloading dwave_preprocessing-0.6.9-cp312-cp312-manylinux_2_17_x86_64.manylinux2014_x86_64.whl.metadata (3.5 kB)\n",
            "Collecting dwave-samplers==1.6.0 (from dwave-ocean-sdk)\n",
            "  Downloading dwave_samplers-1.6.0-cp312-cp312-manylinux_2_17_x86_64.manylinux2014_x86_64.whl.metadata (11 kB)\n",
            "Collecting dwave-system==1.32.0 (from dwave-ocean-sdk)\n",
            "  Downloading dwave_system-1.32.0-py3-none-any.whl.metadata (3.4 kB)\n",
            "Collecting dwavebinarycsp==0.3.1 (from dwave-ocean-sdk)\n",
            "  Downloading dwavebinarycsp-0.3.1-py3-none-any.whl.metadata (3.0 kB)\n",
            "Collecting minorminer==0.2.19 (from dwave-ocean-sdk)\n",
            "  Downloading minorminer-0.2.19-cp312-cp312-manylinux_2_24_x86_64.manylinux_2_28_x86_64.whl.metadata (19 kB)\n",
            "Collecting penaltymodel==1.2.0 (from dwave-ocean-sdk)\n",
            "  Downloading penaltymodel-1.2.0-py3-none-any.whl.metadata (6.5 kB)\n",
            "Requirement already satisfied: numpy>=1.17.3 in /usr/local/lib/python3.12/dist-packages (from dimod==0.12.20->dwave-ocean-sdk) (2.0.2)\n",
            "Requirement already satisfied: requests<3,>=2.25 in /usr/local/lib/python3.12/dist-packages (from requests[socks]<3,>=2.25->dwave-cloud-client==0.13.6->dwave-ocean-sdk) (2.32.4)\n",
            "Requirement already satisfied: urllib3<3,>=1.26 in /usr/local/lib/python3.12/dist-packages (from dwave-cloud-client==0.13.6->dwave-ocean-sdk) (2.5.0)\n",
            "Requirement already satisfied: pydantic<3,>=2 in /usr/local/lib/python3.12/dist-packages (from dwave-cloud-client==0.13.6->dwave-ocean-sdk) (2.11.7)\n",
            "Collecting homebase<2,>=1.0 (from dwave-cloud-client==0.13.6->dwave-ocean-sdk)\n",
            "  Downloading homebase-1.0.1-py2.py3-none-any.whl.metadata (3.3 kB)\n",
            "Requirement already satisfied: click<9,>=7.0 in /usr/local/lib/python3.12/dist-packages (from dwave-cloud-client==0.13.6->dwave-ocean-sdk) (8.2.1)\n",
            "Requirement already satisfied: python-dateutil<3,>=2.7 in /usr/local/lib/python3.12/dist-packages (from dwave-cloud-client==0.13.6->dwave-ocean-sdk) (2.9.0.post0)\n",
            "Collecting plucky<0.5,>=0.4.3 (from dwave-cloud-client==0.13.6->dwave-ocean-sdk)\n",
            "  Downloading plucky-0.4.3-py2.py3-none-any.whl.metadata (4.4 kB)\n",
            "Collecting diskcache<6,>=5.2.1 (from dwave-cloud-client==0.13.6->dwave-ocean-sdk)\n",
            "  Downloading diskcache-5.6.3-py3-none-any.whl.metadata (20 kB)\n",
            "Requirement already satisfied: packaging>=19 in /usr/local/lib/python3.12/dist-packages (from dwave-cloud-client==0.13.6->dwave-ocean-sdk) (25.0)\n",
            "Requirement already satisfied: werkzeug<4,>=2.2 in /usr/local/lib/python3.12/dist-packages (from dwave-cloud-client==0.13.6->dwave-ocean-sdk) (3.1.3)\n",
            "Requirement already satisfied: typing-extensions<5,>=4.5.0 in /usr/local/lib/python3.12/dist-packages (from dwave-cloud-client==0.13.6->dwave-ocean-sdk) (4.14.1)\n",
            "Requirement already satisfied: authlib<2,>=1.2 in /usr/local/lib/python3.12/dist-packages (from dwave-cloud-client==0.13.6->dwave-ocean-sdk) (1.6.1)\n",
            "Requirement already satisfied: importlib_metadata>=5.0.0 in /usr/local/lib/python3.12/dist-packages (from dwave-cloud-client==0.13.6->dwave-ocean-sdk) (8.7.0)\n",
            "Requirement already satisfied: orjson>=3.10 in /usr/local/lib/python3.12/dist-packages (from dwave-cloud-client==0.13.6->dwave-ocean-sdk) (3.11.2)\n",
            "Requirement already satisfied: networkx in /usr/local/lib/python3.12/dist-packages (from dwave-hybrid==0.6.14->dwave-ocean-sdk) (3.5)\n",
            "Requirement already satisfied: Flask<4,>=2.2 in /usr/local/lib/python3.12/dist-packages (from dwave-inspector==0.5.4->dwave-ocean-sdk) (3.1.1)\n",
            "Requirement already satisfied: scipy>=1.7.3 in /usr/local/lib/python3.12/dist-packages (from dwave-system==1.32.0->dwave-ocean-sdk) (1.16.1)\n",
            "Collecting fasteners>=0.15 (from minorminer==0.2.19->dwave-ocean-sdk)\n",
            "  Downloading fasteners-0.20-py3-none-any.whl.metadata (4.8 kB)\n",
            "Requirement already satisfied: cryptography in /usr/local/lib/python3.12/dist-packages (from authlib<2,>=1.2->dwave-cloud-client==0.13.6->dwave-ocean-sdk) (43.0.3)\n",
            "Requirement already satisfied: blinker>=1.9.0 in /usr/local/lib/python3.12/dist-packages (from Flask<4,>=2.2->dwave-inspector==0.5.4->dwave-ocean-sdk) (1.9.0)\n",
            "Requirement already satisfied: itsdangerous>=2.2.0 in /usr/local/lib/python3.12/dist-packages (from Flask<4,>=2.2->dwave-inspector==0.5.4->dwave-ocean-sdk) (2.2.0)\n",
            "Requirement already satisfied: jinja2>=3.1.2 in /usr/local/lib/python3.12/dist-packages (from Flask<4,>=2.2->dwave-inspector==0.5.4->dwave-ocean-sdk) (3.1.6)\n",
            "Requirement already satisfied: markupsafe>=2.1.1 in /usr/local/lib/python3.12/dist-packages (from Flask<4,>=2.2->dwave-inspector==0.5.4->dwave-ocean-sdk) (3.0.2)\n",
            "Requirement already satisfied: zipp>=3.20 in /usr/local/lib/python3.12/dist-packages (from importlib_metadata>=5.0.0->dwave-cloud-client==0.13.6->dwave-ocean-sdk) (3.23.0)\n",
            "Requirement already satisfied: annotated-types>=0.6.0 in /usr/local/lib/python3.12/dist-packages (from pydantic<3,>=2->dwave-cloud-client==0.13.6->dwave-ocean-sdk) (0.7.0)\n",
            "Requirement already satisfied: pydantic-core==2.33.2 in /usr/local/lib/python3.12/dist-packages (from pydantic<3,>=2->dwave-cloud-client==0.13.6->dwave-ocean-sdk) (2.33.2)\n",
            "Requirement already satisfied: typing-inspection>=0.4.0 in /usr/local/lib/python3.12/dist-packages (from pydantic<3,>=2->dwave-cloud-client==0.13.6->dwave-ocean-sdk) (0.4.1)\n",
            "Requirement already satisfied: six>=1.5 in /usr/local/lib/python3.12/dist-packages (from python-dateutil<3,>=2.7->dwave-cloud-client==0.13.6->dwave-ocean-sdk) (1.17.0)\n",
            "Requirement already satisfied: charset_normalizer<4,>=2 in /usr/local/lib/python3.12/dist-packages (from requests<3,>=2.25->requests[socks]<3,>=2.25->dwave-cloud-client==0.13.6->dwave-ocean-sdk) (3.4.3)\n",
            "Requirement already satisfied: idna<4,>=2.5 in /usr/local/lib/python3.12/dist-packages (from requests<3,>=2.25->requests[socks]<3,>=2.25->dwave-cloud-client==0.13.6->dwave-ocean-sdk) (3.10)\n",
            "Requirement already satisfied: certifi>=2017.4.17 in /usr/local/lib/python3.12/dist-packages (from requests<3,>=2.25->requests[socks]<3,>=2.25->dwave-cloud-client==0.13.6->dwave-ocean-sdk) (2025.8.3)\n",
            "Requirement already satisfied: PySocks!=1.5.7,>=1.5.6 in /usr/local/lib/python3.12/dist-packages (from requests[socks]<3,>=2.25->dwave-cloud-client==0.13.6->dwave-ocean-sdk) (1.7.1)\n",
            "Requirement already satisfied: cffi>=1.12 in /usr/local/lib/python3.12/dist-packages (from cryptography->authlib<2,>=1.2->dwave-cloud-client==0.13.6->dwave-ocean-sdk) (1.17.1)\n",
            "Requirement already satisfied: pycparser in /usr/local/lib/python3.12/dist-packages (from cffi>=1.12->cryptography->authlib<2,>=1.2->dwave-cloud-client==0.13.6->dwave-ocean-sdk) (2.22)\n",
            "Downloading dwave_ocean_sdk-8.4.0-py3-none-any.whl (8.4 kB)\n",
            "Downloading dimod-0.12.20-cp312-cp312-manylinux_2_17_x86_64.manylinux2014_x86_64.whl (9.0 MB)\n",
            "\u001b[2K   \u001b[90m━━━━━━━━━━━━━━━━━━━━━━━━━━━━━━━━━━━━━━━━\u001b[0m \u001b[32m9.0/9.0 MB\u001b[0m \u001b[31m2.4 MB/s\u001b[0m eta \u001b[36m0:00:00\u001b[0m\n",
            "\u001b[?25hDownloading dwave_cloud_client-0.13.6-py3-none-any.whl (161 kB)\n",
            "\u001b[2K   \u001b[90m━━━━━━━━━━━━━━━━━━━━━━━━━━━━━━━━━━━━━━━━\u001b[0m \u001b[32m161.2/161.2 kB\u001b[0m \u001b[31m6.7 MB/s\u001b[0m eta \u001b[36m0:00:00\u001b[0m\n",
            "\u001b[?25hDownloading dwave_gate-0.3.4-cp312-cp312-manylinux_2_17_x86_64.manylinux2014_x86_64.whl (1.5 MB)\n",
            "\u001b[2K   \u001b[90m━━━━━━━━━━━━━━━━━━━━━━━━━━━━━━━━━━━━━━━━\u001b[0m \u001b[32m1.5/1.5 MB\u001b[0m \u001b[31m8.4 MB/s\u001b[0m eta \u001b[36m0:00:00\u001b[0m\n",
            "\u001b[?25hDownloading dwave_hybrid-0.6.14-py3-none-any.whl (78 kB)\n",
            "\u001b[2K   \u001b[90m━━━━━━━━━━━━━━━━━━━━━━━━━━━━━━━━━━━━━━━━\u001b[0m \u001b[32m78.3/78.3 kB\u001b[0m \u001b[31m4.9 MB/s\u001b[0m eta \u001b[36m0:00:00\u001b[0m\n",
            "\u001b[?25hDownloading dwave_inspector-0.5.4-py3-none-any.whl (30 kB)\n",
            "Downloading dwave_networkx-0.8.18-py3-none-any.whl (106 kB)\n",
            "\u001b[2K   \u001b[90m━━━━━━━━━━━━━━━━━━━━━━━━━━━━━━━━━━━━━━━━\u001b[0m \u001b[32m106.5/106.5 kB\u001b[0m \u001b[31m5.4 MB/s\u001b[0m eta \u001b[36m0:00:00\u001b[0m\n",
            "\u001b[?25hDownloading dwave_optimization-0.6.2-cp312-cp312-manylinux_2_24_x86_64.manylinux_2_28_x86_64.whl (3.6 MB)\n",
            "\u001b[2K   \u001b[90m━━━━━━━━━━━━━━━━━━━━━━━━━━━━━━━━━━━━━━━━\u001b[0m \u001b[32m3.6/3.6 MB\u001b[0m \u001b[31m10.5 MB/s\u001b[0m eta \u001b[36m0:00:00\u001b[0m\n",
            "\u001b[?25hDownloading dwave_preprocessing-0.6.9-cp312-cp312-manylinux_2_17_x86_64.manylinux2014_x86_64.whl (3.4 MB)\n",
            "\u001b[2K   \u001b[90m━━━━━━━━━━━━━━━━━━━━━━━━━━━━━━━━━━━━━━━━\u001b[0m \u001b[32m3.4/3.4 MB\u001b[0m \u001b[31m12.9 MB/s\u001b[0m eta \u001b[36m0:00:00\u001b[0m\n",
            "\u001b[?25hDownloading dwave_samplers-1.6.0-cp312-cp312-manylinux_2_17_x86_64.manylinux2014_x86_64.whl (8.9 MB)\n",
            "\u001b[2K   \u001b[90m━━━━━━━━━━━━━━━━━━━━━━━━━━━━━━━━━━━━━━━━\u001b[0m \u001b[32m8.9/8.9 MB\u001b[0m \u001b[31m7.6 MB/s\u001b[0m eta \u001b[36m0:00:00\u001b[0m\n",
            "\u001b[?25hDownloading dwave_system-1.32.0-py3-none-any.whl (116 kB)\n",
            "\u001b[2K   \u001b[90m━━━━━━━━━━━━━━━━━━━━━━━━━━━━━━━━━━━━━━━━\u001b[0m \u001b[32m116.9/116.9 kB\u001b[0m \u001b[31m8.2 MB/s\u001b[0m eta \u001b[36m0:00:00\u001b[0m\n",
            "\u001b[?25hDownloading dwavebinarycsp-0.3.1-py3-none-any.whl (35 kB)\n",
            "Downloading minorminer-0.2.19-cp312-cp312-manylinux_2_24_x86_64.manylinux_2_28_x86_64.whl (3.8 MB)\n",
            "\u001b[2K   \u001b[90m━━━━━━━━━━━━━━━━━━━━━━━━━━━━━━━━━━━━━━━━\u001b[0m \u001b[32m3.8/3.8 MB\u001b[0m \u001b[31m21.3 MB/s\u001b[0m eta \u001b[36m0:00:00\u001b[0m\n",
            "\u001b[?25hDownloading penaltymodel-1.2.0-py3-none-any.whl (36 kB)\n",
            "Downloading dwave_neal-0.6.0-py3-none-any.whl (8.7 kB)\n",
            "Downloading diskcache-5.6.3-py3-none-any.whl (45 kB)\n",
            "\u001b[2K   \u001b[90m━━━━━━━━━━━━━━━━━━━━━━━━━━━━━━━━━━━━━━━━\u001b[0m \u001b[32m45.5/45.5 kB\u001b[0m \u001b[31m3.0 MB/s\u001b[0m eta \u001b[36m0:00:00\u001b[0m\n",
            "\u001b[?25hDownloading fasteners-0.20-py3-none-any.whl (18 kB)\n",
            "Downloading homebase-1.0.1-py2.py3-none-any.whl (11 kB)\n",
            "Downloading plucky-0.4.3-py2.py3-none-any.whl (10 kB)\n",
            "Installing collected packages: plucky, homebase, fasteners, dwave-optimization, dwave-gate, diskcache, dimod, penaltymodel, dwave-samplers, dwave-preprocessing, dwave-networkx, minorminer, dwavebinarycsp, dwave-neal, dwave-cloud-client, dwave-system, dwave-inspector, dwave-hybrid, dwave-ocean-sdk\n",
            "Successfully installed dimod-0.12.20 diskcache-5.6.3 dwave-cloud-client-0.13.6 dwave-gate-0.3.4 dwave-hybrid-0.6.14 dwave-inspector-0.5.4 dwave-neal-0.6.0 dwave-networkx-0.8.18 dwave-ocean-sdk-8.4.0 dwave-optimization-0.6.2 dwave-preprocessing-0.6.9 dwave-samplers-1.6.0 dwave-system-1.32.0 dwavebinarycsp-0.3.1 fasteners-0.20 homebase-1.0.1 minorminer-0.2.19 penaltymodel-1.2.0 plucky-0.4.3\n"
          ]
        }
      ],
      "source": [
        "!pip install dwave-ocean-sdk dwave-neal"
      ]
    },
    {
      "cell_type": "markdown",
      "source": [
        "Para obtener la versión instalada:"
      ],
      "metadata": {
        "id": "edUIlTP3sRUw"
      },
      "id": "edUIlTP3sRUw"
    },
    {
      "cell_type": "code",
      "source": [
        "!dwave --version"
      ],
      "metadata": {
        "id": "6WG2nbKisW02"
      },
      "id": "6WG2nbKisW02",
      "execution_count": null,
      "outputs": []
    },
    {
      "cell_type": "markdown",
      "source": [
        "DWave ofrecía un acceso gratuito general (limitado) a sus sistemas, pero lo canceló en enedro de 2025:\n",
        "\n",
        "  - El programa [Leap Quantum LaunchPad](https://www.dwavequantum.com/quantum-launchpad/) proporciona acceso por 3 meses a usuarios cualificados.\n",
        "\n",
        "Al darse de alta, se obtiene una API key que se configura ejecutando:"
      ],
      "metadata": {
        "id": "fHrrtIKqsl-T"
      },
      "id": "fHrrtIKqsl-T"
    },
    {
      "cell_type": "code",
      "source": [
        "!dwave config create"
      ],
      "metadata": {
        "id": "wJo6eTUAsv-o"
      },
      "id": "wJo6eTUAsv-o",
      "execution_count": null,
      "outputs": []
    },
    {
      "cell_type": "markdown",
      "source": [
        "**Ejemplo**\n",
        "\n",
        "<center><img src=\"https://drive.google.com/uc?export=view&id=1pHIFMBSBWWciVhG1ll_SAKibigkHOiKz\" alt=\"Malla Ising 3 nodos\" width=\"350\"  /></center>\n",
        "\n",
        "El Hamiltoniano Ising de esta malla es:\n",
        "$$\n",
        "H = -\\sum_{(i,j) \\in E} J_{ij} Z_iZ_j - \\sum_j h_j Z_j = Z_0Z_1 - 3Z_1Z_2\n",
        "$$\n",
        "\n",
        "Es decir, $J_{01}=-1$, $J_{12} = 3$, $h_j=0$.\n",
        "\n",
        "Este problema se puede expresar usando [dimod](https://docs.dwavequantum.com/en/latest/ocean/api_ref_dimod/), la biblioteca base de D-Wave Ocean para representar y resolver distintos modelos de problemas con y sin restricciones, como los siguientes:\n",
        "\n",
        " - Modelos cuadráticos binarios (QBM), como QUBO o Ising.\n",
        " - Modelos cuadráticos con restricciones\n",
        " - Modelos discretos cuadráticos"
      ],
      "metadata": {
        "id": "Y8ioOBBOgBzR"
      },
      "id": "Y8ioOBBOgBzR"
    },
    {
      "cell_type": "code",
      "execution_count": null,
      "id": "OccQihye5GoP",
      "metadata": {
        "id": "OccQihye5GoP"
      },
      "outputs": [],
      "source": [
        "from dimod import BinaryQuadraticModel, SPIN\n",
        "J = {(0,1):-1, (1,2):3}\n",
        "h = {}\n",
        "\n",
        "# Expresamos el grafo simple como un modelo binario cuadrático\n",
        "# SPIN: las variables toman valores {-1,1} (Ising)\n",
        "problem = BinaryQuadraticModel(h, J, 0.0, SPIN)\n",
        "print(\"El problema a resolver es:\")\n",
        "print(problem)"
      ]
    },
    {
      "cell_type": "markdown",
      "source": [
        "### Servicio en la nube [Leap](https://cloud.dwavesys.com/leap)\n",
        "\n",
        "DWave ofrecía un acceso gratuito general (limitado) a sus sistemas en la nube, pero lo canceló en 2025:\n",
        "\n",
        "  - El programa [Leap Quantum LaunchPad](https://www.dwavequantum.com/quantum-launchpad/) proporciona acceso por 3 meses a usuarios cualificados.\n",
        "\n",
        "Si tenemos ese acceso, para resolver el problema en un quantum annealer, haríamos:"
      ],
      "metadata": {
        "id": "k88aD6Cfl7Si"
      },
      "id": "k88aD6Cfl7Si"
    },
    {
      "cell_type": "code",
      "execution_count": null,
      "id": "kW15PjPoC1Z9",
      "metadata": {
        "id": "kW15PjPoC1Z9"
      },
      "outputs": [],
      "source": [
        "from dwave.system import DWaveSampler\n",
        "from dwave.system import EmbeddingComposite\n",
        "\n",
        "sampler = EmbeddingComposite(DWaveSampler())\n",
        "\n",
        "# Hacemos 10 ejecuciones\n",
        "result = sampler.sample(problem, num_reads=10)\n",
        "print(\"Las soluciones obtenidas son\")\n",
        "print(result)"
      ]
    },
    {
      "cell_type": "markdown",
      "source": [
        "Principales funciones:\n",
        "\n",
        "  - [DWaveSampler](https://docs.dwavequantum.com/en/latest/ocean/api_ref_system/samplers.html#dwavesampler): permite usar un sistema de DWave como un sampler en el código.\n",
        "  - [EmbeddingComposite](https://docs.dwavequantum.com/en/latest/ocean/api_ref_system/composites.html#dwave.system.composites.EmbeddingComposite): permite mapear el problema en la configuraciñón física del sistema DWave."
      ],
      "metadata": {
        "id": "52tCy5zKub_V"
      },
      "id": "52tCy5zKub_V"
    },
    {
      "cell_type": "markdown",
      "source": [
        "### Solución con dimod y simulación\n",
        "\n",
        "Dimod incluye un resolutor por fuerza bruta, que prueba todas las posibles combinaciones"
      ],
      "metadata": {
        "id": "0Q4xVJxurCr0"
      },
      "id": "0Q4xVJxurCr0"
    },
    {
      "cell_type": "code",
      "source": [
        "from dimod import ExactSolver\n",
        "solver = ExactSolver()\n",
        "solution = solver.sample(problem)\n",
        "print(solution)"
      ],
      "metadata": {
        "id": "ycXDJfYSxJdW"
      },
      "id": "ycXDJfYSxJdW",
      "execution_count": null,
      "outputs": []
    },
    {
      "cell_type": "markdown",
      "source": [
        "Podemos usar el simulador basado en annealing simulado"
      ],
      "metadata": {
        "id": "2AEfsciTxw0_"
      },
      "id": "2AEfsciTxw0_"
    },
    {
      "cell_type": "code",
      "execution_count": null,
      "id": "i0bhL0FT5j2x",
      "metadata": {
        "id": "i0bhL0FT5j2x",
        "colab": {
          "base_uri": "https://localhost:8080/",
          "height": 387
        },
        "outputId": "e96ba9ce-0846-4582-b619-154b9cec8bb9"
      },
      "outputs": [
        {
          "output_type": "error",
          "ename": "ModuleNotFoundError",
          "evalue": "No module named 'neal'",
          "traceback": [
            "\u001b[0;31m---------------------------------------------------------------------------\u001b[0m",
            "\u001b[0;31mModuleNotFoundError\u001b[0m                       Traceback (most recent call last)",
            "\u001b[0;32m/tmp/ipython-input-2966739506.py\u001b[0m in \u001b[0;36m<cell line: 0>\u001b[0;34m()\u001b[0m\n\u001b[1;32m      1\u001b[0m \u001b[0;31m# neal: simulador de annealing de DWave\u001b[0m\u001b[0;34m\u001b[0m\u001b[0;34m\u001b[0m\u001b[0m\n\u001b[0;32m----> 2\u001b[0;31m \u001b[0;32mfrom\u001b[0m \u001b[0mneal\u001b[0m \u001b[0;32mimport\u001b[0m \u001b[0mSimulatedAnnealingSampler\u001b[0m\u001b[0;34m\u001b[0m\u001b[0;34m\u001b[0m\u001b[0m\n\u001b[0m\u001b[1;32m      3\u001b[0m \u001b[0;34m\u001b[0m\u001b[0m\n\u001b[1;32m      4\u001b[0m \u001b[0;31m# Usamos un simulador clásico en vez del D-WaveSampler\u001b[0m\u001b[0;34m\u001b[0m\u001b[0;34m\u001b[0m\u001b[0m\n\u001b[1;32m      5\u001b[0m \u001b[0msampler\u001b[0m \u001b[0;34m=\u001b[0m \u001b[0mSimulatedAnnealingSampler\u001b[0m\u001b[0;34m(\u001b[0m\u001b[0;34m)\u001b[0m\u001b[0;34m\u001b[0m\u001b[0;34m\u001b[0m\u001b[0m\n",
            "\u001b[0;31mModuleNotFoundError\u001b[0m: No module named 'neal'",
            "",
            "\u001b[0;31m---------------------------------------------------------------------------\u001b[0;32m\nNOTE: If your import is failing due to a missing package, you can\nmanually install dependencies using either !pip or !apt.\n\nTo view examples of installing some common dependencies, click the\n\"Open Examples\" button below.\n\u001b[0;31m---------------------------------------------------------------------------\u001b[0m\n"
          ],
          "errorDetails": {
            "actions": [
              {
                "action": "open_url",
                "actionText": "Open Examples",
                "url": "/notebooks/snippets/importing_libraries.ipynb"
              }
            ]
          }
        }
      ],
      "source": [
        "# neal: simulador de annealing de DWave\n",
        "from neal import SimulatedAnnealingSampler\n",
        "\n",
        "# Usamos un simulador clásico en vez del D-WaveSampler\n",
        "sampler = SimulatedAnnealingSampler()\n",
        "\n",
        "# Ejecutamos 10 repeticiones\n",
        "result = sampler.sample(problem, num_reads=10)\n",
        "\n",
        "print(\"\\nLas soluciones obtenidas son:\")\n",
        "print(result)\n"
      ]
    },
    {
      "cell_type": "markdown",
      "source": [
        "\n",
        "\n",
        "---\n",
        "\n",
        "\n",
        "\n",
        "---\n",
        "\n"
      ],
      "metadata": {
        "id": "fwdVp8dlV6KU"
      },
      "id": "fwdVp8dlV6KU"
    },
    {
      "cell_type": "markdown",
      "source": [
        "## **Ejercicio 3**\n",
        "\n",
        "Para el grafo de la imagen, expresa el algoritmo MAXCUT en formato QUBO, exprésalo en dimod y resuelvelo de forma exacta y con Annealing simulado\n",
        "\n",
        "<center><img src=\"https://drive.google.com/uc?export=view&id=1t37PWgnsVWRkX16wcbmFSPZNZ1D0dUOS\" alt=\"Ejemplo MAX-CUT\" width=\"700\"  /></center>\n"
      ],
      "metadata": {
        "id": "4t7U2_e4OtFt"
      },
      "id": "4t7U2_e4OtFt"
    },
    {
      "cell_type": "markdown",
      "source": [
        "\n",
        "\n",
        "---\n",
        "\n",
        "\n",
        "\n",
        "---\n",
        "\n"
      ],
      "metadata": {
        "id": "oo607O6KV9BS"
      },
      "id": "oo607O6KV9BS"
    },
    {
      "cell_type": "markdown",
      "source": [
        "#### Uso de _dwave-networkx_\n",
        "\n",
        "El módulo dwave-networkx permite resolver el problema anterior de forma simple, definiendo el grafo mediante la librería _networkx_ de Python\n"
      ],
      "metadata": {
        "id": "Ruw6oUR0V-jE"
      },
      "id": "Ruw6oUR0V-jE"
    },
    {
      "cell_type": "code",
      "source": [
        "import numpy as np\n",
        "import networkx as nx  # Librería para manejar grafos\n",
        "import dwave_networkx as dnx\n",
        "from neal import SimulatedAnnealingSampler\n",
        "\n",
        "# Ejemplo de grafo con 5 nodos\n",
        "nnodes = 5\n",
        "G = nx.Graph()\n",
        "# Añade nodos y aristas\n",
        "G.add_nodes_from(np.arange(0,nnodes,1))\n",
        "edges = [(0,1,3),(1,2,2),(1,3,4),(2,4,1),(2,3,7),(3,4,5)]\n",
        "G.add_weighted_edges_from(edges)\n",
        "\n",
        "\n",
        "# Obtener un lado del  usando annealing simulado\n",
        "cut = dnx.weighted_maximum_cut(G, sampler=SimulatedAnnealingSampler())\n",
        "\n",
        "# Calcular aristas cortadas y peso total\n",
        "cut_edges = [(int(u), int(v), G[u][v]['weight']) for u, v in G.edges() if (u in cut) ^ (v in cut)]\n",
        "cut_value = sum(w for _, _, w in cut_edges)\n",
        "\n",
        "print(\"Un lado del corte:\", cut)\n",
        "print(\"Aristas cortadas:\", cut_edges)\n",
        "print(\"Peso total del corte:\", cut_value)"
      ],
      "metadata": {
        "colab": {
          "base_uri": "https://localhost:8080/"
        },
        "id": "MYq4eynVSKFz",
        "outputId": "d7a458cc-c01f-4965-b0f1-3bfb4bc916ff"
      },
      "id": "MYq4eynVSKFz",
      "execution_count": null,
      "outputs": [
        {
          "output_type": "stream",
          "name": "stdout",
          "text": [
            "Un lado del corte: {np.int64(0), np.int64(3)}\n",
            "Aristas cortadas: [(0, 1, 3), (1, 3, 4), (2, 3, 7), (3, 4, 5)]\n",
            "Peso total del corte: 19\n"
          ]
        }
      ]
    },
    {
      "cell_type": "markdown",
      "source": [
        "### Problemas binarios cuadráticos con restricciones\n",
        "\n",
        "Supongamos un problema como este:\n",
        "\\begin{align*}\n",
        "\\text{Minimizar}\\quad & -5x_0 +3 x_1 - 2x_2 \\\\\n",
        "\\text{sujeto a}\\quad & x_0+x_1 \\le 1, \\\\\n",
        "& 3x_0-x_1+3x_2 \\le 4,\\\\\n",
        "& x_j \\in \\{0,1\\}, j=0,1,2\n",
        "\\end{align*}\n",
        "\n",
        "Usando dimod lo expresamos como un problema CQM (_Constrained cuadratic Model_) de la siguiente forma:"
      ],
      "metadata": {
        "id": "4SIFvJC3XNKq"
      },
      "id": "4SIFvJC3XNKq"
    },
    {
      "cell_type": "code",
      "source": [
        "from dimod import Binary, ConstrainedQuadraticModel\n",
        "x0, x1, x2 = Binary('x0'), Binary('x1'), Binary('x2')\n",
        "\n",
        "cqm = ConstrainedQuadraticModel()\n",
        "cqm.set_objective(-5*x0+3*x1-2*x2)\n",
        "cqm.add_constraint(x0+x2 <= 1, 'Primera restricción')\n",
        "cqm.add_constraint(3*x0-x1+3*x2 <= 4, 'Segunda restricción')\n",
        "\n",
        "print(cqm)"
      ],
      "metadata": {
        "id": "Pv8cZIFCXEJs",
        "outputId": "3d573519-8775-459e-de1c-6febec5a12c7",
        "colab": {
          "base_uri": "https://localhost:8080/"
        }
      },
      "id": "Pv8cZIFCXEJs",
      "execution_count": 17,
      "outputs": [
        {
          "output_type": "stream",
          "name": "stdout",
          "text": [
            "Constrained quadratic model: 3 variables, 2 constraints, 8 biases\n",
            "\n",
            "Objective\n",
            "  -5*Binary('x0') + 3*Binary('x1') - 2*Binary('x2')\n",
            "\n",
            "Constraints\n",
            "  Primera restricción: Binary('x0') + Binary('x2') <= 1.0\n",
            "  Segunda restricción: 3*Binary('x0') - Binary('x1') + 3*Binary('x2') <= 4.0\n",
            "\n",
            "Bounds\n",
            "\n"
          ]
        }
      ]
    },
    {
      "cell_type": "markdown",
      "source": [
        "Lo resolvemos por fuerza bruta"
      ],
      "metadata": {
        "id": "zKsgByxAsCNA"
      },
      "id": "zKsgByxAsCNA"
    },
    {
      "cell_type": "code",
      "source": [
        "from dimod import ExactCQMSolver\n",
        "\n",
        "# Resolver con ExactCQMSolver\n",
        "solver = ExactCQMSolver()\n",
        "sampleset = solver.sample_cqm(cqm)\n",
        "\n",
        "print(sampleset)\n",
        "\n",
        "# Mejor solución\n",
        "best = sampleset.first\n",
        "print(\"Mejor solución:\", best.sample)\n",
        "print(\"Valor objetivo:\", best.energy)\n",
        "print(\"¿Es factible? \", best.is_feasible)\n",
        "print(\"¿Se satisfacen las restricciones? \", best.is_satisfied)"
      ],
      "metadata": {
        "id": "fzKYMvRwY3Yi",
        "outputId": "ee29c382-c71c-41aa-b9e2-e4c9248537f2",
        "colab": {
          "base_uri": "https://localhost:8080/"
        }
      },
      "id": "fzKYMvRwY3Yi",
      "execution_count": 21,
      "outputs": [
        {
          "output_type": "stream",
          "name": "stdout",
          "text": [
            "  x0 x1 x2 energy num_oc. is_sat. is_fea.\n",
            "6  1  0  1   -7.0       1 arra... np.F...\n",
            "2  1  0  0   -5.0       1 arra... np.T...\n",
            "7  1  1  1   -4.0       1 arra... np.F...\n",
            "3  1  1  0   -2.0       1 arra... np.T...\n",
            "4  0  0  1   -2.0       1 arra... np.T...\n",
            "0  0  0  0    0.0       1 arra... np.T...\n",
            "5  0  1  1    1.0       1 arra... np.T...\n",
            "1  0  1  0    3.0       1 arra... np.T...\n",
            "['INTEGER', 8 rows, 8 samples, 3 variables]\n",
            "Sample(sample={'x0': np.int64(1), 'x1': np.int64(0), 'x2': np.int64(1)}, energy=np.float64(-7.0), num_occurrences=np.int64(1), is_satisfied=array([False, False]), is_feasible=np.False_)\n",
            "Mejor solución: {'x0': np.int64(1), 'x1': np.int64(0), 'x2': np.int64(1)}\n",
            "Valor objetivo: -7.0\n",
            "¿Es factible?  False\n",
            "¿Se satisfacen las restricciones?  [False False]\n"
          ]
        }
      ]
    },
    {
      "cell_type": "markdown",
      "source": [
        "Entre las soluciones, incluye aquellas que no son factibles.\n",
        "\n",
        "Para quedarnos con las soluciones que cumplen las restricciones, hacemos:"
      ],
      "metadata": {
        "id": "CB425bHjsNo0"
      },
      "id": "CB425bHjsNo0"
    },
    {
      "cell_type": "code",
      "source": [
        "solutions = sampleset.filter(lambda s: s.is_feasible)\n",
        "\n",
        "print(solutions)\n",
        "\n",
        "# Mejor solución factible\n",
        "best = solutions.first\n",
        "print(\"\\nMejor solución factible:\", best.sample)\n",
        "print(\"Valor objetivo:\", best.energy)\n",
        "print(\"¿Es factible? \", best.is_feasible)\n",
        "print(\"¿Se satisfacen las restricciones? \", best.is_satisfied)"
      ],
      "metadata": {
        "id": "YgKi9HZ1ZyLL",
        "outputId": "1867b341-afd6-4da7-adb2-751b6c0c39b5",
        "colab": {
          "base_uri": "https://localhost:8080/"
        }
      },
      "id": "YgKi9HZ1ZyLL",
      "execution_count": 22,
      "outputs": [
        {
          "output_type": "stream",
          "name": "stdout",
          "text": [
            "  x0 x1 x2 energy num_oc. is_sat. is_fea.\n",
            "2  1  0  0   -5.0       1 arra... np.T...\n",
            "3  1  1  0   -2.0       1 arra... np.T...\n",
            "4  0  0  1   -2.0       1 arra... np.T...\n",
            "0  0  0  0    0.0       1 arra... np.T...\n",
            "5  0  1  1    1.0       1 arra... np.T...\n",
            "1  0  1  0    3.0       1 arra... np.T...\n",
            "['INTEGER', 6 rows, 6 samples, 3 variables]\n",
            "\n",
            "Mejor solución factible: {'x0': np.int64(1), 'x1': np.int64(0), 'x2': np.int64(0)}\n",
            "Valor objetivo: -5.0\n",
            "¿Es factible?  True\n",
            "¿Se satisfacen las restricciones?  [ True  True]\n"
          ]
        }
      ]
    },
    {
      "cell_type": "markdown",
      "source": [
        "#### Solución usando sistemas DWave\n",
        "\n",
        "Para resolver el problema CQM en el Quantum Annealer hay dos opciones:\n",
        "\n",
        "1. Convertir el problema en un BQM sin restricciones y usar DWaveSampler (o SimulatedAnnealingSampler para resolverso en un sistema clásico)\n",
        "2. Usar un [Hybrid Solver](https://docs.dwavequantum.com/en/latest/industrial_optimization/leap_hybrid.htm) en Leap: sistemas híbridos cuántico/clásicos en la nube para resolver problemas formulados como modelos cuadráticos o no lineales.\n",
        "  - Hybrid nonlinear-program solver:\n",
        "    - Modelos de optimización no lineal en variables continuas o discretas.\n",
        "    - Funciones objetivo y restricciones arbitrarias, incluyendo términos no polinómicos\n",
        "  - Hybrid CQM solver:  \n",
        "    - Modelos cuadráticos con restricciones lineales o cuadráticas.\n",
        "  - Hybrid BQM solver:\n",
        "    - Modelos BQM más complejos de los que se pueden mandar directemente al annealer\n",
        "    - Manda casi todo al annealer; la parte híbrida ayuda con la selección de parámetros, la escalabilidad y postprocesamiento.\n",
        "  - Hybrid DQM solver:\n",
        "    - Funciones cuadráticas en variables discretas categóricas\n",
        "3. Usar el paquete [dwave-hybrid](https://docs.dwavequantum.com/en/latest/industrial_optimization/dwave_hybrid.html) para crear un solver híbrido personalizado\n",
        "  - Permite combinar métodos clásicos y cuánticos en pipelines, iteraciones y workflows flexibles.\n",
        "\n"
      ],
      "metadata": {
        "id": "S8olMzg7vsqA"
      },
      "id": "S8olMzg7vsqA"
    },
    {
      "cell_type": "markdown",
      "source": [
        "#### Solución usando un Hybrid CQM Solver"
      ],
      "metadata": {
        "id": "jHLqLly83S_P"
      },
      "id": "jHLqLly83S_P"
    },
    {
      "cell_type": "code",
      "source": [
        "from dwave.system import LeapHybridCQMSampler\n",
        "\n",
        "# Resolver con el Hybrid CQM Solver\n",
        "sampler = LeapHybridCQMSampler()\n",
        "sampleset = sampler.sample_cqm(cqm)\n",
        "\n",
        "# Analizar resultados\n",
        "solutions = sampleset.filter(lambda s: s.is_feasible)\n",
        "\n",
        "# Mejor solución factible\n",
        "best = solutions.first\n",
        "print(\"\\nMejor solución factible:\", best.sample)\n",
        "print(\"Valor objetivo:\", best.energy)\n",
        "print(\"¿Es factible? \", best.is_feasible)"
      ],
      "metadata": {
        "id": "NP2xQizA3Zvw"
      },
      "id": "NP2xQizA3Zvw",
      "execution_count": null,
      "outputs": []
    },
    {
      "cell_type": "markdown",
      "source": [
        "#### Solución convirtiendo a BQM\n",
        "\n",
        "Para convertir de CQM a BQM sinb restricciones usamos el método [`dimod.cqm_to_bqm`](https://docs.dwavequantum.com/en/latest/ocean/api_ref_dimod/generated/dimod.cqm_to_bqm.html)\n",
        "\n",
        "  - Convierte el modelo usando variables de holgura y penalizaciones para las restricciones.\n",
        "  - Es posible especificar el peso de las penalizaciones."
      ],
      "metadata": {
        "id": "WMKZny-N4VXp"
      },
      "id": "WMKZny-N4VXp"
    },
    {
      "cell_type": "code",
      "source": [
        "from dimod import cqm_to_bqm\n",
        "\n",
        "bqm, invert = cqm_to_bqm(cqm, lagrange_multiplier=11)\n",
        "\n",
        "print(bqm)"
      ],
      "metadata": {
        "id": "bFy0O7FJvsCD",
        "outputId": "87ebeacd-2f30-4462-9fd4-98952c87a4b4",
        "colab": {
          "base_uri": "https://localhost:8080/"
        }
      },
      "id": "bFy0O7FJvsCD",
      "execution_count": 16,
      "outputs": [
        {
          "output_type": "stream",
          "name": "stdout",
          "text": [
            "BinaryQuadraticModel({'x0': -181.0, 'x1': 91.0, 'x2': -167.0, 'slack_v7ee8ad4ab58a40d4846e97afc4a64f75_0': -11.0, 'slack_v2c20d3abd9af4b37b6a2100f118c146d_0': -77.0, 'slack_v2c20d3abd9af4b37b6a2100f118c146d_1': -132.0, 'slack_v2c20d3abd9af4b37b6a2100f118c146d_2': -132.0}, {('x1', 'x0'): -44.0, ('x2', 'x0'): 198.0, ('x2', 'x1'): -66.0, ('slack_v7ee8ad4ab58a40d4846e97afc4a64f75_0', 'x0'): 22.0, ('slack_v7ee8ad4ab58a40d4846e97afc4a64f75_0', 'x1'): 22.0, ('slack_v2c20d3abd9af4b37b6a2100f118c146d_0', 'x0'): 66.0, ('slack_v2c20d3abd9af4b37b6a2100f118c146d_0', 'x1'): -22.0, ('slack_v2c20d3abd9af4b37b6a2100f118c146d_0', 'x2'): 66.0, ('slack_v2c20d3abd9af4b37b6a2100f118c146d_1', 'x0'): 132.0, ('slack_v2c20d3abd9af4b37b6a2100f118c146d_1', 'x1'): -44.0, ('slack_v2c20d3abd9af4b37b6a2100f118c146d_1', 'x2'): 132.0, ('slack_v2c20d3abd9af4b37b6a2100f118c146d_1', 'slack_v2c20d3abd9af4b37b6a2100f118c146d_0'): 44.0, ('slack_v2c20d3abd9af4b37b6a2100f118c146d_2', 'x0'): 132.0, ('slack_v2c20d3abd9af4b37b6a2100f118c146d_2', 'x1'): -44.0, ('slack_v2c20d3abd9af4b37b6a2100f118c146d_2', 'x2'): 132.0, ('slack_v2c20d3abd9af4b37b6a2100f118c146d_2', 'slack_v2c20d3abd9af4b37b6a2100f118c146d_0'): 44.0, ('slack_v2c20d3abd9af4b37b6a2100f118c146d_2', 'slack_v2c20d3abd9af4b37b6a2100f118c146d_1'): 88.0}, 187.0, 'BINARY')\n"
          ]
        }
      ]
    },
    {
      "cell_type": "code",
      "source": [
        "type(best)"
      ],
      "metadata": {
        "id": "bFG4spfAdN41",
        "outputId": "c782caf2-424a-4a66-91a5-c6983eae4f0a",
        "colab": {
          "base_uri": "https://localhost:8080/"
        }
      },
      "id": "bFG4spfAdN41",
      "execution_count": 6,
      "outputs": [
        {
          "output_type": "execute_result",
          "data": {
            "text/plain": [
              "dimod.sampleset.Sample"
            ]
          },
          "metadata": {},
          "execution_count": 6
        }
      ]
    },
    {
      "cell_type": "code",
      "source": [
        "print(best.sample)"
      ],
      "metadata": {
        "id": "D09tpuLfszw1",
        "outputId": "6ddaa921-9966-4c91-a247-3ff66f593ea8",
        "colab": {
          "base_uri": "https://localhost:8080/"
        }
      },
      "id": "D09tpuLfszw1",
      "execution_count": 8,
      "outputs": [
        {
          "output_type": "stream",
          "name": "stdout",
          "text": [
            "{'x0': np.int64(1), 'x1': np.int64(0), 'x2': np.int64(1)}\n"
          ]
        }
      ]
    },
    {
      "cell_type": "code",
      "source": [],
      "metadata": {
        "id": "0nFU8c92s57n"
      },
      "id": "0nFU8c92s57n",
      "execution_count": null,
      "outputs": []
    }
  ],
  "metadata": {
    "colab": {
      "provenance": [],
      "include_colab_link": true
    },
    "kernelspec": {
      "display_name": "Python 3 (ipykernel)",
      "language": "python",
      "name": "python3"
    },
    "language_info": {
      "codemirror_mode": {
        "name": "ipython",
        "version": 3
      },
      "file_extension": ".py",
      "mimetype": "text/x-python",
      "name": "python",
      "nbconvert_exporter": "python",
      "pygments_lexer": "ipython3",
      "version": "3.12.2"
    }
  },
  "nbformat": 4,
  "nbformat_minor": 5
}