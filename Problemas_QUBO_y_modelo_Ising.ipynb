{
  "nbformat": 4,
  "nbformat_minor": 0,
  "metadata": {
    "colab": {
      "provenance": [],
      "authorship_tag": "ABX9TyOuasSptOzlZ1LSwGaAzNBB",
      "include_colab_link": true
    },
    "kernelspec": {
      "name": "python3",
      "display_name": "Python 3"
    },
    "language_info": {
      "name": "python"
    }
  },
  "cells": [
    {
      "cell_type": "markdown",
      "metadata": {
        "id": "view-in-github",
        "colab_type": "text"
      },
      "source": [
        "<a href=\"https://colab.research.google.com/github/tarabelo/PIAC-2526/blob/main/Problemas_QUBO_y_modelo_Ising.ipynb\" target=\"_parent\"><img src=\"https://colab.research.google.com/assets/colab-badge.svg\" alt=\"Open In Colab\"/></a>"
      ]
    },
    {
      "cell_type": "code",
      "execution_count": null,
      "metadata": {
        "id": "laIR9yKY_xnx"
      },
      "outputs": [],
      "source": []
    },
    {
      "cell_type": "markdown",
      "source": [
        "# Introducción a los Problemas de Optimización\n",
        "\n",
        "Muchos problemas relevantes en ciencia, ingeniería, economía o inteligencia artificial pueden expresarse como **problemas de optimización**. En términos generales, un problema de optimización consiste en encontrar los valores de ciertas variables que **minimizan** o **maximizan** una **función objetivo**, respetando una serie de **restricciones**.\n",
        "\n",
        "Formalmente, un problema de optimización puede escribirse como:\n",
        "\n",
        "$$\n",
        "\\begin{aligned}\n",
        "\\text{Minimizar (o maximizar)} \\quad & f(x_1, x_2, \\dots, x_n) \\\\\n",
        "\\text{sujeto a} \\quad & g_i(x_1, \\dots, x_n) \\leq 0, \\quad i = 1, \\dots, m \\\\\n",
        "& h_j(x_1, \\dots, x_n) = 0, \\quad j = 1, \\dots, p\n",
        "\\end{aligned}\n",
        "$$\n",
        "\n",
        "donde:\n",
        "- $f$ es la función objetivo,\n",
        "- $g_i$ son restricciones de desigualdad,\n",
        "- $h_j$ son restricciones de igualdad,\n",
        "- y las variables $x_k$ pueden ser reales, enteras, binarias o discretas.\n",
        "\n",
        "## Ejemplos clásicos de problemas de optimización\n",
        "\n",
        "- **Problema del viajante (TSP)**: Dado un conjunto de ciudades y las distancias entre ellas, encontrar el camino más corto que visite cada ciudad exactamente una vez y regrese al punto de origen.\n",
        "\n",
        "- **Problema de la mochila (Knapsack)**: Dados objetos con un peso y un valor, seleccionar un subconjunto cuyo peso total no exceda una capacidad dada y cuyo valor total sea máximo.\n",
        "\n",
        "- **Coloración de grafos**: Asignar colores a los nodos de un grafo de forma que nodos adyacentes no compartan color y se minimice el número total de colores utilizados.\n",
        "\n",
        "- **Problema de satisfacibilidad booleana (SAT)**: Determinar si existe una asignación de valores booleanos a un conjunto de variables que satisfaga una fórmula lógica.\n",
        "\n",
        "- **Programación lineal binaria/entera**: Optimizar una función lineal sujeta a restricciones lineales, donde las variables sólo pueden tomar valores/enteros.\n",
        "\n",
        "Muchos de estos problemas son **NP-hard**, es decir, su complejidad crece exponencialmente con el tamaño del problema.\n",
        "\n",
        "\n",
        "<details>\n",
        "<summary>Resumen sobre las clases de complejidad computacional</summary>\n",
        "\n",
        "Cuando hablamos de la **complejidad computacional** de un problema, nos referimos a la cantidad de recursos (tiempo y/o espacio) necesarios para resolverlo en función del tamaño de la entrada. Esto se formaliza mediante **clases de complejidad**, que agrupan problemas según los recursos requeridos por sus algoritmos.\n",
        "\n",
        "## Clases principales\n",
        "\n",
        "### 🔹 P (Polynomial Time)\n",
        "- Conjunto de problemas que pueden resolverse en **tiempo polinómico** por una máquina determinista.\n",
        "- Es decir, existen algoritmos eficientes que resuelven el problema con un coste $O(n^k)$, para alguna constante $k$.\n",
        "- **Ejemplo**: ordenamiento de una lista, búsqueda en un grafo no ponderado.\n",
        "\n",
        "### 🔹 NP (Nondeterministic Polynomial Time)\n",
        "- Problemas cuya solución puede **verificarse** en tiempo polinómico, aunque no sepamos cómo **encontrarla** eficientemente.\n",
        "- Incluye todos los problemas de P (es decir, $\\text{P} \\subseteq \\text{NP}$).\n",
        "- **Ejemplo**: SAT, TSP, coloreado de grafos, problema de la mochila.\n",
        "\n",
        "### 🔹 NP-completo\n",
        "- Subconjunto de NP que incluye los problemas **más difíciles** de la clase.\n",
        "- Un problema es NP-completo si:\n",
        "  1. Pertenece a NP.\n",
        "  2. Todo problema en NP puede reducirse a él en tiempo polinómico.\n",
        "- Si se resuelve uno en tiempo polinómico, **todos los problemas de NP también se pueden resolver eficientemente**.\n",
        "- **Ejemplo**: SAT (el primer problema demostrado como NP-completo), 3-COLOR, TSP en su versión de decisión (determinar si existe un camino menor o igual que un valor dado).\n",
        "\n",
        "### 🔹 NP-hard\n",
        "- Problemas **al menos tan difíciles** como los NP-completos, pero **no necesariamente pertenecen a NP** (por ejemplo, pueden no tener soluciones verificables en tiempo polinómico).\n",
        "- Suelen ser problemas de optimización o de decisión más generales.\n",
        "- **Ejemplo**: versión de optimización del TSP (encontrar el camino más corto), QUBO, etc.\n",
        "\n",
        "## ¿P = NP?\n",
        "\n",
        "La pregunta de si $\\text{P} = \\text{NP}$ es uno de los problemas abiertos más importantes de la informática teórica. Si se demuestra que $\\text{P} = \\text{NP}$, todos los problemas cuya solución se puede verificar eficientemente también podrían **resolverse** eficientemente, lo que tendría enormes implicaciones en criptografía, planificación, diseño automático, etc.\n",
        "\n",
        "---\n",
        "\n",
        "## Clases de complejidad cuántica\n",
        "\n",
        "### 🔹 BQP (Bounded-error Quantum Polynomial Time)\n",
        "- Problemas que pueden resolverse en **tiempo polinómico por una computadora cuántica** con un error de probabilidad acotado (< 1/3).\n",
        "- Es la **contraparte cuántica de P**, e incluye algunos problemas que no se sabe cómo resolver eficientemente con algoritmos clásicos.\n",
        "- **Ejemplo**: factorización de enteros (algoritmo de Shor), logaritmo discreto, simulación de sistemas cuánticos.\n",
        "\n",
        "$$\n",
        "\\text{P} \\subseteq \\text{BPP} \\subseteq \\text{BQP}\n",
        "$$\n",
        "\n",
        "Donde **BPP** (Bounded-error Probabilistic Polynomial time) representa problemas que pueden resolverse eficientemente con algoritmos probabilísticos clásicos.\n",
        "\n",
        "### 🔹 QMA (Quantum Merlin-Arthur)\n",
        "- Contraparte cuántica de **NP**: problemas para los que un verificador cuántico puede comprobar una prueba cuántica en tiempo polinómico.\n",
        "- Existen problemas QMA-completos, como ciertas versiones del **problema del Hamiltoniano local**.\n",
        "\n",
        "---\n",
        "\n",
        "## Relaciones generales entre clases (parcialmente conocidas)\n",
        "\n",
        "- Se sabe que:\n",
        "\n",
        "$$\n",
        "\\text{P} \\subseteq \\text{NP}, \\quad \\text{P} \\subseteq \\text{BQP}\n",
        "$$\n",
        "\n",
        "- Pero **no se conoce** si:\n",
        "\n",
        "$$\n",
        "\\text{NP} \\subseteq \\text{BQP} \\quad \\text{o si} \\quad \\text{BQP} \\subseteq \\text{NP}\n",
        "$$\n",
        "\n",
        "---\n",
        "\n",
        "## Relevancia para la computación cuántica\n",
        "\n",
        "Problemas como **QUBO** o el **modelo de Ising** pertenecen a la clase **NP-hard** y, en general, **no se espera** que puedan resolverse eficientemente en computadoras clásicas. Sin embargo, ciertos algoritmos cuánticos como el **Quantum Annealing** (usado en D-Wave) o el **QAOA (Quantum Approximate Optimization Algorithm)** ofrecen aproximaciones prometedoras, que caen dentro (o cerca) de la clase BQP o heurísticas asociadas.\n",
        "\n",
        "---\n",
        "\n",
        "\n",
        "\n",
        "\n",
        "</details>\n",
        "\n",
        "En lo que sigue, nos centraremos en el problema **QUBO**, una formulación central para representar problemas de optimización combinatoria, tanto en su versión clásica como en su versión cuántica.\n"
      ],
      "metadata": {
        "id": "c6j9N_aR_3TR"
      }
    },
    {
      "cell_type": "markdown",
      "source": [],
      "metadata": {
        "id": "wILU4PzL15le"
      }
    },
    {
      "cell_type": "code",
      "source": [],
      "metadata": {
        "id": "Xr0wffboBMne"
      },
      "execution_count": null,
      "outputs": []
    }
  ]
}