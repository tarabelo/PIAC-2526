{
  "nbformat": 4,
  "nbformat_minor": 0,
  "metadata": {
    "colab": {
      "provenance": [],
      "authorship_tag": "ABX9TyP6MVjk8XuySL7RKC7y8o4d",
      "include_colab_link": true
    },
    "kernelspec": {
      "name": "python3",
      "display_name": "Python 3"
    },
    "language_info": {
      "name": "python"
    }
  },
  "cells": [
    {
      "cell_type": "markdown",
      "metadata": {
        "id": "view-in-github",
        "colab_type": "text"
      },
      "source": [
        "<a href=\"https://colab.research.google.com/github/tarabelo/PIAC-2526/blob/main/Problemas_QUBO_y_modelo_Ising.ipynb\" target=\"_parent\"><img src=\"https://colab.research.google.com/assets/colab-badge.svg\" alt=\"Open In Colab\"/></a>"
      ]
    },
    {
      "cell_type": "code",
      "execution_count": null,
      "metadata": {
        "id": "laIR9yKY_xnx"
      },
      "outputs": [],
      "source": []
    },
    {
      "cell_type": "markdown",
      "source": [
        "# Introducción a los Problemas de Optimización\n",
        "\n",
        "Muchos problemas relevantes en ciencia, ingeniería, economía o inteligencia artificial pueden expresarse como **problemas de optimización**. En términos generales, un problema de optimización consiste en encontrar los valores de ciertas variables que **minimizan** o **maximizan** una **función objetivo**, respetando una serie de **restricciones**.\n",
        "\n",
        "Formalmente, un problema de optimización puede escribirse como:\n",
        "\n",
        "$$\n",
        "\\begin{aligned}\n",
        "\\text{Minimizar (o maximizar)} \\quad & f(x_1, x_2, \\dots, x_n) \\\\\n",
        "\\text{sujeto a} \\quad & g_i(x_1, \\dots, x_n) \\leq 0, \\quad i = 1, \\dots, m \\\\\n",
        "& h_j(x_1, \\dots, x_n) = 0, \\quad j = 1, \\dots, p\n",
        "\\end{aligned}\n",
        "$$\n",
        "\n",
        "donde:\n",
        "- $f$ es la función objetivo,\n",
        "- $g_i$ son restricciones de desigualdad,\n",
        "- $h_j$ son restricciones de igualdad,\n",
        "- y las variables $x_k$ pueden ser reales, enteras, binarias o discretas.\n",
        "\n",
        "## Ejemplos clásicos de problemas de optimización\n",
        "\n",
        "- **Problema del viajante (TSP)**: Dado un conjunto de ciudades y las distancias entre ellas, encontrar el camino más corto que visite cada ciudad exactamente una vez y regrese al punto de origen.\n",
        "\n",
        "- **Problema de la mochila (Knapsack)**: Dados objetos con un peso y un valor, seleccionar un subconjunto cuyo peso total no exceda una capacidad dada y cuyo valor total sea máximo.\n",
        "\n",
        "- **Coloración de grafos**: Asignar colores a los nodos de un grafo de forma que nodos adyacentes no compartan color y se minimice el número total de colores utilizados.\n",
        "\n",
        "- **Problema de satisfacibilidad booleana (SAT)**: Determinar si existe una asignación de valores booleanos a un conjunto de variables que satisfaga una fórmula lógica.\n",
        "\n",
        "- **Programación lineal binaria (BLP)**: Optimizar una función lineal sujeta a restricciones lineales, donde las variables sólo pueden tomar los valores 0 o 1.\n",
        "\n",
        "Muchos de estos problemas son **NP-hard**, es decir, su complejidad crece exponencialmente con el tamaño del problema.\n",
        "\n",
        "\n"
      ],
      "metadata": {
        "id": "c6j9N_aR_3TR"
      }
    },
    {
      "cell_type": "code",
      "source": [],
      "metadata": {
        "id": "Xr0wffboBMne"
      },
      "execution_count": null,
      "outputs": []
    }
  ]
}