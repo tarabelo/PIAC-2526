{
  "nbformat": 4,
  "nbformat_minor": 0,
  "metadata": {
    "colab": {
      "provenance": [],
      "include_colab_link": true
    },
    "kernelspec": {
      "name": "python3",
      "display_name": "Python 3"
    },
    "language_info": {
      "name": "python"
    }
  },
  "cells": [
    {
      "cell_type": "markdown",
      "metadata": {
        "id": "view-in-github",
        "colab_type": "text"
      },
      "source": [
        "<a href=\"https://colab.research.google.com/github/tarabelo/PIAC-2526/blob/main/Problemas_QUBO_y_modelo_Ising.ipynb\" target=\"_parent\"><img src=\"https://colab.research.google.com/assets/colab-badge.svg\" alt=\"Open In Colab\"/></a>"
      ]
    },
    {
      "cell_type": "code",
      "execution_count": 1,
      "metadata": {
        "id": "laIR9yKY_xnx",
        "outputId": "e0944324-0957-4dd7-d578-908b8d73877e",
        "colab": {
          "base_uri": "https://localhost:8080/"
        }
      },
      "outputs": [
        {
          "output_type": "stream",
          "name": "stdout",
          "text": [
            "Collecting qiskit\n",
            "  Downloading qiskit-2.1.1-cp39-abi3-manylinux_2_17_x86_64.manylinux2014_x86_64.whl.metadata (12 kB)\n",
            "Collecting rustworkx>=0.15.0 (from qiskit)\n",
            "  Downloading rustworkx-0.16.0-cp39-abi3-manylinux_2_17_x86_64.manylinux2014_x86_64.whl.metadata (10 kB)\n",
            "Requirement already satisfied: numpy<3,>=1.17 in /usr/local/lib/python3.11/dist-packages (from qiskit) (2.0.2)\n",
            "Requirement already satisfied: scipy>=1.5 in /usr/local/lib/python3.11/dist-packages (from qiskit) (1.15.3)\n",
            "Requirement already satisfied: dill>=0.3 in /usr/local/lib/python3.11/dist-packages (from qiskit) (0.3.7)\n",
            "Collecting stevedore>=3.0.0 (from qiskit)\n",
            "  Downloading stevedore-5.4.1-py3-none-any.whl.metadata (2.3 kB)\n",
            "Requirement already satisfied: typing-extensions in /usr/local/lib/python3.11/dist-packages (from qiskit) (4.14.1)\n",
            "Collecting pbr>=2.0.0 (from stevedore>=3.0.0->qiskit)\n",
            "  Downloading pbr-6.1.1-py2.py3-none-any.whl.metadata (3.4 kB)\n",
            "Requirement already satisfied: setuptools in /usr/local/lib/python3.11/dist-packages (from pbr>=2.0.0->stevedore>=3.0.0->qiskit) (75.2.0)\n",
            "Downloading qiskit-2.1.1-cp39-abi3-manylinux_2_17_x86_64.manylinux2014_x86_64.whl (7.5 MB)\n",
            "\u001b[2K   \u001b[90m━━━━━━━━━━━━━━━━━━━━━━━━━━━━━━━━━━━━━━━━\u001b[0m \u001b[32m7.5/7.5 MB\u001b[0m \u001b[31m38.0 MB/s\u001b[0m eta \u001b[36m0:00:00\u001b[0m\n",
            "\u001b[?25hDownloading rustworkx-0.16.0-cp39-abi3-manylinux_2_17_x86_64.manylinux2014_x86_64.whl (2.1 MB)\n",
            "\u001b[2K   \u001b[90m━━━━━━━━━━━━━━━━━━━━━━━━━━━━━━━━━━━━━━━━\u001b[0m \u001b[32m2.1/2.1 MB\u001b[0m \u001b[31m49.8 MB/s\u001b[0m eta \u001b[36m0:00:00\u001b[0m\n",
            "\u001b[?25hDownloading stevedore-5.4.1-py3-none-any.whl (49 kB)\n",
            "\u001b[2K   \u001b[90m━━━━━━━━━━━━━━━━━━━━━━━━━━━━━━━━━━━━━━━━\u001b[0m \u001b[32m49.5/49.5 kB\u001b[0m \u001b[31m4.7 MB/s\u001b[0m eta \u001b[36m0:00:00\u001b[0m\n",
            "\u001b[?25hDownloading pbr-6.1.1-py2.py3-none-any.whl (108 kB)\n",
            "\u001b[2K   \u001b[90m━━━━━━━━━━━━━━━━━━━━━━━━━━━━━━━━━━━━━━━━\u001b[0m \u001b[32m109.0/109.0 kB\u001b[0m \u001b[31m11.2 MB/s\u001b[0m eta \u001b[36m0:00:00\u001b[0m\n",
            "\u001b[?25hInstalling collected packages: rustworkx, pbr, stevedore, qiskit\n",
            "Successfully installed pbr-6.1.1 qiskit-2.1.1 rustworkx-0.16.0 stevedore-5.4.1\n"
          ]
        }
      ],
      "source": [
        "!pip install qiskit"
      ]
    },
    {
      "cell_type": "markdown",
      "source": [
        "# Introducción a los Problemas de Optimización\n",
        "\n",
        "Muchos problemas relevantes en ciencia, ingeniería, economía o inteligencia artificial pueden expresarse como **problemas de optimización**. En términos generales, un problema de optimización consiste en encontrar los valores de ciertas variables que **minimizan** o **maximizan** una **función objetivo**, respetando una serie de **restricciones**.\n",
        "\n",
        "Formalmente, un problema de optimización puede escribirse como:\n",
        "\n",
        "$$\n",
        "\\begin{aligned}\n",
        "\\text{Minimizar (o maximizar)} \\quad & f(x_1, x_2, \\dots, x_n) \\\\\n",
        "\\text{sujeto a} \\quad & g_i(x_1, \\dots, x_n) \\leq 0, \\quad i = 1, \\dots, m \\\\\n",
        "& h_j(x_1, \\dots, x_n) = 0, \\quad j = 1, \\dots, p\n",
        "\\end{aligned}\n",
        "$$\n",
        "\n",
        "donde:\n",
        "- $f$ es la función objetivo,\n",
        "- $g_i$ son restricciones de desigualdad,\n",
        "- $h_j$ son restricciones de igualdad,\n",
        "- y las variables $x_k$ pueden ser reales, enteras, binarias o discretas.\n",
        "\n",
        "## Ejemplos clásicos de problemas de optimización\n",
        "\n",
        "- **Problema del viajante (TSP)**: Dado un conjunto de ciudades y las distancias entre ellas, encontrar el camino más corto que visite cada ciudad exactamente una vez y regrese al punto de origen.\n",
        "\n",
        "- **Problema de la mochila (Knapsack)**: Dados objetos con un peso y un valor, seleccionar un subconjunto cuyo peso total no exceda una capacidad dada y cuyo valor total sea máximo.\n",
        "\n",
        "- **Coloración de grafos**: Asignar colores a los nodos de un grafo de forma que nodos adyacentes no compartan color y se minimice el número total de colores utilizados.\n",
        "\n",
        "- **Problema de satisfacibilidad booleana (SAT)**: Determinar si existe una asignación de valores booleanos a un conjunto de variables que satisfaga una fórmula lógica.\n",
        "\n",
        "- **Programación lineal binaria/entera**: Optimizar una función lineal sujeta a restricciones lineales, donde las variables sólo pueden tomar valores/enteros.\n",
        "\n",
        "Muchos de estos problemas son [**NP-duros**](https://es.wikipedia.org/wiki/NP-hard), es decir, su complejidad crece exponencialmente con el tamaño del problema.\n",
        "\n",
        "\n",
        "<details>\n",
        "<summary>Resumen sobre las clases de complejidad computacional</summary>\n",
        "\n",
        "Cuando hablamos de la **complejidad computacional** de un problema, nos referimos a la cantidad de recursos (tiempo y/o espacio) necesarios para resolverlo en función del tamaño de la entrada. Esto se formaliza mediante **clases de complejidad**, que agrupan problemas según los recursos requeridos por sus algoritmos.\n",
        "\n",
        "## Clases principales\n",
        "\n",
        "### 🔹 P (Polynomial Time)\n",
        "- Conjunto de problemas que pueden resolverse en **tiempo polinómico** por una máquina determinista.\n",
        "- Es decir, existen algoritmos eficientes que resuelven el problema con un coste $O(n^k)$, para alguna constante $k$.\n",
        "- **Ejemplo**: ordenamiento de una lista, búsqueda en un grafo no ponderado.\n",
        "\n",
        "### 🔹 NP (Nondeterministic Polynomial Time)\n",
        "- Problemas cuya solución puede **verificarse** en tiempo polinómico, aunque no sepamos cómo **encontrarla** eficientemente.\n",
        "- Incluye todos los problemas de P (es decir, $\\text{P} \\subseteq \\text{NP}$).\n",
        "- **Ejemplo**: SAT, TSP, coloreado de grafos, problema de la mochila.\n",
        "\n",
        "### 🔹 NP-completo\n",
        "- Subconjunto de NP que incluye los problemas **más difíciles** de la clase.\n",
        "- Un problema es NP-completo si:\n",
        "  1. Pertenece a NP.\n",
        "  2. Todo problema en NP puede reducirse a él en tiempo polinómico.\n",
        "- Si se resuelve uno en tiempo polinómico, **todos los problemas de NP también se pueden resolver eficientemente**.\n",
        "- **Ejemplo**: SAT (el primer problema demostrado como NP-completo), 3-COLOR, TSP en su versión de decisión (determinar si existe un camino menor o igual que un valor dado).\n",
        "\n",
        "### 🔹 NP-duro (NP-hard)\n",
        "- Problemas **al menos tan difíciles** como los NP-completos, pero **no necesariamente pertenecen a NP** (por ejemplo, pueden no tener soluciones verificables en tiempo polinómico).\n",
        "- Suelen ser problemas de optimización o de decisión más generales.\n",
        "- **Ejemplo**: versión de optimización del TSP (encontrar el camino más corto), QUBO, etc.\n",
        "\n",
        "## ¿P = NP?\n",
        "\n",
        "La pregunta de si $\\text{P} = \\text{NP}$ es uno de los problemas abiertos más importantes de la informática teórica. Si se demuestra que $\\text{P} = \\text{NP}$, todos los problemas cuya solución se puede verificar eficientemente también podrían **resolverse** eficientemente, lo que tendría enormes implicaciones en criptografía, planificación, diseño automático, etc.\n",
        "\n",
        "---\n",
        "\n",
        "## Clases de complejidad cuántica\n",
        "\n",
        "### 🔹 BQP (Bounded-error Quantum Polynomial Time)\n",
        "- Problemas que pueden resolverse en **tiempo polinómico por una computadora cuántica** con un error de probabilidad acotado (< 1/3).\n",
        "- Es la **contraparte cuántica de P**, e incluye algunos problemas que no se sabe cómo resolver eficientemente con algoritmos clásicos.\n",
        "- **Ejemplo**: factorización de enteros (algoritmo de Shor), logaritmo discreto, simulación de sistemas cuánticos.\n",
        "\n",
        "$$\n",
        "\\text{P} \\subseteq \\text{BPP} \\subseteq \\text{BQP}\n",
        "$$\n",
        "\n",
        "Donde **BPP** (Bounded-error Probabilistic Polynomial time) representa problemas que pueden resolverse eficientemente con algoritmos probabilísticos clásicos.\n",
        "\n",
        "### 🔹 QMA (Quantum Merlin-Arthur)\n",
        "- Contraparte cuántica de **NP**: problemas para los que un verificador cuántico puede comprobar una prueba cuántica en tiempo polinómico.\n",
        "- Existen problemas QMA-completos, como ciertas versiones del **problema del Hamiltoniano local**.\n",
        "\n",
        "---\n",
        "\n",
        "## Relaciones generales entre clases (parcialmente conocidas)\n",
        "\n",
        "- Se sabe que:\n",
        "\n",
        "$$\n",
        "\\text{P} \\subseteq \\text{NP}, \\quad \\text{P} \\subseteq \\text{BQP}\n",
        "$$\n",
        "\n",
        "- Pero **no se conoce** si:\n",
        "\n",
        "$$\n",
        "\\text{NP} \\subseteq \\text{BQP} \\quad \\text{o si} \\quad \\text{BQP} \\subseteq \\text{NP}\n",
        "$$\n",
        "\n",
        "---\n",
        "\n",
        "## Relevancia para la computación cuántica\n",
        "\n",
        "Problemas como **QUBO** o el **modelo de Ising** pertenecen a la clase **NP-hard** y, en general, **no se espera** que puedan resolverse eficientemente en computadoras clásicas. Sin embargo, ciertos algoritmos cuánticos como el **Quantum Annealing** (usado en D-Wave) o el **QAOA (Quantum Approximate Optimization Algorithm)** ofrecen aproximaciones prometedoras, que caen dentro (o cerca) de la clase BQP o heurísticas asociadas.\n",
        "\n",
        "---\n",
        "\n",
        "\n",
        "\n",
        "\n",
        "</details>\n",
        "\n",
        "En lo que sigue, nos centraremos en el problema **QUBO**, una formulación central para representar problemas de optimización combinatoria, tanto en su versión clásica como en su versión cuántica.\n"
      ],
      "metadata": {
        "id": "c6j9N_aR_3TR"
      }
    },
    {
      "cell_type": "markdown",
      "source": [
        "<a name=\"qubo\"></a>\n",
        "# **Problemas de optimización binaria cuadrática sin restricciones (QUBO)**\n",
        "\n",
        "Un tipo de problemas en los que se está usando la computación cuántica son los denominados [QUBO](https://en.wikipedia.org/wiki/Quadratic_unconstrained_binary_optimization) (_Quadratic Unconstrained Binary Optimization_).\n",
        "\n",
        "Este tipo de problemas consisten en minimizar una función $f_Q(x)$ con la siguiente forma:\n",
        "\n",
        "$$\n",
        "f_Q(x) = x^TQx = \\sum_{i=0}^{n-1}\\sum_{j=0}^i q_{ij}x_ix_j\n",
        "$$\n",
        "\n",
        "donde $Q \\in \\mathbb{R}^{n\\times n}$ es una matriz triangular (o simétrica) y $x$ un vector de componentes binarias ($x_i \\in \\{0,1\\}$).\n",
        "\n",
        "Los problemas QUBO son [NP-duros](https://es.wikipedia.org/wiki/NP-hard).\n",
        "\n",
        "Muchos modelos de optimización combinatoria pueden expresarse como problemas QUBO, por ejemplo modelos de programación lineal o problemas como el coloreado de grafos o el problema del viajante.\n",
        "\n",
        "### Ejemplo: algoritmo MAX-CUT\n",
        "\n",
        "Sea $G = (V, E)$ un grafo pesado no dirigido con $n$-nodos y pesos $w_{ij}>0$, $w_{ij}=w_{ji}$, con $(i,j)\\in E$ y $w_{ij}=0$ si $(i,j)\\notin E$.\n",
        "\n",
        "Objetivo: dividir el grafo en dos conjuntos tal que la suma de los pesos de las aristas entre ambos conjuntos sea máximo.\n",
        "\n",
        "\n",
        "<center><img src=\"https://drive.google.com/uc?export=view&id=1t37PWgnsVWRkX16wcbmFSPZNZ1D0dUOS\" alt=\"Ejemplo MAX-CUT\" width=\"700\"  /></center>\n",
        "\n",
        "En este grafo, los nodos $0$ y $3$ se asignan a un conjunto y $1$, $2$ y $4$ al otro. El peso del corte es $19$.\n",
        "\n",
        "El algoritmo procede asignando a cada vértice un valor $x_i = \\{0,1\\}$ de forma que el grafo queda dividido en dos conjuntos: los vértices con $x_i = 0$ y aquellos con $x_i = 1$.\n",
        "\n",
        "El algoritmo MAX-CUT busca el número binario $\\textbf{x}=x_0\\cdots x_{n-1}$ que maximice la función de coste:\n",
        "\n",
        "$$\n",
        "C(\\textbf{x}) = \\sum_{i,j = 0}^{n-1} w_{ij} x_i (1-x_j)\n",
        "$$\n",
        "\n",
        "siendo $w_{i,j} \\ne 0$ solo si $(i,j) \\in E$.\n",
        "\n",
        "Si los vértices $i$ y $j$ están en el mismo conjunto: $x_i = x_j \\Rightarrow x_i (1-x_j) = 0$.\n",
        "\n",
        "Si los vértices $i$ y $j$ están en diferentes conjunto: $x_i \\ne x_j \\Rightarrow x_i (1-x_j) = 1$ ó $x_j (1-x_i) = 1$.\n",
        "\n",
        "En la solución del grafo de la imagen $x_0=x_3=0$ y $x_1=x_2=x_4=1$, y el peso es:\n",
        "\n",
        "$$\n",
        "C(01101) = w_{01}x_0(1-x_1)+ w_{10}x_1(1-x_0)+w_{12}x_1(1-x_2)+w_{21}x_2(1-x_1)+\\\\\n",
        "w_{13}x_1(1-x_3)+w_{31}x_3(1-x_1)+w_{23}x_2(1-x_3)+w_{32}x_3(1-x_2)+\\\\\n",
        "w_{24}x_2(1-x_4)+w_{42}x_4(1-x_2)+w_{34}x_3(1-x_4)+w_{43}x_4(1-x_3)=\\\\\n",
        "w_{10}+w_{13}+w_{23}+w_{43} = 3+4+7+5 = 19\n",
        "$$\n",
        "\n",
        "Así, $C(\\textbf{x})$ es la suma de los pesos de las aristas que separan ambos conjuntos.\n",
        "\n",
        "---\n",
        "\n",
        "#### MAXCUT como problema QUBO\n",
        "Los valores $w_{ij}$ son $\\ne 0$ solo para las aristas del grafo.\n",
        "\n",
        "Para una arista $(i,j)\\in E$, los términos en $C(x)$ son:\n",
        "\n",
        "$$\n",
        "x_i(1-x_j) + x_j(1-x_i) = x_i+x_j-2x_ix_j\n",
        "$$\n",
        "\n",
        "Por tanto, podemos escribir la función de coste como:\n",
        "\n",
        "$$\n",
        "C(x) = \\sum_{(i,j) \\in E} w_{ij} (x_i + x_j - 2 x_i x_j)\n",
        "$$\n",
        "\n",
        "Para expresarlo como un **problema QUBO**, que requiere una **minimización**, usamos el negativo:\n",
        "\n",
        "$$\n",
        "f(x) = -\\sum_{(i,j) \\in E} w_{ij} (x_i + x_j - 2 x_i x_j)\n",
        "$$\n",
        "\n",
        "\n",
        "\n",
        "#### Matriz $Q$ del QUBO\n",
        "\n",
        "Reorganizamos la expresión en forma cuadrática:\n",
        "\n",
        "$$\n",
        "f(x) = x^T Q x\n",
        "$$\n",
        "\n",
        "Donde $Q \\in \\mathbb{R}^{n \\times n}$ es una matriz simétrica definida como:\n",
        "\n",
        "$$\n",
        "q_{ij} =\n",
        "\\begin{cases}\n",
        "- \\sum_{k \\ne i} w_{ik} & \\text{si } i = j \\\\\n",
        "2 w_{ij} & \\text{si } (i,j) \\in E \\text{ y } i \\gt j \\\\\n",
        "0 & \\text{si } (i,j) \\notin E\n",
        "\\end{cases}\n",
        "$$\n",
        "\n",
        "---\n",
        "\n",
        "#### Ejemplo: grafo anterior como QUBO\n",
        "\n",
        "La matriz $Q$ correspondiente es:\n",
        "\n",
        "$$\n",
        "Q = \\begin{pmatrix}\n",
        "-3 & 0 & 0 & 0 & 0 \\\\\n",
        "6 & -9 & 0 & 0 & 0 \\\\\n",
        "0 & 4 & -10  & 0 & 0 \\\\\n",
        "0 & 8 & 14  & -16 & 0 \\\\\n",
        "0 & 0 & 2  & 10 & -6\n",
        "\\end{pmatrix}\n",
        "$$\n",
        "\n",
        "Se puede comprobar que:\n",
        "\n",
        "$$\n",
        "f(01101) = x^T Q x = -19\n",
        "$$"
      ],
      "metadata": {
        "id": "wILU4PzL15le"
      }
    },
    {
      "cell_type": "markdown",
      "source": [
        "#### Ejemplo: programa Python que genera el grafo de la imagen, obtiene Q y resuelve el MAXCUT por fuerza bruta."
      ],
      "metadata": {
        "id": "RBa_lFORLQGp"
      }
    },
    {
      "cell_type": "code",
      "source": [
        "import numpy as np\n",
        "import networkx as nx  # Librería para manejar grafos\n",
        "\n",
        "# Ejemplo de grafo con 5 nodos\n",
        "nnodes = 5\n",
        "G = nx.Graph()\n",
        "# Añade nodos y aristas\n",
        "G.add_nodes_from(np.arange(0,nnodes,1))\n",
        "edges = [(0,1,3),(1,2,2),(1,3,4),(2,4,1),(2,3,7),(3,4,5)]\n",
        "G.add_weighted_edges_from(edges)\n",
        "\n",
        "# Mostramos el grafo\n",
        "layout = nx.random_layout(G,seed=10)\n",
        "colors = ['red', 'green', 'lightblue', 'yellow', 'magenta']\n",
        "nx.draw_networkx(G, layout, node_color=colors)\n",
        "labels = nx.get_edge_attributes(G, 'weight')\n",
        "nx.draw_networkx_edge_labels(G, pos=layout, edge_labels=labels);"
      ],
      "metadata": {
        "id": "Xr0wffboBMne",
        "outputId": "58e3e09e-8e5a-4271-9ca9-b83670cbc209",
        "colab": {
          "base_uri": "https://localhost:8080/",
          "height": 406
        }
      },
      "execution_count": null,
      "outputs": [
        {
          "output_type": "display_data",
          "data": {
            "text/plain": [
              "<Figure size 640x480 with 1 Axes>"
            ],
            "image/png": "[encoded data removed]"
          },
          "metadata": {}
        }
      ]
    },
    {
      "cell_type": "code",
      "source": [
        "# Función para obtener la matriz Q\n",
        "def maxcut_qubo_matrix(G: nx.Graph) -> np.ndarray:\n",
        "    \"\"\"\n",
        "    Construye la matriz Q del problema QUBO correspondiente al MAXCUT\n",
        "    de un grafo ponderado no dirigido G (NetworkX Graph).\n",
        "\n",
        "    Parámetros:\n",
        "    - G: grafo NetworkX con pesos en las aristas (atributo 'weight')\n",
        "\n",
        "    Retorna:\n",
        "    - Q: matriz numpy de tamaño n x n, donde n es el número de nodos en G\n",
        "    \"\"\"\n",
        "    n = G.number_of_nodes()\n",
        "    Q = np.zeros((n, n))\n",
        "\n",
        "    # G.edges(data=True) devuelve una lista de (v_j,v_i,{'weight': peso})\n",
        "    for j, i, peso in G.edges(data=True):\n",
        "        w = peso.get('weight', 1.0)  # peso por defecto = 1 si no está definido\n",
        "        Q[i, i] -= w\n",
        "        Q[j, j] -= w\n",
        "        # i es siempre > j\n",
        "        Q[i, j] += 2 * w\n",
        "\n",
        "    return Q"
      ],
      "metadata": {
        "id": "aQRScM9Aowak"
      },
      "execution_count": null,
      "outputs": []
    },
    {
      "cell_type": "code",
      "source": [
        "Q = maxcut_qubo_matrix(G)\n",
        "print(Q)"
      ],
      "metadata": {
        "id": "S9cj_qIRpmoR",
        "outputId": "84f40f66-32e4-43be-81d2-77bc5721b127",
        "colab": {
          "base_uri": "https://localhost:8080/"
        }
      },
      "execution_count": null,
      "outputs": [
        {
          "output_type": "stream",
          "name": "stdout",
          "text": [
            "[[ -3.   0.   0.   0.   0.]\n",
            " [  6.  -9.   0.   0.   0.]\n",
            " [  0.   4. -10.   0.   0.]\n",
            " [  0.   8.  14. -16.   0.]\n",
            " [  0.   0.   2.  10.  -6.]]\n"
          ]
        }
      ]
    },
    {
      "cell_type": "code",
      "source": [
        "# Algoritmo MAXCUT por fuerza bruta\n",
        "import itertools\n",
        "\n",
        "def solve_maxcut_bruteforce(Q: np.ndarray):\n",
        "    \"\"\"\n",
        "    Resuelve el problema MAXCUT exactamente por fuerza bruta a partir de la matriz Q del QUBO.\n",
        "\n",
        "    Parámetros:\n",
        "    - Q: matriz QUBO (numpy array de tamaño n x n)\n",
        "\n",
        "    Retorna:\n",
        "    - x_opt: vector binario óptimo\n",
        "    - max_cut_value: valor máximo del corte\n",
        "    \"\"\"\n",
        "    n = Q.shape[0]\n",
        "    max_cut_value = float('-inf')\n",
        "    x_opt = None\n",
        "\n",
        "    # Producto cartesiano {0,1}^n\n",
        "    # Genera todas las tuplas (x_0,..,x_{n-1}) con x_i={0,1}\n",
        "    for x in itertools.product([0, 1], repeat=n):\n",
        "        x_vec = np.array(x)\n",
        "        cut_value = - x_vec @ Q @ x_vec  # recordamos que la QUBO representa -MAXCUT\n",
        "        if cut_value > max_cut_value:\n",
        "            max_cut_value = cut_value\n",
        "            x_opt = x\n",
        "\n",
        "    return np.array(x_opt), max_cut_value"
      ],
      "metadata": {
        "id": "HN1zO08HCIQs"
      },
      "execution_count": null,
      "outputs": []
    },
    {
      "cell_type": "code",
      "source": [
        "corte, peso = solve_maxcut_bruteforce(Q)\n",
        "print('Solución = ',corte)\n",
        "print('Peso = ',peso)"
      ],
      "metadata": {
        "id": "1onlesnwHexA",
        "outputId": "c8804465-7c90-4b3c-dd56-a56677a4b944",
        "colab": {
          "base_uri": "https://localhost:8080/"
        }
      },
      "execution_count": null,
      "outputs": [
        {
          "output_type": "stream",
          "name": "stdout",
          "text": [
            "Solución =  [0 1 1 0 1]\n",
            "Peso =  19.0\n"
          ]
        }
      ]
    },
    {
      "cell_type": "markdown",
      "source": [
        "---\n",
        "---"
      ],
      "metadata": {
        "id": "uvQy5lxbL2Dm"
      }
    },
    {
      "cell_type": "markdown",
      "source": [
        "<a name=\"ising\"></a>\n",
        "# **Modelo Ising**\n",
        "\n",
        "El [_modelo Ising_](https://en.wikipedia.org/wiki/Ising_model) es un modelo matemático usado en física estadística para estudiar el comportamiento de materiales ferromagnéticos.\n",
        "\n",
        "Este modelo parte de una malla de $n$ partículas y busca minimizar la siguiente función:\n",
        "\n",
        "$$\n",
        "H(\\textbf{z}) = -\\sum_{(i,j) \\in E} J_{ij}z_iz_j -\\sum_j h_j z_j\n",
        "$$\n",
        "\n",
        "donde $z_i = \\{-1,1\\}$ representa el espín de la partícula $i$, $E$ el conjunto de aristas de la malla, $J_{ij}$ la energía de interacción entre dos partículas y $h_i$ la influencia de un campo magnético externo.\n",
        "\n",
        "$H(\\textbf{z})$ se denomina **función Hamiltoniana** y representa la energía del sistema. Resolver el problema permite obtener la configuración de espines correspondiente a un estado de mínima energía (o estado base).\n",
        "\n",
        "**Ejemplo**:\n",
        "\n",
        "<center><img src=\"https://drive.google.com/uc?export=view&id=1t8ii_V5HKX0sCVPKqgShQQzqTZOcXVxZ\" alt=\"Malla Ising\" width=\"500\"  /></center>\n",
        "\n",
        "\n",
        "En esta malla, suponiendo que $h_i=1, \\forall{i}$, el Hamiltoniano resulta:\n",
        "\n",
        "$$\n",
        "H(\\textbf{z}) = z_0z_1-3z_1z_2+z_2z_3-2z_0z_4+z_1z_5-3z_2z_6-2z_3z_7\\\\\n",
        "+z_4z_5+z_5z_6+z_6z_7+z_4z_8-3z_5z_9+z_6z_{10}-z_7z_{11}\\\\\n",
        "+z_8z_9-2z_9z_{10}+2z_{10}z_{11}-z_0-z_1-z_2-z_3-z_4-z_5\\\\\n",
        "-z_6-z_7-z_8-z_9-z_{10}-z_{11}\n",
        "$$\n",
        "\n",
        "con $z_i = \\{-1,1\\}, \\forall i$\n",
        "\n",
        "Es posible demostrar que cualquier problema QUBO puede expresarse como un modelo Ising de forma simple.\n",
        "\n",
        "### Expresión mediante operadores cuánticos\n",
        "\n",
        "Supongamos la siguiente malla simple:\n",
        "\n",
        "<center><img src=\"https://drive.google.com/uc?export=view&id=1pHIFMBSBWWciVhG1ll_SAKibigkHOiKz\" alt=\"Malla Ising 3 nodos\" width=\"350\"  /></center>\n",
        "\n",
        "En este caso, suponiendo de nuevo que $h_i=1, \\forall{i}$, el problema queda como sigue:\n",
        "\n",
        "\\begin{align*}\n",
        "\\text{Minimizar}\\quad & z_1 z_0 - 3z_2z_1 \\\\\n",
        "\\text{con}\\quad & z_i = \\{-1,1\\}, i = 0,1,2\n",
        "\\end{align*}\n",
        "\n",
        "Para el operador Pauli-Z, los valores esperados en los estados $|0\\rangle$ y $|1\\rangle$ son:\n",
        "\n",
        "$$\n",
        "\\begin{aligned}\n",
        "\\langle 0|Z|0\\rangle &= \\begin{bmatrix}1 & 0\\end{bmatrix}\\begin{bmatrix}1 & 0\\\\0 & -1\\end{bmatrix}\\begin{bmatrix}1 \\\\ 0\\end{bmatrix} = 1\\\\\n",
        "\\langle 1|Z|1\\rangle &= \\begin{bmatrix}0 & 1\\end{bmatrix}\\begin{bmatrix}1 & 0\\\\0 & -1\\end{bmatrix}\\begin{bmatrix}0 \\\\ 1\\end{bmatrix} = -1\n",
        "\\end{aligned}\n",
        "$$\n",
        "\n",
        "Por lo tanto, podemos expresar el problema anterior como:\n",
        "\n",
        "\\begin{align*}\n",
        "\\text{Minimizar}\\quad & \\langle x_1|Z|x_1\\rangle \\langle x_0|Z|x_0\\rangle - 3 \\langle x_2|Z|x_2\\rangle \\langle x_1|Z|x_1\\rangle\\\\\n",
        "\\text{con}\\quad & x_i = \\{0,1\\}, i = 0,1,2\n",
        "\\end{align*}\n",
        "\n",
        "Supongamos un estado base de un sistema de 3 cúbits, $|x\\rangle = |x_2x_1x_0\\rangle$ con $x_i = \\{0,1\\}$.\n",
        "\n",
        "La propiedad del producto mixto nos permite escribir:\n",
        "\n",
        "$$\n",
        "\\langle x_1|Z|x_1\\rangle \\langle x_0|Z|x_0\\rangle =\n",
        "\\langle x_2|I|x_2\\rangle \\langle x_1|Z|x_1\\rangle \\langle x_0|Z|x_0\\rangle =\n",
        "\\langle x_2x_1x_0|I\\otimes Z \\otimes Z|x_2x_1x_0\\rangle = \\langle x|Z_1Z_0|x\\rangle\n",
        "$$\n",
        "\n",
        "donde el operador $Z_i$ actúa sobre el cúbit $i$.\n",
        "\n",
        "Por lo tanto, el problema anterior se puede expresar como buscar el estado base $|x_\\text{min}\\rangle$ que minimize la siguiente expresión:\n",
        "\n",
        "$$\n",
        "\\langle x_\\text{min}|Z_1Z_0|x_\\text{min}\\rangle - 3\\langle x_\\text{min}|Z_2Z_1|x_\\text{min}\\rangle = \\langle x_\\text{min}|Z_1Z_0-3Z_2Z_1|x_\\text{min}\\rangle\n",
        "$$\n",
        "\n",
        "#### Estados arbitrarios\n",
        "\n",
        "Supongamos en un espacio de $n$ cúbits un estado arbitrario $\\vert \\psi\\rangle = \\sum_{i=0}^{2^n-1} a_i\\vert i\\rangle$. Dado $l,m$ arbitrarios, tenemos:\n",
        "\n",
        "$$\n",
        "\\langle \\psi\\vert Z_lZ_m\\vert \\psi\\rangle =\n",
        "\\left(\\sum_{i=0}^{2^n-1} a_i^*\\langle i\\vert\\right) Z_lZ_m\\left(\\sum_{j=0}^{2^n-1} a_j\\vert j\\rangle\\right) =\n",
        "\\sum_{i=0}^{2^n-1}\\sum_{j=0}^{2^n-1} a_i^*a_j\\langle i\\vert Z_lZ_m\\vert j\\rangle\n",
        "$$\n",
        "\n",
        "Además, para un estado de la base $\\vert i\\rangle$ se verifica:\n",
        "\n",
        "$$\n",
        "Z_jZ_k|i\\rangle = \\pm|i\\rangle\n",
        "$$\n",
        "\n",
        "es decir, los estados de la base son autovectores de $Z$ con autovalor $\\pm 1$.\n",
        "\n",
        "Y como $\\langle i\\vert  j\\rangle = 0, \\forall i\\ne j$, la expresión anterior queda:\n",
        "\n",
        "$$\n",
        "\\langle \\psi\\vert Z_lZ_m\\vert \\psi\\rangle = \\sum_{i=0}^{2^n-1} |a_i|^2\\langle i\\vert Z_lZ_m\\vert i\\rangle \\ge \\langle x_\\text{min}|Z_lZ_m|x_\\text{min}\\rangle\n",
        "$$\n",
        "\n",
        "Es decir, el mínimo siempre se alcanza en uno de los estados base.\n",
        "\n",
        "#### Generalización\n",
        "\n",
        "Los términos lineales del modelo Ising se pueden expresar como:\n",
        "\n",
        "$$\n",
        "\\sum_{j} h_j \\langle\\psi|Z_j|\\psi\\rangle\n",
        "$$\n",
        "\n",
        "Por lo que resolver el problema Ising es equivalente a **encontrar el estado $\\psi$ que minimiza**:\n",
        "\n",
        "$$\n",
        "-\\sum_{(i,j) \\in E} J_{ij}\\langle\\psi|Z_iZ_j|\\psi\\rangle -\\sum_j h_j \\langle\\psi|Z_j|\\psi\\rangle\n",
        "$$"
      ],
      "metadata": {
        "id": "IAAh8jHLL3yr"
      }
    },
    {
      "cell_type": "markdown",
      "source": [
        "**Ejemplo**: para la malla Ising de tres nodos encuentra por fuerza bruta el estado de la base $|x_\\text{min}\\rangle$ que minimiza:\n",
        "\n",
        "$$\n",
        "\\langle x_\\text{min}|Z_1Z_0-3Z_2Z_1|x_\\text{min}\\rangle\n",
        "$$\n",
        "\n"
      ],
      "metadata": {
        "id": "2lSIMZUYQse7"
      }
    },
    {
      "cell_type": "code",
      "source": [
        "from qiskit.quantum_info import Pauli, SparsePauliOp\n",
        "\n",
        "n = 3\n",
        "\n",
        "# Definimos el operador hamiltoniano\n",
        "Z1Z0 = Pauli('IZZ')\n",
        "Z2Z1 = Pauli('ZZI')\n",
        "\n",
        "operador = SparsePauliOp(Z1Z0)-3*SparsePauliOp(Z2Z1)\n",
        "\n",
        "# Otra forma (los 1s son los coeficientes)\n",
        "# operador = SparsePauliOp.from_list([('IZZ',1), ('ZZI',-3)])\n",
        "\n",
        "print(operador)\n"
      ],
      "metadata": {
        "id": "NRqd9esqK7Eq",
        "outputId": "23724365-b24c-43dd-bf08-20677ccbae64",
        "colab": {
          "base_uri": "https://localhost:8080/"
        }
      },
      "execution_count": null,
      "outputs": [
        {
          "output_type": "stream",
          "name": "stdout",
          "text": [
            "SparsePauliOp(['IZZ', 'ZZI'],\n",
            "              coeffs=[ 1.+0.j, -3.+0.j])\n"
          ]
        }
      ]
    },
    {
      "cell_type": "code",
      "source": [
        "from qiskit.quantum_info import Statevector\n",
        "\n",
        "# Creamos una lista con todos los estados base para n cúbits\n",
        "\n",
        "estados = [Statevector.from_int(i, dims=2**n) for i in range(2**n)]\n",
        "\n",
        "for i in range(2**n):\n",
        "  print('Estado ',i, 'valor esperado=',estados[i].expectation_value(operador).real)"
      ],
      "metadata": {
        "id": "dTF7ik9UQica",
        "outputId": "c8784d9f-db4e-4b6b-df4d-5a8ca81eac7d",
        "colab": {
          "base_uri": "https://localhost:8080/"
        }
      },
      "execution_count": null,
      "outputs": [
        {
          "output_type": "stream",
          "name": "stdout",
          "text": [
            "Estado  0 valor esperado= -2.0\n",
            "Estado  1 valor esperado= -4.0\n",
            "Estado  2 valor esperado= 2.0\n",
            "Estado  3 valor esperado= 4.0\n",
            "Estado  4 valor esperado= 4.0\n",
            "Estado  5 valor esperado= 2.0\n",
            "Estado  6 valor esperado= -4.0\n",
            "Estado  7 valor esperado= -2.0\n"
          ]
        }
      ]
    },
    {
      "cell_type": "markdown",
      "source": [
        "Los estados $|001\\rangle$ y $|110\\rangle$ obtienen el valor esperado mínimo (-4).\n",
        "\n",
        "Esos estados corresponde a $z_1=z_2=\\pm 1$ y $z_0\\ne z_1$"
      ],
      "metadata": {
        "id": "gugEyvMQR1q6"
      }
    },
    {
      "cell_type": "markdown",
      "source": [
        "## Equivalencia QUBO $\\leftrightarrow$ Ising\n",
        "\n",
        "Es fácil comprobar que es posible convertir un problema QUBO, con $x_i\\in \\{0,1\\}$, en un problema Ising, con $x_i \\in \\{-1,1\\}, y viceversa, con un simple cambio de variables:\n",
        "\n",
        "$$\n",
        "z_i = 1 - 2x_i =\n",
        "\\begin{cases}\n",
        "1, \\text{si } x_i = 0 \\\\\n",
        "-1, \\text{si } x_i = 1\n",
        "\\end{cases}\n",
        "$$\n",
        "\n"
      ],
      "metadata": {
        "id": "owRQyI1Tk0jI"
      }
    },
    {
      "cell_type": "markdown",
      "source": [
        "### **Ejercicio 1**\n",
        "\n",
        "\n",
        "<center><img src=\"https://drive.google.com/uc?export=view&id=1t37PWgnsVWRkX16wcbmFSPZNZ1D0dUOS\" alt=\"Ejemplo MAX-CUT\" width=\"700\"  /></center>\n",
        "\n",
        "Para el grafo de la imagen, expresa el algoritmo MAXCUT en formato Ising y resuelvelo usando Qiskit.\n",
        "\n",
        "**Solución**\n",
        "\n",
        "\n",
        "Vimos que el MAXCUT expresado como QUBO equivale a minimizar $f(x)$:\n",
        "\n",
        "$$\n",
        "f(x) = -\\sum_{(i,j) \\in E} w_{ij} (x_i + x_j - 2 x_i x_j)\n",
        "$$\n",
        "\n",
        "Si reemplazamos $x_i = \\frac{1-z_i}{2}$ tenemos:\n",
        "\n",
        "$$\n",
        "x_i + x_j - 2 x_i x_j = \\frac{1-z_i}{2} + \\frac{1-z_j}{2} - 2\\frac{1-z_i}{2}\\frac{1-z_j}{2} = \\frac{1}{2} (2-z_i-z_j -1+z_i+z_j-z_iz_j) = \\frac{1}{2} - \\frac{z_iz_j}{2}\n",
        "$$\n",
        "\n",
        "Por lo tanto, la función a minimizar es:\n",
        "\n",
        "$$\n",
        "f(x) = \\sum_{(i,j) \\in E} \\left(-\\frac{w_{ij}}{2} + \\frac{w_{ij}}{2}z_iz_j\\right)\n",
        "$$\n",
        "\n",
        "Dado que se trata de una operación de minimización, podemos prescindir del término independiente"
      ],
      "metadata": {
        "id": "m9b8IcR6mrtn"
      }
    },
    {
      "cell_type": "code",
      "source": [],
      "metadata": {
        "id": "eRop2V7zSiqK"
      },
      "execution_count": null,
      "outputs": []
    }
  ]
}