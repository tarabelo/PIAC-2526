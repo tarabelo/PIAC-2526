{
  "nbformat": 4,
  "nbformat_minor": 0,
  "metadata": {
    "colab": {
      "provenance": [],
      "authorship_tag": "ABX9TyO5ipxRMjnew81YDjR6IMEU",
      "include_colab_link": true
    },
    "kernelspec": {
      "name": "python3",
      "display_name": "Python 3"
    },
    "language_info": {
      "name": "python"
    }
  },
  "cells": [
    {
      "cell_type": "markdown",
      "metadata": {
        "id": "view-in-github",
        "colab_type": "text"
      },
      "source": [
        "<a href=\"https://colab.research.google.com/github/tarabelo/PIAC-2526/blob/main/Algoritmo%20cu%C3%A1ntico%20de%20optimizaci%C3%B3n%20aproximada%20(QAOA).ipynb\" target=\"_parent\"><img src=\"https://colab.research.google.com/assets/colab-badge.svg\" alt=\"Open In Colab\"/></a>"
      ]
    },
    {
      "cell_type": "code",
      "execution_count": 2,
      "metadata": {
        "id": "4ksSmiJ0Glbm",
        "outputId": "fe5ff0b5-556c-4293-a4a3-2d868d55f72c",
        "colab": {
          "base_uri": "https://localhost:8080/"
        }
      },
      "outputs": [
        {
          "output_type": "stream",
          "name": "stdout",
          "text": [
            "Collecting qiskit-ibm-runtime\n",
            "  Downloading qiskit_ibm_runtime-0.43.0-py3-none-any.whl.metadata (21 kB)\n",
            "Collecting qiskit_algorithms\n",
            "  Downloading qiskit_algorithms-0.4.0-py3-none-any.whl.metadata (4.7 kB)\n",
            "Collecting qiskit[visualization]\n",
            "  Downloading qiskit-2.2.1-cp39-abi3-manylinux2014_x86_64.manylinux_2_17_x86_64.whl.metadata (12 kB)\n",
            "Collecting rustworkx>=0.15.0 (from qiskit[visualization])\n",
            "  Downloading rustworkx-0.17.1-cp39-abi3-manylinux_2_17_x86_64.manylinux2014_x86_64.whl.metadata (10 kB)\n",
            "Requirement already satisfied: numpy<3,>=1.17 in /usr/local/lib/python3.12/dist-packages (from qiskit[visualization]) (2.0.2)\n",
            "Requirement already satisfied: scipy>=1.5 in /usr/local/lib/python3.12/dist-packages (from qiskit[visualization]) (1.16.2)\n",
            "Requirement already satisfied: dill>=0.3 in /usr/local/lib/python3.12/dist-packages (from qiskit[visualization]) (0.3.8)\n",
            "Collecting stevedore>=3.0.0 (from qiskit[visualization])\n",
            "  Downloading stevedore-5.5.0-py3-none-any.whl.metadata (2.2 kB)\n",
            "Requirement already satisfied: typing-extensions in /usr/local/lib/python3.12/dist-packages (from qiskit[visualization]) (4.15.0)\n",
            "Requirement already satisfied: matplotlib>=3.3 in /usr/local/lib/python3.12/dist-packages (from qiskit[visualization]) (3.10.0)\n",
            "Requirement already satisfied: pydot in /usr/local/lib/python3.12/dist-packages (from qiskit[visualization]) (3.0.4)\n",
            "Requirement already satisfied: Pillow>=4.2.1 in /usr/local/lib/python3.12/dist-packages (from qiskit[visualization]) (11.3.0)\n",
            "Collecting pylatexenc>=1.4 (from qiskit[visualization])\n",
            "  Downloading pylatexenc-2.10.tar.gz (162 kB)\n",
            "\u001b[2K     \u001b[90m━━━━━━━━━━━━━━━━━━━━━━━━━━━━━━━━━━━━━━━\u001b[0m \u001b[32m162.6/162.6 kB\u001b[0m \u001b[31m6.1 MB/s\u001b[0m eta \u001b[36m0:00:00\u001b[0m\n",
            "\u001b[?25h  Preparing metadata (setup.py) ... \u001b[?25l\u001b[?25hdone\n",
            "Requirement already satisfied: seaborn>=0.9.0 in /usr/local/lib/python3.12/dist-packages (from qiskit[visualization]) (0.13.2)\n",
            "Requirement already satisfied: sympy>=1.3 in /usr/local/lib/python3.12/dist-packages (from qiskit[visualization]) (1.13.3)\n",
            "Requirement already satisfied: requests>=2.19 in /usr/local/lib/python3.12/dist-packages (from qiskit-ibm-runtime) (2.32.4)\n",
            "Collecting requests-ntlm>=1.1.0 (from qiskit-ibm-runtime)\n",
            "  Downloading requests_ntlm-1.3.0-py3-none-any.whl.metadata (2.4 kB)\n",
            "Requirement already satisfied: urllib3>=1.21.1 in /usr/local/lib/python3.12/dist-packages (from qiskit-ibm-runtime) (2.5.0)\n",
            "Requirement already satisfied: python-dateutil>=2.8.0 in /usr/local/lib/python3.12/dist-packages (from qiskit-ibm-runtime) (2.9.0.post0)\n",
            "Collecting ibm-platform-services>=0.22.6 (from qiskit-ibm-runtime)\n",
            "  Downloading ibm_platform_services-0.69.0-py3-none-any.whl.metadata (9.0 kB)\n",
            "Requirement already satisfied: pydantic>=2.5.0 in /usr/local/lib/python3.12/dist-packages (from qiskit-ibm-runtime) (2.11.10)\n",
            "Requirement already satisfied: packaging in /usr/local/lib/python3.12/dist-packages (from qiskit-ibm-runtime) (25.0)\n",
            "Collecting ibm_cloud_sdk_core<4.0.0,>=3.24.2 (from ibm-platform-services>=0.22.6->qiskit-ibm-runtime)\n",
            "  Downloading ibm_cloud_sdk_core-3.24.2-py3-none-any.whl.metadata (8.7 kB)\n",
            "Requirement already satisfied: contourpy>=1.0.1 in /usr/local/lib/python3.12/dist-packages (from matplotlib>=3.3->qiskit[visualization]) (1.3.3)\n",
            "Requirement already satisfied: cycler>=0.10 in /usr/local/lib/python3.12/dist-packages (from matplotlib>=3.3->qiskit[visualization]) (0.12.1)\n",
            "Requirement already satisfied: fonttools>=4.22.0 in /usr/local/lib/python3.12/dist-packages (from matplotlib>=3.3->qiskit[visualization]) (4.60.1)\n",
            "Requirement already satisfied: kiwisolver>=1.3.1 in /usr/local/lib/python3.12/dist-packages (from matplotlib>=3.3->qiskit[visualization]) (1.4.9)\n",
            "Requirement already satisfied: pyparsing>=2.3.1 in /usr/local/lib/python3.12/dist-packages (from matplotlib>=3.3->qiskit[visualization]) (3.2.5)\n",
            "Requirement already satisfied: annotated-types>=0.6.0 in /usr/local/lib/python3.12/dist-packages (from pydantic>=2.5.0->qiskit-ibm-runtime) (0.7.0)\n",
            "Requirement already satisfied: pydantic-core==2.33.2 in /usr/local/lib/python3.12/dist-packages (from pydantic>=2.5.0->qiskit-ibm-runtime) (2.33.2)\n",
            "Requirement already satisfied: typing-inspection>=0.4.0 in /usr/local/lib/python3.12/dist-packages (from pydantic>=2.5.0->qiskit-ibm-runtime) (0.4.2)\n",
            "Requirement already satisfied: six>=1.5 in /usr/local/lib/python3.12/dist-packages (from python-dateutil>=2.8.0->qiskit-ibm-runtime) (1.17.0)\n",
            "Requirement already satisfied: charset_normalizer<4,>=2 in /usr/local/lib/python3.12/dist-packages (from requests>=2.19->qiskit-ibm-runtime) (3.4.3)\n",
            "Requirement already satisfied: idna<4,>=2.5 in /usr/local/lib/python3.12/dist-packages (from requests>=2.19->qiskit-ibm-runtime) (3.10)\n",
            "Requirement already satisfied: certifi>=2017.4.17 in /usr/local/lib/python3.12/dist-packages (from requests>=2.19->qiskit-ibm-runtime) (2025.10.5)\n",
            "Requirement already satisfied: cryptography>=1.3 in /usr/local/lib/python3.12/dist-packages (from requests-ntlm>=1.1.0->qiskit-ibm-runtime) (43.0.3)\n",
            "Collecting pyspnego>=0.4.0 (from requests-ntlm>=1.1.0->qiskit-ibm-runtime)\n",
            "  Downloading pyspnego-0.12.0-py3-none-any.whl.metadata (4.1 kB)\n",
            "Requirement already satisfied: pandas>=1.2 in /usr/local/lib/python3.12/dist-packages (from seaborn>=0.9.0->qiskit[visualization]) (2.2.2)\n",
            "Requirement already satisfied: mpmath<1.4,>=1.1.0 in /usr/local/lib/python3.12/dist-packages (from sympy>=1.3->qiskit[visualization]) (1.3.0)\n",
            "Requirement already satisfied: cffi>=1.12 in /usr/local/lib/python3.12/dist-packages (from cryptography>=1.3->requests-ntlm>=1.1.0->qiskit-ibm-runtime) (2.0.0)\n",
            "Requirement already satisfied: PyJWT<3.0.0,>=2.10.1 in /usr/local/lib/python3.12/dist-packages (from ibm_cloud_sdk_core<4.0.0,>=3.24.2->ibm-platform-services>=0.22.6->qiskit-ibm-runtime) (2.10.1)\n",
            "Requirement already satisfied: pytz>=2020.1 in /usr/local/lib/python3.12/dist-packages (from pandas>=1.2->seaborn>=0.9.0->qiskit[visualization]) (2025.2)\n",
            "Requirement already satisfied: tzdata>=2022.7 in /usr/local/lib/python3.12/dist-packages (from pandas>=1.2->seaborn>=0.9.0->qiskit[visualization]) (2025.2)\n",
            "Requirement already satisfied: pycparser in /usr/local/lib/python3.12/dist-packages (from cffi>=1.12->cryptography>=1.3->requests-ntlm>=1.1.0->qiskit-ibm-runtime) (2.23)\n",
            "Downloading qiskit_ibm_runtime-0.43.0-py3-none-any.whl (1.4 MB)\n",
            "\u001b[2K   \u001b[90m━━━━━━━━━━━━━━━━━━━━━━━━━━━━━━━━━━━━━━━━\u001b[0m \u001b[32m1.4/1.4 MB\u001b[0m \u001b[31m26.8 MB/s\u001b[0m eta \u001b[36m0:00:00\u001b[0m\n",
            "\u001b[?25hDownloading qiskit_algorithms-0.4.0-py3-none-any.whl (327 kB)\n",
            "\u001b[2K   \u001b[90m━━━━━━━━━━━━━━━━━━━━━━━━━━━━━━━━━━━━━━━━\u001b[0m \u001b[32m327.8/327.8 kB\u001b[0m \u001b[31m22.0 MB/s\u001b[0m eta \u001b[36m0:00:00\u001b[0m\n",
            "\u001b[?25hDownloading ibm_platform_services-0.69.0-py3-none-any.whl (368 kB)\n",
            "\u001b[2K   \u001b[90m━━━━━━━━━━━━━━━━━━━━━━━━━━━━━━━━━━━━━━━━\u001b[0m \u001b[32m368.7/368.7 kB\u001b[0m \u001b[31m25.4 MB/s\u001b[0m eta \u001b[36m0:00:00\u001b[0m\n",
            "\u001b[?25hDownloading qiskit-2.2.1-cp39-abi3-manylinux2014_x86_64.manylinux_2_17_x86_64.whl (8.0 MB)\n",
            "\u001b[2K   \u001b[90m━━━━━━━━━━━━━━━━━━━━━━━━━━━━━━━━━━━━━━━━\u001b[0m \u001b[32m8.0/8.0 MB\u001b[0m \u001b[31m102.5 MB/s\u001b[0m eta \u001b[36m0:00:00\u001b[0m\n",
            "\u001b[?25hDownloading requests_ntlm-1.3.0-py3-none-any.whl (6.6 kB)\n",
            "Downloading rustworkx-0.17.1-cp39-abi3-manylinux_2_17_x86_64.manylinux2014_x86_64.whl (2.2 MB)\n",
            "\u001b[2K   \u001b[90m━━━━━━━━━━━━━━━━━━━━━━━━━━━━━━━━━━━━━━━━\u001b[0m \u001b[32m2.2/2.2 MB\u001b[0m \u001b[31m82.6 MB/s\u001b[0m eta \u001b[36m0:00:00\u001b[0m\n",
            "\u001b[?25hDownloading stevedore-5.5.0-py3-none-any.whl (49 kB)\n",
            "\u001b[2K   \u001b[90m━━━━━━━━━━━━━━━━━━━━━━━━━━━━━━━━━━━━━━━━\u001b[0m \u001b[32m49.5/49.5 kB\u001b[0m \u001b[31m3.5 MB/s\u001b[0m eta \u001b[36m0:00:00\u001b[0m\n",
            "\u001b[?25hDownloading ibm_cloud_sdk_core-3.24.2-py3-none-any.whl (75 kB)\n",
            "\u001b[2K   \u001b[90m━━━━━━━━━━━━━━━━━━━━━━━━━━━━━━━━━━━━━━━━\u001b[0m \u001b[32m75.8/75.8 kB\u001b[0m \u001b[31m5.2 MB/s\u001b[0m eta \u001b[36m0:00:00\u001b[0m\n",
            "\u001b[?25hDownloading pyspnego-0.12.0-py3-none-any.whl (130 kB)\n",
            "\u001b[2K   \u001b[90m━━━━━━━━━━━━━━━━━━━━━━━━━━━━━━━━━━━━━━━━\u001b[0m \u001b[32m130.2/130.2 kB\u001b[0m \u001b[31m9.2 MB/s\u001b[0m eta \u001b[36m0:00:00\u001b[0m\n",
            "\u001b[?25hBuilding wheels for collected packages: pylatexenc\n",
            "  Building wheel for pylatexenc (setup.py) ... \u001b[?25l\u001b[?25hdone\n",
            "  Created wheel for pylatexenc: filename=pylatexenc-2.10-py3-none-any.whl size=136817 sha256=b582a75cf95a1c4f18398abeb0f2ef389ac42df56f330544740436e26e609947\n",
            "  Stored in directory: /root/.cache/pip/wheels/06/3e/78/fa1588c1ae991bbfd814af2bcac6cef7a178beee1939180d46\n",
            "Successfully built pylatexenc\n",
            "Installing collected packages: pylatexenc, stevedore, rustworkx, qiskit, ibm_cloud_sdk_core, qiskit_algorithms, pyspnego, ibm-platform-services, requests-ntlm, qiskit-ibm-runtime\n",
            "Successfully installed ibm-platform-services-0.69.0 ibm_cloud_sdk_core-3.24.2 pylatexenc-2.10 pyspnego-0.12.0 qiskit-2.2.1 qiskit-ibm-runtime-0.43.0 qiskit_algorithms-0.4.0 requests-ntlm-1.3.0 rustworkx-0.17.1 stevedore-5.5.0\n"
          ]
        }
      ],
      "source": [
        "# Instalamos qiskit en el notebook\n",
        "!pip install qiskit[visualization] qiskit-ibm-runtime qiskit_algorithms"
      ]
    },
    {
      "cell_type": "code",
      "source": [
        "import numpy as np\n",
        "import matplotlib.pyplot as plt\n",
        "\n",
        "# importing Qiskit\n",
        "from qiskit import QuantumCircuit\n",
        "\n",
        "# import basic plot tools\n",
        "from qiskit.visualization import plot_histogram"
      ],
      "metadata": {
        "id": "is6GF80wGzv_"
      },
      "execution_count": 3,
      "outputs": []
    },
    {
      "cell_type": "markdown",
      "source": [
        "# **Algoritmo cuántico de optimización aproximada (QAOA)**\n",
        "\n",
        "### Contenidos\n",
        "\n",
        "1. [Discretización de la evolución adiabática (*Trotterization*)](#trotter)\n",
        "1. [Quantum Approximate Optimization Algorithm (QAOA)](#qaoa)\n",
        "1. [Programas cuadráticos con restricciones cuadráticas](#cuadraticos)\n",
        "1. [MAX-CUT como QUBO](#maxcut)"
      ],
      "metadata": {
        "id": "fTeuK-0NG6y6"
      }
    },
    {
      "cell_type": "markdown",
      "metadata": {
        "id": "ReeKXTCYAs_8"
      },
      "source": [
        "<a name=\"trotter\"></a>\n",
        "## **Discretización de la evolución adiabática (*Trotterization*)**\n",
        "\n",
        "Podemos replicar la evolución adiabática en un computador cuántico basado en puertas discretizando la evolución continua del Hamiltoniano.\n",
        "\n",
        "La evolución temporal de un sistema viene dada por la ecuación de Schrödinger:\n",
        "\n",
        "$$i\\hbar \\frac{d}{dt}|\\psi(t)\\rangle = H(t)|\\psi(t)\\rangle$$\n",
        "\n",
        "En general, $H(t)$ depende del tiempo. Pero en un intervalo temporal $[t_i, t_i+\\Delta t]$ suficientemente pequeño, podemos considerar $H(t_i)$ constante, verificándose que:\n",
        "\n",
        "$$|\\psi(t_i+\\Delta t)\\rangle = e^{-iH(t_i)\\Delta t}|\\psi(t_i)\\rangle = U_i|\\psi(t_i)\\rangle$$\n",
        "\n",
        "siendo $U_i = e^{-iH(t_i)\\Delta t}$ una matriz unitaria.\n",
        "\n",
        "\n",
        "\n",
        "Si discretizamos la evolución en $p = \\frac{T}{\\Delta t}$ pasos, podemos escribir:\n",
        "\n",
        "$$\n",
        "|\\psi(t_1)\\rangle = U_0|\\psi(t_0)\\rangle \\\\\n",
        "|\\psi(t_2)\\rangle = U_1|\\psi(t_1)\\rangle \\\\\n",
        "\\cdots \\\\\n",
        "|\\psi(t_{p})\\rangle = U_{p-1}|\\psi(t_{p-1})\\rangle\n",
        "$$\n",
        "\n",
        "\n",
        "De esta forma, el estado final del sistema será:\n",
        "\n",
        "$$\n",
        "|\\psi(t_{p})\\rangle = U_{p-1}U_{p-2}\\cdots U_{1}U_{0}|\\psi(t_0)\\rangle = \\left(\\prod_{m=p-1}^{0} U_m\\right) |\\psi(t_0)\\rangle =\n",
        "$$\n",
        "\n",
        "El Hamiltoniano usado en computación adiabática es:\n",
        "\n",
        "$$H(t) = A(t)H_0 + B(t)H_c$$\n",
        "\n",
        "por lo que resulta:\n",
        "\n",
        "$$\n",
        "|\\psi(T)\\rangle = \\left(\\prod_{m=0}^{p-1} e^{i\\Delta t(A'(t_m)H_0 + B'(t_m)H_c)}\\right) |\\psi(0)\\rangle\n",
        "$$\n",
        "\n",
        "donde $A'(t_m) = -A(t_{p-1-m})$, $B'(t_m) = -B(t_{p-1-m})$, $|\\psi(T)\\rangle = |\\psi(t_{p})\\rangle$ y $|\\psi(0)\\rangle = |\\psi(t_{0})\\rangle$\n",
        "\n",
        "En general, dadas dos matrices $A$ y $B$, la igualdad $e^{A+B} = e^Ae^B$ solo se da si $A$ y $B$ _conmutan_, es decir si $[A,B] = AB-BA = 0$.\n",
        "\n",
        "Si $\\Delta t$ es lo suficientemente pequeño, la formula de Lie-Trotter permite escribir:\n",
        "\n",
        "$$\n",
        "e^{i\\Delta t(A'(t_m)H_0 + B'(t_m)H_c)} \\approx e^{i\\Delta tA'(t_m)H_0} e^{i\\Delta tB'(t_m)H_c}\n",
        "$$\n",
        "\n",
        "Por lo tanto, el estado final del sistema se puede escribir:\n",
        "\n",
        "$$\n",
        "|\\psi_f\\rangle = |\\psi(T)\\rangle = \\left(\\prod_{m=0}^{p-1} e^{i\\Delta tA'(t_m)H_0} e^{i\\Delta tB'(t_m)H_c}\\right) |\\psi(0)\\rangle =\n",
        "\\prod_{m=0}^{p-1} U_0(t_m)U_c(t_m)|\\psi_0\\rangle\n",
        "$$\n",
        "\n",
        "siendo las matrices unitarias:\n",
        "\n",
        "$$\n",
        "U_0(t_m) = e^{i\\Delta tA'(t_m)H_0}\\\\\n",
        "U_c(t_m) = e^{i\\Delta tB'(t_m)H_c}\n",
        "$$\n",
        "\n",
        "Este procedimiento se denomina _trotterization_ y es la base de algoritmos como el QAOA.\n"
      ]
    },
    {
      "cell_type": "markdown",
      "metadata": {
        "id": "lQyCnyX0R853"
      },
      "source": [
        "\n",
        "\n",
        "---\n",
        "\n",
        "\n",
        "\n",
        "---\n",
        "\n",
        "\n",
        "\n",
        "---\n",
        "\n",
        "\n"
      ]
    },
    {
      "cell_type": "markdown",
      "metadata": {
        "id": "color-painting"
      },
      "source": [
        "<a name=\"qaoa\"></a>\n",
        "# **Quantum Approximate Optimization Algorithm (QAOA)**\n",
        "\n",
        "Algoritmo híbrido basado en la discretización de la evolución adiabática para resolver problemas Ising.\n",
        "\n",
        "Como ya hemos visto, el estado final del sistema despues de la evolución es:\n",
        "\n",
        "$$\n",
        "|\\psi_f\\rangle = |\\psi(T)\\rangle = \\left(\\prod_{m=0}^{p-1} e^{i\\Delta tA'(t_m)H_0} e^{i\\Delta tB'(t_m)H_c}\\right) |\\psi(0)\\rangle =\n",
        "\\prod_{m=0}^{p-1} U_0(t_m)U_c(t_m)|\\psi_0\\rangle\n",
        "$$\n",
        "\n",
        "siendo las matrices unitarias:\n",
        "\n",
        "$$\n",
        "U_0(t_m) = e^{i\\Delta tA'(t_m)H_0} = e^{i\\beta_mH_0} = U_0(\\beta_m)\\\\\n",
        "U_c(t_m) = e^{i\\Delta tB'(t_m)H_c} = e^{i\\gamma_mH_c} = U_c(\\gamma_m)\n",
        "$$\n",
        "con $m=0,\\ldots,p-1$ y $p \\ge 1$.\n",
        "\n",
        "QAOA intenta elegir unos valores de $\\beta_m$ y $\\gamma_m$ que aproximen el estado $|\\psi_f\\rangle$ al estado base del Hamiltoniano de coste $H_c$, es decir, que minimizen $\\langle\\psi_f|H_c|\\psi_f\\rangle$.\n",
        "\n",
        "El algoritmo QAOA parte de un Hamiltoniano de coste $H_c$ que define el problema y procede como sigue:\n",
        "\n",
        "1. Se elige un valor de $p\\ge 1$ y dos listas de valores $\\boldsymbol{\\beta} = (\\beta_0,\\ldots,\\beta_{p-1})$ y $\\boldsymbol{\\gamma} = (\\gamma_0,\\ldots,\\gamma_{p-1})$\n",
        "1. Como $H_0$ se suele usar el _mixing Hamiltonian_ y como estado inicial se suele usar la superposición completa\n",
        "  $$H_0 = -\\sum_{i=0}^{n-1} X_i\\quad\n",
        "  |\\psi_0\\rangle = |+\\rangle^{\\otimes n}$$\n",
        "2. La QPU aplica las puertas $U_0(\\beta_m)U_c(\\gamma_m)$, $m=0,\\ldots,p-1$, y se obtiene un nuevo estado $|\\psi_p\\rangle$\n",
        "3. En la CPU se usa un algoritmo de optimización para actualizar los parámetros $\\boldsymbol{\\beta}$ y $\\boldsymbol{\\gamma}$ intentando minimizar el valor esperado $\\langle\\psi_p|H_c|\\psi_p\\rangle$\n",
        "4. Se vuelve al paso 2 hasta obtener los valores óptimos $\\boldsymbol{\\beta}^\\ast$ y $\\boldsymbol{\\gamma}^\\ast$\n",
        "5. Usando esos valores, se obtiene el estado que minimiza la solución\n",
        "\n",
        "El proceso de optimización de los parámetros puede ser un simple gradiente descendente, en el que cada parámetro se actualiza en la dirección que conduzca al mayor descenso del valor esperado, u otros método de optimización más sofisticados.\n",
        "\n",
        "### Construcción de $U_0(\\beta)$ y $U_c(\\gamma)$\n",
        "\n",
        "#### Puertas para $U_0(\\beta)$\n",
        "\n",
        "Si tenemos $n$ cúbits, y dado que las matrices $X$ conmutan tenemos:\n",
        "\n",
        "$$U_0(\\beta) = e^{i\\beta H_0} = e^{-i\\beta\\sum_{i=0}^{n-1} X_i} = \\prod_{i=0}^{n-1}e^{-i\\beta X_i}$$\n",
        "\n",
        "Y recordando que la puerta de rotación $R_x(\\theta) = e^{-i\\theta X/2}$, se tiene:\n",
        "\n",
        "$$U_0(\\beta) = \\prod_{i=0}^{n-1} R_x^{(i)}(2\\beta)$$\n",
        "\n",
        "La puerta $R_x^{(i)}$ indica que se aplica una $R_x$ al cúbit $i$ y la identidad al resto $\\implies$ el producto equivale a aplicar una puerta $R_x(2\\beta)$ a cada uno de los cúbits.\n",
        "\n",
        "#### Puertas para $U_c(\\gamma)$\n",
        "\n",
        "El Hamiltoniano de coste de un problema Ising es:\n",
        "\n",
        "\n",
        "$$H_c = -\\sum_{i,j = 0}^{n-1} J_{ij}Z_iZ_j -\\sum_{i = 0}^{n-1} h_i Z_i$$\n",
        "\n",
        "siendo $J_{ij}$ y $h_i$ números reales.\n",
        "\n",
        "Ya que las matricez $Z$ conmutan, podemos escribir\n",
        "\n",
        "$$\n",
        "U_c(\\gamma) = e^{i\\gamma H_c} = e^{-i\\gamma(\\sum_{i,j = 0}^{n-1} J_{ij}Z_iZ_j +\\sum_{i = 0}^{n-1} h_i Z_i)} =\n",
        "\\prod_{i,j = 0}^{n-1}e^{-i\\gamma J_{ij}Z_iZ_j}\\prod_{i=0}^{n-1}e^{-i\\gamma h_i Z_i}\n",
        "$$\n",
        "\n",
        "El segundo término se puede implementar con puertas $R_z(\\theta) = e^{-i\\theta Z/2}$.\n",
        "\n",
        "\n",
        "Para el primer término, $Z_iZ_j$ representa aplicar una puerta $Z$ a los cúbits $i$ y $j$ y la identidad al resto:\n",
        "\n",
        "$$\n",
        "Z_iZ_j = I\\otimes\\ldots\\otimes Z\\otimes\\ldots\\otimes Z \\otimes\\ldots I = Z_i\\otimes Z_j\n",
        "$$\n",
        "\n",
        "Y el término $e^{-i\\gamma J_{ij}Z_i\\otimes Z_j}$ corresponde a una [puerta Ising ZZ](https://qiskit.org/documentation/stubs/qiskit.circuit.library.RZZGate.html#qiskit.circuit.library.RZZGate) entre los cúbits $i$ y $j$:\n",
        "\n",
        "$$\n",
        "R_{ZZ}(\\theta) = \\exp\\left(-i\\frac{\\theta}{2}(Z\\otimes Z)\\right) =\n",
        "\\exp{\\left(-i\\frac{\\theta}{2}\\begin{bmatrix}\n",
        "1 & 0 & 0 & 0\\\\\n",
        "0 & -1 & 0 & 0\\\\\n",
        "0 & 0 & -1 & 0\\\\\n",
        "0 & 0 & 0 & 1\\\\\n",
        "\\end{bmatrix} \\right)}=\n",
        "\\begin{bmatrix}\n",
        "e^{-i\\theta/2} & 0 & 0 & 0\\\\\n",
        "0 & e^{i\\theta/2} & 0 & 0\\\\\n",
        "0 & 0 & e^{i\\theta/2} & 0\\\\\n",
        "0 & 0 & 0 & e^{-i\\theta/2}\\\\\n",
        "\\end{bmatrix}\n",
        "$$\n",
        "\n",
        "Con lo que queda:\n",
        "\n",
        "$$\n",
        "U_c(\\gamma) = \\prod_{i,j = 0}^{n-1} R_{ZZ}^{(i,j)}(2\\gamma J_{ij})\\prod_{i=0}^{n-1}R_z^{(i)}(2\\gamma h_i)\n",
        "$$\n"
      ]
    },
    {
      "cell_type": "markdown",
      "metadata": {
        "id": "dd3e98b5"
      },
      "source": [
        "## Ejemplo 1: Circuito QAOA para un Hamiltoniano Ising\n",
        "\n",
        "Obtener el circuito QAOA para un paso ($p$=1) del Hamiltoniano Ising:\n",
        "\n",
        "$$\n",
        "H_c = 3Z_2Z_0 - Z_2Z_1 + 2Z_0\n",
        "$$\n",
        "\n",
        "Necesitamos 3 cúbits, y el estado que queremos conseguir será:\n",
        "\n",
        "$$\n",
        "U_0(\\beta_1)U_c(\\gamma_1)U_0(\\beta_0)U_c(\\gamma_0) |+\\rangle^{\\otimes 3}\n",
        "$$\n",
        "\n",
        "Con\n",
        "\n",
        "$$\n",
        "U_0(\\beta_i) = \\prod_{i=0}^{2} R_x^{(i)}(2\\beta_i) = R_x^{(0)}(2\\beta_i)\\otimes R_x^{(1)}(2\\beta_i)\\otimes R_x^{(2)}(2\\beta_i)\n",
        "$$\n",
        "\n",
        "$$\n",
        "U_c(\\gamma_i) = \\prod_{i,j = 0}^{2} R_{ZZ}^{(i,j)}(2\\gamma_i J_{ij})\\prod_{i=0}^{2}R_z^{(i)}(2\\gamma_i h_i) = (R_{ZZ}^{(2,0)}(6\\gamma_i)\\otimes R_{ZZ}^{(2,1)}(-2\\gamma_i))(R_z^{(0)}(4\\gamma_i))\n",
        "$$\n",
        "\n",
        "El circuito sería:"
      ]
    },
    {
      "cell_type": "code",
      "execution_count": 37,
      "metadata": {
        "id": "42175ce9",
        "outputId": "6cb878b8-e3cc-434b-cc04-085c9c7b39de",
        "colab": {
          "base_uri": "https://localhost:8080/",
          "height": 255
        }
      },
      "outputs": [
        {
          "output_type": "execute_result",
          "data": {
            "text/plain": [
              "<Figure size 621.941x284.278 with 1 Axes>"
            ],
            "image/png": "[encoded data removed]"
          },
          "metadata": {},
          "execution_count": 37
        }
      ],
      "source": [
        "from qiskit.circuit import Parameter\n",
        "\n",
        "n = 3\n",
        "\n",
        "beta = Parameter('β')\n",
        "gamma = Parameter('γ')\n",
        "\n",
        "qc = QuantumCircuit(n)\n",
        "\n",
        "# Estado superpuesto\n",
        "qc.h(range(3))\n",
        "\n",
        "# Puertas U_c\n",
        "qc.rzz(6*gamma, 2, 0)\n",
        "qc.rzz(-2*gamma, 2, 1)\n",
        "qc.rz(4*gamma, 0)\n",
        "\n",
        "# puertas U_0\n",
        "for i in range(3):\n",
        "  qc.rx(2*beta, i)\n",
        "\n",
        "qc.draw('mpl')"
      ]
    },
    {
      "cell_type": "markdown",
      "metadata": {
        "id": "3910f5c9"
      },
      "source": [
        "Podemos usar la implementación de QAOA de Qiskit para obtener este mismo circuito"
      ]
    },
    {
      "cell_type": "code",
      "execution_count": 49,
      "metadata": {
        "id": "mcnO9IVFk_3j",
        "outputId": "788a55fa-cf88-4f02-e4d8-8263447803b6",
        "colab": {
          "base_uri": "https://localhost:8080/",
          "height": 493
        }
      },
      "outputs": [
        {
          "output_type": "display_data",
          "data": {
            "text/plain": [
              "<Figure size 287.496x284.278 with 1 Axes>"
            ],
            "image/png": "[encoded data removed]"
          },
          "metadata": {}
        },
        {
          "output_type": "display_data",
          "data": {
            "text/plain": [
              "<Figure size 705.552x284.278 with 1 Axes>"
            ],
            "image/png": "[encoded data removed]"
          },
          "metadata": {}
        }
      ],
      "source": [
        "from qiskit.circuit.library import QAOAAnsatz\n",
        "from qiskit.quantum_info import SparsePauliOp\n",
        "\n",
        "# Expresamos el problema como un operador Hamiltoniano\n",
        "Hc = SparsePauliOp.from_list([(\"ZIZ\", 3), (\"ZZI\", -1), (\"IIZ\", 2)])\n",
        "\n",
        "# Creamos el ansatz QAOA\n",
        "ansatz = QAOAAnsatz(Hc, reps=1)\n",
        "\n",
        "display(ansatz.draw(\"mpl\"))\n",
        "display(ansatz.decompose(reps=2).draw(\"mpl\"))"
      ]
    },
    {
      "cell_type": "markdown",
      "metadata": {
        "id": "TK0EA7UDWGXc"
      },
      "source": [
        "La puerta $U_2$ es una rotación de 1 cúbit generalizada, de la forma:\n",
        "\n",
        "$$\n",
        "U(\\theta, \\phi, \\lambda) =\n",
        "\\begin{pmatrix}\n",
        "\\cos\\left(\\frac{θ}{2}\\right)          & -e^{i\\lambda}\\sin\\left(\\frac{θ}{2}\\right) \\\\\n",
        "e^{i\\phi}\\sin\\left(\\frac{θ}{2}\\right) & e^{i(\\phi + \\lambda)}\\cos\\left(\\frac{θ}{2}\\right)\n",
        "\\end{pmatrix}\n",
        "$$\n",
        "\n",
        "Así, una puerta $H$ es equivalente a:\n",
        "\n",
        "$$\n",
        "H = U\\left(\\frac{\\pi}{2}, 0, \\pi\\right) = \\frac{1}{\\sqrt{2}}\n",
        "\\begin{pmatrix}\n",
        "1          & -e^{i\\pi} \\\\\n",
        "e^{i0} & e^{i(0 + \\pi)}\n",
        "\\end{pmatrix} =\n",
        "\\frac{1}{\\sqrt{2}}\\begin{pmatrix}\n",
        "1          & 1 \\\\\n",
        "1 & -1\n",
        "\\end{pmatrix}\n",
        "$$"
      ]
    },
    {
      "cell_type": "markdown",
      "source": [
        "## Ejemplo 2: Encontrar el estado que minimiza el hamiltoniano anterior\n",
        "\n",
        "#### a) Resolverlo por fuerza bruta"
      ],
      "metadata": {
        "id": "k7l3wE0GMb-T"
      }
    },
    {
      "cell_type": "code",
      "source": [
        "from qiskit.quantum_info import Statevector\n",
        "\n",
        "# Creamos una lista con todos los estados base para n cúbits\n",
        "estados = [Statevector.from_int(i, dims=2**n) for i in range(2**n)]\n",
        "\n",
        "# Obtenemos los valores esperados para todos los posibles estados\n",
        "evs = {}\n",
        "for i in range(2**n):\n",
        "  evs[np.binary_repr(i,n)] = estados[i].expectation_value(Hc).real\n",
        "\n",
        "# Obtenemos el estado con menor valor esperado\n",
        "min_state = min(evs, key=evs.get)\n",
        "print(\"Estado que minimiza Hc = {}\".format(min_state))\n",
        "print(\"Valor esperado <{}|Hc|{}> = {}\".format(min_state, min_state, evs[min_state]))"
      ],
      "metadata": {
        "id": "TQKSXxw1itIc",
        "outputId": "94480f37-b73b-4456-e8b9-d4db6705814c",
        "colab": {
          "base_uri": "https://localhost:8080/"
        }
      },
      "execution_count": 39,
      "outputs": [
        {
          "output_type": "stream",
          "name": "stdout",
          "text": [
            "Estado que minimiza Hc = 001\n",
            "Valor esperado <001|Hc|001> = -6.0\n"
          ]
        }
      ]
    },
    {
      "cell_type": "markdown",
      "source": [
        "#### b) Resolverlo con QAOA\n",
        "\n",
        "Usar el algoritmo QAOA con el circuito anterior para encontrar el estado solución del problema.\n",
        "\n",
        "Usaremos un *Estimator*  para encontrar el valor esperado del Hamiltoniano de coste.\n",
        "\n",
        "El uso de cualquier versión de Estimator es similar:\n",
        "\n",
        "- Se crea un objeto de la clase Estimator que se vaya a usar (que puede incluir parámetros)\n",
        "- Se llama al método run con una lista de PUBS (Primitive Unified Blocs)\n",
        "\n",
        "El PUB de un Estimator es una lista o tupla de dos a cuatro elementos:\n",
        "\n",
        "- Un circuito cuántico (que puede ser parametrizado)\n",
        "- Uno o más observables (Pauli, SparsePauliOp, string)\n",
        "- Una colección de parámetros para el circuito (opcional)\n",
        "- Opcionalmente, la precisión de la estimación (opcional)\n",
        "\n",
        "Cada PUB (circuito, observables, valores de parámetros, precisión) de la lista que se pasa al método run, produce su propio resultado. Así, se pueden ejecutar diferentes combinaciones con una sola llamada al método run()."
      ],
      "metadata": {
        "id": "A-ItcZ5XilsB"
      }
    },
    {
      "cell_type": "code",
      "source": [
        "# @title Definimos una función que devuelve el valor esperado del hamiltoniano de coste al aplicar el circuito\n",
        "def cost_func_estimator(params, ansatz, hamiltonian, estimator):\n",
        "\n",
        "  # Creamos el PUB(circuito, observable, parámetros=)\n",
        "  pub = (ansatz, hamiltonian, params)\n",
        "\n",
        "  # Al método run hay que pasarle una lista de PUBS aunque sea de un solo elemento\n",
        "  job = estimator.run([pub])\n",
        "\n",
        "  # Job devuelve un array de resultados, nos quedamos con el primero\n",
        "  results = job.result()[0]\n",
        "\n",
        "  # evs: lista de ExpectedValues (uno solo en este caso)\n",
        "  cost = results.data.evs\n",
        "\n",
        "  # objetive_func_cvals es una lista global en la vamos metiendo todos los valores que vamos obteniendo para ver su evolución\n",
        "  objective_func_vals.append(cost)\n",
        "\n",
        "  return cost"
      ],
      "metadata": {
        "id": "XgmyIShJOcHH"
      },
      "execution_count": 40,
      "outputs": []
    },
    {
      "cell_type": "markdown",
      "source": [
        "Usamos una función de miminización de ScyPy (scipy.optimize.minimize)."
      ],
      "metadata": {
        "id": "aoFJP-eOQQLf"
      }
    },
    {
      "cell_type": "code",
      "source": [
        "#@title Resolvemos usando el StateVectorEstimator de Qiskit y Scipy\n",
        "from qiskit.primitives import StatevectorEstimator\n",
        "from scipy.optimize import minimize\n",
        "\n",
        "# Parámetros iniciales\n",
        "initial_gamma = np.pi\n",
        "initial_beta = np.pi / 2\n",
        "\n",
        "init_params = [initial_beta, initial_gamma]\n",
        "\n",
        "# Creamos el objeto estimator\n",
        "estimador = StatevectorEstimator()\n",
        "\n",
        "# Llamamos a la funcion para obtener el valor esperado\n",
        "objective_func_vals = []\n",
        "result = minimize(\n",
        "        fun = cost_func_estimator,\n",
        "        x0 = init_params,\n",
        "        args=(ansatz, Hc, estimador),\n",
        "        method=\"COBYLA\",\n",
        "        tol=1e-2\n",
        "    )\n",
        "print(result)"
      ],
      "metadata": {
        "id": "1Y-MiXSCPkcL",
        "outputId": "156116ab-746f-4370-9698-d8074ad40524",
        "colab": {
          "base_uri": "https://localhost:8080/"
        }
      },
      "execution_count": 41,
      "outputs": [
        {
          "output_type": "stream",
          "name": "stdout",
          "text": [
            " message: Return from COBYLA because the trust region radius reaches its lower bound.\n",
            " success: True\n",
            "  status: 0\n",
            "     fun: -2.5458819869652123\n",
            "       x: [ 1.131e+00  4.086e+00]\n",
            "    nfev: 50\n",
            "   maxcv: 0.0\n"
          ]
        }
      ]
    },
    {
      "cell_type": "code",
      "source": [
        "print(\"Parametros que obtienen el mínimo: β_m = {}, γ_m = {}\".format(result.x[0], result.x[1]))"
      ],
      "metadata": {
        "id": "EOORIdeKl6B1",
        "outputId": "fc6d88dc-bc9c-49d2-ec67-c295849fed38",
        "colab": {
          "base_uri": "https://localhost:8080/"
        }
      },
      "execution_count": 42,
      "outputs": [
        {
          "output_type": "stream",
          "name": "stdout",
          "text": [
            "Parametros que obtienen el mínimo: β_m = 1.1312400079131242, γ_m = 4.086069906891956\n"
          ]
        }
      ]
    },
    {
      "cell_type": "code",
      "source": [
        "# Vemos la evolución del minimizador\n",
        "import matplotlib.pyplot as plt\n",
        "\n",
        "plt.figure(figsize=(12, 6))\n",
        "plt.plot(objective_func_vals)\n",
        "plt.xlabel(\"Iteration\")\n",
        "plt.ylabel(\"Cost\")\n",
        "plt.show()"
      ],
      "metadata": {
        "id": "ImDnKnaPQ2aA",
        "outputId": "250176b0-05bd-44ae-9b30-fae754e788a4",
        "colab": {
          "base_uri": "https://localhost:8080/",
          "height": 542
        }
      },
      "execution_count": 43,
      "outputs": [
        {
          "output_type": "display_data",
          "data": {
            "text/plain": [
              "<Figure size 1200x600 with 1 Axes>"
            ],
            "image/png": "[encoded data removed]"
          },
          "metadata": {}
        }
      ]
    },
    {
      "cell_type": "markdown",
      "source": [
        "Recreamos el circuito con los parámetros obtenidos y le añadimos medidas:"
      ],
      "metadata": {
        "id": "0RvY5fdJl0dw"
      }
    },
    {
      "cell_type": "code",
      "source": [
        "circuito_final = ansatz.assign_parameters(result.x)\n",
        "\n",
        "# Añadimos las medidas\n",
        "circuito_final.measure_all()\n",
        "circuito_final.decompose(reps=2).draw('mpl')"
      ],
      "metadata": {
        "id": "4i7kKlY-RAmx",
        "outputId": "c7264fd0-d62b-46df-db2f-6a6398df32c7",
        "colab": {
          "base_uri": "https://localhost:8080/",
          "height": 320
        }
      },
      "execution_count": 44,
      "outputs": [
        {
          "output_type": "execute_result",
          "data": {
            "text/plain": [
              "<Figure size 998.442x367.889 with 1 Axes>"
            ],
            "image/png": "[encoded data removed]"
          },
          "metadata": {},
          "execution_count": 44
        }
      ]
    },
    {
      "cell_type": "markdown",
      "source": [
        "Ejecutamos el circuito y usamos un sampler para obtener el estado más frecuente."
      ],
      "metadata": {
        "id": "BU-0OFkUmsqC"
      }
    },
    {
      "cell_type": "code",
      "source": [
        "# Usamos el sampler base de Qiskit (basado en Statevector)\n",
        "from qiskit.primitives import StatevectorSampler\n",
        "\n",
        "def circuit_sampler(circuit, sampler, shots=10000):\n",
        "\n",
        "  pub = (circuit,)\n",
        "  job = sampler.run([pub])\n",
        "\n",
        "  # counts_int: Diccionario con claves=estados (binario), valor=ocurrencias\n",
        "  counts = job.result()[0].data.meas.get_counts()\n",
        "\n",
        "  # Probabilidades de cada estado (como diccionario Python)\n",
        "  # Diccionario con claves=estados (binario), valor=probabilidad\n",
        "  final_distribution = {key: val / shots for key, val in counts.items()}\n",
        "\n",
        "  # Estado con mayor probabilidad\n",
        "  min_state = max(final_distribution, key=final_distribution.get)\n",
        "\n",
        "  return(min_state, final_distribution)\n",
        "\n",
        "sampler = StatevectorSampler()\n",
        "min_state, data_distribution = circuit_sampler(circuito_final, sampler)\n",
        "\n",
        "# Valor esperado del Hc en ese estado\n",
        "ev = Statevector.from_label(min_state).expectation_value(Hc).real\n",
        "\n",
        "print(\"Estado que minimiza Hc = {}\".format(min_state))\n",
        "print(\"Valor esperado <{}|Hc|{}> = {}\\n\".format(min_state, min_state, ev))"
      ],
      "metadata": {
        "id": "-LLX8oa2RTe8",
        "outputId": "f21dd18f-84d1-4e60-edf3-045ae3c546a3",
        "colab": {
          "base_uri": "https://localhost:8080/"
        }
      },
      "execution_count": 46,
      "outputs": [
        {
          "output_type": "stream",
          "name": "stdout",
          "text": [
            "Estado que minimiza Hc = 001\n",
            "Valor esperado <001|Hc|001> = -6.0\n",
            "\n"
          ]
        },
        {
          "output_type": "stream",
          "name": "stderr",
          "text": [
            "/usr/local/lib/python3.12/dist-packages/scipy/sparse/linalg/_dsolve/linsolve.py:606: SparseEfficiencyWarning: splu converted its input to CSC format\n",
            "  return splu(A).solve\n",
            "/usr/local/lib/python3.12/dist-packages/scipy/sparse/linalg/_matfuncs.py:707: SparseEfficiencyWarning: spsolve is more efficient when sparse b is in the CSC matrix format\n",
            "  return spsolve(Q, P)\n",
            "/usr/local/lib/python3.12/dist-packages/scipy/sparse/_index.py:168: SparseEfficiencyWarning: Changing the sparsity structure of a csr_matrix is expensive. lil and dok are more efficient.\n",
            "  self._set_intXint(row, col, x.flat[0])\n"
          ]
        }
      ]
    },
    {
      "cell_type": "code",
      "source": [
        "# Vemos la distribución de las muestras\n",
        "from qiskit.visualization import plot_histogram\n",
        "display(plot_histogram(data_distribution))"
      ],
      "metadata": {
        "id": "Ell5VL1OSF3k",
        "outputId": "7d0a0432-8e4f-4181-99e3-b32bbe540170",
        "colab": {
          "base_uri": "https://localhost:8080/",
          "height": 487
        }
      },
      "execution_count": 47,
      "outputs": [
        {
          "output_type": "display_data",
          "data": {
            "text/plain": [
              "<Figure size 640x480 with 1 Axes>"
            ],
            "image/png": "[encoded data removed]"
          },
          "metadata": {}
        }
      ]
    },
    {
      "cell_type": "markdown",
      "metadata": {
        "id": "a92dd1ad"
      },
      "source": [
        "#### c) Resolverlo usando la implementación de QAOA de Qiskit\n",
        "\n",
        "Usamos la implementación de [QAOA](https://qiskit-community.github.io/qiskit-algorithms/stubs/qiskit_algorithms.QAOA.html) del paquete [qiskit_algorithms](https://qiskit-community.github.io/qiskit-algorithms/apidocs/qiskit_algorithms.html)."
      ]
    },
    {
      "cell_type": "code",
      "execution_count": 86,
      "metadata": {
        "id": "-v1CqEfdTpbr",
        "outputId": "9c77f591-f8bd-4f31-a952-0c05bc26655b",
        "colab": {
          "base_uri": "https://localhost:8080/"
        }
      },
      "outputs": [
        {
          "output_type": "stream",
          "name": "stderr",
          "text": [
            "/usr/local/lib/python3.12/dist-packages/scipy/sparse/linalg/_dsolve/linsolve.py:606: SparseEfficiencyWarning: splu converted its input to CSC format\n",
            "  return splu(A).solve\n",
            "/usr/local/lib/python3.12/dist-packages/scipy/sparse/linalg/_matfuncs.py:707: SparseEfficiencyWarning: spsolve is more efficient when sparse b is in the CSC matrix format\n",
            "  return spsolve(Q, P)\n",
            "/usr/local/lib/python3.12/dist-packages/scipy/sparse/_index.py:168: SparseEfficiencyWarning: Changing the sparsity structure of a csr_matrix is expensive. lil and dok are more efficient.\n",
            "  self._set_intXint(row, col, x.flat[0])\n"
          ]
        },
        {
          "output_type": "stream",
          "name": "stdout",
          "text": [
            "Estado que minimiza Hc = 001\n",
            "Valor esperado <001|Hc|001> = -6.0\n",
            "\n"
          ]
        }
      ],
      "source": [
        "from qiskit_algorithms import QAOA\n",
        "from qiskit_algorithms.optimizers import COBYLA\n",
        "from qiskit_algorithms.utils import algorithm_globals\n",
        "\n",
        "algorithm_globals.random_seed = 10598\n",
        "\n",
        "# Utilizo el mismo optimizador que antes\n",
        "optimizer = COBYLA()\n",
        "\n",
        "# Tambien uso el mismo sampler\n",
        "sampler = StatevectorSampler()\n",
        "\n",
        "# Defino el algoritmo\n",
        "qaoa = QAOA(sampler, optimizer)\n",
        "\n",
        "# Obtengo el mínimo autovalor del Hamiltoniano\n",
        "result = qaoa.compute_minimum_eigenvalue(Hc)\n",
        "\n",
        "#print(result,'\\n')\n",
        "\n",
        "min_state = result.best_measurement['bitstring']\n",
        "ev = result.best_measurement['value']\n",
        "print(\"Estado que minimiza Hc = {}\".format(min_state))\n",
        "print(\"Valor esperado <{}|Hc|{}> = {}\\n\".format(min_state, min_state, ev.real))"
      ]
    },
    {
      "cell_type": "markdown",
      "source": [
        "\n",
        "\n",
        "---\n",
        "\n",
        "\n",
        "\n",
        "---\n",
        "\n",
        "\n",
        "\n",
        "---\n",
        "\n"
      ],
      "metadata": {
        "id": "yvayoHMtIRo-"
      }
    },
    {
      "cell_type": "markdown",
      "metadata": {
        "id": "civilian-flavor"
      },
      "source": [
        "<a name=\"cuadraticos\"></a>\n",
        "\n",
        "## **Programas cuadráticos con restricciones cuadráticas**\n",
        "\n",
        "La librería de optimización de Qiskit incorpora una librería para resolver problemas QCQP con variables binarias y/o enteras.\n",
        "\n",
        "**Ejemplo**\n",
        "\n",
        "Minimiza $y=10x_0+20x_1+30 x_2 +  4 x_0x_1 + 2 x_0x_2 + 6 x_1x_2 + 4 x_1^2  + 2 x_2^2$\n",
        "\n",
        "con las siguientes restricciones:\n",
        "\n",
        "  - $x_0\\in\\{0,1\\}$\n",
        "  - $x_1, x_2 \\in \\mathbb{Z}, -1\\le x_1 \\le 1, -2\\le x_2 \\le 3$\n",
        "\n",
        "Podemos expresar el problema de la siguiente forma:ç\n",
        "\n",
        "Se puede escribir como:\n",
        "$$\n",
        "\\begin{align}\n",
        "\\text{minimizar} &&x^T Q x + c^T x &&\\\\\n",
        "&& && \\\\\n",
        "\\text{sujeto a} &&x_0\\in\\{0,1\\}, x_1, x_2 \\in \\mathbb{Z}  &&\\\\\n",
        "&& -1\\le x_1 \\le 1 \\\\\n",
        "&& -2\\le x_2 \\le 3 \\\\\n",
        "\\end{align}\n",
        "$$\n",
        "\n",
        "Se puede probar fácilmente que $Q$ y $c$ en este ejemplo valen:\n",
        "\n",
        "$$\n",
        "\\begin{aligned}\n",
        "Q  &= \\begin{bmatrix}0 & 1 & 2 \\\\ 3 & 4 & 5 \\\\ 0 & 1 & 2 \\end{bmatrix}\\\\[10pt]\n",
        "c^T &= \\begin{bmatrix}10&20&30\\end{bmatrix}\n",
        "\\end{aligned}\n",
        "$$"
      ]
    },
    {
      "cell_type": "code",
      "execution_count": null,
      "metadata": {
        "id": "reverse-classic"
      },
      "outputs": [],
      "source": [
        "from qiskit_optimization import QuadraticProgram\n",
        "\n",
        "# Definimos el problema cuadrático\n",
        "qprog = QuadraticProgram('Ejemplo')\n",
        "\n",
        "# Fijamos el tipo de las variables y sus restricciones\n",
        "qprog.binary_var(name = 'x_0')\n",
        "qprog.integer_var(name = 'x_1', lowerbound = -1, upperbound = 1)\n",
        "qprog.integer_var(name = 'x_2', lowerbound = -2, upperbound = 3)\n",
        "\n",
        "# Matriz Q y vector c\n",
        "Q = [[0,1,2],[3,4,5],[0,1,2]]\n",
        "c = [10,20,30]\n",
        "\n",
        "# Exprersamos el problema como una minimización\n",
        "qprog.minimize(quadratic = Q, linear = c)\n",
        "\n",
        "print(qprog.prettyprint())"
      ]
    },
    {
      "cell_type": "markdown",
      "metadata": {
        "id": "broad-canberra"
      },
      "source": [
        "Este problema puede ser resuelto mediante QAOA usando el método [`MinimumEigenOptimizer`](https://qiskit-community.github.io/qiskit-optimization/stubs/qiskit_optimization.algorithms.MinimumEigenOptimizer.html) que se encarga de convertir el programa cuadrático a un circuito y de realizar la optimización.\n",
        "\n",
        "A este método hay que pasarle un objeto de una clase que implemente la interfaz [`MinimumEigenSolver`](https://qiskit-community.github.io/qiskit-algorithms/stubs/qiskit_algorithms.MinimumEigensolver.html), como puede ser un objeto [`VQE`](https://qiskit-community.github.io/qiskit-algorithms/stubs/qiskit_algorithms.VQE.html) o [`QAOA`](https://qiskit-community.github.io/qiskit-algorithms/stubs/qiskit_algorithms.QAOA.html)."
      ]
    },
    {
      "cell_type": "code",
      "execution_count": null,
      "metadata": {
        "id": "aace05db"
      },
      "outputs": [],
      "source": [
        "from qiskit_algorithms import QAOA\n",
        "from qiskit_algorithms.optimizers import ADAM\n",
        "from qiskit.primitives import Sampler\n",
        "from qiskit_optimization.algorithms import MinimumEigenOptimizer\n",
        "\n",
        "qaoa = QAOA(Sampler(), ADAM(), initial_point=[0.0, 0.0])\n",
        "\n",
        "# Creamos el optimizador\n",
        "eigen_optimizer = MinimumEigenOptimizer(min_eigen_solver = qaoa)\n",
        "\n",
        "# Usamos ese optimizador sobre el problema anterior\n",
        "result = eigen_optimizer.solve(qprog)\n",
        "\n",
        "print(result)"
      ]
    },
    {
      "cell_type": "markdown",
      "metadata": {
        "id": "cdb1c286"
      },
      "source": [
        "Podemos comprobar que el resultado es correcto usando un minimizador clásico."
      ]
    },
    {
      "cell_type": "code",
      "execution_count": null,
      "metadata": {
        "id": "101fed32"
      },
      "outputs": [],
      "source": [
        "from qiskit_algorithms.minimum_eigensolvers import NumPyMinimumEigensolver\n",
        "\n",
        "np_solver = NumPyMinimumEigensolver()\n",
        "np_optimizer = MinimumEigenOptimizer(min_eigen_solver = np_solver)\n",
        "\n",
        "result = np_optimizer.solve(qprog)\n",
        "print(result)"
      ]
    },
    {
      "cell_type": "markdown",
      "source": [
        "\n",
        "\n",
        "---\n",
        "\n",
        "\n",
        "\n",
        "---\n",
        "\n",
        "\n",
        "\n",
        "---\n",
        "\n"
      ],
      "metadata": {
        "id": "v1fOTX-KJAj1"
      }
    },
    {
      "cell_type": "markdown",
      "metadata": {
        "id": "planned-jonathan"
      },
      "source": [
        "<a name=\"maxcut\"></a>\n",
        "\n",
        "## **MAX-CUT como QUBO**\n",
        "\n",
        "Ya vimos que el MAX-CUT se puede expresar como un problema QUBO, con una función de coste:\n",
        "$$\n",
        "C(\\textbf{x}) = \\sum_{i,j = 0}^{n-1} w_{ij} x_i (1-x_j)\n",
        "$$\n",
        "siendo todas las $x_i$ variables binarias.\n",
        "\n",
        "Esta función de coste se puede reescribir como:\n",
        "\n",
        "$$\n",
        "\\begin{align}\n",
        "\\sum_{i,j=0}^{n-1} w_{ij} x_i (1-x_j) &= \\sum_{i,j=0}^{n-1} w_{ij} x_i - w_{ij}x_i x_j  \\\\\n",
        "&= \\sum_{i=0}^{n-1} \\left( \\sum_{j=0}^{n-1} w_{ij} \\right) x_i - \\sum_{i,j = 0}^{n-1} w_{ij}x_i x_j \\\\\n",
        "&= c^T x + x^T Q x, \\\\\n",
        "\\end{align}\n",
        "$$\n",
        "siendo $Q$ y $c$:\n",
        "$$\n",
        "Q_{ij} = -w_{ij} \\qquad c_i = \\sum_{j=1}^n w_{ij}.\n",
        "$$"
      ]
    },
    {
      "cell_type": "code",
      "execution_count": null,
      "metadata": {
        "id": "improved-edwards"
      },
      "outputs": [],
      "source": [
        "import networkx as nx  # Librería para manejar grafos\n",
        "\n",
        "# Ejemplo de grafo con 6 nodos\n",
        "nnodes = 6\n",
        "G = nx.Graph()\n",
        "# Añade nodos y aristas\n",
        "G.add_nodes_from(np.arange(0,nnodes,1))\n",
        "edges = [(0,1,2.0),(0,2,3.0),(0,3,2.0),(0,4,4.0),(0,5,1.0),(1,2,4.0),(1,3,1.0),\n",
        "         (1,4,1.0),(1,5,3.0),(2,4,2.0),(2,5,3.0),(3,4,5.0),(3,5,1.0)]\n",
        "G.add_weighted_edges_from(edges)\n",
        "\n",
        "# Mostramos el grafo\n",
        "layout = nx.random_layout(G,seed=10)\n",
        "colors = ['red', 'green', 'lightblue', 'yellow', 'magenta', 'gray']\n",
        "nx.draw_networkx(G, layout, node_color=colors)\n",
        "labels = nx.get_edge_attributes(G, 'weight')\n",
        "nx.draw_networkx_edge_labels(G, pos=layout, edge_labels=labels);"
      ]
    },
    {
      "cell_type": "code",
      "execution_count": null,
      "metadata": {
        "id": "fs7NkskpjrB2"
      },
      "outputs": [],
      "source": [
        "print(\"Matriz de adyacencias del grafo\")\n",
        "print(nx.adjacency_matrix(G).toarray())"
      ]
    },
    {
      "cell_type": "markdown",
      "metadata": {
        "id": "-kGrywObo0Dq"
      },
      "source": [
        "Vamos a obtener por fuerza bruta el coste de todos los cortes."
      ]
    },
    {
      "cell_type": "code",
      "execution_count": null,
      "metadata": {
        "id": "fossil-roberts"
      },
      "outputs": [],
      "source": [
        "# Función de coste de Maxcut\n",
        "def maxcut_coste(graph, bitstring):\n",
        "    \"\"\"\n",
        "    Computa la función de coste del Maxcut para un grafo y un corte representado por un string de bits\n",
        "    Args:\n",
        "        graph: El grafo networkx\n",
        "        bitstring: str\n",
        "                   Un string con valores 0 o 1 especificando un corte en el grafo\n",
        "    Returns:\n",
        "        coste: float\n",
        "               El coste del corte\n",
        "    \"\"\"\n",
        "    # Matriz de adyacencias del grafo\n",
        "    weight_matrix = nx.adjacency_matrix(graph).toarray()\n",
        "    coste = 0\n",
        "    for i, j in graph.edges():\n",
        "        # Si los vértices están en conjuntos distintos suma el peso de la arista\n",
        "        if bitstring[i] != bitstring[j]:\n",
        "            coste += weight_matrix[i,j]\n",
        "\n",
        "    return coste"
      ]
    },
    {
      "cell_type": "code",
      "execution_count": null,
      "metadata": {
        "id": "registered-comparative"
      },
      "outputs": [],
      "source": [
        "# Obtenemos por fuerza bruta los valores de todos los posibles cortes\n",
        "num_vars = G.number_of_nodes()\n",
        "\n",
        "#Creamos una lista de bitstrings con todos los posibles cortes\n",
        "bitstrings = ['{:b}'.format(i).rjust(num_vars, '0') for i in range(2**num_vars)]\n",
        "print(bitstrings)\n",
        "\n",
        "costes = list()\n",
        "for bitstring in bitstrings:\n",
        "    costes.append(maxcut_coste(G, bitstring))\n",
        "print(costes)\n",
        "\n",
        "# Ordenamos los costes y los bitstrings en orden creciente de coste\n",
        "costes, bitstrings = zip(*sorted(zip(costes, bitstrings)))"
      ]
    },
    {
      "cell_type": "code",
      "execution_count": null,
      "metadata": {
        "id": "VUWwgKd0kjRU"
      },
      "outputs": [],
      "source": [
        "print(\"Corte de mayor coste = \",bitstrings[len(bitstrings)-1], \", coste = \", costes[len(bitstrings)-1])\n"
      ]
    },
    {
      "cell_type": "code",
      "execution_count": null,
      "metadata": {
        "id": "Ht6vDZ_Oo-4U"
      },
      "outputs": [],
      "source": [
        "import matplotlib.pyplot as plt\n",
        "import plotly.graph_objects as go\n",
        "# Muestra una gráfica con los valores\n",
        "bar_plot = go.Bar(x = bitstrings, y = costes, marker=dict(color=costes, colorscale = 'plasma', colorbar=dict(title='Cut Value')))\n",
        "fig = go.Figure(data=bar_plot, layout = dict(xaxis=dict(type = 'category'), width = 1500, height = 600))\n",
        "fig.show()"
      ]
    },
    {
      "cell_type": "markdown",
      "source": [
        "\n",
        "\n",
        "---\n",
        "\n"
      ],
      "metadata": {
        "id": "AY1daSM5JhbG"
      }
    },
    {
      "cell_type": "markdown",
      "metadata": {
        "id": "weird-cardiff"
      },
      "source": [
        "Resolvemos el problema de optimización con QAOA"
      ]
    },
    {
      "cell_type": "code",
      "execution_count": null,
      "metadata": {
        "id": "2f7eb9b1"
      },
      "outputs": [],
      "source": [
        "# Nº de nodos del grafo y matriz de pesos\n",
        "nnodes = len(G.nodes())\n",
        "weight_matrix = nx.adjacency_matrix(G).toarray()\n",
        "\n",
        "# Matriz Q\n",
        "Q = -weight_matrix\n",
        "\n",
        "# Vector c\n",
        "c = np.zeros(nnodes)\n",
        "for i in range(nnodes):\n",
        "    for j in range(nnodes):\n",
        "        c[i] += weight_matrix[i,j]\n",
        "\n",
        "# Defino el problema\n",
        "qubo_maxcut = QuadraticProgram('Maxcut como problema cuadrático')\n",
        "\n",
        "# Variables binarias del problema\n",
        "for i in range(nnodes):\n",
        "    nombre = 'x_'+str(i)\n",
        "    qubo_maxcut.binary_var(name = nombre)\n",
        "\n",
        "# Especificalo como un problema de maximizacion e imprimelo\n",
        "qubo_maxcut.maximize(quadratic = Q, linear = c)\n",
        "print(qubo_maxcut.prettyprint())"
      ]
    },
    {
      "cell_type": "code",
      "execution_count": null,
      "metadata": {
        "id": "sticky-communist"
      },
      "outputs": [],
      "source": [
        "# Usamos el optimizador anterior sobre este problema\n",
        "result = eigen_optimizer.solve(qubo_maxcut)\n",
        "print(result)"
      ]
    },
    {
      "cell_type": "markdown",
      "metadata": {
        "id": "pediatric-gibraltar"
      },
      "source": [
        "#### Referencias\n",
        "\n",
        "  - Farhi, E., Goldstone, J., & Gutmann, S. (2014). A quantum approximate optimization algorithm. arXiv preprint [arXiv:1411.4028](https://arxiv.org/abs/1411.4028)\n",
        "  - Ejemplo definiendo el circuito: https://learning.quantum.ibm.com/tutorial/quantum-approximate-optimization-algorithm"
      ]
    },
    {
      "cell_type": "markdown",
      "source": [
        "\n",
        "\n",
        "---\n",
        "\n",
        "\n",
        "\n",
        "---\n",
        "\n",
        "\n",
        "\n",
        "---\n",
        "\n"
      ],
      "metadata": {
        "id": "cPOeqSctJ3QI"
      }
    }
  ]
}